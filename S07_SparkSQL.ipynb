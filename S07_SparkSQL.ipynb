{
 "cells": [
  {
   "cell_type": "markdown",
   "metadata": {},
   "source": [
    "# S07_SparkSQL"
   ]
  },
  {
   "cell_type": "code",
   "execution_count": 1,
   "metadata": {},
   "outputs": [
    {
     "name": "stdout",
     "output_type": "stream",
     "text": [
      "3.5.3\n"
     ]
    }
   ],
   "source": [
    "import pyspark\n",
    "print(pyspark.__version__)"
   ]
  },
  {
   "cell_type": "code",
   "execution_count": 6,
   "metadata": {},
   "outputs": [
    {
     "name": "stdout",
     "output_type": "stream",
     "text": [
      "root\n",
      " |-- 2024-01-30,2024-10-19T09:17:32.000-06:00,QUEJA DE TRANSPORTE PUBLICO,FEMENINO,,CERRADO,NA,NA,,: string (nullable = true)\n",
      "\n"
     ]
    },
    {
     "data": {
      "text/plain": [
       "113147"
      ]
     },
     "execution_count": 6,
     "metadata": {},
     "output_type": "execute_result"
    }
   ],
   "source": [
    "from pyspark.sql import SparkSession\n",
    "\n",
    "spark = SparkSession.builder.appName(\"sepomex\").getOrCreate()\n",
    "\n",
    "locatelTiempo = \"locateltiempo.cvs\"\n",
    "df = spark.read.csv(locatelTiempo, header = True, inferSchema = True, sep=\"|\")\n",
    "df.printSchema()\n",
    "\n",
    "\n",
    "from pyspark.sql.types import StructType, StructField, StringType, IntegerType\n",
    " \n",
    "schema = StructType([\n",
    "    StructField(\"d_codigo\", StringType(), True),\n",
    "    StructField(\"d_asenta\", StringType(), True),\n",
    "    StructField(\"d_tipo_asenta\", StringType(), True),\n",
    "    StructField(\"D_mnpio\", StringType(), True),\n",
    "    StructField(\"d_estado\", StringType(), True),\n",
    "    StructField(\"d_ciudad\", StringType(), True),\n",
    "    StructField(\"d_CP\", StringType(), True),\n",
    "    StructField(\"c_estado\", StringType(), True),\n",
    "    StructField(\"c_oficina\", StringType(), True),\n",
    "    StructField(\"c_CP\", StringType(), True),\n",
    "    StructField(\"c_tipo_asenta\", StringType(), True),\n",
    "    StructField(\"c_mnpio\", StringType(), True),\n",
    "    StructField(\"id_asenta_cpcons\", StringType(), True),\n",
    "    StructField(\"d_zona\", StringType(), True),\n",
    "    StructField(\"c_cve_ciudad\", StringType(), True)\n",
    "])\n",
    "\n",
    "sepomex_df = spark.read.option(\"header\",\"true\")\\\n",
    "    .option(\"delimiter\",\"|\")\\\n",
    "    .option(\"skipRows\",\"1\")\\\n",
    "    .option(\"encoding\",\"UTF-8\")\\\n",
    "    .schema(schema)\\\n",
    "    .csv(\"sepomex.csv\")\n",
    "sepomex_df.count()"
   ]
  },
  {
   "cell_type": "code",
   "execution_count": 7,
   "metadata": {},
   "outputs": [
    {
     "ename": "ParseException",
     "evalue": "\n[PARSE_SYNTAX_ERROR] Syntax error at or near 'PERCERTILE_CONT'.(line 4, pos 0)\n\n== SQL ==\nSELECT\nMIN(edad) AS min_edad, MAX(edad) AS max_edad, AVG(edad) avg_edad,\nSTDDEV(edad) as stddev_edad, COUNT(edad) AS nr\nPERCERTILE_CONT(0.5) WITH GROUP(ORDER BY edad) AS mediana_edad\n^^^\nFROM locatel\n",
     "output_type": "error",
     "traceback": [
      "\u001b[0;31m---------------------------------------------------------------------------\u001b[0m",
      "\u001b[0;31mParseException\u001b[0m                            Traceback (most recent call last)",
      "Cell \u001b[0;32mIn[7], line 8\u001b[0m\n\u001b[1;32m      1\u001b[0m strql \u001b[38;5;241m=\u001b[39m \u001b[38;5;124m\"\"\"\u001b[39m\u001b[38;5;124mSELECT\u001b[39m\n\u001b[1;32m      2\u001b[0m \u001b[38;5;124mMIN(edad) AS min_edad, MAX(edad) AS max_edad, AVG(edad) avg_edad,\u001b[39m\n\u001b[1;32m      3\u001b[0m \u001b[38;5;124mSTDDEV(edad) as stddev_edad, COUNT(edad) AS nr\u001b[39m\n\u001b[1;32m      4\u001b[0m \u001b[38;5;124mPERCERTILE_CONT(0.5) WITH GROUP(ORDER BY edad) AS mediana_edad\u001b[39m\n\u001b[1;32m      5\u001b[0m \u001b[38;5;124mFROM locatel\u001b[39m\n\u001b[1;32m      6\u001b[0m \u001b[38;5;124m\"\"\"\u001b[39m\n\u001b[0;32m----> 8\u001b[0m \u001b[43mspark\u001b[49m\u001b[38;5;241;43m.\u001b[39;49m\u001b[43msql\u001b[49m\u001b[43m(\u001b[49m\u001b[43mstrql\u001b[49m\u001b[43m)\u001b[49m\u001b[38;5;241m.\u001b[39mshow()\n",
      "File \u001b[0;32m~/Macrodatos/venv/lib/python3.12/site-packages/pyspark/sql/session.py:1631\u001b[0m, in \u001b[0;36mSparkSession.sql\u001b[0;34m(self, sqlQuery, args, **kwargs)\u001b[0m\n\u001b[1;32m   1627\u001b[0m         \u001b[38;5;28;01massert\u001b[39;00m \u001b[38;5;28mself\u001b[39m\u001b[38;5;241m.\u001b[39m_jvm \u001b[38;5;129;01mis\u001b[39;00m \u001b[38;5;129;01mnot\u001b[39;00m \u001b[38;5;28;01mNone\u001b[39;00m\n\u001b[1;32m   1628\u001b[0m         litArgs \u001b[38;5;241m=\u001b[39m \u001b[38;5;28mself\u001b[39m\u001b[38;5;241m.\u001b[39m_jvm\u001b[38;5;241m.\u001b[39mPythonUtils\u001b[38;5;241m.\u001b[39mtoArray(\n\u001b[1;32m   1629\u001b[0m             [_to_java_column(lit(v)) \u001b[38;5;28;01mfor\u001b[39;00m v \u001b[38;5;129;01min\u001b[39;00m (args \u001b[38;5;129;01mor\u001b[39;00m [])]\n\u001b[1;32m   1630\u001b[0m         )\n\u001b[0;32m-> 1631\u001b[0m     \u001b[38;5;28;01mreturn\u001b[39;00m DataFrame(\u001b[38;5;28;43mself\u001b[39;49m\u001b[38;5;241;43m.\u001b[39;49m\u001b[43m_jsparkSession\u001b[49m\u001b[38;5;241;43m.\u001b[39;49m\u001b[43msql\u001b[49m\u001b[43m(\u001b[49m\u001b[43msqlQuery\u001b[49m\u001b[43m,\u001b[49m\u001b[43m \u001b[49m\u001b[43mlitArgs\u001b[49m\u001b[43m)\u001b[49m, \u001b[38;5;28mself\u001b[39m)\n\u001b[1;32m   1632\u001b[0m \u001b[38;5;28;01mfinally\u001b[39;00m:\n\u001b[1;32m   1633\u001b[0m     \u001b[38;5;28;01mif\u001b[39;00m \u001b[38;5;28mlen\u001b[39m(kwargs) \u001b[38;5;241m>\u001b[39m \u001b[38;5;241m0\u001b[39m:\n",
      "File \u001b[0;32m~/Macrodatos/venv/lib/python3.12/site-packages/py4j/java_gateway.py:1322\u001b[0m, in \u001b[0;36mJavaMember.__call__\u001b[0;34m(self, *args)\u001b[0m\n\u001b[1;32m   1316\u001b[0m command \u001b[38;5;241m=\u001b[39m proto\u001b[38;5;241m.\u001b[39mCALL_COMMAND_NAME \u001b[38;5;241m+\u001b[39m\\\n\u001b[1;32m   1317\u001b[0m     \u001b[38;5;28mself\u001b[39m\u001b[38;5;241m.\u001b[39mcommand_header \u001b[38;5;241m+\u001b[39m\\\n\u001b[1;32m   1318\u001b[0m     args_command \u001b[38;5;241m+\u001b[39m\\\n\u001b[1;32m   1319\u001b[0m     proto\u001b[38;5;241m.\u001b[39mEND_COMMAND_PART\n\u001b[1;32m   1321\u001b[0m answer \u001b[38;5;241m=\u001b[39m \u001b[38;5;28mself\u001b[39m\u001b[38;5;241m.\u001b[39mgateway_client\u001b[38;5;241m.\u001b[39msend_command(command)\n\u001b[0;32m-> 1322\u001b[0m return_value \u001b[38;5;241m=\u001b[39m \u001b[43mget_return_value\u001b[49m\u001b[43m(\u001b[49m\n\u001b[1;32m   1323\u001b[0m \u001b[43m    \u001b[49m\u001b[43manswer\u001b[49m\u001b[43m,\u001b[49m\u001b[43m \u001b[49m\u001b[38;5;28;43mself\u001b[39;49m\u001b[38;5;241;43m.\u001b[39;49m\u001b[43mgateway_client\u001b[49m\u001b[43m,\u001b[49m\u001b[43m \u001b[49m\u001b[38;5;28;43mself\u001b[39;49m\u001b[38;5;241;43m.\u001b[39;49m\u001b[43mtarget_id\u001b[49m\u001b[43m,\u001b[49m\u001b[43m \u001b[49m\u001b[38;5;28;43mself\u001b[39;49m\u001b[38;5;241;43m.\u001b[39;49m\u001b[43mname\u001b[49m\u001b[43m)\u001b[49m\n\u001b[1;32m   1325\u001b[0m \u001b[38;5;28;01mfor\u001b[39;00m temp_arg \u001b[38;5;129;01min\u001b[39;00m temp_args:\n\u001b[1;32m   1326\u001b[0m     \u001b[38;5;28;01mif\u001b[39;00m \u001b[38;5;28mhasattr\u001b[39m(temp_arg, \u001b[38;5;124m\"\u001b[39m\u001b[38;5;124m_detach\u001b[39m\u001b[38;5;124m\"\u001b[39m):\n",
      "File \u001b[0;32m~/Macrodatos/venv/lib/python3.12/site-packages/pyspark/errors/exceptions/captured.py:185\u001b[0m, in \u001b[0;36mcapture_sql_exception.<locals>.deco\u001b[0;34m(*a, **kw)\u001b[0m\n\u001b[1;32m    181\u001b[0m converted \u001b[38;5;241m=\u001b[39m convert_exception(e\u001b[38;5;241m.\u001b[39mjava_exception)\n\u001b[1;32m    182\u001b[0m \u001b[38;5;28;01mif\u001b[39;00m \u001b[38;5;129;01mnot\u001b[39;00m \u001b[38;5;28misinstance\u001b[39m(converted, UnknownException):\n\u001b[1;32m    183\u001b[0m     \u001b[38;5;66;03m# Hide where the exception came from that shows a non-Pythonic\u001b[39;00m\n\u001b[1;32m    184\u001b[0m     \u001b[38;5;66;03m# JVM exception message.\u001b[39;00m\n\u001b[0;32m--> 185\u001b[0m     \u001b[38;5;28;01mraise\u001b[39;00m converted \u001b[38;5;28;01mfrom\u001b[39;00m \u001b[38;5;28;01mNone\u001b[39;00m\n\u001b[1;32m    186\u001b[0m \u001b[38;5;28;01melse\u001b[39;00m:\n\u001b[1;32m    187\u001b[0m     \u001b[38;5;28;01mraise\u001b[39;00m\n",
      "\u001b[0;31mParseException\u001b[0m: \n[PARSE_SYNTAX_ERROR] Syntax error at or near 'PERCERTILE_CONT'.(line 4, pos 0)\n\n== SQL ==\nSELECT\nMIN(edad) AS min_edad, MAX(edad) AS max_edad, AVG(edad) avg_edad,\nSTDDEV(edad) as stddev_edad, COUNT(edad) AS nr\nPERCERTILE_CONT(0.5) WITH GROUP(ORDER BY edad) AS mediana_edad\n^^^\nFROM locatel\n"
     ]
    }
   ],
   "source": [
    "strql = \"\"\"SELECT\n",
    "MIN(edad) AS min_edad, MAX(edad) AS max_edad, AVG(edad) avg_edad,\n",
    "STDDEV(edad) as stddev_edad, COUNT(edad) AS nr\n",
    "PERCERTILE_CONT(0.5) WITH GROUP(ORDER BY edad) AS mediana_edad\n",
    "FROM locatel\n",
    "\"\"\"\n",
    "\n",
    "spark.sql(strql).show()"
   ]
  },
  {
   "cell_type": "code",
   "execution_count": null,
   "metadata": {},
   "outputs": [],
   "source": [
    "spark.sql(\"SELECT COUNT(*) FROM LOCATEL\")"
   ]
  },
  {
   "cell_type": "code",
   "execution_count": null,
   "metadata": {},
   "outputs": [],
   "source": [
    "strql = \"\"\"SELECT edad, COUNT(*) nr \n",
    "FROM locatel \n",
    "GROUP BY edad \n",
    "ORDER BY edad DESC\"\"\"\n",
    "\n",
    "spark.sql(strql).show(200)"
   ]
  },
  {
   "cell_type": "code",
   "execution_count": null,
   "metadata": {},
   "outputs": [],
   "source": [
    "from pyspark.sql.functions import col, when, avg\n",
    "\n",
    "edad_promedio = df.filter(col(\"edad\") != 16090.0).agg(avg(\"edad\")).first()[0]\n",
    "edad_promedio"
   ]
  },
  {
   "cell_type": "code",
   "execution_count": null,
   "metadata": {},
   "outputs": [],
   "source": [
    "#Reemplazar el valor por edad promedio\n",
    "df = df.withColumn(\n",
    "    \"edad\", when(col(\"edad\") == 16090.0, edad_promedio).otherwise(col(\"edad\"))\n",
    ")\n",
    "\n",
    "df.createOrReplaceTempView(\"locatel\")"
   ]
  },
  {
   "cell_type": "code",
   "execution_count": null,
   "metadata": {},
   "outputs": [],
   "source": [
    "import matplotlib.pyplot as plt\n",
    "import seaborn as sns\n",
    "df_edad = spark.sql(\"SELECT edad FROM locatel WHERE edad IS NOT NULL\")\n",
    "#.toPandas()\n",
    "\n",
    "plt.figure(figsize=(8,6))\n",
    "sns.boxplot(df_edad('edad'),orient='h')\n",
    "\n",
    "plt.title(\"Boxplot de edad\")\n",
    "plt.xlabel(\"Edad\")\n",
    "\n",
    "plt.tight_layout()\n",
    "plt.show()"
   ]
  },
  {
   "cell_type": "code",
   "execution_count": null,
   "metadata": {},
   "outputs": [],
   "source": [
    "plt.figure(figsize=(12,6))\n",
    "sns.histplot(data=df_edad,x=\"edad\",kde=True)\n",
    "plt.xlabel(\"Edad\")\n",
    "plt.ylabel(\"Frecuencia\")\n",
    "plt.show()"
   ]
  },
  {
   "cell_type": "markdown",
   "metadata": {},
   "source": [
    "## Clase 23/10/2024"
   ]
  },
  {
   "cell_type": "code",
   "execution_count": null,
   "metadata": {},
   "outputs": [],
   "source": [
    "strql = \"\"\"SELECT d_estado, COUNT(*) nr \n",
    "FROM locatel l\n",
    "LEFT JOIN sepomex s ON(l.d_codigo = s.d_codigo)\n",
    "GROUP BY d_estado\n",
    "HAVING nr <= 100\n",
    "ORDER BY 2 DESC,1\n",
    "\"\"\"\n",
    "\n",
    "spark.sql(strql).show(40, truncate=False)"
   ]
  },
  {
   "cell_type": "code",
   "execution_count": null,
   "metadata": {},
   "outputs": [],
   "source": [
    "strql = \"\"\"SELECT d_estado, COUNT(*) nr \n",
    "FROM locatel l\n",
    "LEFT JOIN sepomex s ON(l.d_codigo = s.d_codigo)\n",
    "GROUP BY d_estado\n",
    "HAVING nr <= 100\n",
    "ORDER BY 2 DESC}\n",
    "LIMIT 5\n",
    "\"\"\"\n",
    "\n",
    "spark.sql(strql).show(40, truncate=False)"
   ]
  },
  {
   "cell_type": "code",
   "execution_count": null,
   "metadata": {},
   "outputs": [],
   "source": [
    "strql = \"\"\"SELECT d_ciudad, COUNT(*) nr \n",
    "FROM locatel l\n",
    "LEFT JOIN sepomex s ON(l.d_codigo = s.d_codigo)\n",
    "GROUP BY s.d_ciudad\n",
    "HAVING nr <= 100\n",
    "ORDER BY 2 DESC,1 ASC\n",
    "\"\"\"\n",
    "\n",
    "spark.sql(strql).show(40, truncate=False)"
   ]
  },
  {
   "cell_type": "code",
   "execution_count": null,
   "metadata": {},
   "outputs": [],
   "source": [
    "strql = \"\"\"SELECT d_ciudad, COUNT(*) nr \n",
    "FROM locatel l\n",
    "LEFT JOIN sepomex s ON(l.d_codigo = s.d_codigo)\n",
    "WHERE s.d_ciudad IS NOT NULL AND s.d_ciudad != \"Ciudad de México\"\n",
    "\"\"\"\n",
    "\n",
    "spark.sql(strql).show(40, truncate=False)"
   ]
  },
  {
   "cell_type": "code",
   "execution_count": null,
   "metadata": {},
   "outputs": [],
   "source": [
    "strql = \"\"\"SELECT d_estadoo, s.d_ciudad, s.d_mnpio, COUNT(*) nr \n",
    "FROM locatel l\n",
    "LEFT JOIN sepomex s ON(l.d_codigo = s.d_codigo)\n",
    "WHERE s.d_estado IN ('Ciudad de México', 'México')\n",
    "GROUP BY s.d_estado,s.d_ciudad, s.d_mnpio\n",
    "ORDER BY s.d_estado,s.d_ciudad, s.d_mnpio\n",
    "\"\"\"\n",
    "\n",
    "spark.sql(strql).show(100, truncate=False)"
   ]
  },
  {
   "cell_type": "code",
   "execution_count": null,
   "metadata": {},
   "outputs": [],
   "source": [
    "strql = \"\"\"SELECT COALESCE(NULLIF(TRIM(s.d_mnpio), ''), 'No Disponible') AS municipio, \n",
    "COUNT(*) nr \n",
    "FROM locatel l\n",
    "LEFT JOIN sepomex s ON(l.d_codigo = s.d_codigo)\n",
    "WHERE s.d_estado IN ('Ciudad de México')\n",
    "GROUP BY municipio\n",
    "ORDER BY nr DESC\n",
    "\"\"\"\n",
    "\n",
    "spark.sql(strql).show(100, truncate=False)"
   ]
  },
  {
   "cell_type": "code",
   "execution_count": null,
   "metadata": {},
   "outputs": [],
   "source": [
    "strql = \"\"\"SELECT COALESCE(NULLIF(TRIM(s.d_ciudad), ''), 'No Disponible') AS ciudad, \n",
    "COUNT(*) nr \n",
    "FROM locatel l\n",
    "LEFT JOIN sepomex s ON(l.d_codigo = s.d_codigo)\n",
    "WHERE s.d_estado NOT IN ('Ciudad de México')\n",
    "GROUP BY ciudad\n",
    "ORDER BY nr DESC\n",
    "LIMIT 10\n",
    "\"\"\"\n",
    "\n",
    "df_pandas=spark.sql(strql).toPandas()\n",
    "\n",
    "plt.figure(figsize=(10,6))\n",
    "plt.bar(df_pandas['ciudad'],df_pandas['nr'], color='blue')\n",
    "plt.xlabel('Ciudad')\n",
    "plt.ylabel('Total de registros')\n",
    "plt.title('Ciudades con mayor numero de llamadas')\n",
    "plt.xticks(rotation=45)"
   ]
  },
  {
   "cell_type": "code",
   "execution_count": null,
   "metadata": {},
   "outputs": [],
   "source": [
    "strql = \"\"\"SELECT COALESCE(NULLIF(TRIM(s.d_mnpio), ''), 'No Disponible') AS municipio, \n",
    "COUNT(*) nr \n",
    "FROM locatel l\n",
    "LEFT JOIN sepomex s ON(l.d_codigo = s.d_codigo)\n",
    "WHERE s.d_estado NOT IN ('Ciudad de México')\n",
    "GROUP BY ciudad\n",
    "ORDER BY nr DESC\n",
    "LIMIT 10\n",
    "\"\"\"\n",
    "\n",
    "df_pandas=spark.sql(strql).toPandas()\n",
    "\n",
    "plt.figure(figsize=(10,6))\n",
    "plt.bar(df_pandas['ciudad'],df_pandas['nr'], color='blue')\n",
    "plt.xlabel('Ciudad')\n",
    "plt.ylabel('Total de registros')\n",
    "plt.title('Ciudades con mayor numero de llamadas')\n",
    "plt.xticks(rotation=45)"
   ]
  },
  {
   "cell_type": "code",
   "execution_count": null,
   "metadata": {},
   "outputs": [],
   "source": [
    "strql = \"\"\"SELECT municipio, SUM(CASE WHEN d_estado IS NOT NULL AND estado != 'Ciudad de México' \n",
    "    THEN municipio ELSE 'Otro' END AS municipio,\n",
    "    SUM(CASE WHEN d_estado IS NOT NULL AND d_estado != 'Ciudad de México' \n",
    "    THEN nr ELSE 0 END) nr \n",
    "    FROM( \n",
    "    SELECT d_estado,COALESCE(NULLIF(TRIM(s.d_mnpio), ''), 'No Disponible') AS municipio,\n",
    "    COUNT(*) nr \n",
    "    FROM locatel l\n",
    "    LEFT JOIN sepomex s ON(l.d_codigo = s.d_codigo)\n",
    "    GROUP BY d_estado, municipio\n",
    "    ) x\n",
    "    GROUP BY municipio\n",
    "    ORDER BY nr DESC\n",
    "\"\"\""
   ]
  },
  {
   "cell_type": "code",
   "execution_count": null,
   "metadata": {},
   "outputs": [],
   "source": [
    "df_pandas=spark.sql(strql).toPandas()\n",
    "\n",
    "plt.figure(figsize=(10,6))\n",
    "plt.pie(df_pandas['nr'], labels=df_pandas['ciudad'], autopct='%1.1f%%',\n",
    "        startangle=90,color=plt.Paired.colors)\n",
    "#plt.bar(df_pandas['ciudad'],df_pandas['nr'], color='blue')\n",
    "#plt.xlabel('Ciudad')\n",
    "#plt.ylabel('Total de registros')\n",
    "plt.title('Ciudades con mayor numero de llamadas fuera de la CDMX')\n",
    "plt.tight_layout()\n",
    "plt.show()"
   ]
  },
  {
   "cell_type": "markdown",
   "metadata": {},
   "source": [
    "## clase 28/10/2024"
   ]
  },
  {
   "cell_type": "markdown",
   "metadata": {},
   "source": [
    "##### Operadores de refinamiento\n",
    "- roll up: dimensiones generales\n",
    "- drill down: dimensiones específicas\n",
    "- pivot:reorientacin de las dimensiones en el informe\n",
    "- Slice: vertical\n",
    "- Dice: horizontal, vemos un total"
   ]
  },
  {
   "cell_type": "code",
   "execution_count": null,
   "metadata": {},
   "outputs": [],
   "source": [
    "import seaborn as sns\n",
    "sns.set(style=\"whitegrid\")\n",
    "strql=\"\"\"SELECT COALESCE(NULLIF(TRIM(s.d_mnpio), ''), 'No disponible') AS municipio,\n",
    "COUNT (*) as nr\n",
    "FROM locatel l\n",
    "JOIN sepomex s ON (l.d_codigo = s.d_codigo)\n",
    "GROUP BY municipio\n",
    "ORDER BY nr DESC\n",
    "\"\"\"\n",
    "\n",
    "df_pandas = spark.sql(strql).toPandas()\n",
    "umbral=1000\n",
    "df_pandas.loc[df_pandas['nr']<umbral,'municipio'] = 'Otros'\n",
    "df_grouped = df_pandas.groupby('municipio').sum().reset_index()\n",
    "df_grouped"
   ]
  },
  {
   "cell_type": "code",
   "execution_count": null,
   "metadata": {},
   "outputs": [],
   "source": [
    "import seaborn as sns\n",
    "import matplotlib as plt\n",
    "\n",
    "sns.set(style=\"whitegrid\")\n",
    "plt.figure(figsize=(10,8))\n",
    "sns.barplot(x='nr',y='municipio',data=df_grouped,palette='Paired', hue='municipio')\n",
    "\n",
    "plt.title('Numero de llamadas por municipio')\n",
    "plt.xlabel('Numero de llamadas')\n",
    "plt.ylabel('Municipio')\n",
    "plt.tight_layout()\n",
    "\n",
    "plt.show()\n",
    "\n"
   ]
  },
  {
   "cell_type": "code",
   "execution_count": null,
   "metadata": {},
   "outputs": [],
   "source": [
    "import seaborn as sns\n",
    "import matplotlib as plt\n",
    "\n",
    "strql=\"\"\"SELECT YEAR(l.fecha_solicitud) AS anio,\n",
    "AVG(HOUR(l.hora_solicitud)) hora_promedio,\n",
    "AVG(l.edad) AS edad_promedio\n",
    "COUNT (*) as nr\n",
    "FROM locatel l\n",
    "JOIN sepomex s ON (l.d_codigo = s.d_codigo)\n",
    "GROUP BY anio\n",
    "ORDER BY anio\n",
    "\"\"\"\n",
    "\n",
    "sns.set(style=\"whitegrid\")\n",
    "plt.figure(figsize=(10,6))\n",
    "sns.plot(df_pandas['anio'],df_pandas['nr'],marker='o',linestyle='-',color='b')\n",
    "\n",
    "plt.title('Numero de llamadas por Año')\n",
    "plt.xlabel('Numero de llamadas')\n",
    "plt.ylabel('Año')\n",
    "plt.tight_layout()\n",
    "\n",
    "plt.show()"
   ]
  },
  {
   "cell_type": "code",
   "execution_count": null,
   "metadata": {},
   "outputs": [],
   "source": [
    "import seaborn as sns\n",
    "import matplotlib as plt\n",
    "\n",
    "strql=\"\"\"SELECT YEAR(l.fecha_solicitud) AS anio,\n",
    "AVG(HOUR(l.hora_solicitud)) hora_promedio,\n",
    "AVG(l.edad) AS edad_promedio\n",
    "COUNT (*) as nr\n",
    "FROM locatel l\n",
    "JOIN sepomex s ON (l.d_codigo = s.d_codigo)\n",
    "WHERE YEAR (fecha_solicitud) = 2021\n",
    "GROUP BY hora\n",
    "ORDER BY hora\n",
    "\"\"\"\n",
    "\n",
    "sns.set(style=\"whitegrid\")\n",
    "plt.figure(figsize=(10,6))\n",
    "sns.plot(df_pandas['anio'],df_pandas['nr'],marker='o',linestyle='-',color='b')\n",
    "\n",
    "plt.title('Numero de llamadas por Hora')\n",
    "plt.xlabel('Numero de llamadas')\n",
    "plt.ylabel('Hora')\n",
    "plt.tight_layout()\n",
    "\n",
    "plt.show()"
   ]
  },
  {
   "cell_type": "code",
   "execution_count": null,
   "metadata": {},
   "outputs": [],
   "source": [
    "import seaborn as sns\n",
    "import matplotlib as plt\n",
    "\n",
    "strql=\"\"\"SELECT YEAR(l.fecha_solicitud) AS anio,\n",
    "AVG(HOUR(l.hora_solicitud)) hora_promedio,\n",
    "AVG(l.edad) AS edad_promedio\n",
    "COUNT (*) as nr\n",
    "FROM locatel l\n",
    "JOIN sepomex s ON (l.d_codigo = s.d_codigo)\n",
    "WHERE YEAR (fecha_solicitud) = 2019 \n",
    "AND s.D_mnpio = 'Milpa Alta'\n",
    "GROUP BY hora\n",
    "ORDER BY hora\n",
    "\"\"\"\n",
    "\n",
    "sns.set(style=\"whitegrid\")\n",
    "plt.figure(figsize=(10,6))\n",
    "sns.plot(df_pandas['anio'],df_pandas['nr'],marker='o',linestyle='-',color='b')\n",
    "\n",
    "plt.title('Numero de llamadas por Hora')\n",
    "plt.xlabel('Numero de llamadas')\n",
    "plt.ylabel('Hora')\n",
    "plt.tight_layout()\n",
    "\n",
    "plt.show()"
   ]
  },
  {
   "cell_type": "code",
   "execution_count": null,
   "metadata": {},
   "outputs": [],
   "source": [
    "import seaborn as sns\n",
    "import matplotlib as plt\n",
    "\n",
    "strql=\"\"\"\n",
    "SELECT CASE WHEN nr < 5000 THEN 'Otro' ELSE tema_solicitud END tema,\n",
    "SUM(nr) nr\n",
    "FROM (\n",
    "    SELECT l.tema_solicitud,\n",
    "    COUNT(*) as num_reg\n",
    "    FROM locatel l\n",
    "    JOIN sepomex s ON (l.d_codigo = s.d_codigo)\n",
    "    GROUP BY l.tema_solicitu\n",
    ")\n",
    "COUNT (*) as nr\n",
    "FROM locatel l\n",
    "JOIN sepomex s ON (l.d_codigo = s.d_codigo)\n",
    "GROUP BY tema_solicitu\n",
    "ORDER BY tema_solicitu\n",
    "\"\"\"\n",
    "\n",
    "plt.figure(figsize=(12,6))\n",
    "plt.bar(df_pandas['temas'],df_pandas['nr'], color='pink')\n",
    "plt.xticks(rotation=90)\n",
    "\n",
    "plt.title('Numero de llamadas por Tema')\n",
    "plt.xlabel('Numero de llamadas')\n",
    "plt.ylabel('Tema')\n",
    "plt.tight_layout()\n",
    "\n",
    "plt.show()"
   ]
  }
 ],
 "metadata": {
  "kernelspec": {
   "display_name": "venv",
   "language": "python",
   "name": "python3"
  },
  "language_info": {
   "codemirror_mode": {
    "name": "ipython",
    "version": 3
   },
   "file_extension": ".py",
   "mimetype": "text/x-python",
   "name": "python",
   "nbconvert_exporter": "python",
   "pygments_lexer": "ipython3",
   "version": "3.12.3"
  }
 },
 "nbformat": 4,
 "nbformat_minor": 2
}
