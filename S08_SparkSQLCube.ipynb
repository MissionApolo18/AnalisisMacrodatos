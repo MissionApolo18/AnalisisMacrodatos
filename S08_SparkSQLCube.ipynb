{
 "cells": [
  {
   "cell_type": "code",
   "execution_count": 7,
   "metadata": {},
   "outputs": [],
   "source": [
    "from pyspark.sql import SparkSession\n",
    "\n",
    "spark = SparkSession.builder.appName(\"S08\").getOrCreate()"
   ]
  },
  {
   "cell_type": "code",
   "execution_count": 8,
   "metadata": {},
   "outputs": [
    {
     "data": {
      "text/html": [
       "\n",
       "            <div>\n",
       "                <p><b>SparkSession - in-memory</b></p>\n",
       "                \n",
       "        <div>\n",
       "            <p><b>SparkContext</b></p>\n",
       "\n",
       "            <p><a href=\"http://10.140.226.15:4040\">Spark UI</a></p>\n",
       "\n",
       "            <dl>\n",
       "              <dt>Version</dt>\n",
       "                <dd><code>v3.5.3</code></dd>\n",
       "              <dt>Master</dt>\n",
       "                <dd><code>local[*]</code></dd>\n",
       "              <dt>AppName</dt>\n",
       "                <dd><code>sepomex</code></dd>\n",
       "            </dl>\n",
       "        </div>\n",
       "        \n",
       "            </div>\n",
       "        "
      ],
      "text/plain": [
       "<pyspark.sql.session.SparkSession at 0x7f67c034be60>"
      ]
     },
     "execution_count": 8,
     "metadata": {},
     "output_type": "execute_result"
    }
   ],
   "source": [
    "spark"
   ]
  },
  {
   "cell_type": "code",
   "execution_count": 40,
   "metadata": {},
   "outputs": [],
   "source": [
    "from pyspark.sql.types import StructType, StructField, StringType, IntegerType\n",
    "\n",
    "#Cambiar estructura\n",
    "schema = StructType([\n",
    "    StructField(\"id_folio\", StringType(), True),\n",
    "    StructField(\"fecha_solicitud\", StringType(), True),\n",
    "    StructField(\"hora_solicitud\", StringType(), True),\n",
    "    StructField(\"tipo_de_entrada\", StringType(), True),\n",
    "    StructField(\"tema_solicitud\", StringType(), True),\n",
    "    StructField(\"sexo\", StringType(), True),\n",
    "    StructField(\"edad\", StringType(), True),\n",
    "    StructField(\"colonia_solicitud\", StringType(), True),\n",
    "    StructField(\"alcaldia_solicitud\", StringType(), True),\n",
    "    StructField(\"codigo_postal_solicitud\", StringType(), True),\n",
    "    StructField(\"estatus\", StringType(), True),\n",
    "    StructField(\"fecha_concluido\", StringType(), True),\n",
    "    StructField(\"alcaldia_catalogo\", StringType(), True),\n",
    "    StructField(\"colonia_catalogo\", StringType(), True),\n",
    "    StructField(\"longitud\", StringType(), True),\n",
    "    StructField(\"latitud\", StringType(), True)\n",
    "])\n",
    "\n",
    "sepomex_df = spark.read.option(\"header\",\"true\")\\\n",
    "    .option(\"delimiter\",\",\")\\\n",
    "    .option(\"skipRows\",\"1\")\\\n",
    "    .option(\"encoding\",\"UTF-8\")\\\n",
    "    .schema(schema)\\\n",
    "    .csv(\"sepomex.csv\")\n",
    "\n",
    "sepomex_df\\\n",
    "    .select(['codigo_postal_solicitud','colonia_solicitud','alcaldia_solicitud'])\\\n",
    "    .distinct()\\\n",
    "    .createOrReplaceTempView(\"sepomex\")\n",
    "\n",
    "locatel = spark.read.option(\"header\",\"true\")\\\n",
    "    .option(\"delimiter\",\",\")\\\n",
    "    .option(\"skipRows\",\"1\")\\\n",
    "    .option(\"encoding\",\"UTF-8\")\\\n",
    "    .schema(schema)\\\n",
    "    .csv(\"locatel2024.csv\")\n",
    "\n",
    "locatel\\\n",
    "    .select(['codigo_postal_solicitud','colonia_solicitud','alcaldia_solicitud'])\\\n",
    "    .distinct()\\\n",
    "    .createOrReplaceTempView(\"locatel\")"
   ]
  },
  {
   "cell_type": "code",
   "execution_count": 50,
   "metadata": {},
   "outputs": [
    {
     "name": "stdout",
     "output_type": "stream",
     "text": [
      "+---------+---------+-----------+\n",
      "|namespace|tableName|isTemporary|\n",
      "+---------+---------+-----------+\n",
      "|         |  locatel|       true|\n",
      "|         |  sepomex|       true|\n",
      "+---------+---------+-----------+\n",
      "\n"
     ]
    }
   ],
   "source": [
    "spark.sql(\"SHOW TABLES\").show()"
   ]
  },
  {
   "cell_type": "code",
   "execution_count": null,
   "metadata": {},
   "outputs": [
    {
     "ename": "AnalysisException",
     "evalue": "[MISSING_AGGREGATION] The non-aggregating expression \"sexo\" is based on columns which are not participating in the GROUP BY clause.\nAdd the columns or the expression to the GROUP BY, aggregate the expression, or use \"any_value(sexo)\" if you do not care which of the values within a group is returned.;\nSort [ciudad#1334 ASC NULLS FIRST, tema_solicitud#1335 ASC NULLS FIRST], true\n+- Aggregate [colonia_solicitud#1343, tema_solicitud#1344, spark_grouping_id#1342L], [coalesce(colonia_solicitud#1343, TOTAL_C) AS ciudad#1334, coalesce(tema_solicitud#1344, TOTAL_TS) AS tema_solicitud#1335, coalesce(sexo#1122, TOTAL_S) AS sexo#1336, count(1) AS nr#1337L, spark_grouping_id#1342L AS grupo_id#1338L]\n   +- Expand [[id_folio#1117, fecha_solicitud#1118, hora_solicitud#1119, tipo_de_entrada#1120, tema_solicitud#1121, sexo#1122, edad#1123, colonia_solicitud#1124, alcaldia_solicitud#1125, codigo_postal_solicitud#1126, estatus#1127, fecha_concluido#1128, alcaldia_catalogo#1129, colonia_catalogo#1130, longitud#1131, latitud#1132, id_folio#1081, fecha_solicitud#1082, hora_solicitud#1083, tipo_de_entrada#1084, tema_solicitud#1085, sexo#1086, edad#1087, colonia_solicitud#1088, ... 11 more fields], [id_folio#1117, fecha_solicitud#1118, hora_solicitud#1119, tipo_de_entrada#1120, tema_solicitud#1121, sexo#1122, edad#1123, colonia_solicitud#1124, alcaldia_solicitud#1125, codigo_postal_solicitud#1126, estatus#1127, fecha_concluido#1128, alcaldia_catalogo#1129, colonia_catalogo#1130, longitud#1131, latitud#1132, id_folio#1081, fecha_solicitud#1082, hora_solicitud#1083, tipo_de_entrada#1084, tema_solicitud#1085, sexo#1086, edad#1087, colonia_solicitud#1088, ... 11 more fields], [id_folio#1117, fecha_solicitud#1118, hora_solicitud#1119, tipo_de_entrada#1120, tema_solicitud#1121, sexo#1122, edad#1123, colonia_solicitud#1124, alcaldia_solicitud#1125, codigo_postal_solicitud#1126, estatus#1127, fecha_concluido#1128, alcaldia_catalogo#1129, colonia_catalogo#1130, longitud#1131, latitud#1132, id_folio#1081, fecha_solicitud#1082, hora_solicitud#1083, tipo_de_entrada#1084, tema_solicitud#1085, sexo#1086, edad#1087, colonia_solicitud#1088, ... 11 more fields], [id_folio#1117, fecha_solicitud#1118, hora_solicitud#1119, tipo_de_entrada#1120, tema_solicitud#1121, sexo#1122, edad#1123, colonia_solicitud#1124, alcaldia_solicitud#1125, codigo_postal_solicitud#1126, estatus#1127, fecha_concluido#1128, alcaldia_catalogo#1129, colonia_catalogo#1130, longitud#1131, latitud#1132, id_folio#1081, fecha_solicitud#1082, hora_solicitud#1083, tipo_de_entrada#1084, tema_solicitud#1085, sexo#1086, edad#1087, colonia_solicitud#1088, ... 11 more fields]], [id_folio#1117, fecha_solicitud#1118, hora_solicitud#1119, tipo_de_entrada#1120, tema_solicitud#1121, sexo#1122, edad#1123, colonia_solicitud#1124, alcaldia_solicitud#1125, codigo_postal_solicitud#1126, estatus#1127, fecha_concluido#1128, alcaldia_catalogo#1129, colonia_catalogo#1130, longitud#1131, latitud#1132, id_folio#1081, fecha_solicitud#1082, hora_solicitud#1083, tipo_de_entrada#1084, tema_solicitud#1085, sexo#1086, edad#1087, colonia_solicitud#1088, ... 11 more fields]\n      +- Project [id_folio#1117, fecha_solicitud#1118, hora_solicitud#1119, tipo_de_entrada#1120, tema_solicitud#1121, sexo#1122, edad#1123, colonia_solicitud#1124, alcaldia_solicitud#1125, codigo_postal_solicitud#1126, estatus#1127, fecha_concluido#1128, alcaldia_catalogo#1129, colonia_catalogo#1130, longitud#1131, latitud#1132, id_folio#1081, fecha_solicitud#1082, hora_solicitud#1083, tipo_de_entrada#1084, tema_solicitud#1085, sexo#1086, edad#1087, colonia_solicitud#1088, ... 10 more fields]\n         +- Join Inner, (codigo_postal_solicitud#1126 = codigo_postal_solicitud#1090)\n            :- SubqueryAlias l\n            :  +- SubqueryAlias locatel\n            :     +- View (`locatel`, [id_folio#1117,fecha_solicitud#1118,hora_solicitud#1119,tipo_de_entrada#1120,tema_solicitud#1121,sexo#1122,edad#1123,colonia_solicitud#1124,alcaldia_solicitud#1125,codigo_postal_solicitud#1126,estatus#1127,fecha_concluido#1128,alcaldia_catalogo#1129,colonia_catalogo#1130,longitud#1131,latitud#1132])\n            :        +- Relation [id_folio#1117,fecha_solicitud#1118,hora_solicitud#1119,tipo_de_entrada#1120,tema_solicitud#1121,sexo#1122,edad#1123,colonia_solicitud#1124,alcaldia_solicitud#1125,codigo_postal_solicitud#1126,estatus#1127,fecha_concluido#1128,alcaldia_catalogo#1129,colonia_catalogo#1130,longitud#1131,latitud#1132] csv\n            +- SubqueryAlias s\n               +- SubqueryAlias sepomex\n                  +- View (`sepomex`, [id_folio#1081,fecha_solicitud#1082,hora_solicitud#1083,tipo_de_entrada#1084,tema_solicitud#1085,sexo#1086,edad#1087,colonia_solicitud#1088,alcaldia_solicitud#1089,codigo_postal_solicitud#1090,estatus#1091,fecha_concluido#1092,alcaldia_catalogo#1093,colonia_catalogo#1094,longitud#1095,latitud#1096])\n                     +- Relation [id_folio#1081,fecha_solicitud#1082,hora_solicitud#1083,tipo_de_entrada#1084,tema_solicitud#1085,sexo#1086,edad#1087,colonia_solicitud#1088,alcaldia_solicitud#1089,codigo_postal_solicitud#1090,estatus#1091,fecha_concluido#1092,alcaldia_catalogo#1093,colonia_catalogo#1094,longitud#1095,latitud#1096] csv\n",
     "output_type": "error",
     "traceback": [
      "\u001b[0;31m---------------------------------------------------------------------------\u001b[0m",
      "\u001b[0;31mAnalysisException\u001b[0m                         Traceback (most recent call last)",
      "Cell \u001b[0;32mIn[52], line 14\u001b[0m\n\u001b[1;32m      1\u001b[0m strsql\u001b[38;5;241m=\u001b[39m\u001b[38;5;124m\"\"\"\u001b[39m\n\u001b[1;32m      2\u001b[0m \u001b[38;5;124m    SELECT COALESCE(s.colonia_solicitud,\u001b[39m\u001b[38;5;124m'\u001b[39m\u001b[38;5;124mTOTAL_C\u001b[39m\u001b[38;5;124m'\u001b[39m\u001b[38;5;124m) AS ciudad,\u001b[39m\n\u001b[1;32m      3\u001b[0m \u001b[38;5;124m           COALESCE(l.tema_solicitud, \u001b[39m\u001b[38;5;124m'\u001b[39m\u001b[38;5;124mTOTAL_TS\u001b[39m\u001b[38;5;124m'\u001b[39m\u001b[38;5;124m) AS tema_solicitud,\u001b[39m\n\u001b[0;32m   (...)\u001b[0m\n\u001b[1;32m     10\u001b[0m \u001b[38;5;124m    ORDER BY 1, 2\u001b[39m\n\u001b[1;32m     11\u001b[0m \u001b[38;5;124m\"\"\"\u001b[39m\n\u001b[0;32m---> 14\u001b[0m \u001b[43mspark\u001b[49m\u001b[38;5;241;43m.\u001b[39;49m\u001b[43msql\u001b[49m\u001b[43m(\u001b[49m\u001b[43mstrsql\u001b[49m\u001b[43m)\u001b[49m\u001b[38;5;241m.\u001b[39mshow(\u001b[38;5;241m40\u001b[39m, truncate\u001b[38;5;241m=\u001b[39m\u001b[38;5;28;01mFalse\u001b[39;00m)\n",
      "File \u001b[0;32m~/Macrodatos/venv/lib/python3.12/site-packages/pyspark/sql/session.py:1631\u001b[0m, in \u001b[0;36mSparkSession.sql\u001b[0;34m(self, sqlQuery, args, **kwargs)\u001b[0m\n\u001b[1;32m   1627\u001b[0m         \u001b[38;5;28;01massert\u001b[39;00m \u001b[38;5;28mself\u001b[39m\u001b[38;5;241m.\u001b[39m_jvm \u001b[38;5;129;01mis\u001b[39;00m \u001b[38;5;129;01mnot\u001b[39;00m \u001b[38;5;28;01mNone\u001b[39;00m\n\u001b[1;32m   1628\u001b[0m         litArgs \u001b[38;5;241m=\u001b[39m \u001b[38;5;28mself\u001b[39m\u001b[38;5;241m.\u001b[39m_jvm\u001b[38;5;241m.\u001b[39mPythonUtils\u001b[38;5;241m.\u001b[39mtoArray(\n\u001b[1;32m   1629\u001b[0m             [_to_java_column(lit(v)) \u001b[38;5;28;01mfor\u001b[39;00m v \u001b[38;5;129;01min\u001b[39;00m (args \u001b[38;5;129;01mor\u001b[39;00m [])]\n\u001b[1;32m   1630\u001b[0m         )\n\u001b[0;32m-> 1631\u001b[0m     \u001b[38;5;28;01mreturn\u001b[39;00m DataFrame(\u001b[38;5;28;43mself\u001b[39;49m\u001b[38;5;241;43m.\u001b[39;49m\u001b[43m_jsparkSession\u001b[49m\u001b[38;5;241;43m.\u001b[39;49m\u001b[43msql\u001b[49m\u001b[43m(\u001b[49m\u001b[43msqlQuery\u001b[49m\u001b[43m,\u001b[49m\u001b[43m \u001b[49m\u001b[43mlitArgs\u001b[49m\u001b[43m)\u001b[49m, \u001b[38;5;28mself\u001b[39m)\n\u001b[1;32m   1632\u001b[0m \u001b[38;5;28;01mfinally\u001b[39;00m:\n\u001b[1;32m   1633\u001b[0m     \u001b[38;5;28;01mif\u001b[39;00m \u001b[38;5;28mlen\u001b[39m(kwargs) \u001b[38;5;241m>\u001b[39m \u001b[38;5;241m0\u001b[39m:\n",
      "File \u001b[0;32m~/Macrodatos/venv/lib/python3.12/site-packages/py4j/java_gateway.py:1322\u001b[0m, in \u001b[0;36mJavaMember.__call__\u001b[0;34m(self, *args)\u001b[0m\n\u001b[1;32m   1316\u001b[0m command \u001b[38;5;241m=\u001b[39m proto\u001b[38;5;241m.\u001b[39mCALL_COMMAND_NAME \u001b[38;5;241m+\u001b[39m\\\n\u001b[1;32m   1317\u001b[0m     \u001b[38;5;28mself\u001b[39m\u001b[38;5;241m.\u001b[39mcommand_header \u001b[38;5;241m+\u001b[39m\\\n\u001b[1;32m   1318\u001b[0m     args_command \u001b[38;5;241m+\u001b[39m\\\n\u001b[1;32m   1319\u001b[0m     proto\u001b[38;5;241m.\u001b[39mEND_COMMAND_PART\n\u001b[1;32m   1321\u001b[0m answer \u001b[38;5;241m=\u001b[39m \u001b[38;5;28mself\u001b[39m\u001b[38;5;241m.\u001b[39mgateway_client\u001b[38;5;241m.\u001b[39msend_command(command)\n\u001b[0;32m-> 1322\u001b[0m return_value \u001b[38;5;241m=\u001b[39m \u001b[43mget_return_value\u001b[49m\u001b[43m(\u001b[49m\n\u001b[1;32m   1323\u001b[0m \u001b[43m    \u001b[49m\u001b[43manswer\u001b[49m\u001b[43m,\u001b[49m\u001b[43m \u001b[49m\u001b[38;5;28;43mself\u001b[39;49m\u001b[38;5;241;43m.\u001b[39;49m\u001b[43mgateway_client\u001b[49m\u001b[43m,\u001b[49m\u001b[43m \u001b[49m\u001b[38;5;28;43mself\u001b[39;49m\u001b[38;5;241;43m.\u001b[39;49m\u001b[43mtarget_id\u001b[49m\u001b[43m,\u001b[49m\u001b[43m \u001b[49m\u001b[38;5;28;43mself\u001b[39;49m\u001b[38;5;241;43m.\u001b[39;49m\u001b[43mname\u001b[49m\u001b[43m)\u001b[49m\n\u001b[1;32m   1325\u001b[0m \u001b[38;5;28;01mfor\u001b[39;00m temp_arg \u001b[38;5;129;01min\u001b[39;00m temp_args:\n\u001b[1;32m   1326\u001b[0m     \u001b[38;5;28;01mif\u001b[39;00m \u001b[38;5;28mhasattr\u001b[39m(temp_arg, \u001b[38;5;124m\"\u001b[39m\u001b[38;5;124m_detach\u001b[39m\u001b[38;5;124m\"\u001b[39m):\n",
      "File \u001b[0;32m~/Macrodatos/venv/lib/python3.12/site-packages/pyspark/errors/exceptions/captured.py:185\u001b[0m, in \u001b[0;36mcapture_sql_exception.<locals>.deco\u001b[0;34m(*a, **kw)\u001b[0m\n\u001b[1;32m    181\u001b[0m converted \u001b[38;5;241m=\u001b[39m convert_exception(e\u001b[38;5;241m.\u001b[39mjava_exception)\n\u001b[1;32m    182\u001b[0m \u001b[38;5;28;01mif\u001b[39;00m \u001b[38;5;129;01mnot\u001b[39;00m \u001b[38;5;28misinstance\u001b[39m(converted, UnknownException):\n\u001b[1;32m    183\u001b[0m     \u001b[38;5;66;03m# Hide where the exception came from that shows a non-Pythonic\u001b[39;00m\n\u001b[1;32m    184\u001b[0m     \u001b[38;5;66;03m# JVM exception message.\u001b[39;00m\n\u001b[0;32m--> 185\u001b[0m     \u001b[38;5;28;01mraise\u001b[39;00m converted \u001b[38;5;28;01mfrom\u001b[39;00m \u001b[38;5;28;01mNone\u001b[39;00m\n\u001b[1;32m    186\u001b[0m \u001b[38;5;28;01melse\u001b[39;00m:\n\u001b[1;32m    187\u001b[0m     \u001b[38;5;28;01mraise\u001b[39;00m\n",
      "\u001b[0;31mAnalysisException\u001b[0m: [MISSING_AGGREGATION] The non-aggregating expression \"sexo\" is based on columns which are not participating in the GROUP BY clause.\nAdd the columns or the expression to the GROUP BY, aggregate the expression, or use \"any_value(sexo)\" if you do not care which of the values within a group is returned.;\nSort [ciudad#1334 ASC NULLS FIRST, tema_solicitud#1335 ASC NULLS FIRST], true\n+- Aggregate [colonia_solicitud#1343, tema_solicitud#1344, spark_grouping_id#1342L], [coalesce(colonia_solicitud#1343, TOTAL_C) AS ciudad#1334, coalesce(tema_solicitud#1344, TOTAL_TS) AS tema_solicitud#1335, coalesce(sexo#1122, TOTAL_S) AS sexo#1336, count(1) AS nr#1337L, spark_grouping_id#1342L AS grupo_id#1338L]\n   +- Expand [[id_folio#1117, fecha_solicitud#1118, hora_solicitud#1119, tipo_de_entrada#1120, tema_solicitud#1121, sexo#1122, edad#1123, colonia_solicitud#1124, alcaldia_solicitud#1125, codigo_postal_solicitud#1126, estatus#1127, fecha_concluido#1128, alcaldia_catalogo#1129, colonia_catalogo#1130, longitud#1131, latitud#1132, id_folio#1081, fecha_solicitud#1082, hora_solicitud#1083, tipo_de_entrada#1084, tema_solicitud#1085, sexo#1086, edad#1087, colonia_solicitud#1088, ... 11 more fields], [id_folio#1117, fecha_solicitud#1118, hora_solicitud#1119, tipo_de_entrada#1120, tema_solicitud#1121, sexo#1122, edad#1123, colonia_solicitud#1124, alcaldia_solicitud#1125, codigo_postal_solicitud#1126, estatus#1127, fecha_concluido#1128, alcaldia_catalogo#1129, colonia_catalogo#1130, longitud#1131, latitud#1132, id_folio#1081, fecha_solicitud#1082, hora_solicitud#1083, tipo_de_entrada#1084, tema_solicitud#1085, sexo#1086, edad#1087, colonia_solicitud#1088, ... 11 more fields], [id_folio#1117, fecha_solicitud#1118, hora_solicitud#1119, tipo_de_entrada#1120, tema_solicitud#1121, sexo#1122, edad#1123, colonia_solicitud#1124, alcaldia_solicitud#1125, codigo_postal_solicitud#1126, estatus#1127, fecha_concluido#1128, alcaldia_catalogo#1129, colonia_catalogo#1130, longitud#1131, latitud#1132, id_folio#1081, fecha_solicitud#1082, hora_solicitud#1083, tipo_de_entrada#1084, tema_solicitud#1085, sexo#1086, edad#1087, colonia_solicitud#1088, ... 11 more fields], [id_folio#1117, fecha_solicitud#1118, hora_solicitud#1119, tipo_de_entrada#1120, tema_solicitud#1121, sexo#1122, edad#1123, colonia_solicitud#1124, alcaldia_solicitud#1125, codigo_postal_solicitud#1126, estatus#1127, fecha_concluido#1128, alcaldia_catalogo#1129, colonia_catalogo#1130, longitud#1131, latitud#1132, id_folio#1081, fecha_solicitud#1082, hora_solicitud#1083, tipo_de_entrada#1084, tema_solicitud#1085, sexo#1086, edad#1087, colonia_solicitud#1088, ... 11 more fields]], [id_folio#1117, fecha_solicitud#1118, hora_solicitud#1119, tipo_de_entrada#1120, tema_solicitud#1121, sexo#1122, edad#1123, colonia_solicitud#1124, alcaldia_solicitud#1125, codigo_postal_solicitud#1126, estatus#1127, fecha_concluido#1128, alcaldia_catalogo#1129, colonia_catalogo#1130, longitud#1131, latitud#1132, id_folio#1081, fecha_solicitud#1082, hora_solicitud#1083, tipo_de_entrada#1084, tema_solicitud#1085, sexo#1086, edad#1087, colonia_solicitud#1088, ... 11 more fields]\n      +- Project [id_folio#1117, fecha_solicitud#1118, hora_solicitud#1119, tipo_de_entrada#1120, tema_solicitud#1121, sexo#1122, edad#1123, colonia_solicitud#1124, alcaldia_solicitud#1125, codigo_postal_solicitud#1126, estatus#1127, fecha_concluido#1128, alcaldia_catalogo#1129, colonia_catalogo#1130, longitud#1131, latitud#1132, id_folio#1081, fecha_solicitud#1082, hora_solicitud#1083, tipo_de_entrada#1084, tema_solicitud#1085, sexo#1086, edad#1087, colonia_solicitud#1088, ... 10 more fields]\n         +- Join Inner, (codigo_postal_solicitud#1126 = codigo_postal_solicitud#1090)\n            :- SubqueryAlias l\n            :  +- SubqueryAlias locatel\n            :     +- View (`locatel`, [id_folio#1117,fecha_solicitud#1118,hora_solicitud#1119,tipo_de_entrada#1120,tema_solicitud#1121,sexo#1122,edad#1123,colonia_solicitud#1124,alcaldia_solicitud#1125,codigo_postal_solicitud#1126,estatus#1127,fecha_concluido#1128,alcaldia_catalogo#1129,colonia_catalogo#1130,longitud#1131,latitud#1132])\n            :        +- Relation [id_folio#1117,fecha_solicitud#1118,hora_solicitud#1119,tipo_de_entrada#1120,tema_solicitud#1121,sexo#1122,edad#1123,colonia_solicitud#1124,alcaldia_solicitud#1125,codigo_postal_solicitud#1126,estatus#1127,fecha_concluido#1128,alcaldia_catalogo#1129,colonia_catalogo#1130,longitud#1131,latitud#1132] csv\n            +- SubqueryAlias s\n               +- SubqueryAlias sepomex\n                  +- View (`sepomex`, [id_folio#1081,fecha_solicitud#1082,hora_solicitud#1083,tipo_de_entrada#1084,tema_solicitud#1085,sexo#1086,edad#1087,colonia_solicitud#1088,alcaldia_solicitud#1089,codigo_postal_solicitud#1090,estatus#1091,fecha_concluido#1092,alcaldia_catalogo#1093,colonia_catalogo#1094,longitud#1095,latitud#1096])\n                     +- Relation [id_folio#1081,fecha_solicitud#1082,hora_solicitud#1083,tipo_de_entrada#1084,tema_solicitud#1085,sexo#1086,edad#1087,colonia_solicitud#1088,alcaldia_solicitud#1089,codigo_postal_solicitud#1090,estatus#1091,fecha_concluido#1092,alcaldia_catalogo#1093,colonia_catalogo#1094,longitud#1095,latitud#1096] csv\n"
     ]
    }
   ],
   "source": [
    "strsql=\"\"\"\n",
    "    SELECT COALESCE(s.colonia_solicitud,'TOTAL_C') AS ciudad,\n",
    "           COALESCE(l.tema_solicitud, 'TOTAL_TS') AS tema_solicitud,\n",
    "           COALESCE(l.sexo, 'TOTAL_S') AS sexo,\n",
    "           COUNT(*) AS nr,\n",
    "           GROUPING_ID(s.colonia_solicitud, l.tema_solicitud) AS grupo_id\n",
    "    FROM locatel l\n",
    "    JOIN sepomex s ON (l.codigo_postal_solicitud = s.codigo_postal_solicitud)\n",
    "    GROUP BY CUBE(s.colonia_solicitud, l.tema_solicitud)\n",
    "    ORDER BY 1, 2\n",
    "\"\"\"\n",
    "\n",
    "spark.sql(strsql).show(40, truncate=False)"
   ]
  },
  {
   "cell_type": "code",
   "execution_count": null,
   "metadata": {},
   "outputs": [],
   "source": [
    "strsql=\"\"\"\n",
    "    SELECT ciudad, tema_solicitud, nr\n",
    "    FROM (\n",
    "        SELECT COALESCE(s.colonia_solicitud,'TOTAL_C') AS ciudad,\n",
    "           COALESCE(l.tema_solicitud, 'TOTAL_TS') AS tema_solicitud,\n",
    "           COALESCE(l.sexo, 'TOTAL_S') AS sexo,\n",
    "           COUNT(*) AS nr,\n",
    "           GROUPING_ID(s.colonia_solicitud, l.tema_solicitud) AS grupo_id\n",
    "        FROM locatel l\n",
    "        JOIN sepomex s ON (l.codigo_postal_solicitud = s.codigo_postal_solicitud)\n",
    "        GROUP BY CUBE(s.colonia_solicitud, l.tema_solicitud)\n",
    "    ) x\n",
    "    WHERE NOT (ciudad = 'TOTAL_C' AND tema_solicitud != 'TOTAL_TS)\n",
    "    ORDER BY ciudad, grupo_id, tema_solicitud\n",
    "\"\"\"\n",
    "\n",
    "spark.sql(strsql).show(4000, truncate=False)"
   ]
  },
  {
   "cell_type": "code",
   "execution_count": null,
   "metadata": {},
   "outputs": [],
   "source": [
    "strsql=\"\"\"\n",
    "    SELECT ciudad, tema_solicitud, nr\n",
    "    FROM (\n",
    "        SELECT COALESCE(s.colonia_solicitud,'TOTAL_C') AS ciudad,\n",
    "           COALESCE(l.tema_solicitud, 'TOTAL_TS') AS tema_solicitud,\n",
    "           COALESCE(l.sexo, 'TOTAL_S') AS sexo,\n",
    "           COUNT(*) AS nr,\n",
    "           GROUPING_ID(s.colonia_solicitud, l.tema_solicitud) AS grupo_id\n",
    "        FROM locatel l\n",
    "        JOIN sepomex s ON (l.codigo_postal_solicitud = s.codigo_postal_solicitud)\n",
    "        WHERE s.colonia_solicitud IN('Acapulco de Juarez', 'Acayucan','Actopan')\n",
    "        GROUP BY CUBE(s.colonia_solicitud, l.tema_solicitud)\n",
    "    ) x\n",
    "    WHERE NOT (ciudad = 'TOTAL_C' AND tema_solicitud != 'TOTAL_TS)\n",
    "    AND NOT (ciudad= 'TOTAL_C' AND sexo != 'TOTAL_S')\n",
    "    ORDER BY ciudad, grupo_id, tema_solicitud\n",
    "\"\"\"\n",
    "\n",
    "spark.sql(strsql).show(4000, truncate=False)"
   ]
  }
 ],
 "metadata": {
  "kernelspec": {
   "display_name": "venv",
   "language": "python",
   "name": "python3"
  },
  "language_info": {
   "codemirror_mode": {
    "name": "ipython",
    "version": 3
   },
   "file_extension": ".py",
   "mimetype": "text/x-python",
   "name": "python",
   "nbconvert_exporter": "python",
   "pygments_lexer": "ipython3",
   "version": "3.12.3"
  }
 },
 "nbformat": 4,
 "nbformat_minor": 2
}
