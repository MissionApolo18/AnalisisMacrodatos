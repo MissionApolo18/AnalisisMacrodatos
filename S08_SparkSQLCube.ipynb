{
 "cells": [
  {
   "cell_type": "code",
   "execution_count": 1,
   "metadata": {},
   "outputs": [
    {
     "name": "stderr",
     "output_type": "stream",
     "text": [
      "24/11/11 09:27:58 WARN Utils: Your hostname, Shie-Hassaikai resolves to a loopback address: 127.0.1.1; using 10.140.226.15 instead (on interface wlp1s0)\n",
      "24/11/11 09:27:58 WARN Utils: Set SPARK_LOCAL_IP if you need to bind to another address\n",
      "Setting default log level to \"WARN\".\n",
      "To adjust logging level use sc.setLogLevel(newLevel). For SparkR, use setLogLevel(newLevel).\n",
      "24/11/11 09:27:59 WARN NativeCodeLoader: Unable to load native-hadoop library for your platform... using builtin-java classes where applicable\n"
     ]
    }
   ],
   "source": [
    "from pyspark.sql import SparkSession\n",
    "\n",
    "spark = SparkSession.builder.appName(\"S08\").getOrCreate()"
   ]
  },
  {
   "cell_type": "code",
   "execution_count": 2,
   "metadata": {},
   "outputs": [
    {
     "data": {
      "text/html": [
       "\n",
       "            <div>\n",
       "                <p><b>SparkSession - in-memory</b></p>\n",
       "                \n",
       "        <div>\n",
       "            <p><b>SparkContext</b></p>\n",
       "\n",
       "            <p><a href=\"http://10.140.226.15:4040\">Spark UI</a></p>\n",
       "\n",
       "            <dl>\n",
       "              <dt>Version</dt>\n",
       "                <dd><code>v3.5.3</code></dd>\n",
       "              <dt>Master</dt>\n",
       "                <dd><code>local[*]</code></dd>\n",
       "              <dt>AppName</dt>\n",
       "                <dd><code>S08</code></dd>\n",
       "            </dl>\n",
       "        </div>\n",
       "        \n",
       "            </div>\n",
       "        "
      ],
      "text/plain": [
       "<pyspark.sql.session.SparkSession at 0x7bdf68d47dd0>"
      ]
     },
     "execution_count": 2,
     "metadata": {},
     "output_type": "execute_result"
    }
   ],
   "source": [
    "spark"
   ]
  },
  {
   "cell_type": "code",
   "execution_count": 43,
   "metadata": {},
   "outputs": [],
   "source": [
    "from pyspark.sql.types import StructType, StructField, StringType, IntegerType\n",
    "\n",
    "#Cambiar estructura\n",
    "schemalocatel = StructType([\n",
    "    StructField(\"d_codigo\", StringType(), True),\n",
    "    StructField(\"d_asenta\", StringType(), True),\n",
    "    StructField(\"d_tipo_asenta\", StringType(), True),\n",
    "    StructField(\"D_mnpio\", StringType(), True),\n",
    "    StructField(\"d_estado\", StringType(), True),\n",
    "    StructField(\"d_ciudad\", StringType(), True),\n",
    "    StructField(\"d_CP\", StringType(), True),\n",
    "    StructField(\"c_estado\", StringType(), True),\n",
    "    StructField(\"c_oficina\", StringType(), True),\n",
    "    StructField(\"c_CP\", StringType(), True),\n",
    "    StructField(\"c_tipo_asenta\", StringType(), True),\n",
    "    StructField(\"c_mnpio\", StringType(), True),\n",
    "    StructField(\"id_asenta_cpcons\", StringType(), True),\n",
    "    StructField(\"d_zona\", StringType(), True),\n",
    "    StructField(\"c_cve_ciudad\", StringType(), True)\n",
    "])\n",
    "schemasepomex = StructType([\n",
    "    StructField(\"id_folio\", StringType(), True),\n",
    "    StructField(\"fecha_solicitud\", StringType(), True),\n",
    "    StructField(\"hora_solicitud\", StringType(), True),\n",
    "    StructField(\"tipo_de_entrada\", StringType(), True),\n",
    "    StructField(\"tema_solicitud\", StringType(), True),\n",
    "    StructField(\"sexo\", StringType(), True),\n",
    "    StructField(\"edad\", StringType(), True),\n",
    "    StructField(\"coloniaSolicitud\", StringType(), True),\n",
    "    StructField(\"alcaldiaSolicitud\", StringType(), True),\n",
    "    StructField(\"CP_solicitud\", StringType(), True),\n",
    "    StructField(\"estatus\", StringType(), True),\n",
    "    StructField(\"fecha_concluido\", StringType(), True),\n",
    "    StructField(\"alcaldia_catalogo\", StringType(), True),\n",
    "    StructField(\"colonia_catalogo\", StringType(), True),\n",
    "    StructField(\"longitud\", StringType(), True),\n",
    "    StructField(\"latitud\", StringType(), True)\n",
    "])\n",
    "\n",
    "sepomex_df = spark.read.option(\"header\",\"true\")\\\n",
    "    .option(\"delimiter\",\",\")\\\n",
    "    .option(\"skipRows\",\"1\")\\\n",
    "    .option(\"encoding\",\"UTF-8\")\\\n",
    "    .schema(schemasepomex)\\\n",
    "    .csv(\"sepomex.csv\")\n",
    "\n",
    "sepomex_df\\\n",
    "    .select(['CP_solicitud','coloniaSolicitud','alcaldiaSolicitud','tema_solicitud','sexo'])\\\n",
    "    .distinct()\\\n",
    "    .createOrReplaceTempView(\"sepomex\")\n",
    "\n",
    "locatel = spark.read.option(\"header\",\"true\")\\\n",
    "    .option(\"delimiter\",\",\")\\\n",
    "    .option(\"skipRows\",\"1\")\\\n",
    "    .option(\"encoding\",\"UTF-8\")\\\n",
    "    .schema(schemalocatel)\\\n",
    "    .csv(\"locatel2024.csv\")\n",
    "\n",
    "locatel\\\n",
    "    .select(['c_CP','D_mnpio','d_ciudad'])\\\n",
    "    .distinct()\\\n",
    "    .createOrReplaceTempView(\"locatel\")"
   ]
  },
  {
   "cell_type": "code",
   "execution_count": 39,
   "metadata": {},
   "outputs": [
    {
     "name": "stdout",
     "output_type": "stream",
     "text": [
      "+---------+---------+-----------+\n",
      "|namespace|tableName|isTemporary|\n",
      "+---------+---------+-----------+\n",
      "|         |  locatel|       true|\n",
      "|         |  sepomex|       true|\n",
      "+---------+---------+-----------+\n",
      "\n"
     ]
    }
   ],
   "source": [
    "spark.sql(\"SHOW TABLES\").show()"
   ]
  },
  {
   "cell_type": "code",
   "execution_count": 44,
   "metadata": {},
   "outputs": [
    {
     "name": "stderr",
     "output_type": "stream",
     "text": [
      "24/11/11 10:36:15 WARN CSVHeaderChecker: CSV header does not conform to the schema.\n",
      " Header: tema_solicitud, sexo, colonia_solicitud, alcaldia_solicitud, codigo_postal_solicitud\n",
      " Schema: tema_solicitud, sexo, coloniaSolicitud, alcaldiaSolicitud, CP_solicitud\n",
      "Expected: coloniaSolicitud but found: colonia_solicitud\n",
      "CSV file: file:///home/atenea/Macrodatos/sepomex.csv\n",
      "24/11/11 10:36:15 WARN CSVHeaderChecker: CSV header does not conform to the schema.\n",
      " Header: tipo_de_entrada, sexo, codigo_postal_solicitud\n",
      " Schema: D_mnpio, d_ciudad, c_CP\n",
      "Expected: D_mnpio but found: tipo_de_entrada\n",
      "CSV file: file:///home/atenea/Macrodatos/locatel2024.csv\n"
     ]
    },
    {
     "name": "stdout",
     "output_type": "stream",
     "text": [
      "+---------------+----------------------------------------+---------------+---+--------+\n",
      "|ciudad         |tema_solicitud                          |sexo           |nr |grupo_id|\n",
      "+---------------+----------------------------------------+---------------+---+--------+\n",
      "|10 DE ABRIL    |FUGA DE AGUA                            |TOTAL_S        |5  |1       |\n",
      "|10 DE ABRIL    |FUGA DE AGUA                            |NO ESPECIFICADO|5  |0       |\n",
      "|10 DE ABRIL    |TOTAL_TS                                |TOTAL_S        |5  |3       |\n",
      "|10 DE ABRIL    |TOTAL_TS                                |NO ESPECIFICADO|5  |2       |\n",
      "|10 DE MAYO     |PODA / RETIRO ARBOL                     |TOTAL_S        |6  |1       |\n",
      "|10 DE MAYO     |PODA / RETIRO ARBOL                     |MASCULINO      |6  |0       |\n",
      "|10 DE MAYO     |TOTAL_TS                                |TOTAL_S        |6  |3       |\n",
      "|10 DE MAYO     |TOTAL_TS                                |MASCULINO      |6  |2       |\n",
      "|12 DE DICIEMBRE|ASESORÍA JURÍDICA                       |NA             |9  |0       |\n",
      "|12 DE DICIEMBRE|ASESORÍA JURÍDICA                       |TOTAL_S        |9  |1       |\n",
      "|12 DE DICIEMBRE|OTRO                                    |FEMENINO       |9  |0       |\n",
      "|12 DE DICIEMBRE|OTRO                                    |TOTAL_S        |18 |1       |\n",
      "|12 DE DICIEMBRE|OTRO                                    |MASCULINO      |9  |0       |\n",
      "|12 DE DICIEMBRE|TOTAL_TS                                |FEMENINO       |9  |2       |\n",
      "|12 DE DICIEMBRE|TOTAL_TS                                |TOTAL_S        |27 |3       |\n",
      "|12 DE DICIEMBRE|TOTAL_TS                                |NA             |9  |2       |\n",
      "|12 DE DICIEMBRE|TOTAL_TS                                |MASCULINO      |9  |2       |\n",
      "|15 DE AGOSTO   |PODA / RETIRO ARBOL                     |FEMENINO       |4  |0       |\n",
      "|15 DE AGOSTO   |PODA / RETIRO ARBOL                     |TOTAL_S        |4  |1       |\n",
      "|15 DE AGOSTO   |TOTAL_TS                                |TOTAL_S        |17 |3       |\n",
      "|15 DE AGOSTO   |TOTAL_TS                                |FEMENINO       |17 |2       |\n",
      "|15 DE AGOSTO   |TRAMITES / INFO VEHICULAR               |FEMENINO       |13 |0       |\n",
      "|15 DE AGOSTO   |TRAMITES / INFO VEHICULAR               |TOTAL_S        |13 |1       |\n",
      "|18             |ALUMBRADO                               |NO ESPECIFICADO|13 |0       |\n",
      "|18             |ALUMBRADO                               |MASCULINO      |13 |0       |\n",
      "|18             |ALUMBRADO                               |TOTAL_S        |39 |1       |\n",
      "|18             |ALUMBRADO                               |FEMENINO       |13 |0       |\n",
      "|18             |FUGA DE AGUA                            |TOTAL_S        |13 |1       |\n",
      "|18             |FUGA DE AGUA                            |FEMENINO       |13 |0       |\n",
      "|18             |MANTENIMIENTO DE COLADERA / ALCANTARILLA|FEMENINO       |13 |0       |\n",
      "|18             |MANTENIMIENTO DE COLADERA / ALCANTARILLA|TOTAL_S        |13 |1       |\n",
      "|18             |MANTENIMIENTO VÍA PÚBLICA               |FEMENINO       |26 |0       |\n",
      "|18             |MANTENIMIENTO VÍA PÚBLICA               |TOTAL_S        |26 |1       |\n",
      "|18             |OTRO                                    |FEMENINO       |13 |0       |\n",
      "|18             |OTRO                                    |TOTAL_S        |13 |1       |\n",
      "|18             |PODA / RETIRO ARBOL                     |FEMENINO       |13 |0       |\n",
      "|18             |PODA / RETIRO ARBOL                     |TOTAL_S        |13 |1       |\n",
      "|18             |QUEJA DE TRANSPORTE PUBLICO             |TOTAL_S        |13 |1       |\n",
      "|18             |QUEJA DE TRANSPORTE PUBLICO             |MASCULINO      |13 |0       |\n",
      "|18             |RETIRO CASCAJO, ESCOMBRO, AZOLVE, RAMAS |FEMENINO       |13 |0       |\n",
      "+---------------+----------------------------------------+---------------+---+--------+\n",
      "only showing top 40 rows\n",
      "\n"
     ]
    }
   ],
   "source": [
    "strsql=\"\"\"\n",
    "    SELECT COALESCE(s.coloniaSolicitud, 'TOTAL_C') AS ciudad,\n",
    "           COALESCE(s.tema_solicitud, 'TOTAL_TS') AS tema_solicitud,\n",
    "           COALESCE(s.sexo, 'TOTAL_S') AS sexo,\n",
    "           COUNT(1) AS nr,\n",
    "           GROUPING_ID(s.coloniaSolicitud, s.tema_solicitud, s.sexo) AS grupo_id\n",
    "    FROM sepomex s\n",
    "    JOIN locatel l ON l.c_CP = s.CP_solicitud\n",
    "    GROUP BY CUBE(s.coloniaSolicitud, s.tema_solicitud, s.sexo)\n",
    "    ORDER BY 1, 2\n",
    "\n",
    "\"\"\"\n",
    "\n",
    "spark.sql(strsql).show(40, truncate=False)"
   ]
  },
  {
   "cell_type": "code",
   "execution_count": 33,
   "metadata": {},
   "outputs": [
    {
     "name": "stderr",
     "output_type": "stream",
     "text": [
      "24/11/11 10:26:00 WARN CSVHeaderChecker: CSV header does not conform to the schema.\n",
      " Header: tipo_de_entrada, sexo, codigo_postal_solicitud\n",
      " Schema: D_mnpio, d_ciudad, c_CP\n",
      "Expected: D_mnpio but found: tipo_de_entrada\n",
      "CSV file: file:///home/atenea/Macrodatos/locatel2024.csv\n",
      "24/11/11 10:26:00 WARN CSVHeaderChecker: CSV header does not conform to the schema.\n",
      " Header: tema_solicitud, sexo, colonia_solicitud, alcaldia_solicitud, codigo_postal_solicitud\n",
      " Schema: tema_solicitud, sexo, coloniaSolicitud, alcaldiaSolicitud, CP_solicitud\n",
      "Expected: coloniaSolicitud but found: colonia_solicitud\n",
      "CSV file: file:///home/atenea/Macrodatos/sepomex.csv\n",
      "                                                                                \r"
     ]
    },
    {
     "name": "stdout",
     "output_type": "stream",
     "text": [
      "+---------------+---------------+---+\n",
      "|ciudad         |tema_solicitud |nr |\n",
      "+---------------+---------------+---+\n",
      "|10 DE ABRIL    |MASCULINO      |1  |\n",
      "|10 DE ABRIL    |MASCULINO      |1  |\n",
      "|10 DE ABRIL    |NO ESPECIFICADO|1  |\n",
      "|10 DE ABRIL    |NO ESPECIFICADO|1  |\n",
      "|10 DE ABRIL    |NO ESPECIFICADO|1  |\n",
      "|10 DE ABRIL    |MASCULINO      |2  |\n",
      "|10 DE ABRIL    |NO ESPECIFICADO|3  |\n",
      "|10 DE ABRIL    |TOTAL_CIUDAD   |1  |\n",
      "|10 DE ABRIL    |TOTAL_CIUDAD   |1  |\n",
      "|10 DE ABRIL    |TOTAL_CIUDAD   |2  |\n",
      "|10 DE ABRIL    |TOTAL_CIUDAD   |1  |\n",
      "|10 DE ABRIL    |TOTAL_CIUDAD   |5  |\n",
      "|10 DE MAYO     |FEMENINO       |1  |\n",
      "|10 DE MAYO     |MASCULINO      |1  |\n",
      "|10 DE MAYO     |MASCULINO      |1  |\n",
      "|10 DE MAYO     |NO ESPECIFICADO|1  |\n",
      "|10 DE MAYO     |NO ESPECIFICADO|1  |\n",
      "|10 DE MAYO     |NO ESPECIFICADO|1  |\n",
      "|10 DE MAYO     |FEMENINO       |1  |\n",
      "|10 DE MAYO     |MASCULINO      |2  |\n",
      "|10 DE MAYO     |NO ESPECIFICADO|3  |\n",
      "|10 DE MAYO     |TOTAL_CIUDAD   |1  |\n",
      "|10 DE MAYO     |TOTAL_CIUDAD   |1  |\n",
      "|10 DE MAYO     |TOTAL_CIUDAD   |1  |\n",
      "|10 DE MAYO     |TOTAL_CIUDAD   |3  |\n",
      "|10 DE MAYO     |TOTAL_CIUDAD   |6  |\n",
      "|12 DE DICIEMBRE|FEMENINO       |3  |\n",
      "|12 DE DICIEMBRE|FEMENINO       |3  |\n",
      "|12 DE DICIEMBRE|FEMENINO       |3  |\n",
      "|12 DE DICIEMBRE|MASCULINO      |3  |\n",
      "|12 DE DICIEMBRE|MASCULINO      |3  |\n",
      "|12 DE DICIEMBRE|MASCULINO      |3  |\n",
      "|12 DE DICIEMBRE|NA             |3  |\n",
      "|12 DE DICIEMBRE|NO ESPECIFICADO|3  |\n",
      "|12 DE DICIEMBRE|NO ESPECIFICADO|3  |\n",
      "|12 DE DICIEMBRE|FEMENINO       |9  |\n",
      "|12 DE DICIEMBRE|MASCULINO      |9  |\n",
      "|12 DE DICIEMBRE|NA             |3  |\n",
      "|12 DE DICIEMBRE|NO ESPECIFICADO|6  |\n",
      "|12 DE DICIEMBRE|TOTAL_CIUDAD   |9  |\n",
      "+---------------+---------------+---+\n",
      "only showing top 40 rows\n",
      "\n"
     ]
    }
   ],
   "source": [
    "strsql=\"\"\"\n",
    "    SELECT ciudad, tema_solicitud, nr\n",
    "    FROM (\n",
    "        SELECT \n",
    "            COALESCE(s.coloniaSolicitud, 'TOTAL_C') AS ciudad,\n",
    "            COALESCE(l.d_ciudad, 'TOTAL_CIUDAD') AS tema_solicitud,  -- Usar d_ciudad en lugar de tema_solicitud\n",
    "            COALESCE(l.D_mnpio, 'TOTAL_MNPIO') AS sexo,               -- Cambié l.c_mnpio por l.D_mnpio\n",
    "            COUNT(*) AS nr,\n",
    "            GROUPING_ID(s.coloniaSolicitud, l.d_ciudad, l.D_mnpio) AS grupo_id    -- Ajusté las columnas para que coincidan\n",
    "        FROM locatel l\n",
    "        JOIN sepomex s ON (l.c_CP = s.CP_solicitud)\n",
    "        GROUP BY CUBE(s.coloniaSolicitud, l.d_ciudad, l.D_mnpio)                -- Usé d_ciudad en lugar de tema_solicitud\n",
    "    ) x\n",
    "    WHERE NOT (ciudad = 'TOTAL_C' AND tema_solicitud != 'TOTAL_CIUDAD')\n",
    "    ORDER BY ciudad, grupo_id, tema_solicitud;\n",
    "\n",
    "\"\"\"\n",
    "\n",
    "spark.sql(strsql).show(40, truncate=False)"
   ]
  },
  {
   "cell_type": "code",
   "execution_count": 48,
   "metadata": {},
   "outputs": [
    {
     "name": "stderr",
     "output_type": "stream",
     "text": [
      "24/11/11 10:46:41 WARN CSVHeaderChecker: CSV header does not conform to the schema.\n",
      " Header: tipo_de_entrada, sexo, codigo_postal_solicitud\n",
      " Schema: D_mnpio, d_ciudad, c_CP\n",
      "Expected: D_mnpio but found: tipo_de_entrada\n",
      "CSV file: file:///home/atenea/Macrodatos/locatel2024.csv\n",
      "24/11/11 10:46:41 WARN CSVHeaderChecker: CSV header does not conform to the schema.\n",
      " Header: tema_solicitud, sexo, colonia_solicitud, alcaldia_solicitud, codigo_postal_solicitud\n",
      " Schema: tema_solicitud, sexo, coloniaSolicitud, alcaldiaSolicitud, CP_solicitud\n",
      "Expected: coloniaSolicitud but found: colonia_solicitud\n",
      "CSV file: file:///home/atenea/Macrodatos/sepomex.csv\n"
     ]
    },
    {
     "name": "stdout",
     "output_type": "stream",
     "text": [
      "+------+--------------+---+\n",
      "|ciudad|tema_solicitud|nr |\n",
      "+------+--------------+---+\n",
      "+------+--------------+---+\n",
      "\n"
     ]
    }
   ],
   "source": [
    "strsql=\"\"\"\n",
    "    SELECT ciudad, tema_solicitud, nr\n",
    "    FROM (\n",
    "        SELECT \n",
    "            COALESCE(s.coloniaSolicitud, 'TOTAL_C') AS ciudad,\n",
    "            COALESCE(s.tema_solicitud, 'TOTAL_TS') AS tema_solicitud,\n",
    "            COALESCE(s.sexo, 'TOTAL_S') AS sexo,\n",
    "            COUNT(*) AS nr,\n",
    "            GROUPING_ID(s.coloniaSolicitud, s.tema_solicitud, s.sexo) AS grupo_id\n",
    "        FROM locatel l\n",
    "        JOIN sepomex s ON (l.c_CP = s.CP_solicitud)\n",
    "        WHERE s.coloniaSolicitud IN ('Acapulco de Juarez', 'Acayucan', 'Actopan')\n",
    "        GROUP BY CUBE(s.coloniaSolicitud, s.tema_solicitud, s.sexo)\n",
    "    ) x\n",
    "    WHERE NOT (ciudad = 'TOTAL_C' AND tema_solicitud != 'TOTAL_TS')\n",
    "    AND NOT (ciudad = 'TOTAL_C' AND sexo != 'TOTAL_S')\n",
    "    ORDER BY ciudad, grupo_id, tema_solicitud;\n",
    "\n",
    "\"\"\"\n",
    "\n",
    "spark.sql(strsql).show(4000, truncate=False)"
   ]
  }
 ],
 "metadata": {
  "kernelspec": {
   "display_name": "venv",
   "language": "python",
   "name": "python3"
  },
  "language_info": {
   "codemirror_mode": {
    "name": "ipython",
    "version": 3
   },
   "file_extension": ".py",
   "mimetype": "text/x-python",
   "name": "python",
   "nbconvert_exporter": "python",
   "pygments_lexer": "ipython3",
   "version": "3.12.3"
  }
 },
 "nbformat": 4,
 "nbformat_minor": 2
}
