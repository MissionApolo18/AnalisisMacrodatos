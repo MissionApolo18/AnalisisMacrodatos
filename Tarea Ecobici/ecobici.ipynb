{
 "cells": [
  {
   "cell_type": "markdown",
   "metadata": {},
   "source": [
    "# Ecobici Datos "
   ]
  },
  {
   "cell_type": "code",
   "execution_count": 18,
   "metadata": {},
   "outputs": [],
   "source": [
    "#Crear la sesión en Spark\n",
    "import pyspark\n",
    "from pyspark.sql import SparkSession\n",
    "spark = SparkSession.builder.appName(\"EcoBiciTarea\").getOrCreate()\n"
   ]
  },
  {
   "cell_type": "code",
   "execution_count": 19,
   "metadata": {},
   "outputs": [
    {
     "name": "stderr",
     "output_type": "stream",
     "text": [
      "                                                                                \r"
     ]
    }
   ],
   "source": [
    "#Crear el df\n",
    "csv_directory = \"/home/atenea/Macrodatos/Tarea Ecobici\"\n",
    "df = spark.read.csv(f\"{csv_directory}/*.csv\", header=True, inferSchema=True)\n"
   ]
  },
  {
   "cell_type": "code",
   "execution_count": 20,
   "metadata": {},
   "outputs": [
    {
     "name": "stdout",
     "output_type": "stream",
     "text": [
      "root\n",
      " |-- Genero_Usuario: string (nullable = true)\n",
      " |-- Edad_Usuario: integer (nullable = true)\n",
      " |-- Bici: integer (nullable = true)\n",
      " |-- Ciclo_Estacion_Retiro: integer (nullable = true)\n",
      " |-- Fecha_Retiro: date (nullable = true)\n",
      " |-- Hora_Retiro: timestamp (nullable = true)\n",
      " |-- Ciclo_Estacion_Arribo: integer (nullable = true)\n",
      " |-- Fecha_Arribo: date (nullable = true)\n",
      " |-- Hora_Arribo: timestamp (nullable = true)\n",
      "\n"
     ]
    }
   ],
   "source": [
    "df.printSchema()"
   ]
  },
  {
   "cell_type": "code",
   "execution_count": 21,
   "metadata": {},
   "outputs": [
    {
     "name": "stdout",
     "output_type": "stream",
     "text": [
      "+--------------+------------+----+---------------------+------------+--------------------+---------------------+------------+--------------------+\n",
      "|Genero_Usuario|Edad_Usuario|Bici|Ciclo_Estacion_Retiro|Fecha_Retiro|         Hora_Retiro|Ciclo_Estacion_Arribo|Fecha_Arribo|         Hora_Arribo|\n",
      "+--------------+------------+----+---------------------+------------+--------------------+---------------------+------------+--------------------+\n",
      "|             M|          28|2401|                  118|  2012-12-01|2024-10-20 00:00:...|                  118|  2012-12-01| 2024-10-20 00:15:00|\n",
      "|             M|          26|1540|                   73|  2012-12-01|2024-10-20 00:00:...|                   63|  2012-12-01|2024-10-20 00:06:...|\n",
      "|             F|          30|2197|                   64|  2012-12-01|2024-10-20 00:00:...|                  167|  2012-12-01| 2024-10-20 00:16:21|\n",
      "|             M|          27|1421|                   63|  2012-12-01|2024-10-20 00:00:...|                   53|  2012-12-01| 2024-10-20 00:10:16|\n",
      "|             M|          31| 842|                   64|  2012-12-01|2024-10-20 00:00:...|                  167|  2012-12-01| 2024-10-20 00:16:27|\n",
      "|             M|          35|2979|                   60|  2012-12-01|2024-10-20 00:01:...|                    7|  2012-12-01| 2024-10-20 00:11:20|\n",
      "|             M|          33|  13|                   31|  2012-12-01|2024-10-20 00:01:...|                   73|  2012-12-01| 2024-10-20 00:14:19|\n",
      "|             M|          44|  34|                   17|  2012-12-01|2024-10-20 00:01:...|                   31|  2012-12-01|2024-10-20 00:06:...|\n",
      "|             F|          35|2960|                   29|  2012-12-01|2024-10-20 00:01:...|                   91|  2012-12-01| 2024-10-20 00:15:25|\n",
      "|             M|          44|2991|                   25|  2012-12-01|2024-10-20 00:02:...|                   21|  2012-12-01| 2024-10-20 00:09:22|\n",
      "+--------------+------------+----+---------------------+------------+--------------------+---------------------+------------+--------------------+\n",
      "only showing top 10 rows\n",
      "\n"
     ]
    }
   ],
   "source": [
    "df.show(10)"
   ]
  },
  {
   "cell_type": "markdown",
   "metadata": {},
   "source": [
    "## Añadir columnas para Fecha y Hora de retiro"
   ]
  },
  {
   "cell_type": "code",
   "execution_count": 22,
   "metadata": {},
   "outputs": [
    {
     "name": "stdout",
     "output_type": "stream",
     "text": [
      "+--------------+------------+----+---------------------+------------+--------------------+---------------------+------------+--------------------+-------------------+-----------+----------+----------+-------------+--------------+\n",
      "|Genero_Usuario|Edad_Usuario|Bici|Ciclo_Estacion_Retiro|Fecha_Retiro|         Hora_Retiro|Ciclo_Estacion_Arribo|Fecha_Arribo|         Hora_Arribo|  fecha_hora_retiro|anio_retiro|mes_retiro|dia_retiro|minuto_retiro|segundo_retiro|\n",
      "+--------------+------------+----+---------------------+------------+--------------------+---------------------+------------+--------------------+-------------------+-----------+----------+----------+-------------+--------------+\n",
      "|             M|          28|2401|                  118|  2012-12-01|2024-10-20 00:00:...|                  118|  2012-12-01| 2024-10-20 00:15:00|2012-12-01 00:00:14|       2012|        12|         1|            0|            14|\n",
      "|             M|          26|1540|                   73|  2012-12-01|2024-10-20 00:00:...|                   63|  2012-12-01|2024-10-20 00:06:...|2012-12-01 00:00:20|       2012|        12|         1|            0|            20|\n",
      "|             F|          30|2197|                   64|  2012-12-01|2024-10-20 00:00:...|                  167|  2012-12-01| 2024-10-20 00:16:21|2012-12-01 00:00:34|       2012|        12|         1|            0|            34|\n",
      "|             M|          27|1421|                   63|  2012-12-01|2024-10-20 00:00:...|                   53|  2012-12-01| 2024-10-20 00:10:16|2012-12-01 00:00:38|       2012|        12|         1|            0|            38|\n",
      "|             M|          31| 842|                   64|  2012-12-01|2024-10-20 00:00:...|                  167|  2012-12-01| 2024-10-20 00:16:27|2012-12-01 00:00:45|       2012|        12|         1|            0|            45|\n",
      "|             M|          35|2979|                   60|  2012-12-01|2024-10-20 00:01:...|                    7|  2012-12-01| 2024-10-20 00:11:20|2012-12-01 00:01:21|       2012|        12|         1|            1|            21|\n",
      "|             M|          33|  13|                   31|  2012-12-01|2024-10-20 00:01:...|                   73|  2012-12-01| 2024-10-20 00:14:19|2012-12-01 00:01:45|       2012|        12|         1|            1|            45|\n",
      "|             M|          44|  34|                   17|  2012-12-01|2024-10-20 00:01:...|                   31|  2012-12-01|2024-10-20 00:06:...|2012-12-01 00:01:50|       2012|        12|         1|            1|            50|\n",
      "|             F|          35|2960|                   29|  2012-12-01|2024-10-20 00:01:...|                   91|  2012-12-01| 2024-10-20 00:15:25|2012-12-01 00:01:50|       2012|        12|         1|            1|            50|\n",
      "|             M|          44|2991|                   25|  2012-12-01|2024-10-20 00:02:...|                   21|  2012-12-01| 2024-10-20 00:09:22|2012-12-01 00:02:39|       2012|        12|         1|            2|            39|\n",
      "+--------------+------------+----+---------------------+------------+--------------------+---------------------+------------+--------------------+-------------------+-----------+----------+----------+-------------+--------------+\n",
      "only showing top 10 rows\n",
      "\n"
     ]
    }
   ],
   "source": [
    "from pyspark.sql import functions as F\n",
    "# Combinar Fecha y Hora de Retiro\n",
    "df_Ret = df.withColumn(\"fecha_hora_retiro\", F.concat_ws(\" \", \"Fecha_Retiro\", F.date_format(\"Hora_Retiro\", \"HH:mm:ss\"))) \\\n",
    "            .withColumn(\"fecha_hora_retiro\", F.to_timestamp(\"fecha_hora_retiro\"))\n",
    "\n",
    "# Extraer año, mes, día, minuto y segundo\n",
    "df_Ret = df_Ret.withColumn(\"anio_retiro\", F.year(\"fecha_hora_retiro\")) \\\n",
    "                .withColumn(\"mes_retiro\", F.month(\"fecha_hora_retiro\")) \\\n",
    "                .withColumn(\"dia_retiro\", F.dayofmonth(\"fecha_hora_retiro\")) \\\n",
    "                .withColumn(\"minuto_retiro\", F.minute(\"fecha_hora_retiro\")) \\\n",
    "                .withColumn(\"segundo_retiro\", F.second(\"fecha_hora_retiro\"))\n",
    "\n",
    "df_Ret.show(10)"
   ]
  },
  {
   "cell_type": "code",
   "execution_count": 23,
   "metadata": {},
   "outputs": [
    {
     "name": "stdout",
     "output_type": "stream",
     "text": [
      "root\n",
      " |-- Genero_Usuario: string (nullable = true)\n",
      " |-- Edad_Usuario: integer (nullable = true)\n",
      " |-- Bici: integer (nullable = true)\n",
      " |-- Ciclo_Estacion_Retiro: integer (nullable = true)\n",
      " |-- Fecha_Retiro: date (nullable = true)\n",
      " |-- Hora_Retiro: timestamp (nullable = true)\n",
      " |-- Ciclo_Estacion_Arribo: integer (nullable = true)\n",
      " |-- Fecha_Arribo: date (nullable = true)\n",
      " |-- Hora_Arribo: timestamp (nullable = true)\n",
      " |-- fecha_hora_retiro: timestamp (nullable = true)\n",
      " |-- anio_retiro: integer (nullable = true)\n",
      " |-- mes_retiro: integer (nullable = true)\n",
      " |-- dia_retiro: integer (nullable = true)\n",
      " |-- minuto_retiro: integer (nullable = true)\n",
      " |-- segundo_retiro: integer (nullable = true)\n",
      "\n"
     ]
    }
   ],
   "source": [
    "df_Ret.printSchema()"
   ]
  },
  {
   "cell_type": "markdown",
   "metadata": {},
   "source": [
    "## Añadir columnas para Fecha y Hora de arribo"
   ]
  },
  {
   "cell_type": "code",
   "execution_count": 24,
   "metadata": {},
   "outputs": [
    {
     "name": "stdout",
     "output_type": "stream",
     "text": [
      "+--------------+------------+----+---------------------+------------+--------------------+---------------------+------------+--------------------+-------------------+-----------+----------+----------+-------------+--------------+\n",
      "|Genero_Usuario|Edad_Usuario|Bici|Ciclo_Estacion_Retiro|Fecha_Retiro|         Hora_Retiro|Ciclo_Estacion_Arribo|Fecha_Arribo|         Hora_Arribo|  fecha_hora_arribo|anio_arribo|mes_arribo|dia_arribo|minuto_arribo|segundo_arribo|\n",
      "+--------------+------------+----+---------------------+------------+--------------------+---------------------+------------+--------------------+-------------------+-----------+----------+----------+-------------+--------------+\n",
      "|             M|          28|2401|                  118|  2012-12-01|2024-10-20 00:00:...|                  118|  2012-12-01| 2024-10-20 00:15:00|2012-12-01 00:15:00|       2012|        12|         1|           15|             0|\n",
      "|             M|          26|1540|                   73|  2012-12-01|2024-10-20 00:00:...|                   63|  2012-12-01|2024-10-20 00:06:...|2012-12-01 00:06:46|       2012|        12|         1|            6|            46|\n",
      "|             F|          30|2197|                   64|  2012-12-01|2024-10-20 00:00:...|                  167|  2012-12-01| 2024-10-20 00:16:21|2012-12-01 00:16:21|       2012|        12|         1|           16|            21|\n",
      "|             M|          27|1421|                   63|  2012-12-01|2024-10-20 00:00:...|                   53|  2012-12-01| 2024-10-20 00:10:16|2012-12-01 00:10:16|       2012|        12|         1|           10|            16|\n",
      "|             M|          31| 842|                   64|  2012-12-01|2024-10-20 00:00:...|                  167|  2012-12-01| 2024-10-20 00:16:27|2012-12-01 00:16:27|       2012|        12|         1|           16|            27|\n",
      "|             M|          35|2979|                   60|  2012-12-01|2024-10-20 00:01:...|                    7|  2012-12-01| 2024-10-20 00:11:20|2012-12-01 00:11:20|       2012|        12|         1|           11|            20|\n",
      "|             M|          33|  13|                   31|  2012-12-01|2024-10-20 00:01:...|                   73|  2012-12-01| 2024-10-20 00:14:19|2012-12-01 00:14:19|       2012|        12|         1|           14|            19|\n",
      "|             M|          44|  34|                   17|  2012-12-01|2024-10-20 00:01:...|                   31|  2012-12-01|2024-10-20 00:06:...|2012-12-01 00:06:19|       2012|        12|         1|            6|            19|\n",
      "|             F|          35|2960|                   29|  2012-12-01|2024-10-20 00:01:...|                   91|  2012-12-01| 2024-10-20 00:15:25|2012-12-01 00:15:25|       2012|        12|         1|           15|            25|\n",
      "|             M|          44|2991|                   25|  2012-12-01|2024-10-20 00:02:...|                   21|  2012-12-01| 2024-10-20 00:09:22|2012-12-01 00:09:22|       2012|        12|         1|            9|            22|\n",
      "+--------------+------------+----+---------------------+------------+--------------------+---------------------+------------+--------------------+-------------------+-----------+----------+----------+-------------+--------------+\n",
      "only showing top 10 rows\n",
      "\n"
     ]
    }
   ],
   "source": [
    "from pyspark.sql import functions as F\n",
    "\n",
    "# Crear la columna fecha_hora_arribo\n",
    "df_Arr = df.withColumn(\"fecha_hora_arribo\", F.concat_ws(\" \", \"Fecha_Arribo\", F.date_format(\"Hora_Arribo\", \"HH:mm:ss\"))) \\\n",
    "           .withColumn(\"fecha_hora_arribo\", F.to_timestamp(\"fecha_hora_arribo\"))\n",
    "\n",
    "# Extraer año, mes, día, minuto y segundo para fecha_hora_arribo\n",
    "df_Arr = df_Arr.withColumn(\"anio_arribo\", F.year(\"fecha_hora_arribo\")) \\\n",
    "               .withColumn(\"mes_arribo\", F.month(\"fecha_hora_arribo\")) \\\n",
    "               .withColumn(\"dia_arribo\", F.dayofmonth(\"fecha_hora_arribo\")) \\\n",
    "               .withColumn(\"minuto_arribo\", F.minute(\"fecha_hora_arribo\")) \\\n",
    "               .withColumn(\"segundo_arribo\", F.second(\"fecha_hora_arribo\"))\n",
    "\n",
    "# Mostrar el DataFrame resultante\n",
    "df_Arr.show(10)\n"
   ]
  },
  {
   "cell_type": "code",
   "execution_count": 25,
   "metadata": {},
   "outputs": [
    {
     "name": "stdout",
     "output_type": "stream",
     "text": [
      "root\n",
      " |-- Genero_Usuario: string (nullable = true)\n",
      " |-- Edad_Usuario: integer (nullable = true)\n",
      " |-- Bici: integer (nullable = true)\n",
      " |-- Ciclo_Estacion_Retiro: integer (nullable = true)\n",
      " |-- Fecha_Retiro: date (nullable = true)\n",
      " |-- Hora_Retiro: timestamp (nullable = true)\n",
      " |-- Ciclo_Estacion_Arribo: integer (nullable = true)\n",
      " |-- Fecha_Arribo: date (nullable = true)\n",
      " |-- Hora_Arribo: timestamp (nullable = true)\n",
      " |-- fecha_hora_arribo: timestamp (nullable = true)\n",
      " |-- anio_arribo: integer (nullable = true)\n",
      " |-- mes_arribo: integer (nullable = true)\n",
      " |-- dia_arribo: integer (nullable = true)\n",
      " |-- minuto_arribo: integer (nullable = true)\n",
      " |-- segundo_arribo: integer (nullable = true)\n",
      "\n"
     ]
    }
   ],
   "source": [
    "df_Arr.printSchema()"
   ]
  },
  {
   "cell_type": "markdown",
   "metadata": {},
   "source": [
    "### Muestra de sólo las columnas que se acaban de añadir"
   ]
  },
  {
   "cell_type": "code",
   "execution_count": 26,
   "metadata": {},
   "outputs": [
    {
     "name": "stderr",
     "output_type": "stream",
     "text": [
      "[Stage 21:===============================================>        (11 + 2) / 13]\r"
     ]
    },
    {
     "name": "stdout",
     "output_type": "stream",
     "text": [
      "+-------------------+-----------+----------+----------+-------------+--------------+-------------------+-----------+----------+----------+-------------+--------------+\n",
      "|  fecha_hora_arribo|anio_arribo|mes_arribo|dia_arribo|minuto_arribo|segundo_arribo|  fecha_hora_retiro|anio_retiro|mes_retiro|dia_retiro|minuto_retiro|segundo_retiro|\n",
      "+-------------------+-----------+----------+----------+-------------+--------------+-------------------+-----------+----------+----------+-------------+--------------+\n",
      "|2012-12-01 13:58:40|       2012|        12|         1|           58|            40|2012-12-01 13:43:43|       2012|        12|         1|           43|            43|\n",
      "|2012-12-01 13:58:40|       2012|        12|         1|           58|            40|2012-12-02 07:33:39|       2012|        12|         2|           33|            39|\n",
      "|2012-12-01 13:58:40|       2012|        12|         1|           58|            40|2012-12-03 08:50:18|       2012|        12|         3|           50|            18|\n",
      "|2012-12-01 13:58:40|       2012|        12|         1|           58|            40|2012-12-03 17:54:58|       2012|        12|         3|           54|            58|\n",
      "|2012-12-01 13:58:40|       2012|        12|         1|           58|            40|2012-12-03 20:28:45|       2012|        12|         3|           28|            45|\n",
      "|2012-12-01 13:58:40|       2012|        12|         1|           58|            40|2012-12-04 08:06:59|       2012|        12|         4|            6|            59|\n",
      "|2012-12-01 13:58:40|       2012|        12|         1|           58|            40|2012-12-04 08:12:07|       2012|        12|         4|           12|             7|\n",
      "|2012-12-01 13:58:40|       2012|        12|         1|           58|            40|2012-12-04 08:57:15|       2012|        12|         4|           57|            15|\n",
      "|2012-12-01 13:58:40|       2012|        12|         1|           58|            40|2012-12-04 14:48:45|       2012|        12|         4|           48|            45|\n",
      "|2012-12-01 13:58:40|       2012|        12|         1|           58|            40|2012-12-04 18:32:10|       2012|        12|         4|           32|            10|\n",
      "|2012-12-01 13:58:40|       2012|        12|         1|           58|            40|2012-12-05 06:13:05|       2012|        12|         5|           13|             5|\n",
      "|2012-12-01 13:58:40|       2012|        12|         1|           58|            40|2012-12-05 08:10:12|       2012|        12|         5|           10|            12|\n",
      "|2012-12-01 13:58:40|       2012|        12|         1|           58|            40|2012-12-05 09:18:50|       2012|        12|         5|           18|            50|\n",
      "|2012-12-01 13:58:40|       2012|        12|         1|           58|            40|2012-12-05 11:01:26|       2012|        12|         5|            1|            26|\n",
      "|2012-12-01 13:58:40|       2012|        12|         1|           58|            40|2012-12-05 13:16:59|       2012|        12|         5|           16|            59|\n",
      "|2012-12-01 13:58:40|       2012|        12|         1|           58|            40|2012-12-05 15:02:44|       2012|        12|         5|            2|            44|\n",
      "|2012-12-01 13:58:40|       2012|        12|         1|           58|            40|2012-12-05 18:19:43|       2012|        12|         5|           19|            43|\n",
      "|2012-12-01 13:58:40|       2012|        12|         1|           58|            40|2012-12-05 18:26:46|       2012|        12|         5|           26|            46|\n",
      "|2012-12-01 13:58:40|       2012|        12|         1|           58|            40|2012-12-06 07:51:14|       2012|        12|         6|           51|            14|\n",
      "|2012-12-01 13:58:40|       2012|        12|         1|           58|            40|2012-12-06 08:57:22|       2012|        12|         6|           57|            22|\n",
      "+-------------------+-----------+----------+----------+-------------+--------------+-------------------+-----------+----------+----------+-------------+--------------+\n",
      "only showing top 20 rows\n",
      "\n"
     ]
    },
    {
     "name": "stderr",
     "output_type": "stream",
     "text": [
      "                                                                                \r"
     ]
    }
   ],
   "source": [
    "# Seleccionar las columnas de arribo y retiro\n",
    "df_combinado = df_Arr.join(\n",
    "    df_Ret,\n",
    "    on=\"Bici\",  \n",
    "    how=\"inner\"  \n",
    ").select(\n",
    "    \"fecha_hora_arribo\",\n",
    "    \"anio_arribo\",\n",
    "    \"mes_arribo\",\n",
    "    \"dia_arribo\",\n",
    "    \"minuto_arribo\",\n",
    "    \"segundo_arribo\",\n",
    "    \"fecha_hora_retiro\",\n",
    "    \"anio_retiro\",\n",
    "    \"mes_retiro\",\n",
    "    \"dia_retiro\",\n",
    "    \"minuto_retiro\",\n",
    "    \"segundo_retiro\"\n",
    ")\n",
    "\n",
    "# Mostrar el DataFrame combinado\n",
    "df_combinado.show()\n"
   ]
  },
  {
   "cell_type": "markdown",
   "metadata": {},
   "source": [
    "## Crear tablas temporales"
   ]
  },
  {
   "cell_type": "code",
   "execution_count": 27,
   "metadata": {},
   "outputs": [
    {
     "name": "stdout",
     "output_type": "stream",
     "text": [
      "root\n",
      " |-- Genero_Usuario: string (nullable = true)\n",
      " |-- Edad_Usuario: integer (nullable = true)\n",
      " |-- Bici: integer (nullable = true)\n",
      " |-- Ciclo_Estacion_Retiro: integer (nullable = true)\n",
      " |-- fecha_hora_arribo: timestamp (nullable = true)\n",
      " |-- anio_arribo: integer (nullable = true)\n",
      " |-- mes_arribo: integer (nullable = true)\n",
      " |-- dia_arribo: integer (nullable = true)\n",
      " |-- minuto_arribo: integer (nullable = true)\n",
      " |-- segundo_arribo: integer (nullable = true)\n",
      " |-- fecha_hora_retiro: timestamp (nullable = true)\n",
      " |-- anio_retiro: integer (nullable = true)\n",
      " |-- mes_retiro: integer (nullable = true)\n",
      " |-- dia_retiro: integer (nullable = true)\n",
      " |-- minuto_retiro: integer (nullable = true)\n",
      " |-- segundo_retiro: integer (nullable = true)\n",
      "\n"
     ]
    }
   ],
   "source": [
    "df_combinado = df_combinado.select(\n",
    "    \"fecha_hora_arribo\",\n",
    "    \"anio_arribo\",\n",
    "    \"mes_arribo\",\n",
    "    \"dia_arribo\",\n",
    "    \"minuto_arribo\",\n",
    "    \"segundo_arribo\",\n",
    "    \"fecha_hora_retiro\",\n",
    "    \"anio_retiro\",\n",
    "    \"mes_retiro\",\n",
    "    \"dia_retiro\",\n",
    "    \"minuto_retiro\",\n",
    "    \"segundo_retiro\"\n",
    ")\n",
    "df_temp = df.select(\n",
    "    \"Genero_Usuario\",\n",
    "    \"Edad_Usuario\",\n",
    "    \"Bici\",\n",
    "    \"Ciclo_Estacion_Retiro\"\n",
    ")\n",
    "df_temp = df_temp.join(df_combinado)\n",
    "\n",
    "df_temp.printSchema()"
   ]
  },
  {
   "cell_type": "code",
   "execution_count": 28,
   "metadata": {},
   "outputs": [],
   "source": [
    "df_temp.createOrReplaceTempView(\"Ecobicitemporal\")"
   ]
  },
  {
   "cell_type": "markdown",
   "metadata": {},
   "source": [
    "## Gráficas de viajes"
   ]
  },
  {
   "cell_type": "markdown",
   "metadata": {},
   "source": [
    "### Grafica de viajes durante el mes de enero"
   ]
  },
  {
   "cell_type": "code",
   "execution_count": 29,
   "metadata": {},
   "outputs": [
    {
     "name": "stdout",
     "output_type": "stream",
     "text": [
      "3.5.3\n"
     ]
    }
   ],
   "source": [
    "import pyspark\n",
    "print(pyspark.__version__)"
   ]
  },
  {
   "cell_type": "code",
   "execution_count": 30,
   "metadata": {},
   "outputs": [
    {
     "name": "stderr",
     "output_type": "stream",
     "text": [
      "[Stage 26:===================================================>    (12 + 1) / 13]\r"
     ]
    },
    {
     "name": "stdout",
     "output_type": "stream",
     "text": [
      "+--------------+------------+----+---------------------+-------------------+-----------+----------+----------+-------------+--------------+-------------------+-----------+----------+----------+-------------+--------------+\n",
      "|Genero_Usuario|Edad_Usuario|Bici|Ciclo_Estacion_Retiro|fecha_hora_arribo  |anio_arribo|mes_arribo|dia_arribo|minuto_arribo|segundo_arribo|fecha_hora_retiro  |anio_retiro|mes_retiro|dia_retiro|minuto_retiro|segundo_retiro|\n",
      "+--------------+------------+----+---------------------+-------------------+-----------+----------+----------+-------------+--------------+-------------------+-----------+----------+----------+-------------+--------------+\n",
      "|M             |28          |2401|118                  |2012-12-01 13:58:40|2012       |12        |1         |58           |40            |2012-12-01 13:43:43|2012       |12        |1         |43           |43            |\n",
      "|M             |28          |2401|118                  |2012-12-01 13:58:40|2012       |12        |1         |58           |40            |2012-12-02 07:33:39|2012       |12        |2         |33           |39            |\n",
      "|M             |28          |2401|118                  |2012-12-01 13:58:40|2012       |12        |1         |58           |40            |2012-12-03 08:50:18|2012       |12        |3         |50           |18            |\n",
      "|M             |28          |2401|118                  |2012-12-01 13:58:40|2012       |12        |1         |58           |40            |2012-12-03 17:54:58|2012       |12        |3         |54           |58            |\n",
      "|M             |28          |2401|118                  |2012-12-01 13:58:40|2012       |12        |1         |58           |40            |2012-12-03 20:28:45|2012       |12        |3         |28           |45            |\n",
      "+--------------+------------+----+---------------------+-------------------+-----------+----------+----------+-------------+--------------+-------------------+-----------+----------+----------+-------------+--------------+\n",
      "only showing top 5 rows\n",
      "\n"
     ]
    },
    {
     "name": "stderr",
     "output_type": "stream",
     "text": [
      "                                                                                \r"
     ]
    }
   ],
   "source": [
    "df_temp.show(5, truncate=False)"
   ]
  },
  {
   "cell_type": "code",
   "execution_count": 31,
   "metadata": {},
   "outputs": [
    {
     "name": "stdout",
     "output_type": "stream",
     "text": [
      "root\n",
      " |-- Genero_Usuario: string (nullable = true)\n",
      " |-- Edad_Usuario: integer (nullable = true)\n",
      " |-- Bici: integer (nullable = true)\n",
      " |-- Ciclo_Estacion_Retiro: integer (nullable = true)\n",
      " |-- fecha_hora_arribo: timestamp (nullable = true)\n",
      " |-- anio_arribo: integer (nullable = true)\n",
      " |-- mes_arribo: integer (nullable = true)\n",
      " |-- dia_arribo: integer (nullable = true)\n",
      " |-- minuto_arribo: integer (nullable = true)\n",
      " |-- segundo_arribo: integer (nullable = true)\n",
      " |-- fecha_hora_retiro: timestamp (nullable = true)\n",
      " |-- anio_retiro: integer (nullable = true)\n",
      " |-- mes_retiro: integer (nullable = true)\n",
      " |-- dia_retiro: integer (nullable = true)\n",
      " |-- minuto_retiro: integer (nullable = true)\n",
      " |-- segundo_retiro: integer (nullable = true)\n",
      "\n"
     ]
    }
   ],
   "source": [
    "# Filtrar los datos solo para el mes de enero\n",
    "# Acceso correcto a la columna\n",
    "df_enero = df_temp.filter(df_temp['mes_retiro'] == 1)\n",
    "\n",
    "# Contar los viajes por día de retiro\n",
    "viajes_enero = df_enero.groupBy('fecha_hora_retiro').count().orderBy('fecha_hora_retiro')\n",
    "\n",
    "df_enero.printSchema()\n",
    "\n"
   ]
  },
  {
   "cell_type": "code",
   "execution_count": 32,
   "metadata": {},
   "outputs": [
    {
     "name": "stderr",
     "output_type": "stream",
     "text": [
      "24/10/20 12:51:09 WARN RowBasedKeyValueBatch: Calling spill() on RowBasedKeyValueBatch. Will not spill but return 0.\n",
      "24/10/20 12:51:10 WARN RowBasedKeyValueBatch: Calling spill() on RowBasedKeyValueBatch. Will not spill but return 0.\n",
      "24/10/20 12:51:11 WARN RowBasedKeyValueBatch: Calling spill() on RowBasedKeyValueBatch. Will not spill but return 0.\n",
      "24/10/20 12:51:13 WARN RowBasedKeyValueBatch: Calling spill() on RowBasedKeyValueBatch. Will not spill but return 0.\n",
      "24/10/20 12:51:14 WARN RowBasedKeyValueBatch: Calling spill() on RowBasedKeyValueBatch. Will not spill but return 0.\n",
      "24/10/20 12:51:16 WARN RowBasedKeyValueBatch: Calling spill() on RowBasedKeyValueBatch. Will not spill but return 0.\n",
      "24/10/20 12:51:17 WARN RowBasedKeyValueBatch: Calling spill() on RowBasedKeyValueBatch. Will not spill but return 0.\n"
     ]
    },
    {
     "name": "stdout",
     "output_type": "stream",
     "text": [
      "[1064.765s][warning][gc,alloc] Executor task launch worker for task 9.0 in stage 35.0 (TID 190): Retried waiting for GCLocker too often allocating 4194306 words\n",
      "[1064.794s][warning][gc,alloc] Executor task launch worker for task 7.0 in stage 35.0 (TID 188): Retried waiting for GCLocker too often allocating 4194306 words\n"
     ]
    },
    {
     "name": "stderr",
     "output_type": "stream",
     "text": [
      "24/10/20 12:51:18 WARN TaskMemoryManager: Failed to allocate a page (33554432 bytes), try again.\n",
      "24/10/20 12:51:18 WARN TaskMemoryManager: Failed to allocate a page (33554432 bytes), try again.\n",
      "24/10/20 12:51:18 WARN TaskMemoryManager: Failed to allocate a page (33554432 bytes), try again.\n",
      "24/10/20 12:51:18 WARN TaskMemoryManager: Failed to allocate a page (33554432 bytes), try again.\n",
      "24/10/20 12:51:18 WARN TaskMemoryManager: Failed to allocate a page (33554432 bytes), try again.\n",
      "24/10/20 12:51:19 WARN TaskMemoryManager: Failed to allocate a page (33554432 bytes), try again.\n",
      "24/10/20 12:51:19 WARN TaskMemoryManager: Failed to allocate a page (33554432 bytes), try again.\n",
      "24/10/20 12:51:19 WARN TaskMemoryManager: Failed to allocate a page (33554432 bytes), try again.\n",
      "24/10/20 12:51:19 WARN TaskMemoryManager: Failed to allocate a page (33554432 bytes), try again.\n",
      "24/10/20 12:51:19 WARN RowBasedKeyValueBatch: Calling spill() on RowBasedKeyValueBatch. Will not spill but return 0.\n",
      "24/10/20 12:51:19 WARN RowBasedKeyValueBatch: Failed to allocate page (2097136 bytes).\n"
     ]
    },
    {
     "name": "stdout",
     "output_type": "stream",
     "text": [
      "[1066.918s][warning][gc,alloc] Executor task launch worker for task 0.0 in stage 35.0 (TID 181): Retried waiting for GCLocker too often allocating 131074 words\n"
     ]
    },
    {
     "name": "stderr",
     "output_type": "stream",
     "text": [
      "24/10/20 12:51:21 WARN RowBasedKeyValueBatch: Failed to allocate page (2097136 bytes).\n",
      "24/10/20 12:51:21 ERROR Executor: Exception in task 1.0 in stage 35.0 (TID 182)\n",
      "java.lang.OutOfMemoryError: Java heap space\n",
      "24/10/20 12:51:21 ERROR Executor: Exception in task 0.0 in stage 35.0 (TID 181)\n",
      "java.lang.OutOfMemoryError: Java heap space\n",
      "24/10/20 12:51:21 ERROR Executor: Exception in task 10.0 in stage 35.0 (TID 191)\n",
      "java.lang.OutOfMemoryError: Java heap space\n",
      "24/10/20 12:51:21 ERROR Executor: Exception in task 2.0 in stage 35.0 (TID 183)\n",
      "java.lang.OutOfMemoryError: Java heap space\n",
      "24/10/20 12:51:21 ERROR Executor: Exception in task 9.0 in stage 35.0 (TID 190)\n",
      "java.lang.OutOfMemoryError: Java heap space\n",
      "24/10/20 12:51:21 WARN TaskMemoryManager: Failed to allocate a page (8388608 bytes), try again.\n",
      "24/10/20 12:51:21 ERROR SparkUncaughtExceptionHandler: Uncaught exception in thread Thread[Executor task launch worker for task 0.0 in stage 35.0 (TID 181),5,main]\n",
      "java.lang.OutOfMemoryError: Java heap space\n",
      "24/10/20 12:51:21 ERROR SparkUncaughtExceptionHandler: Uncaught exception in thread Thread[Executor task launch worker for task 10.0 in stage 35.0 (TID 191),5,main]\n",
      "java.lang.OutOfMemoryError: Java heap space\n",
      "24/10/20 12:51:21 ERROR SparkUncaughtExceptionHandler: [Container in shutdown] Uncaught exception in thread Thread[Executor task launch worker for task 2.0 in stage 35.0 (TID 183),5,main]\n",
      "java.lang.OutOfMemoryError: Java heap space\n",
      "24/10/20 12:51:21 ERROR SparkUncaughtExceptionHandler: Uncaught exception in thread Thread[Executor task launch worker for task 9.0 in stage 35.0 (TID 190),5,main]\n",
      "java.lang.OutOfMemoryError: Java heap space\n",
      "24/10/20 12:51:21 ERROR SparkUncaughtExceptionHandler: Uncaught exception in thread Thread[Executor task launch worker for task 1.0 in stage 35.0 (TID 182),5,main]\n",
      "java.lang.OutOfMemoryError: Java heap space\n",
      "24/10/20 12:51:21 WARN TaskMemoryManager: Failed to allocate a page (8388608 bytes), try again.\n",
      "24/10/20 12:51:21 WARN TaskMemoryManager: Failed to allocate a page (8388608 bytes), try again.\n",
      "24/10/20 12:51:21 ERROR Executor: Exception in task 7.0 in stage 35.0 (TID 188)\n",
      "java.lang.OutOfMemoryError: Java heap space\n",
      "24/10/20 12:51:21 ERROR SparkUncaughtExceptionHandler: [Container in shutdown] Uncaught exception in thread Thread[Executor task launch worker for task 7.0 in stage 35.0 (TID 188),5,main]\n",
      "java.lang.OutOfMemoryError: Java heap space\n",
      "24/10/20 12:51:21 WARN TaskSetManager: Lost task 10.0 in stage 35.0 (TID 191) (192.168.100.17 executor driver): java.lang.OutOfMemoryError: Java heap space\n",
      "\n",
      "24/10/20 12:51:21 ERROR TaskSetManager: Task 10 in stage 35.0 failed 1 times; aborting job\n",
      "24/10/20 12:51:21 ERROR Inbox: Ignoring error\n",
      "java.util.concurrent.RejectedExecutionException: Task org.apache.spark.executor.Executor$TaskRunner@73b9fb16 rejected from java.util.concurrent.ThreadPoolExecutor@6cade9d8[Shutting down, pool size = 8, active threads = 8, queued tasks = 0, completed tasks = 185]\n",
      "\tat java.base/java.util.concurrent.ThreadPoolExecutor$AbortPolicy.rejectedExecution(ThreadPoolExecutor.java:2055)\n",
      "\tat java.base/java.util.concurrent.ThreadPoolExecutor.reject(ThreadPoolExecutor.java:825)\n",
      "\tat java.base/java.util.concurrent.ThreadPoolExecutor.execute(ThreadPoolExecutor.java:1355)\n",
      "\tat org.apache.spark.executor.Executor.launchTask(Executor.scala:363)\n",
      "\tat org.apache.spark.scheduler.local.LocalEndpoint.$anonfun$reviveOffers$1(LocalSchedulerBackend.scala:93)\n",
      "\tat org.apache.spark.scheduler.local.LocalEndpoint.$anonfun$reviveOffers$1$adapted(LocalSchedulerBackend.scala:91)\n",
      "\tat scala.collection.Iterator.foreach(Iterator.scala:943)\n",
      "\tat scala.collection.Iterator.foreach$(Iterator.scala:943)\n",
      "\tat scala.collection.AbstractIterator.foreach(Iterator.scala:1431)\n",
      "\tat scala.collection.IterableLike.foreach(IterableLike.scala:74)\n",
      "\tat scala.collection.IterableLike.foreach$(IterableLike.scala:73)\n",
      "\tat scala.collection.AbstractIterable.foreach(Iterable.scala:56)\n",
      "\tat org.apache.spark.scheduler.local.LocalEndpoint.reviveOffers(LocalSchedulerBackend.scala:91)\n",
      "\tat org.apache.spark.scheduler.local.LocalEndpoint$$anonfun$receive$1.applyOrElse(LocalSchedulerBackend.scala:74)\n",
      "\tat org.apache.spark.rpc.netty.Inbox.$anonfun$process$1(Inbox.scala:115)\n",
      "\tat org.apache.spark.rpc.netty.Inbox.safelyCall(Inbox.scala:213)\n",
      "\tat org.apache.spark.rpc.netty.Inbox.process(Inbox.scala:100)\n",
      "\tat org.apache.spark.rpc.netty.MessageLoop.org$apache$spark$rpc$netty$MessageLoop$$receiveLoop(MessageLoop.scala:75)\n",
      "\tat org.apache.spark.rpc.netty.MessageLoop$$anon$1.run(MessageLoop.scala:41)\n",
      "\tat java.base/java.util.concurrent.ThreadPoolExecutor.runWorker(ThreadPoolExecutor.java:1128)\n",
      "\tat java.base/java.util.concurrent.ThreadPoolExecutor$Worker.run(ThreadPoolExecutor.java:628)\n",
      "\tat java.base/java.lang.Thread.run(Thread.java:829)\n",
      "24/10/20 12:51:21 WARN TaskSetManager: Lost task 8.0 in stage 35.0 (TID 189) (192.168.100.17 executor driver): TaskKilled (Stage cancelled: Job aborted due to stage failure: Task 10 in stage 35.0 failed 1 times, most recent failure: Lost task 10.0 in stage 35.0 (TID 191) (192.168.100.17 executor driver): java.lang.OutOfMemoryError: Java heap space\n",
      "\n",
      "Driver stacktrace:)\n",
      "24/10/20 12:51:22 ERROR TaskContextImpl: Error in TaskCompletionListener\n",
      "org.apache.spark.SparkException: Block broadcast_49 does not exist\n",
      "\tat org.apache.spark.errors.SparkCoreErrors$.blockDoesNotExistError(SparkCoreErrors.scala:318)\n",
      "\tat org.apache.spark.storage.BlockInfoManager.blockInfo(BlockInfoManager.scala:269)\n",
      "\tat org.apache.spark.storage.BlockInfoManager.unlock(BlockInfoManager.scala:390)\n",
      "\tat org.apache.spark.storage.BlockManager.releaseLock(BlockManager.scala:1309)\n",
      "\tat org.apache.spark.broadcast.TorrentBroadcast.$anonfun$releaseBlockManagerLock$1(TorrentBroadcast.scala:319)\n",
      "\tat org.apache.spark.broadcast.TorrentBroadcast.$anonfun$releaseBlockManagerLock$1$adapted(TorrentBroadcast.scala:319)\n",
      "\tat org.apache.spark.TaskContext$$anon$1.onTaskCompletion(TaskContext.scala:137)\n",
      "\tat org.apache.spark.TaskContextImpl.$anonfun$invokeTaskCompletionListeners$1(TaskContextImpl.scala:144)\n",
      "\tat org.apache.spark.TaskContextImpl.$anonfun$invokeTaskCompletionListeners$1$adapted(TaskContextImpl.scala:144)\n",
      "\tat org.apache.spark.TaskContextImpl.invokeListeners(TaskContextImpl.scala:199)\n",
      "\tat org.apache.spark.TaskContextImpl.invokeTaskCompletionListeners(TaskContextImpl.scala:144)\n",
      "\tat org.apache.spark.TaskContextImpl.markTaskCompleted(TaskContextImpl.scala:137)\n",
      "\tat org.apache.spark.TaskContext.runTaskWithListeners(TaskContext.scala:177)\n",
      "\tat org.apache.spark.scheduler.Task.run(Task.scala:141)\n",
      "\tat org.apache.spark.executor.Executor$TaskRunner.$anonfun$run$4(Executor.scala:620)\n",
      "\tat org.apache.spark.util.SparkErrorUtils.tryWithSafeFinally(SparkErrorUtils.scala:64)\n",
      "\tat org.apache.spark.util.SparkErrorUtils.tryWithSafeFinally$(SparkErrorUtils.scala:61)\n",
      "\tat org.apache.spark.util.Utils$.tryWithSafeFinally(Utils.scala:94)\n",
      "\tat org.apache.spark.executor.Executor$TaskRunner.run(Executor.scala:623)\n",
      "\tat java.base/java.util.concurrent.ThreadPoolExecutor.runWorker(ThreadPoolExecutor.java:1128)\n",
      "\tat java.base/java.util.concurrent.ThreadPoolExecutor$Worker.run(ThreadPoolExecutor.java:628)\n",
      "\tat java.base/java.lang.Thread.run(Thread.java:829)\n",
      "ERROR:root:Exception while sending command.\n",
      "Traceback (most recent call last):\n",
      "  File \"/home/atenea/Macrodatos/venv/lib/python3.12/site-packages/IPython/core/interactiveshell.py\", line 3577, in run_code\n",
      "    exec(code_obj, self.user_global_ns, self.user_ns)\n",
      "  File \"/tmp/ipykernel_7024/2259926182.py\", line 2, in <module>\n",
      "    viajes_enero_data = viajes_enero.collect()\n",
      "                        ^^^^^^^^^^^^^^^^^^^^^^\n",
      "  File \"/home/atenea/Macrodatos/venv/lib/python3.12/site-packages/pyspark/sql/dataframe.py\", line 1263, in collect\n",
      "    sock_info = self._jdf.collectToPython()\n",
      "                ^^^^^^^^^^^^^^^^^^^^^^^^^^^\n",
      "  File \"/home/atenea/Macrodatos/venv/lib/python3.12/site-packages/py4j/java_gateway.py\", line 1322, in __call__\n",
      "    return_value = get_return_value(\n",
      "                   ^^^^^^^^^^^^^^^^^\n",
      "  File \"/home/atenea/Macrodatos/venv/lib/python3.12/site-packages/pyspark/errors/exceptions/captured.py\", line 179, in deco\n",
      "    return f(*a, **kw)\n",
      "           ^^^^^^^^^^^\n",
      "  File \"/home/atenea/Macrodatos/venv/lib/python3.12/site-packages/py4j/protocol.py\", line 326, in get_return_value\n",
      "    raise Py4JJavaError(\n",
      "py4j.protocol.Py4JJavaError: <exception str() failed>\n",
      "\n",
      "During handling of the above exception, another exception occurred:\n",
      "\n",
      "Traceback (most recent call last):\n",
      "  File \"/home/atenea/Macrodatos/venv/lib/python3.12/site-packages/py4j/clientserver.py\", line 516, in send_command\n",
      "    raise Py4JNetworkError(\"Answer from Java side is empty\")\n",
      "py4j.protocol.Py4JNetworkError: Answer from Java side is empty\n",
      "\n",
      "During handling of the above exception, another exception occurred:\n",
      "\n",
      "Traceback (most recent call last):\n",
      "  File \"/home/atenea/Macrodatos/venv/lib/python3.12/site-packages/py4j/java_gateway.py\", line 1038, in send_command\n",
      "    response = connection.send_command(command)\n",
      "               ^^^^^^^^^^^^^^^^^^^^^^^^^^^^^^^^\n",
      "  File \"/home/atenea/Macrodatos/venv/lib/python3.12/site-packages/py4j/clientserver.py\", line 539, in send_command\n",
      "    raise Py4JNetworkError(\n",
      "py4j.protocol.Py4JNetworkError: Error while sending or receiving\n",
      "ERROR:root:Exception while sending command.\n",
      "Traceback (most recent call last):\n",
      "  File \"/home/atenea/Macrodatos/venv/lib/python3.12/site-packages/py4j/clientserver.py\", line 516, in send_command\n",
      "    raise Py4JNetworkError(\"Answer from Java side is empty\")\n",
      "py4j.protocol.Py4JNetworkError: Answer from Java side is empty\n",
      "\n",
      "During handling of the above exception, another exception occurred:\n",
      "\n",
      "Traceback (most recent call last):\n",
      "  File \"/home/atenea/Macrodatos/venv/lib/python3.12/site-packages/py4j/java_gateway.py\", line 1038, in send_command\n",
      "    response = connection.send_command(command)\n",
      "               ^^^^^^^^^^^^^^^^^^^^^^^^^^^^^^^^\n",
      "  File \"/home/atenea/Macrodatos/venv/lib/python3.12/site-packages/py4j/clientserver.py\", line 539, in send_command\n",
      "    raise Py4JNetworkError(\n",
      "py4j.protocol.Py4JNetworkError: Error while sending or receiving\n"
     ]
    },
    {
     "ename": "ConnectionRefusedError",
     "evalue": "[Errno 111] Connection refused",
     "output_type": "error",
     "traceback": [
      "\u001b[0;31m---------------------------------------------------------------------------\u001b[0m",
      "\u001b[0;31mPy4JJavaError\u001b[0m                             Traceback (most recent call last)",
      "    \u001b[0;31m[... skipping hidden 1 frame]\u001b[0m\n",
      "Cell \u001b[0;32mIn[32], line 2\u001b[0m\n\u001b[1;32m      1\u001b[0m \u001b[38;5;66;03m# Recoger los datos como una lista de filas\u001b[39;00m\n\u001b[0;32m----> 2\u001b[0m viajes_enero_data \u001b[38;5;241m=\u001b[39m \u001b[43mviajes_enero\u001b[49m\u001b[38;5;241;43m.\u001b[39;49m\u001b[43mcollect\u001b[49m\u001b[43m(\u001b[49m\u001b[43m)\u001b[49m\n\u001b[1;32m      3\u001b[0m fechas \u001b[38;5;241m=\u001b[39m [row[\u001b[38;5;124m'\u001b[39m\u001b[38;5;124mfecha_retiro\u001b[39m\u001b[38;5;124m'\u001b[39m] \u001b[38;5;28;01mfor\u001b[39;00m row \u001b[38;5;129;01min\u001b[39;00m viajes_enero_data]\n",
      "File \u001b[0;32m~/Macrodatos/venv/lib/python3.12/site-packages/pyspark/sql/dataframe.py:1263\u001b[0m, in \u001b[0;36mDataFrame.collect\u001b[0;34m(self)\u001b[0m\n\u001b[1;32m   1262\u001b[0m \u001b[38;5;28;01mwith\u001b[39;00m SCCallSiteSync(\u001b[38;5;28mself\u001b[39m\u001b[38;5;241m.\u001b[39m_sc):\n\u001b[0;32m-> 1263\u001b[0m     sock_info \u001b[38;5;241m=\u001b[39m \u001b[38;5;28;43mself\u001b[39;49m\u001b[38;5;241;43m.\u001b[39;49m\u001b[43m_jdf\u001b[49m\u001b[38;5;241;43m.\u001b[39;49m\u001b[43mcollectToPython\u001b[49m\u001b[43m(\u001b[49m\u001b[43m)\u001b[49m\n\u001b[1;32m   1264\u001b[0m \u001b[38;5;28;01mreturn\u001b[39;00m \u001b[38;5;28mlist\u001b[39m(_load_from_socket(sock_info, BatchedSerializer(CPickleSerializer())))\n",
      "File \u001b[0;32m~/Macrodatos/venv/lib/python3.12/site-packages/py4j/java_gateway.py:1322\u001b[0m, in \u001b[0;36mJavaMember.__call__\u001b[0;34m(self, *args)\u001b[0m\n\u001b[1;32m   1321\u001b[0m answer \u001b[38;5;241m=\u001b[39m \u001b[38;5;28mself\u001b[39m\u001b[38;5;241m.\u001b[39mgateway_client\u001b[38;5;241m.\u001b[39msend_command(command)\n\u001b[0;32m-> 1322\u001b[0m return_value \u001b[38;5;241m=\u001b[39m \u001b[43mget_return_value\u001b[49m\u001b[43m(\u001b[49m\n\u001b[1;32m   1323\u001b[0m \u001b[43m    \u001b[49m\u001b[43manswer\u001b[49m\u001b[43m,\u001b[49m\u001b[43m \u001b[49m\u001b[38;5;28;43mself\u001b[39;49m\u001b[38;5;241;43m.\u001b[39;49m\u001b[43mgateway_client\u001b[49m\u001b[43m,\u001b[49m\u001b[43m \u001b[49m\u001b[38;5;28;43mself\u001b[39;49m\u001b[38;5;241;43m.\u001b[39;49m\u001b[43mtarget_id\u001b[49m\u001b[43m,\u001b[49m\u001b[43m \u001b[49m\u001b[38;5;28;43mself\u001b[39;49m\u001b[38;5;241;43m.\u001b[39;49m\u001b[43mname\u001b[49m\u001b[43m)\u001b[49m\n\u001b[1;32m   1325\u001b[0m \u001b[38;5;28;01mfor\u001b[39;00m temp_arg \u001b[38;5;129;01min\u001b[39;00m temp_args:\n",
      "File \u001b[0;32m~/Macrodatos/venv/lib/python3.12/site-packages/pyspark/errors/exceptions/captured.py:179\u001b[0m, in \u001b[0;36mcapture_sql_exception.<locals>.deco\u001b[0;34m(*a, **kw)\u001b[0m\n\u001b[1;32m    178\u001b[0m \u001b[38;5;28;01mtry\u001b[39;00m:\n\u001b[0;32m--> 179\u001b[0m     \u001b[38;5;28;01mreturn\u001b[39;00m \u001b[43mf\u001b[49m\u001b[43m(\u001b[49m\u001b[38;5;241;43m*\u001b[39;49m\u001b[43ma\u001b[49m\u001b[43m,\u001b[49m\u001b[43m \u001b[49m\u001b[38;5;241;43m*\u001b[39;49m\u001b[38;5;241;43m*\u001b[39;49m\u001b[43mkw\u001b[49m\u001b[43m)\u001b[49m\n\u001b[1;32m    180\u001b[0m \u001b[38;5;28;01mexcept\u001b[39;00m Py4JJavaError \u001b[38;5;28;01mas\u001b[39;00m e:\n",
      "File \u001b[0;32m~/Macrodatos/venv/lib/python3.12/site-packages/py4j/protocol.py:326\u001b[0m, in \u001b[0;36mget_return_value\u001b[0;34m(answer, gateway_client, target_id, name)\u001b[0m\n\u001b[1;32m    325\u001b[0m \u001b[38;5;28;01mif\u001b[39;00m answer[\u001b[38;5;241m1\u001b[39m] \u001b[38;5;241m==\u001b[39m REFERENCE_TYPE:\n\u001b[0;32m--> 326\u001b[0m     \u001b[38;5;28;01mraise\u001b[39;00m Py4JJavaError(\n\u001b[1;32m    327\u001b[0m         \u001b[38;5;124m\"\u001b[39m\u001b[38;5;124mAn error occurred while calling \u001b[39m\u001b[38;5;132;01m{0}\u001b[39;00m\u001b[38;5;132;01m{1}\u001b[39;00m\u001b[38;5;132;01m{2}\u001b[39;00m\u001b[38;5;124m.\u001b[39m\u001b[38;5;130;01m\\n\u001b[39;00m\u001b[38;5;124m\"\u001b[39m\u001b[38;5;241m.\u001b[39m\n\u001b[1;32m    328\u001b[0m         \u001b[38;5;28mformat\u001b[39m(target_id, \u001b[38;5;124m\"\u001b[39m\u001b[38;5;124m.\u001b[39m\u001b[38;5;124m\"\u001b[39m, name), value)\n\u001b[1;32m    329\u001b[0m \u001b[38;5;28;01melse\u001b[39;00m:\n",
      "\u001b[0;31m<class 'str'>\u001b[0m: (<class 'ConnectionRefusedError'>, ConnectionRefusedError(111, 'Connection refused'))",
      "\nDuring handling of the above exception, another exception occurred:\n",
      "\u001b[0;31mConnectionRefusedError\u001b[0m                    Traceback (most recent call last)",
      "    \u001b[0;31m[... skipping hidden 1 frame]\u001b[0m\n",
      "File \u001b[0;32m~/Macrodatos/venv/lib/python3.12/site-packages/IPython/core/interactiveshell.py:2179\u001b[0m, in \u001b[0;36mInteractiveShell.showtraceback\u001b[0;34m(self, exc_tuple, filename, tb_offset, exception_only, running_compiled_code)\u001b[0m\n\u001b[1;32m   2176\u001b[0m         traceback\u001b[38;5;241m.\u001b[39mprint_exc()\n\u001b[1;32m   2177\u001b[0m         \u001b[38;5;28;01mreturn\u001b[39;00m \u001b[38;5;28;01mNone\u001b[39;00m\n\u001b[0;32m-> 2179\u001b[0m     \u001b[38;5;28;43mself\u001b[39;49m\u001b[38;5;241;43m.\u001b[39;49m\u001b[43m_showtraceback\u001b[49m\u001b[43m(\u001b[49m\u001b[43metype\u001b[49m\u001b[43m,\u001b[49m\u001b[43m \u001b[49m\u001b[43mvalue\u001b[49m\u001b[43m,\u001b[49m\u001b[43m \u001b[49m\u001b[43mstb\u001b[49m\u001b[43m)\u001b[49m\n\u001b[1;32m   2180\u001b[0m \u001b[38;5;28;01mif\u001b[39;00m \u001b[38;5;28mself\u001b[39m\u001b[38;5;241m.\u001b[39mcall_pdb:\n\u001b[1;32m   2181\u001b[0m     \u001b[38;5;66;03m# drop into debugger\u001b[39;00m\n\u001b[1;32m   2182\u001b[0m     \u001b[38;5;28mself\u001b[39m\u001b[38;5;241m.\u001b[39mdebugger(force\u001b[38;5;241m=\u001b[39m\u001b[38;5;28;01mTrue\u001b[39;00m)\n",
      "File \u001b[0;32m~/Macrodatos/venv/lib/python3.12/site-packages/ipykernel/zmqshell.py:559\u001b[0m, in \u001b[0;36mZMQInteractiveShell._showtraceback\u001b[0;34m(self, etype, evalue, stb)\u001b[0m\n\u001b[1;32m    553\u001b[0m sys\u001b[38;5;241m.\u001b[39mstdout\u001b[38;5;241m.\u001b[39mflush()\n\u001b[1;32m    554\u001b[0m sys\u001b[38;5;241m.\u001b[39mstderr\u001b[38;5;241m.\u001b[39mflush()\n\u001b[1;32m    556\u001b[0m exc_content \u001b[38;5;241m=\u001b[39m {\n\u001b[1;32m    557\u001b[0m     \u001b[38;5;124m\"\u001b[39m\u001b[38;5;124mtraceback\u001b[39m\u001b[38;5;124m\"\u001b[39m: stb,\n\u001b[1;32m    558\u001b[0m     \u001b[38;5;124m\"\u001b[39m\u001b[38;5;124mename\u001b[39m\u001b[38;5;124m\"\u001b[39m: \u001b[38;5;28mstr\u001b[39m(etype\u001b[38;5;241m.\u001b[39m\u001b[38;5;18m__name__\u001b[39m),\n\u001b[0;32m--> 559\u001b[0m     \u001b[38;5;124m\"\u001b[39m\u001b[38;5;124mevalue\u001b[39m\u001b[38;5;124m\"\u001b[39m: \u001b[38;5;28;43mstr\u001b[39;49m\u001b[43m(\u001b[49m\u001b[43mevalue\u001b[49m\u001b[43m)\u001b[49m,\n\u001b[1;32m    560\u001b[0m }\n\u001b[1;32m    562\u001b[0m dh \u001b[38;5;241m=\u001b[39m \u001b[38;5;28mself\u001b[39m\u001b[38;5;241m.\u001b[39mdisplayhook\n\u001b[1;32m    563\u001b[0m \u001b[38;5;66;03m# Send exception info over pub socket for other clients than the caller\u001b[39;00m\n\u001b[1;32m    564\u001b[0m \u001b[38;5;66;03m# to pick up\u001b[39;00m\n",
      "File \u001b[0;32m~/Macrodatos/venv/lib/python3.12/site-packages/py4j/protocol.py:471\u001b[0m, in \u001b[0;36mPy4JJavaError.__str__\u001b[0;34m(self)\u001b[0m\n\u001b[1;32m    469\u001b[0m \u001b[38;5;28;01mdef\u001b[39;00m \u001b[38;5;21m__str__\u001b[39m(\u001b[38;5;28mself\u001b[39m):\n\u001b[1;32m    470\u001b[0m     gateway_client \u001b[38;5;241m=\u001b[39m \u001b[38;5;28mself\u001b[39m\u001b[38;5;241m.\u001b[39mjava_exception\u001b[38;5;241m.\u001b[39m_gateway_client\n\u001b[0;32m--> 471\u001b[0m     answer \u001b[38;5;241m=\u001b[39m \u001b[43mgateway_client\u001b[49m\u001b[38;5;241;43m.\u001b[39;49m\u001b[43msend_command\u001b[49m\u001b[43m(\u001b[49m\u001b[38;5;28;43mself\u001b[39;49m\u001b[38;5;241;43m.\u001b[39;49m\u001b[43mexception_cmd\u001b[49m\u001b[43m)\u001b[49m\n\u001b[1;32m    472\u001b[0m     return_value \u001b[38;5;241m=\u001b[39m get_return_value(answer, gateway_client, \u001b[38;5;28;01mNone\u001b[39;00m, \u001b[38;5;28;01mNone\u001b[39;00m)\n\u001b[1;32m    473\u001b[0m     \u001b[38;5;66;03m# Note: technically this should return a bytestring 'str' rather than\u001b[39;00m\n\u001b[1;32m    474\u001b[0m     \u001b[38;5;66;03m# unicodes in Python 2; however, it can return unicodes for now.\u001b[39;00m\n\u001b[1;32m    475\u001b[0m     \u001b[38;5;66;03m# See https://github.com/bartdag/py4j/issues/306 for more details.\u001b[39;00m\n",
      "File \u001b[0;32m~/Macrodatos/venv/lib/python3.12/site-packages/py4j/java_gateway.py:1036\u001b[0m, in \u001b[0;36mGatewayClient.send_command\u001b[0;34m(self, command, retry, binary)\u001b[0m\n\u001b[1;32m   1015\u001b[0m \u001b[38;5;28;01mdef\u001b[39;00m \u001b[38;5;21msend_command\u001b[39m(\u001b[38;5;28mself\u001b[39m, command, retry\u001b[38;5;241m=\u001b[39m\u001b[38;5;28;01mTrue\u001b[39;00m, binary\u001b[38;5;241m=\u001b[39m\u001b[38;5;28;01mFalse\u001b[39;00m):\n\u001b[1;32m   1016\u001b[0m \u001b[38;5;250m    \u001b[39m\u001b[38;5;124;03m\"\"\"Sends a command to the JVM. This method is not intended to be\u001b[39;00m\n\u001b[1;32m   1017\u001b[0m \u001b[38;5;124;03m       called directly by Py4J users. It is usually called by\u001b[39;00m\n\u001b[1;32m   1018\u001b[0m \u001b[38;5;124;03m       :class:`JavaMember` instances.\u001b[39;00m\n\u001b[0;32m   (...)\u001b[0m\n\u001b[1;32m   1034\u001b[0m \u001b[38;5;124;03m     if `binary` is `True`.\u001b[39;00m\n\u001b[1;32m   1035\u001b[0m \u001b[38;5;124;03m    \"\"\"\u001b[39;00m\n\u001b[0;32m-> 1036\u001b[0m     connection \u001b[38;5;241m=\u001b[39m \u001b[38;5;28;43mself\u001b[39;49m\u001b[38;5;241;43m.\u001b[39;49m\u001b[43m_get_connection\u001b[49m\u001b[43m(\u001b[49m\u001b[43m)\u001b[49m\n\u001b[1;32m   1037\u001b[0m     \u001b[38;5;28;01mtry\u001b[39;00m:\n\u001b[1;32m   1038\u001b[0m         response \u001b[38;5;241m=\u001b[39m connection\u001b[38;5;241m.\u001b[39msend_command(command)\n",
      "File \u001b[0;32m~/Macrodatos/venv/lib/python3.12/site-packages/py4j/clientserver.py:284\u001b[0m, in \u001b[0;36mJavaClient._get_connection\u001b[0;34m(self)\u001b[0m\n\u001b[1;32m    281\u001b[0m     \u001b[38;5;28;01mpass\u001b[39;00m\n\u001b[1;32m    283\u001b[0m \u001b[38;5;28;01mif\u001b[39;00m connection \u001b[38;5;129;01mis\u001b[39;00m \u001b[38;5;28;01mNone\u001b[39;00m \u001b[38;5;129;01mor\u001b[39;00m connection\u001b[38;5;241m.\u001b[39msocket \u001b[38;5;129;01mis\u001b[39;00m \u001b[38;5;28;01mNone\u001b[39;00m:\n\u001b[0;32m--> 284\u001b[0m     connection \u001b[38;5;241m=\u001b[39m \u001b[38;5;28;43mself\u001b[39;49m\u001b[38;5;241;43m.\u001b[39;49m\u001b[43m_create_new_connection\u001b[49m\u001b[43m(\u001b[49m\u001b[43m)\u001b[49m\n\u001b[1;32m    285\u001b[0m \u001b[38;5;28;01mreturn\u001b[39;00m connection\n",
      "File \u001b[0;32m~/Macrodatos/venv/lib/python3.12/site-packages/py4j/clientserver.py:291\u001b[0m, in \u001b[0;36mJavaClient._create_new_connection\u001b[0;34m(self)\u001b[0m\n\u001b[1;32m    287\u001b[0m \u001b[38;5;28;01mdef\u001b[39;00m \u001b[38;5;21m_create_new_connection\u001b[39m(\u001b[38;5;28mself\u001b[39m):\n\u001b[1;32m    288\u001b[0m     connection \u001b[38;5;241m=\u001b[39m ClientServerConnection(\n\u001b[1;32m    289\u001b[0m         \u001b[38;5;28mself\u001b[39m\u001b[38;5;241m.\u001b[39mjava_parameters, \u001b[38;5;28mself\u001b[39m\u001b[38;5;241m.\u001b[39mpython_parameters,\n\u001b[1;32m    290\u001b[0m         \u001b[38;5;28mself\u001b[39m\u001b[38;5;241m.\u001b[39mgateway_property, \u001b[38;5;28mself\u001b[39m)\n\u001b[0;32m--> 291\u001b[0m     \u001b[43mconnection\u001b[49m\u001b[38;5;241;43m.\u001b[39;49m\u001b[43mconnect_to_java_server\u001b[49m\u001b[43m(\u001b[49m\u001b[43m)\u001b[49m\n\u001b[1;32m    292\u001b[0m     \u001b[38;5;28mself\u001b[39m\u001b[38;5;241m.\u001b[39mset_thread_connection(connection)\n\u001b[1;32m    293\u001b[0m     \u001b[38;5;28;01mreturn\u001b[39;00m connection\n",
      "File \u001b[0;32m~/Macrodatos/venv/lib/python3.12/site-packages/py4j/clientserver.py:438\u001b[0m, in \u001b[0;36mClientServerConnection.connect_to_java_server\u001b[0;34m(self)\u001b[0m\n\u001b[1;32m    435\u001b[0m \u001b[38;5;28;01mif\u001b[39;00m \u001b[38;5;28mself\u001b[39m\u001b[38;5;241m.\u001b[39mssl_context:\n\u001b[1;32m    436\u001b[0m     \u001b[38;5;28mself\u001b[39m\u001b[38;5;241m.\u001b[39msocket \u001b[38;5;241m=\u001b[39m \u001b[38;5;28mself\u001b[39m\u001b[38;5;241m.\u001b[39mssl_context\u001b[38;5;241m.\u001b[39mwrap_socket(\n\u001b[1;32m    437\u001b[0m         \u001b[38;5;28mself\u001b[39m\u001b[38;5;241m.\u001b[39msocket, server_hostname\u001b[38;5;241m=\u001b[39m\u001b[38;5;28mself\u001b[39m\u001b[38;5;241m.\u001b[39mjava_address)\n\u001b[0;32m--> 438\u001b[0m \u001b[38;5;28;43mself\u001b[39;49m\u001b[38;5;241;43m.\u001b[39;49m\u001b[43msocket\u001b[49m\u001b[38;5;241;43m.\u001b[39;49m\u001b[43mconnect\u001b[49m\u001b[43m(\u001b[49m\u001b[43m(\u001b[49m\u001b[38;5;28;43mself\u001b[39;49m\u001b[38;5;241;43m.\u001b[39;49m\u001b[43mjava_address\u001b[49m\u001b[43m,\u001b[49m\u001b[43m \u001b[49m\u001b[38;5;28;43mself\u001b[39;49m\u001b[38;5;241;43m.\u001b[39;49m\u001b[43mjava_port\u001b[49m\u001b[43m)\u001b[49m\u001b[43m)\u001b[49m\n\u001b[1;32m    439\u001b[0m \u001b[38;5;28mself\u001b[39m\u001b[38;5;241m.\u001b[39mstream \u001b[38;5;241m=\u001b[39m \u001b[38;5;28mself\u001b[39m\u001b[38;5;241m.\u001b[39msocket\u001b[38;5;241m.\u001b[39mmakefile(\u001b[38;5;124m\"\u001b[39m\u001b[38;5;124mrb\u001b[39m\u001b[38;5;124m\"\u001b[39m)\n\u001b[1;32m    440\u001b[0m \u001b[38;5;28mself\u001b[39m\u001b[38;5;241m.\u001b[39mis_connected \u001b[38;5;241m=\u001b[39m \u001b[38;5;28;01mTrue\u001b[39;00m\n",
      "\u001b[0;31mConnectionRefusedError\u001b[0m: [Errno 111] Connection refused"
     ]
    }
   ],
   "source": [
    "# Recoger los datos como una lista de filas\n",
    "viajes_enero_data = viajes_enero.collect()\n",
    "fechas = [row['fecha_retiro'] for row in viajes_enero_data]\n",
    "conteos = [row['count'] for row in viajes_enero_data]\n",
    "\n",
    "# Crear la gráfica\n",
    "import matplotlib.pyplot as plt\n",
    "\n",
    "plt.figure(figsize=(10, 5))\n",
    "plt.bar(fechas, conteos, color='blue')\n",
    "plt.xlabel('Fecha de Retiro')\n",
    "plt.ylabel('Número de Viajes')\n",
    "plt.title('Número de Viajes por Fecha de Retiro en Enero')\n",
    "plt.xticks(rotation=45)\n",
    "plt.tight_layout()\n",
    "plt.show()"
   ]
  }
 ],
 "metadata": {
  "kernelspec": {
   "display_name": "venv",
   "language": "python",
   "name": "python3"
  },
  "language_info": {
   "codemirror_mode": {
    "name": "ipython",
    "version": 3
   },
   "file_extension": ".py",
   "mimetype": "text/x-python",
   "name": "python",
   "nbconvert_exporter": "python",
   "pygments_lexer": "ipython3",
   "version": "3.12.3"
  }
 },
 "nbformat": 4,
 "nbformat_minor": 2
}
