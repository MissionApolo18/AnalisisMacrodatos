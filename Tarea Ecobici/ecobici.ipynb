{
 "cells": [
  {
   "cell_type": "markdown",
   "metadata": {},
   "source": [
    "# Ecobici Datos "
   ]
  },
  {
   "cell_type": "code",
   "execution_count": 39,
   "metadata": {},
   "outputs": [
    {
     "ename": "ConnectionRefusedError",
     "evalue": "[Errno 111] Connection refused",
     "output_type": "error",
     "traceback": [
      "\u001b[0;31m---------------------------------------------------------------------------\u001b[0m",
      "\u001b[0;31mConnectionRefusedError\u001b[0m                    Traceback (most recent call last)",
      "Cell \u001b[0;32mIn[39], line 3\u001b[0m\n\u001b[1;32m      1\u001b[0m \u001b[38;5;66;03m#Crear la sesión en Spark\u001b[39;00m\n\u001b[1;32m      2\u001b[0m \u001b[38;5;28;01mfrom\u001b[39;00m \u001b[38;5;21;01mpyspark\u001b[39;00m\u001b[38;5;21;01m.\u001b[39;00m\u001b[38;5;21;01msql\u001b[39;00m \u001b[38;5;28;01mimport\u001b[39;00m SparkSession\n\u001b[0;32m----> 3\u001b[0m spark \u001b[38;5;241m=\u001b[39m \u001b[43mSparkSession\u001b[49m\u001b[38;5;241;43m.\u001b[39;49m\u001b[43mbuilder\u001b[49m\u001b[38;5;241;43m.\u001b[39;49m\u001b[43mappName\u001b[49m\u001b[43m(\u001b[49m\u001b[38;5;124;43m\"\u001b[39;49m\u001b[38;5;124;43mEcoBici\u001b[39;49m\u001b[38;5;124;43m\"\u001b[39;49m\u001b[43m)\u001b[49m\u001b[38;5;241;43m.\u001b[39;49m\u001b[43mconfig\u001b[49m\u001b[43m(\u001b[49m\u001b[38;5;124;43m\"\u001b[39;49m\u001b[38;5;124;43mspark.driver.port\u001b[39;49m\u001b[38;5;124;43m\"\u001b[39;49m\u001b[43m,\u001b[49m\u001b[38;5;124;43m\"\u001b[39;49m\u001b[38;5;124;43m7078\u001b[39;49m\u001b[38;5;124;43m\"\u001b[39;49m\u001b[43m)\u001b[49m\u001b[38;5;241;43m.\u001b[39;49m\u001b[43mgetOrCreate\u001b[49m\u001b[43m(\u001b[49m\u001b[43m)\u001b[49m\n",
      "File \u001b[0;32m~/Macrodatos/venv/lib/python3.12/site-packages/pyspark/sql/session.py:493\u001b[0m, in \u001b[0;36mSparkSession.Builder.getOrCreate\u001b[0;34m(self)\u001b[0m\n\u001b[1;32m    491\u001b[0m session \u001b[38;5;241m=\u001b[39m SparkSession\u001b[38;5;241m.\u001b[39m_instantiatedSession\n\u001b[1;32m    492\u001b[0m \u001b[38;5;28;01mif\u001b[39;00m session \u001b[38;5;129;01mis\u001b[39;00m \u001b[38;5;28;01mNone\u001b[39;00m \u001b[38;5;129;01mor\u001b[39;00m session\u001b[38;5;241m.\u001b[39m_sc\u001b[38;5;241m.\u001b[39m_jsc \u001b[38;5;129;01mis\u001b[39;00m \u001b[38;5;28;01mNone\u001b[39;00m:\n\u001b[0;32m--> 493\u001b[0m     sparkConf \u001b[38;5;241m=\u001b[39m \u001b[43mSparkConf\u001b[49m\u001b[43m(\u001b[49m\u001b[43m)\u001b[49m\n\u001b[1;32m    494\u001b[0m     \u001b[38;5;28;01mfor\u001b[39;00m key, value \u001b[38;5;129;01min\u001b[39;00m \u001b[38;5;28mself\u001b[39m\u001b[38;5;241m.\u001b[39m_options\u001b[38;5;241m.\u001b[39mitems():\n\u001b[1;32m    495\u001b[0m         sparkConf\u001b[38;5;241m.\u001b[39mset(key, value)\n",
      "File \u001b[0;32m~/Macrodatos/venv/lib/python3.12/site-packages/pyspark/conf.py:132\u001b[0m, in \u001b[0;36mSparkConf.__init__\u001b[0;34m(self, loadDefaults, _jvm, _jconf)\u001b[0m\n\u001b[1;32m    128\u001b[0m _jvm \u001b[38;5;241m=\u001b[39m _jvm \u001b[38;5;129;01mor\u001b[39;00m SparkContext\u001b[38;5;241m.\u001b[39m_jvm\n\u001b[1;32m    130\u001b[0m \u001b[38;5;28;01mif\u001b[39;00m _jvm \u001b[38;5;129;01mis\u001b[39;00m \u001b[38;5;129;01mnot\u001b[39;00m \u001b[38;5;28;01mNone\u001b[39;00m:\n\u001b[1;32m    131\u001b[0m     \u001b[38;5;66;03m# JVM is created, so create self._jconf directly through JVM\u001b[39;00m\n\u001b[0;32m--> 132\u001b[0m     \u001b[38;5;28mself\u001b[39m\u001b[38;5;241m.\u001b[39m_jconf \u001b[38;5;241m=\u001b[39m \u001b[43m_jvm\u001b[49m\u001b[38;5;241;43m.\u001b[39;49m\u001b[43mSparkConf\u001b[49m(loadDefaults)\n\u001b[1;32m    133\u001b[0m     \u001b[38;5;28mself\u001b[39m\u001b[38;5;241m.\u001b[39m_conf \u001b[38;5;241m=\u001b[39m \u001b[38;5;28;01mNone\u001b[39;00m\n\u001b[1;32m    134\u001b[0m \u001b[38;5;28;01melse\u001b[39;00m:\n\u001b[1;32m    135\u001b[0m     \u001b[38;5;66;03m# JVM is not created, so store data in self._conf first\u001b[39;00m\n",
      "File \u001b[0;32m~/Macrodatos/venv/lib/python3.12/site-packages/py4j/java_gateway.py:1712\u001b[0m, in \u001b[0;36mJVMView.__getattr__\u001b[0;34m(self, name)\u001b[0m\n\u001b[1;32m   1709\u001b[0m \u001b[38;5;28;01mif\u001b[39;00m name \u001b[38;5;241m==\u001b[39m UserHelpAutoCompletion\u001b[38;5;241m.\u001b[39mKEY:\n\u001b[1;32m   1710\u001b[0m     \u001b[38;5;28;01mreturn\u001b[39;00m UserHelpAutoCompletion()\n\u001b[0;32m-> 1712\u001b[0m answer \u001b[38;5;241m=\u001b[39m \u001b[38;5;28;43mself\u001b[39;49m\u001b[38;5;241;43m.\u001b[39;49m\u001b[43m_gateway_client\u001b[49m\u001b[38;5;241;43m.\u001b[39;49m\u001b[43msend_command\u001b[49m\u001b[43m(\u001b[49m\n\u001b[1;32m   1713\u001b[0m \u001b[43m    \u001b[49m\u001b[43mproto\u001b[49m\u001b[38;5;241;43m.\u001b[39;49m\u001b[43mREFLECTION_COMMAND_NAME\u001b[49m\u001b[43m \u001b[49m\u001b[38;5;241;43m+\u001b[39;49m\n\u001b[1;32m   1714\u001b[0m \u001b[43m    \u001b[49m\u001b[43mproto\u001b[49m\u001b[38;5;241;43m.\u001b[39;49m\u001b[43mREFL_GET_UNKNOWN_SUB_COMMAND_NAME\u001b[49m\u001b[43m \u001b[49m\u001b[38;5;241;43m+\u001b[39;49m\u001b[43m \u001b[49m\u001b[43mname\u001b[49m\u001b[43m \u001b[49m\u001b[38;5;241;43m+\u001b[39;49m\u001b[43m \u001b[49m\u001b[38;5;124;43m\"\u001b[39;49m\u001b[38;5;130;43;01m\\n\u001b[39;49;00m\u001b[38;5;124;43m\"\u001b[39;49m\u001b[43m \u001b[49m\u001b[38;5;241;43m+\u001b[39;49m\u001b[43m \u001b[49m\u001b[38;5;28;43mself\u001b[39;49m\u001b[38;5;241;43m.\u001b[39;49m\u001b[43m_id\u001b[49m\u001b[43m \u001b[49m\u001b[38;5;241;43m+\u001b[39;49m\n\u001b[1;32m   1715\u001b[0m \u001b[43m    \u001b[49m\u001b[38;5;124;43m\"\u001b[39;49m\u001b[38;5;130;43;01m\\n\u001b[39;49;00m\u001b[38;5;124;43m\"\u001b[39;49m\u001b[43m \u001b[49m\u001b[38;5;241;43m+\u001b[39;49m\u001b[43m \u001b[49m\u001b[43mproto\u001b[49m\u001b[38;5;241;43m.\u001b[39;49m\u001b[43mEND_COMMAND_PART\u001b[49m\u001b[43m)\u001b[49m\n\u001b[1;32m   1716\u001b[0m \u001b[38;5;28;01mif\u001b[39;00m answer \u001b[38;5;241m==\u001b[39m proto\u001b[38;5;241m.\u001b[39mSUCCESS_PACKAGE:\n\u001b[1;32m   1717\u001b[0m     \u001b[38;5;28;01mreturn\u001b[39;00m JavaPackage(name, \u001b[38;5;28mself\u001b[39m\u001b[38;5;241m.\u001b[39m_gateway_client, jvm_id\u001b[38;5;241m=\u001b[39m\u001b[38;5;28mself\u001b[39m\u001b[38;5;241m.\u001b[39m_id)\n",
      "File \u001b[0;32m~/Macrodatos/venv/lib/python3.12/site-packages/py4j/java_gateway.py:1036\u001b[0m, in \u001b[0;36mGatewayClient.send_command\u001b[0;34m(self, command, retry, binary)\u001b[0m\n\u001b[1;32m   1015\u001b[0m \u001b[38;5;28;01mdef\u001b[39;00m \u001b[38;5;21msend_command\u001b[39m(\u001b[38;5;28mself\u001b[39m, command, retry\u001b[38;5;241m=\u001b[39m\u001b[38;5;28;01mTrue\u001b[39;00m, binary\u001b[38;5;241m=\u001b[39m\u001b[38;5;28;01mFalse\u001b[39;00m):\n\u001b[1;32m   1016\u001b[0m \u001b[38;5;250m    \u001b[39m\u001b[38;5;124;03m\"\"\"Sends a command to the JVM. This method is not intended to be\u001b[39;00m\n\u001b[1;32m   1017\u001b[0m \u001b[38;5;124;03m       called directly by Py4J users. It is usually called by\u001b[39;00m\n\u001b[1;32m   1018\u001b[0m \u001b[38;5;124;03m       :class:`JavaMember` instances.\u001b[39;00m\n\u001b[0;32m   (...)\u001b[0m\n\u001b[1;32m   1034\u001b[0m \u001b[38;5;124;03m     if `binary` is `True`.\u001b[39;00m\n\u001b[1;32m   1035\u001b[0m \u001b[38;5;124;03m    \"\"\"\u001b[39;00m\n\u001b[0;32m-> 1036\u001b[0m     connection \u001b[38;5;241m=\u001b[39m \u001b[38;5;28;43mself\u001b[39;49m\u001b[38;5;241;43m.\u001b[39;49m\u001b[43m_get_connection\u001b[49m\u001b[43m(\u001b[49m\u001b[43m)\u001b[49m\n\u001b[1;32m   1037\u001b[0m     \u001b[38;5;28;01mtry\u001b[39;00m:\n\u001b[1;32m   1038\u001b[0m         response \u001b[38;5;241m=\u001b[39m connection\u001b[38;5;241m.\u001b[39msend_command(command)\n",
      "File \u001b[0;32m~/Macrodatos/venv/lib/python3.12/site-packages/py4j/clientserver.py:284\u001b[0m, in \u001b[0;36mJavaClient._get_connection\u001b[0;34m(self)\u001b[0m\n\u001b[1;32m    281\u001b[0m     \u001b[38;5;28;01mpass\u001b[39;00m\n\u001b[1;32m    283\u001b[0m \u001b[38;5;28;01mif\u001b[39;00m connection \u001b[38;5;129;01mis\u001b[39;00m \u001b[38;5;28;01mNone\u001b[39;00m \u001b[38;5;129;01mor\u001b[39;00m connection\u001b[38;5;241m.\u001b[39msocket \u001b[38;5;129;01mis\u001b[39;00m \u001b[38;5;28;01mNone\u001b[39;00m:\n\u001b[0;32m--> 284\u001b[0m     connection \u001b[38;5;241m=\u001b[39m \u001b[38;5;28;43mself\u001b[39;49m\u001b[38;5;241;43m.\u001b[39;49m\u001b[43m_create_new_connection\u001b[49m\u001b[43m(\u001b[49m\u001b[43m)\u001b[49m\n\u001b[1;32m    285\u001b[0m \u001b[38;5;28;01mreturn\u001b[39;00m connection\n",
      "File \u001b[0;32m~/Macrodatos/venv/lib/python3.12/site-packages/py4j/clientserver.py:291\u001b[0m, in \u001b[0;36mJavaClient._create_new_connection\u001b[0;34m(self)\u001b[0m\n\u001b[1;32m    287\u001b[0m \u001b[38;5;28;01mdef\u001b[39;00m \u001b[38;5;21m_create_new_connection\u001b[39m(\u001b[38;5;28mself\u001b[39m):\n\u001b[1;32m    288\u001b[0m     connection \u001b[38;5;241m=\u001b[39m ClientServerConnection(\n\u001b[1;32m    289\u001b[0m         \u001b[38;5;28mself\u001b[39m\u001b[38;5;241m.\u001b[39mjava_parameters, \u001b[38;5;28mself\u001b[39m\u001b[38;5;241m.\u001b[39mpython_parameters,\n\u001b[1;32m    290\u001b[0m         \u001b[38;5;28mself\u001b[39m\u001b[38;5;241m.\u001b[39mgateway_property, \u001b[38;5;28mself\u001b[39m)\n\u001b[0;32m--> 291\u001b[0m     \u001b[43mconnection\u001b[49m\u001b[38;5;241;43m.\u001b[39;49m\u001b[43mconnect_to_java_server\u001b[49m\u001b[43m(\u001b[49m\u001b[43m)\u001b[49m\n\u001b[1;32m    292\u001b[0m     \u001b[38;5;28mself\u001b[39m\u001b[38;5;241m.\u001b[39mset_thread_connection(connection)\n\u001b[1;32m    293\u001b[0m     \u001b[38;5;28;01mreturn\u001b[39;00m connection\n",
      "File \u001b[0;32m~/Macrodatos/venv/lib/python3.12/site-packages/py4j/clientserver.py:438\u001b[0m, in \u001b[0;36mClientServerConnection.connect_to_java_server\u001b[0;34m(self)\u001b[0m\n\u001b[1;32m    435\u001b[0m \u001b[38;5;28;01mif\u001b[39;00m \u001b[38;5;28mself\u001b[39m\u001b[38;5;241m.\u001b[39mssl_context:\n\u001b[1;32m    436\u001b[0m     \u001b[38;5;28mself\u001b[39m\u001b[38;5;241m.\u001b[39msocket \u001b[38;5;241m=\u001b[39m \u001b[38;5;28mself\u001b[39m\u001b[38;5;241m.\u001b[39mssl_context\u001b[38;5;241m.\u001b[39mwrap_socket(\n\u001b[1;32m    437\u001b[0m         \u001b[38;5;28mself\u001b[39m\u001b[38;5;241m.\u001b[39msocket, server_hostname\u001b[38;5;241m=\u001b[39m\u001b[38;5;28mself\u001b[39m\u001b[38;5;241m.\u001b[39mjava_address)\n\u001b[0;32m--> 438\u001b[0m \u001b[38;5;28;43mself\u001b[39;49m\u001b[38;5;241;43m.\u001b[39;49m\u001b[43msocket\u001b[49m\u001b[38;5;241;43m.\u001b[39;49m\u001b[43mconnect\u001b[49m\u001b[43m(\u001b[49m\u001b[43m(\u001b[49m\u001b[38;5;28;43mself\u001b[39;49m\u001b[38;5;241;43m.\u001b[39;49m\u001b[43mjava_address\u001b[49m\u001b[43m,\u001b[49m\u001b[43m \u001b[49m\u001b[38;5;28;43mself\u001b[39;49m\u001b[38;5;241;43m.\u001b[39;49m\u001b[43mjava_port\u001b[49m\u001b[43m)\u001b[49m\u001b[43m)\u001b[49m\n\u001b[1;32m    439\u001b[0m \u001b[38;5;28mself\u001b[39m\u001b[38;5;241m.\u001b[39mstream \u001b[38;5;241m=\u001b[39m \u001b[38;5;28mself\u001b[39m\u001b[38;5;241m.\u001b[39msocket\u001b[38;5;241m.\u001b[39mmakefile(\u001b[38;5;124m\"\u001b[39m\u001b[38;5;124mrb\u001b[39m\u001b[38;5;124m\"\u001b[39m)\n\u001b[1;32m    440\u001b[0m \u001b[38;5;28mself\u001b[39m\u001b[38;5;241m.\u001b[39mis_connected \u001b[38;5;241m=\u001b[39m \u001b[38;5;28;01mTrue\u001b[39;00m\n",
      "\u001b[0;31mConnectionRefusedError\u001b[0m: [Errno 111] Connection refused"
     ]
    }
   ],
   "source": [
    "#Crear la sesión en Spark\n",
    "from pyspark.sql import SparkSession\n",
    "spark = SparkSession.builder.appName(\"EcoBici\").config(\"spark.driver.port\",\"7078\").getOrCreate()\n"
   ]
  },
  {
   "cell_type": "code",
   "execution_count": 2,
   "metadata": {},
   "outputs": [
    {
     "name": "stderr",
     "output_type": "stream",
     "text": [
      "                                                                                \r"
     ]
    }
   ],
   "source": [
    "#Crear el df\n",
    "csv_directory = \"/home/atenea/Macrodatos/Tarea Ecobici\"\n",
    "df = spark.read.csv(f\"{csv_directory}/*.csv\", header=True, inferSchema=True)\n"
   ]
  },
  {
   "cell_type": "code",
   "execution_count": 3,
   "metadata": {},
   "outputs": [
    {
     "name": "stdout",
     "output_type": "stream",
     "text": [
      "root\n",
      " |-- Genero_Usuario: string (nullable = true)\n",
      " |-- Edad_Usuario: integer (nullable = true)\n",
      " |-- Bici: integer (nullable = true)\n",
      " |-- Ciclo_Estacion_Retiro: integer (nullable = true)\n",
      " |-- Fecha_Retiro: date (nullable = true)\n",
      " |-- Hora_Retiro: timestamp (nullable = true)\n",
      " |-- Ciclo_Estacion_Arribo: integer (nullable = true)\n",
      " |-- Fecha_Arribo: date (nullable = true)\n",
      " |-- Hora_Arribo: timestamp (nullable = true)\n",
      "\n"
     ]
    }
   ],
   "source": [
    "df.printSchema()"
   ]
  },
  {
   "cell_type": "code",
   "execution_count": 4,
   "metadata": {},
   "outputs": [
    {
     "name": "stdout",
     "output_type": "stream",
     "text": [
      "+--------------+------------+----+---------------------+------------+--------------------+---------------------+------------+--------------------+\n",
      "|Genero_Usuario|Edad_Usuario|Bici|Ciclo_Estacion_Retiro|Fecha_Retiro|         Hora_Retiro|Ciclo_Estacion_Arribo|Fecha_Arribo|         Hora_Arribo|\n",
      "+--------------+------------+----+---------------------+------------+--------------------+---------------------+------------+--------------------+\n",
      "|             M|          28|2401|                  118|  2012-12-01|2024-10-20 00:00:...|                  118|  2012-12-01| 2024-10-20 00:15:00|\n",
      "|             M|          26|1540|                   73|  2012-12-01|2024-10-20 00:00:...|                   63|  2012-12-01|2024-10-20 00:06:...|\n",
      "|             F|          30|2197|                   64|  2012-12-01|2024-10-20 00:00:...|                  167|  2012-12-01| 2024-10-20 00:16:21|\n",
      "|             M|          27|1421|                   63|  2012-12-01|2024-10-20 00:00:...|                   53|  2012-12-01| 2024-10-20 00:10:16|\n",
      "|             M|          31| 842|                   64|  2012-12-01|2024-10-20 00:00:...|                  167|  2012-12-01| 2024-10-20 00:16:27|\n",
      "|             M|          35|2979|                   60|  2012-12-01|2024-10-20 00:01:...|                    7|  2012-12-01| 2024-10-20 00:11:20|\n",
      "|             M|          33|  13|                   31|  2012-12-01|2024-10-20 00:01:...|                   73|  2012-12-01| 2024-10-20 00:14:19|\n",
      "|             M|          44|  34|                   17|  2012-12-01|2024-10-20 00:01:...|                   31|  2012-12-01|2024-10-20 00:06:...|\n",
      "|             F|          35|2960|                   29|  2012-12-01|2024-10-20 00:01:...|                   91|  2012-12-01| 2024-10-20 00:15:25|\n",
      "|             M|          44|2991|                   25|  2012-12-01|2024-10-20 00:02:...|                   21|  2012-12-01| 2024-10-20 00:09:22|\n",
      "+--------------+------------+----+---------------------+------------+--------------------+---------------------+------------+--------------------+\n",
      "only showing top 10 rows\n",
      "\n"
     ]
    }
   ],
   "source": [
    "df.show(10)"
   ]
  },
  {
   "cell_type": "markdown",
   "metadata": {},
   "source": [
    "## Añadir columnas para Fecha y Hora de retiro"
   ]
  },
  {
   "cell_type": "code",
   "execution_count": 5,
   "metadata": {},
   "outputs": [
    {
     "name": "stdout",
     "output_type": "stream",
     "text": [
      "+--------------+------------+----+---------------------+------------+--------------------+---------------------+------------+--------------------+-------------------+-----------+----------+----------+-------------+--------------+\n",
      "|Genero_Usuario|Edad_Usuario|Bici|Ciclo_Estacion_Retiro|Fecha_Retiro|         Hora_Retiro|Ciclo_Estacion_Arribo|Fecha_Arribo|         Hora_Arribo|  fecha_hora_retiro|anio_retiro|mes_retiro|dia_retiro|minuto_retiro|segundo_retiro|\n",
      "+--------------+------------+----+---------------------+------------+--------------------+---------------------+------------+--------------------+-------------------+-----------+----------+----------+-------------+--------------+\n",
      "|             M|          28|2401|                  118|  2012-12-01|2024-10-20 00:00:...|                  118|  2012-12-01| 2024-10-20 00:15:00|2012-12-01 00:00:14|       2012|        12|         1|            0|            14|\n",
      "|             M|          26|1540|                   73|  2012-12-01|2024-10-20 00:00:...|                   63|  2012-12-01|2024-10-20 00:06:...|2012-12-01 00:00:20|       2012|        12|         1|            0|            20|\n",
      "|             F|          30|2197|                   64|  2012-12-01|2024-10-20 00:00:...|                  167|  2012-12-01| 2024-10-20 00:16:21|2012-12-01 00:00:34|       2012|        12|         1|            0|            34|\n",
      "|             M|          27|1421|                   63|  2012-12-01|2024-10-20 00:00:...|                   53|  2012-12-01| 2024-10-20 00:10:16|2012-12-01 00:00:38|       2012|        12|         1|            0|            38|\n",
      "|             M|          31| 842|                   64|  2012-12-01|2024-10-20 00:00:...|                  167|  2012-12-01| 2024-10-20 00:16:27|2012-12-01 00:00:45|       2012|        12|         1|            0|            45|\n",
      "|             M|          35|2979|                   60|  2012-12-01|2024-10-20 00:01:...|                    7|  2012-12-01| 2024-10-20 00:11:20|2012-12-01 00:01:21|       2012|        12|         1|            1|            21|\n",
      "|             M|          33|  13|                   31|  2012-12-01|2024-10-20 00:01:...|                   73|  2012-12-01| 2024-10-20 00:14:19|2012-12-01 00:01:45|       2012|        12|         1|            1|            45|\n",
      "|             M|          44|  34|                   17|  2012-12-01|2024-10-20 00:01:...|                   31|  2012-12-01|2024-10-20 00:06:...|2012-12-01 00:01:50|       2012|        12|         1|            1|            50|\n",
      "|             F|          35|2960|                   29|  2012-12-01|2024-10-20 00:01:...|                   91|  2012-12-01| 2024-10-20 00:15:25|2012-12-01 00:01:50|       2012|        12|         1|            1|            50|\n",
      "|             M|          44|2991|                   25|  2012-12-01|2024-10-20 00:02:...|                   21|  2012-12-01| 2024-10-20 00:09:22|2012-12-01 00:02:39|       2012|        12|         1|            2|            39|\n",
      "+--------------+------------+----+---------------------+------------+--------------------+---------------------+------------+--------------------+-------------------+-----------+----------+----------+-------------+--------------+\n",
      "only showing top 10 rows\n",
      "\n"
     ]
    }
   ],
   "source": [
    "from pyspark.sql import functions as F\n",
    "# Combinar Fecha y Hora de Retiro\n",
    "df_Ret = df.withColumn(\"fecha_hora_retiro\", F.concat_ws(\" \", \"Fecha_Retiro\", F.date_format(\"Hora_Retiro\", \"HH:mm:ss\"))) \\\n",
    "            .withColumn(\"fecha_hora_retiro\", F.to_timestamp(\"fecha_hora_retiro\"))\n",
    "\n",
    "# Extraer año, mes, día, minuto y segundo\n",
    "df_Ret = df_Ret.withColumn(\"anio_retiro\", F.year(\"fecha_hora_retiro\")) \\\n",
    "                .withColumn(\"mes_retiro\", F.month(\"fecha_hora_retiro\")) \\\n",
    "                .withColumn(\"dia_retiro\", F.dayofmonth(\"fecha_hora_retiro\")) \\\n",
    "                .withColumn(\"minuto_retiro\", F.minute(\"fecha_hora_retiro\")) \\\n",
    "                .withColumn(\"segundo_retiro\", F.second(\"fecha_hora_retiro\"))\n",
    "\n",
    "df_Ret.show(10)"
   ]
  },
  {
   "cell_type": "code",
   "execution_count": 6,
   "metadata": {},
   "outputs": [
    {
     "name": "stdout",
     "output_type": "stream",
     "text": [
      "root\n",
      " |-- Genero_Usuario: string (nullable = true)\n",
      " |-- Edad_Usuario: integer (nullable = true)\n",
      " |-- Bici: integer (nullable = true)\n",
      " |-- Ciclo_Estacion_Retiro: integer (nullable = true)\n",
      " |-- Fecha_Retiro: date (nullable = true)\n",
      " |-- Hora_Retiro: timestamp (nullable = true)\n",
      " |-- Ciclo_Estacion_Arribo: integer (nullable = true)\n",
      " |-- Fecha_Arribo: date (nullable = true)\n",
      " |-- Hora_Arribo: timestamp (nullable = true)\n",
      " |-- fecha_hora_retiro: timestamp (nullable = true)\n",
      " |-- anio_retiro: integer (nullable = true)\n",
      " |-- mes_retiro: integer (nullable = true)\n",
      " |-- dia_retiro: integer (nullable = true)\n",
      " |-- minuto_retiro: integer (nullable = true)\n",
      " |-- segundo_retiro: integer (nullable = true)\n",
      "\n"
     ]
    }
   ],
   "source": [
    "df_Ret.printSchema()"
   ]
  },
  {
   "cell_type": "markdown",
   "metadata": {},
   "source": [
    "## Añadir columnas para Fecha y Hora de arribo"
   ]
  },
  {
   "cell_type": "code",
   "execution_count": 7,
   "metadata": {},
   "outputs": [
    {
     "name": "stdout",
     "output_type": "stream",
     "text": [
      "+--------------+------------+----+---------------------+------------+--------------------+---------------------+------------+--------------------+-------------------+-----------+----------+----------+-------------+--------------+\n",
      "|Genero_Usuario|Edad_Usuario|Bici|Ciclo_Estacion_Retiro|Fecha_Retiro|         Hora_Retiro|Ciclo_Estacion_Arribo|Fecha_Arribo|         Hora_Arribo|  fecha_hora_arribo|anio_arribo|mes_arribo|dia_arribo|minuto_arribo|segundo_arribo|\n",
      "+--------------+------------+----+---------------------+------------+--------------------+---------------------+------------+--------------------+-------------------+-----------+----------+----------+-------------+--------------+\n",
      "|             M|          28|2401|                  118|  2012-12-01|2024-10-20 00:00:...|                  118|  2012-12-01| 2024-10-20 00:15:00|2012-12-01 00:15:00|       2012|        12|         1|           15|             0|\n",
      "|             M|          26|1540|                   73|  2012-12-01|2024-10-20 00:00:...|                   63|  2012-12-01|2024-10-20 00:06:...|2012-12-01 00:06:46|       2012|        12|         1|            6|            46|\n",
      "|             F|          30|2197|                   64|  2012-12-01|2024-10-20 00:00:...|                  167|  2012-12-01| 2024-10-20 00:16:21|2012-12-01 00:16:21|       2012|        12|         1|           16|            21|\n",
      "|             M|          27|1421|                   63|  2012-12-01|2024-10-20 00:00:...|                   53|  2012-12-01| 2024-10-20 00:10:16|2012-12-01 00:10:16|       2012|        12|         1|           10|            16|\n",
      "|             M|          31| 842|                   64|  2012-12-01|2024-10-20 00:00:...|                  167|  2012-12-01| 2024-10-20 00:16:27|2012-12-01 00:16:27|       2012|        12|         1|           16|            27|\n",
      "|             M|          35|2979|                   60|  2012-12-01|2024-10-20 00:01:...|                    7|  2012-12-01| 2024-10-20 00:11:20|2012-12-01 00:11:20|       2012|        12|         1|           11|            20|\n",
      "|             M|          33|  13|                   31|  2012-12-01|2024-10-20 00:01:...|                   73|  2012-12-01| 2024-10-20 00:14:19|2012-12-01 00:14:19|       2012|        12|         1|           14|            19|\n",
      "|             M|          44|  34|                   17|  2012-12-01|2024-10-20 00:01:...|                   31|  2012-12-01|2024-10-20 00:06:...|2012-12-01 00:06:19|       2012|        12|         1|            6|            19|\n",
      "|             F|          35|2960|                   29|  2012-12-01|2024-10-20 00:01:...|                   91|  2012-12-01| 2024-10-20 00:15:25|2012-12-01 00:15:25|       2012|        12|         1|           15|            25|\n",
      "|             M|          44|2991|                   25|  2012-12-01|2024-10-20 00:02:...|                   21|  2012-12-01| 2024-10-20 00:09:22|2012-12-01 00:09:22|       2012|        12|         1|            9|            22|\n",
      "+--------------+------------+----+---------------------+------------+--------------------+---------------------+------------+--------------------+-------------------+-----------+----------+----------+-------------+--------------+\n",
      "only showing top 10 rows\n",
      "\n"
     ]
    }
   ],
   "source": [
    "from pyspark.sql import functions as F\n",
    "\n",
    "# Crear la columna fecha_hora_arribo\n",
    "df_Arr = df.withColumn(\"fecha_hora_arribo\", F.concat_ws(\" \", \"Fecha_Arribo\", F.date_format(\"Hora_Arribo\", \"HH:mm:ss\"))) \\\n",
    "           .withColumn(\"fecha_hora_arribo\", F.to_timestamp(\"fecha_hora_arribo\"))\n",
    "\n",
    "# Extraer año, mes, día, minuto y segundo para fecha_hora_arribo\n",
    "df_Arr = df_Arr.withColumn(\"anio_arribo\", F.year(\"fecha_hora_arribo\")) \\\n",
    "               .withColumn(\"mes_arribo\", F.month(\"fecha_hora_arribo\")) \\\n",
    "               .withColumn(\"dia_arribo\", F.dayofmonth(\"fecha_hora_arribo\")) \\\n",
    "               .withColumn(\"minuto_arribo\", F.minute(\"fecha_hora_arribo\")) \\\n",
    "               .withColumn(\"segundo_arribo\", F.second(\"fecha_hora_arribo\"))\n",
    "\n",
    "# Mostrar el DataFrame resultante\n",
    "df_Arr.show(10)\n"
   ]
  },
  {
   "cell_type": "code",
   "execution_count": 8,
   "metadata": {},
   "outputs": [
    {
     "name": "stdout",
     "output_type": "stream",
     "text": [
      "root\n",
      " |-- Genero_Usuario: string (nullable = true)\n",
      " |-- Edad_Usuario: integer (nullable = true)\n",
      " |-- Bici: integer (nullable = true)\n",
      " |-- Ciclo_Estacion_Retiro: integer (nullable = true)\n",
      " |-- Fecha_Retiro: date (nullable = true)\n",
      " |-- Hora_Retiro: timestamp (nullable = true)\n",
      " |-- Ciclo_Estacion_Arribo: integer (nullable = true)\n",
      " |-- Fecha_Arribo: date (nullable = true)\n",
      " |-- Hora_Arribo: timestamp (nullable = true)\n",
      " |-- fecha_hora_arribo: timestamp (nullable = true)\n",
      " |-- anio_arribo: integer (nullable = true)\n",
      " |-- mes_arribo: integer (nullable = true)\n",
      " |-- dia_arribo: integer (nullable = true)\n",
      " |-- minuto_arribo: integer (nullable = true)\n",
      " |-- segundo_arribo: integer (nullable = true)\n",
      "\n"
     ]
    }
   ],
   "source": [
    "df_Arr.printSchema()"
   ]
  },
  {
   "cell_type": "markdown",
   "metadata": {},
   "source": [
    "### Muestra de sólo las columnas que se acaban de añadir"
   ]
  },
  {
   "cell_type": "code",
   "execution_count": 9,
   "metadata": {},
   "outputs": [
    {
     "name": "stderr",
     "output_type": "stream",
     "text": [
      "[Stage 6:====================================================>    (12 + 1) / 13]\r"
     ]
    },
    {
     "name": "stdout",
     "output_type": "stream",
     "text": [
      "+-------------------+-----------+----------+----------+-------------+--------------+-------------------+-----------+----------+----------+-------------+--------------+\n",
      "|  fecha_hora_arribo|anio_arribo|mes_arribo|dia_arribo|minuto_arribo|segundo_arribo|  fecha_hora_retiro|anio_retiro|mes_retiro|dia_retiro|minuto_retiro|segundo_retiro|\n",
      "+-------------------+-----------+----------+----------+-------------+--------------+-------------------+-----------+----------+----------+-------------+--------------+\n",
      "|2012-12-01 13:58:40|       2012|        12|         1|           58|            40|2012-12-01 13:43:43|       2012|        12|         1|           43|            43|\n",
      "|2012-12-01 13:58:40|       2012|        12|         1|           58|            40|2012-12-02 07:33:39|       2012|        12|         2|           33|            39|\n",
      "|2012-12-01 13:58:40|       2012|        12|         1|           58|            40|2012-12-03 08:50:18|       2012|        12|         3|           50|            18|\n",
      "|2012-12-01 13:58:40|       2012|        12|         1|           58|            40|2012-12-03 17:54:58|       2012|        12|         3|           54|            58|\n",
      "|2012-12-01 13:58:40|       2012|        12|         1|           58|            40|2012-12-03 20:28:45|       2012|        12|         3|           28|            45|\n",
      "|2012-12-01 13:58:40|       2012|        12|         1|           58|            40|2012-12-04 08:06:59|       2012|        12|         4|            6|            59|\n",
      "|2012-12-01 13:58:40|       2012|        12|         1|           58|            40|2012-12-04 08:12:07|       2012|        12|         4|           12|             7|\n",
      "|2012-12-01 13:58:40|       2012|        12|         1|           58|            40|2012-12-04 08:57:15|       2012|        12|         4|           57|            15|\n",
      "|2012-12-01 13:58:40|       2012|        12|         1|           58|            40|2012-12-04 14:48:45|       2012|        12|         4|           48|            45|\n",
      "|2012-12-01 13:58:40|       2012|        12|         1|           58|            40|2012-12-04 18:32:10|       2012|        12|         4|           32|            10|\n",
      "|2012-12-01 13:58:40|       2012|        12|         1|           58|            40|2012-12-05 06:13:05|       2012|        12|         5|           13|             5|\n",
      "|2012-12-01 13:58:40|       2012|        12|         1|           58|            40|2012-12-05 08:10:12|       2012|        12|         5|           10|            12|\n",
      "|2012-12-01 13:58:40|       2012|        12|         1|           58|            40|2012-12-05 09:18:50|       2012|        12|         5|           18|            50|\n",
      "|2012-12-01 13:58:40|       2012|        12|         1|           58|            40|2012-12-05 11:01:26|       2012|        12|         5|            1|            26|\n",
      "|2012-12-01 13:58:40|       2012|        12|         1|           58|            40|2012-12-05 13:16:59|       2012|        12|         5|           16|            59|\n",
      "|2012-12-01 13:58:40|       2012|        12|         1|           58|            40|2012-12-05 15:02:44|       2012|        12|         5|            2|            44|\n",
      "|2012-12-01 13:58:40|       2012|        12|         1|           58|            40|2012-12-05 18:19:43|       2012|        12|         5|           19|            43|\n",
      "|2012-12-01 13:58:40|       2012|        12|         1|           58|            40|2012-12-05 18:26:46|       2012|        12|         5|           26|            46|\n",
      "|2012-12-01 13:58:40|       2012|        12|         1|           58|            40|2012-12-06 07:51:14|       2012|        12|         6|           51|            14|\n",
      "|2012-12-01 13:58:40|       2012|        12|         1|           58|            40|2012-12-06 08:57:22|       2012|        12|         6|           57|            22|\n",
      "+-------------------+-----------+----------+----------+-------------+--------------+-------------------+-----------+----------+----------+-------------+--------------+\n",
      "only showing top 20 rows\n",
      "\n"
     ]
    },
    {
     "name": "stderr",
     "output_type": "stream",
     "text": [
      "                                                                                \r"
     ]
    }
   ],
   "source": [
    "# Seleccionar las columnas de arribo y retiro\n",
    "df_combinado = df_Arr.join(\n",
    "    df_Ret,\n",
    "    on=\"Bici\",  \n",
    "    how=\"inner\"  \n",
    ").select(\n",
    "    \"fecha_hora_arribo\",\n",
    "    \"anio_arribo\",\n",
    "    \"mes_arribo\",\n",
    "    \"dia_arribo\",\n",
    "    \"minuto_arribo\",\n",
    "    \"segundo_arribo\",\n",
    "    \"fecha_hora_retiro\",\n",
    "    \"anio_retiro\",\n",
    "    \"mes_retiro\",\n",
    "    \"dia_retiro\",\n",
    "    \"minuto_retiro\",\n",
    "    \"segundo_retiro\"\n",
    ")\n",
    "\n",
    "# Mostrar el DataFrame combinado\n",
    "df_combinado.show()\n"
   ]
  },
  {
   "cell_type": "markdown",
   "metadata": {},
   "source": [
    "## Crear tablas temporales"
   ]
  },
  {
   "cell_type": "code",
   "execution_count": 10,
   "metadata": {},
   "outputs": [
    {
     "name": "stdout",
     "output_type": "stream",
     "text": [
      "root\n",
      " |-- Genero_Usuario: string (nullable = true)\n",
      " |-- Edad_Usuario: integer (nullable = true)\n",
      " |-- Bici: integer (nullable = true)\n",
      " |-- Ciclo_Estacion_Retiro: integer (nullable = true)\n",
      " |-- fecha_hora_arribo: timestamp (nullable = true)\n",
      " |-- anio_arribo: integer (nullable = true)\n",
      " |-- mes_arribo: integer (nullable = true)\n",
      " |-- dia_arribo: integer (nullable = true)\n",
      " |-- minuto_arribo: integer (nullable = true)\n",
      " |-- segundo_arribo: integer (nullable = true)\n",
      " |-- fecha_hora_retiro: timestamp (nullable = true)\n",
      " |-- anio_retiro: integer (nullable = true)\n",
      " |-- mes_retiro: integer (nullable = true)\n",
      " |-- dia_retiro: integer (nullable = true)\n",
      " |-- minuto_retiro: integer (nullable = true)\n",
      " |-- segundo_retiro: integer (nullable = true)\n",
      "\n"
     ]
    }
   ],
   "source": [
    "df_combinado = df_combinado.select(\n",
    "    \"fecha_hora_arribo\",\n",
    "    \"anio_arribo\",\n",
    "    \"mes_arribo\",\n",
    "    \"dia_arribo\",\n",
    "    \"minuto_arribo\",\n",
    "    \"segundo_arribo\",\n",
    "    \"fecha_hora_retiro\",\n",
    "    \"anio_retiro\",\n",
    "    \"mes_retiro\",\n",
    "    \"dia_retiro\",\n",
    "    \"minuto_retiro\",\n",
    "    \"segundo_retiro\"\n",
    ")\n",
    "df_temp = df.select(\n",
    "    \"Genero_Usuario\",\n",
    "    \"Edad_Usuario\",\n",
    "    \"Bici\",\n",
    "    \"Ciclo_Estacion_Retiro\"\n",
    ")\n",
    "df_temp = df_temp.join(df_combinado)\n",
    "\n",
    "df_temp.printSchema()"
   ]
  },
  {
   "cell_type": "code",
   "execution_count": 11,
   "metadata": {},
   "outputs": [
    {
     "name": "stderr",
     "output_type": "stream",
     "text": [
      "24/10/20 11:14:35 WARN SparkStringUtils: Truncated the string representation of a plan since it was too large. This behavior can be adjusted by setting 'spark.sql.debug.maxToStringFields'.\n"
     ]
    }
   ],
   "source": [
    "df_temp.createOrReplaceTempView(\"Ecobicitemporal\")"
   ]
  },
  {
   "cell_type": "markdown",
   "metadata": {},
   "source": [
    "## Gráficas de viajes"
   ]
  },
  {
   "cell_type": "markdown",
   "metadata": {},
   "source": [
    "### Grafica de viajes durante el mes de enero"
   ]
  },
  {
   "cell_type": "code",
   "execution_count": 22,
   "metadata": {},
   "outputs": [
    {
     "ename": "ConnectionRefusedError",
     "evalue": "[Errno 111] Connection refused",
     "output_type": "error",
     "traceback": [
      "\u001b[0;31m---------------------------------------------------------------------------\u001b[0m",
      "\u001b[0;31mConnectionRefusedError\u001b[0m                    Traceback (most recent call last)",
      "Cell \u001b[0;32mIn[22], line 2\u001b[0m\n\u001b[1;32m      1\u001b[0m \u001b[38;5;66;03m# Filtrar los datos solo para el mes de enero\u001b[39;00m\n\u001b[0;32m----> 2\u001b[0m df_enero \u001b[38;5;241m=\u001b[39m df_temp\u001b[38;5;241m.\u001b[39mfilter(\u001b[43mdf_temp\u001b[49m\u001b[43m[\u001b[49m\u001b[38;5;124;43m'\u001b[39;49m\u001b[38;5;124;43mmes_retiro\u001b[39;49m\u001b[38;5;124;43m'\u001b[39;49m\u001b[43m]\u001b[49m \u001b[38;5;241m==\u001b[39m \u001b[38;5;241m1\u001b[39m)\n\u001b[1;32m      4\u001b[0m \u001b[38;5;66;03m# Agrupar los viajes por día en enero\u001b[39;00m\n\u001b[1;32m      5\u001b[0m viajes_enero \u001b[38;5;241m=\u001b[39m df_enero\u001b[38;5;241m.\u001b[39mgroupBy(\u001b[38;5;124m'\u001b[39m\u001b[38;5;124mdia_retiro\u001b[39m\u001b[38;5;124m'\u001b[39m)\u001b[38;5;241m.\u001b[39mcount()\n",
      "File \u001b[0;32m~/Macrodatos/venv/lib/python3.12/site-packages/pyspark/sql/dataframe.py:3080\u001b[0m, in \u001b[0;36mDataFrame.__getitem__\u001b[0;34m(self, item)\u001b[0m\n\u001b[1;32m   3008\u001b[0m \u001b[38;5;250m\u001b[39m\u001b[38;5;124;03m\"\"\"Returns the column as a :class:`Column`.\u001b[39;00m\n\u001b[1;32m   3009\u001b[0m \n\u001b[1;32m   3010\u001b[0m \u001b[38;5;124;03m.. versionadded:: 1.3.0\u001b[39;00m\n\u001b[0;32m   (...)\u001b[0m\n\u001b[1;32m   3077\u001b[0m \u001b[38;5;124;03m+---+----+\u001b[39;00m\n\u001b[1;32m   3078\u001b[0m \u001b[38;5;124;03m\"\"\"\u001b[39;00m\n\u001b[1;32m   3079\u001b[0m \u001b[38;5;28;01mif\u001b[39;00m \u001b[38;5;28misinstance\u001b[39m(item, \u001b[38;5;28mstr\u001b[39m):\n\u001b[0;32m-> 3080\u001b[0m     jc \u001b[38;5;241m=\u001b[39m \u001b[38;5;28;43mself\u001b[39;49m\u001b[38;5;241;43m.\u001b[39;49m\u001b[43m_jdf\u001b[49m\u001b[38;5;241;43m.\u001b[39;49m\u001b[43mapply\u001b[49m\u001b[43m(\u001b[49m\u001b[43mitem\u001b[49m\u001b[43m)\u001b[49m\n\u001b[1;32m   3081\u001b[0m     \u001b[38;5;28;01mreturn\u001b[39;00m Column(jc)\n\u001b[1;32m   3082\u001b[0m \u001b[38;5;28;01melif\u001b[39;00m \u001b[38;5;28misinstance\u001b[39m(item, Column):\n",
      "File \u001b[0;32m~/Macrodatos/venv/lib/python3.12/site-packages/py4j/java_gateway.py:1321\u001b[0m, in \u001b[0;36mJavaMember.__call__\u001b[0;34m(self, *args)\u001b[0m\n\u001b[1;32m   1314\u001b[0m args_command, temp_args \u001b[38;5;241m=\u001b[39m \u001b[38;5;28mself\u001b[39m\u001b[38;5;241m.\u001b[39m_build_args(\u001b[38;5;241m*\u001b[39margs)\n\u001b[1;32m   1316\u001b[0m command \u001b[38;5;241m=\u001b[39m proto\u001b[38;5;241m.\u001b[39mCALL_COMMAND_NAME \u001b[38;5;241m+\u001b[39m\\\n\u001b[1;32m   1317\u001b[0m     \u001b[38;5;28mself\u001b[39m\u001b[38;5;241m.\u001b[39mcommand_header \u001b[38;5;241m+\u001b[39m\\\n\u001b[1;32m   1318\u001b[0m     args_command \u001b[38;5;241m+\u001b[39m\\\n\u001b[1;32m   1319\u001b[0m     proto\u001b[38;5;241m.\u001b[39mEND_COMMAND_PART\n\u001b[0;32m-> 1321\u001b[0m answer \u001b[38;5;241m=\u001b[39m \u001b[38;5;28;43mself\u001b[39;49m\u001b[38;5;241;43m.\u001b[39;49m\u001b[43mgateway_client\u001b[49m\u001b[38;5;241;43m.\u001b[39;49m\u001b[43msend_command\u001b[49m\u001b[43m(\u001b[49m\u001b[43mcommand\u001b[49m\u001b[43m)\u001b[49m\n\u001b[1;32m   1322\u001b[0m return_value \u001b[38;5;241m=\u001b[39m get_return_value(\n\u001b[1;32m   1323\u001b[0m     answer, \u001b[38;5;28mself\u001b[39m\u001b[38;5;241m.\u001b[39mgateway_client, \u001b[38;5;28mself\u001b[39m\u001b[38;5;241m.\u001b[39mtarget_id, \u001b[38;5;28mself\u001b[39m\u001b[38;5;241m.\u001b[39mname)\n\u001b[1;32m   1325\u001b[0m \u001b[38;5;28;01mfor\u001b[39;00m temp_arg \u001b[38;5;129;01min\u001b[39;00m temp_args:\n",
      "File \u001b[0;32m~/Macrodatos/venv/lib/python3.12/site-packages/py4j/java_gateway.py:1036\u001b[0m, in \u001b[0;36mGatewayClient.send_command\u001b[0;34m(self, command, retry, binary)\u001b[0m\n\u001b[1;32m   1015\u001b[0m \u001b[38;5;28;01mdef\u001b[39;00m \u001b[38;5;21msend_command\u001b[39m(\u001b[38;5;28mself\u001b[39m, command, retry\u001b[38;5;241m=\u001b[39m\u001b[38;5;28;01mTrue\u001b[39;00m, binary\u001b[38;5;241m=\u001b[39m\u001b[38;5;28;01mFalse\u001b[39;00m):\n\u001b[1;32m   1016\u001b[0m \u001b[38;5;250m    \u001b[39m\u001b[38;5;124;03m\"\"\"Sends a command to the JVM. This method is not intended to be\u001b[39;00m\n\u001b[1;32m   1017\u001b[0m \u001b[38;5;124;03m       called directly by Py4J users. It is usually called by\u001b[39;00m\n\u001b[1;32m   1018\u001b[0m \u001b[38;5;124;03m       :class:`JavaMember` instances.\u001b[39;00m\n\u001b[0;32m   (...)\u001b[0m\n\u001b[1;32m   1034\u001b[0m \u001b[38;5;124;03m     if `binary` is `True`.\u001b[39;00m\n\u001b[1;32m   1035\u001b[0m \u001b[38;5;124;03m    \"\"\"\u001b[39;00m\n\u001b[0;32m-> 1036\u001b[0m     connection \u001b[38;5;241m=\u001b[39m \u001b[38;5;28;43mself\u001b[39;49m\u001b[38;5;241;43m.\u001b[39;49m\u001b[43m_get_connection\u001b[49m\u001b[43m(\u001b[49m\u001b[43m)\u001b[49m\n\u001b[1;32m   1037\u001b[0m     \u001b[38;5;28;01mtry\u001b[39;00m:\n\u001b[1;32m   1038\u001b[0m         response \u001b[38;5;241m=\u001b[39m connection\u001b[38;5;241m.\u001b[39msend_command(command)\n",
      "File \u001b[0;32m~/Macrodatos/venv/lib/python3.12/site-packages/py4j/clientserver.py:284\u001b[0m, in \u001b[0;36mJavaClient._get_connection\u001b[0;34m(self)\u001b[0m\n\u001b[1;32m    281\u001b[0m     \u001b[38;5;28;01mpass\u001b[39;00m\n\u001b[1;32m    283\u001b[0m \u001b[38;5;28;01mif\u001b[39;00m connection \u001b[38;5;129;01mis\u001b[39;00m \u001b[38;5;28;01mNone\u001b[39;00m \u001b[38;5;129;01mor\u001b[39;00m connection\u001b[38;5;241m.\u001b[39msocket \u001b[38;5;129;01mis\u001b[39;00m \u001b[38;5;28;01mNone\u001b[39;00m:\n\u001b[0;32m--> 284\u001b[0m     connection \u001b[38;5;241m=\u001b[39m \u001b[38;5;28;43mself\u001b[39;49m\u001b[38;5;241;43m.\u001b[39;49m\u001b[43m_create_new_connection\u001b[49m\u001b[43m(\u001b[49m\u001b[43m)\u001b[49m\n\u001b[1;32m    285\u001b[0m \u001b[38;5;28;01mreturn\u001b[39;00m connection\n",
      "File \u001b[0;32m~/Macrodatos/venv/lib/python3.12/site-packages/py4j/clientserver.py:291\u001b[0m, in \u001b[0;36mJavaClient._create_new_connection\u001b[0;34m(self)\u001b[0m\n\u001b[1;32m    287\u001b[0m \u001b[38;5;28;01mdef\u001b[39;00m \u001b[38;5;21m_create_new_connection\u001b[39m(\u001b[38;5;28mself\u001b[39m):\n\u001b[1;32m    288\u001b[0m     connection \u001b[38;5;241m=\u001b[39m ClientServerConnection(\n\u001b[1;32m    289\u001b[0m         \u001b[38;5;28mself\u001b[39m\u001b[38;5;241m.\u001b[39mjava_parameters, \u001b[38;5;28mself\u001b[39m\u001b[38;5;241m.\u001b[39mpython_parameters,\n\u001b[1;32m    290\u001b[0m         \u001b[38;5;28mself\u001b[39m\u001b[38;5;241m.\u001b[39mgateway_property, \u001b[38;5;28mself\u001b[39m)\n\u001b[0;32m--> 291\u001b[0m     \u001b[43mconnection\u001b[49m\u001b[38;5;241;43m.\u001b[39;49m\u001b[43mconnect_to_java_server\u001b[49m\u001b[43m(\u001b[49m\u001b[43m)\u001b[49m\n\u001b[1;32m    292\u001b[0m     \u001b[38;5;28mself\u001b[39m\u001b[38;5;241m.\u001b[39mset_thread_connection(connection)\n\u001b[1;32m    293\u001b[0m     \u001b[38;5;28;01mreturn\u001b[39;00m connection\n",
      "File \u001b[0;32m~/Macrodatos/venv/lib/python3.12/site-packages/py4j/clientserver.py:438\u001b[0m, in \u001b[0;36mClientServerConnection.connect_to_java_server\u001b[0;34m(self)\u001b[0m\n\u001b[1;32m    435\u001b[0m \u001b[38;5;28;01mif\u001b[39;00m \u001b[38;5;28mself\u001b[39m\u001b[38;5;241m.\u001b[39mssl_context:\n\u001b[1;32m    436\u001b[0m     \u001b[38;5;28mself\u001b[39m\u001b[38;5;241m.\u001b[39msocket \u001b[38;5;241m=\u001b[39m \u001b[38;5;28mself\u001b[39m\u001b[38;5;241m.\u001b[39mssl_context\u001b[38;5;241m.\u001b[39mwrap_socket(\n\u001b[1;32m    437\u001b[0m         \u001b[38;5;28mself\u001b[39m\u001b[38;5;241m.\u001b[39msocket, server_hostname\u001b[38;5;241m=\u001b[39m\u001b[38;5;28mself\u001b[39m\u001b[38;5;241m.\u001b[39mjava_address)\n\u001b[0;32m--> 438\u001b[0m \u001b[38;5;28;43mself\u001b[39;49m\u001b[38;5;241;43m.\u001b[39;49m\u001b[43msocket\u001b[49m\u001b[38;5;241;43m.\u001b[39;49m\u001b[43mconnect\u001b[49m\u001b[43m(\u001b[49m\u001b[43m(\u001b[49m\u001b[38;5;28;43mself\u001b[39;49m\u001b[38;5;241;43m.\u001b[39;49m\u001b[43mjava_address\u001b[49m\u001b[43m,\u001b[49m\u001b[43m \u001b[49m\u001b[38;5;28;43mself\u001b[39;49m\u001b[38;5;241;43m.\u001b[39;49m\u001b[43mjava_port\u001b[49m\u001b[43m)\u001b[49m\u001b[43m)\u001b[49m\n\u001b[1;32m    439\u001b[0m \u001b[38;5;28mself\u001b[39m\u001b[38;5;241m.\u001b[39mstream \u001b[38;5;241m=\u001b[39m \u001b[38;5;28mself\u001b[39m\u001b[38;5;241m.\u001b[39msocket\u001b[38;5;241m.\u001b[39mmakefile(\u001b[38;5;124m\"\u001b[39m\u001b[38;5;124mrb\u001b[39m\u001b[38;5;124m\"\u001b[39m)\n\u001b[1;32m    440\u001b[0m \u001b[38;5;28mself\u001b[39m\u001b[38;5;241m.\u001b[39mis_connected \u001b[38;5;241m=\u001b[39m \u001b[38;5;28;01mTrue\u001b[39;00m\n",
      "\u001b[0;31mConnectionRefusedError\u001b[0m: [Errno 111] Connection refused"
     ]
    }
   ],
   "source": [
    "# Filtrar los datos solo para el mes de enero\n",
    "df_enero = df_temp.filter(df_temp['mes_retiro'] == 1)\n",
    "\n",
    "# Agrupar los viajes por día en enero\n",
    "viajes_enero = df_enero.groupBy('dia_retiro').count()\n",
    "\n",
    "# Convertir a pandas para graficar\n",
    "viajes_enero_pd = viajes_enero.toPandas()\n",
    "\n",
    "# Crear la gráfica\n",
    "import matplotlib.pyplot as plt\n",
    "\n",
    "plt.figure(figsize=(10, 6))\n",
    "plt.bar(viajes_enero_pd['dia_retiro'], viajes_enero_pd['count'], color='teal')\n",
    "plt.xlabel('Día del mes')\n",
    "plt.ylabel('Cantidad de viajes')\n",
    "plt.title('Cantidad de viajes en enero por día')\n",
    "plt.xticks(viajes_enero_pd['dia_retiro'])  # Para que se muestren todos los días\n",
    "plt.grid(True)\n",
    "plt.show()\n"
   ]
  }
 ],
 "metadata": {
  "kernelspec": {
   "display_name": "venv",
   "language": "python",
   "name": "python3"
  },
  "language_info": {
   "codemirror_mode": {
    "name": "ipython",
    "version": 3
   },
   "file_extension": ".py",
   "mimetype": "text/x-python",
   "name": "python",
   "nbconvert_exporter": "python",
   "pygments_lexer": "ipython3",
   "version": "3.12.3"
  }
 },
 "nbformat": 4,
 "nbformat_minor": 2
}
