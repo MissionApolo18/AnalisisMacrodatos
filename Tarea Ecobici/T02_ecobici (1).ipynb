{
 "cells": [
  {
   "cell_type": "markdown",
   "id": "b28d9c70",
   "metadata": {},
   "source": [
    "# Procesamiento de los datos de Ecobici\n",
    "## Equipo 3\n",
    "### Integrantes: \n",
    "- Aponte Montes Carlos Daniel\n",
    "- Cruz Ruiz Emiliano \n",
    "- Garcia Bernardino Daniel\n",
    "- Larios Gutierrez Angela Atenea\n",
    "- Rodríguez Almaraz Luis Antonio\n"
   ]
  },
  {
   "cell_type": "code",
   "execution_count": 64,
   "id": "319a43bc-140d-4987-a5c0-10d86f00de89",
   "metadata": {},
   "outputs": [],
   "source": [
    "from pyspark.sql.functions import col, sum, to_date, to_timestamp, regexp_replace, date_format \n",
    "from pyspark.sql.types import IntegerType, DoubleType, FloatType"
   ]
  },
  {
   "cell_type": "code",
   "execution_count": 65,
   "id": "b7627aae-56d2-4fe2-8901-9b44aa50d8d8",
   "metadata": {},
   "outputs": [],
   "source": [
    "dir_hdfs = \"hdfs://namenode:9000/tmp/amd/ecobici_2012\""
   ]
  },
  {
   "cell_type": "code",
   "execution_count": 66,
   "id": "e69f22ad-231f-467a-9ea5-6bdc6b92a04d",
   "metadata": {},
   "outputs": [],
   "source": [
    "df = spark.read.csv(dir_hdfs, header=True, inferSchema=True)"
   ]
  },
  {
   "cell_type": "code",
   "execution_count": 67,
   "id": "476efe6c-dbde-4d58-9918-8a7925610e24",
   "metadata": {},
   "outputs": [
    {
     "name": "stdout",
     "output_type": "stream",
     "text": [
      "root\n",
      " |-- Genero_Usuario: string (nullable = true)\n",
      " |-- Edad_Usuario: integer (nullable = true)\n",
      " |-- Bici: integer (nullable = true)\n",
      " |-- Ciclo_Estacion_Retiro: integer (nullable = true)\n",
      " |-- Fecha_Retiro: date (nullable = true)\n",
      " |-- Hora_Retiro: timestamp (nullable = true)\n",
      " |-- Ciclo_Estacion_Arribo: integer (nullable = true)\n",
      " |-- Fecha_Arribo: date (nullable = true)\n",
      " |-- Hora_Arribo: timestamp (nullable = true)\n",
      "\n"
     ]
    }
   ],
   "source": [
    "df.printSchema()"
   ]
  },
  {
   "cell_type": "code",
   "execution_count": 68,
   "id": "071776dc-605e-4c66-99ce-22f40738c1f2",
   "metadata": {},
   "outputs": [
    {
     "name": "stdout",
     "output_type": "stream",
     "text": [
      "Columnas ['Genero_Usuario', 'Edad_Usuario', 'Bici', 'Ciclo_Estacion_Retiro', 'Fecha_Retiro', 'Hora_Retiro', 'Ciclo_Estacion_Arribo', 'Fecha_Arribo', 'Hora_Arribo']\n"
     ]
    }
   ],
   "source": [
    "print(f\"Columnas {df.columns}\")"
   ]
  },
  {
   "cell_type": "code",
   "execution_count": 69,
   "id": "21a66a4d-5929-4eea-a2cd-f2eb73c92b59",
   "metadata": {},
   "outputs": [
    {
     "name": "stdout",
     "output_type": "stream",
     "text": [
      "+--------------+------------+----+---------------------+------------+-----------------------+---------------------+------------+-------------------+\n",
      "|Genero_Usuario|Edad_Usuario|Bici|Ciclo_Estacion_Retiro|Fecha_Retiro|Hora_Retiro            |Ciclo_Estacion_Arribo|Fecha_Arribo|Hora_Arribo        |\n",
      "+--------------+------------+----+---------------------+------------+-----------------------+---------------------+------------+-------------------+\n",
      "|M             |30          |1667|63                   |2012-11-01  |2024-10-20 00:00:10.72 |132                  |2012-11-01  |2024-10-20 00:21:23|\n",
      "|M             |35          |2710|27                   |2012-11-01  |2024-10-20 00:01:10.847|128                  |2012-11-01  |2024-10-20 00:08:15|\n",
      "|F             |45          |289 |67                   |2012-11-01  |2024-10-20 00:01:12.813|74                   |2012-11-01  |2024-10-20 00:04:04|\n",
      "|M             |24          |1050|106                  |2012-11-01  |2024-10-20 00:01:43.017|106                  |2012-11-01  |2024-10-20 00:20:01|\n",
      "|M             |23          |2733|222                  |2012-11-01  |2024-10-20 00:01:57.94 |54                   |2012-11-01  |2024-10-20 00:21:33|\n",
      "|M             |25          |1262|74                   |2012-11-01  |2024-10-20 00:03:34.41 |54                   |2012-11-01  |2024-10-20 00:08:42|\n",
      "|M             |38          |1206|137                  |2012-11-01  |2024-10-20 00:04:30.69 |145                  |2012-11-01  |2024-10-20 00:09:59|\n",
      "|F             |42          |116 |13                   |2012-11-01  |2024-10-20 00:04:32.313|253                  |2012-11-01  |2024-10-20 00:08:48|\n",
      "|M             |29          |1187|75                   |2012-11-01  |2024-10-20 00:05:38.127|44                   |2012-11-01  |2024-10-20 00:12:27|\n",
      "|M             |57          |3008|118                  |2012-11-01  |2024-10-20 00:05:48.457|8                    |2012-11-01  |2024-10-20 00:11:26|\n",
      "|M             |41          |2958|27                   |2012-11-01  |2024-10-20 00:05:58.47 |248                  |2012-11-01  |2024-10-20 00:24:54|\n",
      "|F             |32          |3145|27                   |2012-11-01  |2024-10-20 00:06:11.347|248                  |2012-11-01  |2024-10-20 00:24:34|\n",
      "|M             |27          |2115|54                   |2012-11-01  |2024-10-20 00:06:15.207|39                   |2012-11-01  |2024-10-20 00:18:03|\n",
      "|M             |46          |2954|11                   |2012-11-01  |2024-10-20 00:08:48.16 |30                   |2012-11-01  |2024-10-20 00:13:03|\n",
      "|M             |25          |1791|78                   |2012-11-01  |2024-10-20 00:09:23.44 |107                  |2012-11-01  |2024-10-20 00:22:54|\n",
      "|M             |27          |445 |208                  |2012-11-01  |2024-10-20 00:10:08.597|225                  |2012-11-01  |2024-10-20 00:16:17|\n",
      "|M             |24          |2432|49                   |2012-11-01  |2024-10-20 00:10:16.753|49                   |2012-11-01  |2024-10-20 00:13:43|\n",
      "|F             |37          |398 |38                   |2012-11-01  |2024-10-20 00:10:31.597|38                   |2012-11-01  |2024-10-20 00:25:52|\n",
      "|M             |31          |1911|46                   |2012-11-01  |2024-10-20 00:11:21.58 |239                  |2012-11-01  |2024-10-20 00:20:15|\n",
      "|M             |41          |863 |58                   |2012-11-01  |2024-10-20 00:11:43.753|73                   |2012-11-01  |2024-10-20 00:26:07|\n",
      "+--------------+------------+----+---------------------+------------+-----------------------+---------------------+------------+-------------------+\n",
      "only showing top 20 rows\n",
      "\n"
     ]
    }
   ],
   "source": [
    "df.show(truncate=False)"
   ]
  },
  {
   "cell_type": "code",
   "execution_count": 70,
   "id": "59bcb768-ff3d-46ef-be11-f59c1505b532",
   "metadata": {},
   "outputs": [
    {
     "name": "stdout",
     "output_type": "stream",
     "text": [
      "+--------------+------------+----+---------------------+------------+-----------+---------------------+------------+-----------+\n",
      "|Genero_Usuario|Edad_Usuario|Bici|Ciclo_Estacion_Retiro|Fecha_Retiro|Hora_Retiro|Ciclo_Estacion_Arribo|Fecha_Arribo|Hora_Arribo|\n",
      "+--------------+------------+----+---------------------+------------+-----------+---------------------+------------+-----------+\n",
      "|M             |30          |1667|63                   |2012-11-01  |00:00:10   |132                  |2012-11-01  |00:21:23   |\n",
      "|M             |35          |2710|27                   |2012-11-01  |00:01:10   |128                  |2012-11-01  |00:08:15   |\n",
      "|F             |45          |289 |67                   |2012-11-01  |00:01:12   |74                   |2012-11-01  |00:04:04   |\n",
      "|M             |24          |1050|106                  |2012-11-01  |00:01:43   |106                  |2012-11-01  |00:20:01   |\n",
      "|M             |23          |2733|222                  |2012-11-01  |00:01:57   |54                   |2012-11-01  |00:21:33   |\n",
      "|M             |25          |1262|74                   |2012-11-01  |00:03:34   |54                   |2012-11-01  |00:08:42   |\n",
      "|M             |38          |1206|137                  |2012-11-01  |00:04:30   |145                  |2012-11-01  |00:09:59   |\n",
      "|F             |42          |116 |13                   |2012-11-01  |00:04:32   |253                  |2012-11-01  |00:08:48   |\n",
      "|M             |29          |1187|75                   |2012-11-01  |00:05:38   |44                   |2012-11-01  |00:12:27   |\n",
      "|M             |57          |3008|118                  |2012-11-01  |00:05:48   |8                    |2012-11-01  |00:11:26   |\n",
      "|M             |41          |2958|27                   |2012-11-01  |00:05:58   |248                  |2012-11-01  |00:24:54   |\n",
      "|F             |32          |3145|27                   |2012-11-01  |00:06:11   |248                  |2012-11-01  |00:24:34   |\n",
      "|M             |27          |2115|54                   |2012-11-01  |00:06:15   |39                   |2012-11-01  |00:18:03   |\n",
      "|M             |46          |2954|11                   |2012-11-01  |00:08:48   |30                   |2012-11-01  |00:13:03   |\n",
      "|M             |25          |1791|78                   |2012-11-01  |00:09:23   |107                  |2012-11-01  |00:22:54   |\n",
      "|M             |27          |445 |208                  |2012-11-01  |00:10:08   |225                  |2012-11-01  |00:16:17   |\n",
      "|M             |24          |2432|49                   |2012-11-01  |00:10:16   |49                   |2012-11-01  |00:13:43   |\n",
      "|F             |37          |398 |38                   |2012-11-01  |00:10:31   |38                   |2012-11-01  |00:25:52   |\n",
      "|M             |31          |1911|46                   |2012-11-01  |00:11:21   |239                  |2012-11-01  |00:20:15   |\n",
      "|M             |41          |863 |58                   |2012-11-01  |00:11:43   |73                   |2012-11-01  |00:26:07   |\n",
      "+--------------+------------+----+---------------------+------------+-----------+---------------------+------------+-----------+\n",
      "only showing top 20 rows\n",
      "\n"
     ]
    }
   ],
   "source": [
    "df = df.withColumn(\"Hora_Retiro\", date_format(col(\"Hora_Retiro\"), \"HH:mm:ss\"))\\\n",
    "       .withColumn(\"Hora_Arribo\", date_format(col(\"Hora_Arribo\"), \"HH:mm:ss\"))\n",
    "\n",
    "df.show(truncate=False)\n"
   ]
  },
  {
   "cell_type": "code",
   "execution_count": 71,
   "id": "a8b2647d-88a6-43e2-a0f1-e15f394ecc82",
   "metadata": {},
   "outputs": [],
   "source": [
    "datos_retiro = df.select(['Genero_Usuario', 'Edad_Usuario','Bici', 'Ciclo_Estacion_Retiro', 'Fecha_Retiro', 'Hora_Retiro' ])"
   ]
  },
  {
   "cell_type": "code",
   "execution_count": 72,
   "id": "e6f40fb9-1bcd-463d-b762-2783f57a026c",
   "metadata": {},
   "outputs": [],
   "source": [
    "datos_arribo = df.select(['Genero_Usuario', 'Edad_Usuario','Bici', 'Ciclo_Estacion_Arribo', 'Fecha_Arribo', 'Hora_Arribo'])"
   ]
  },
  {
   "cell_type": "code",
   "execution_count": 73,
   "id": "8bc22b42-4be1-401e-b97d-7c9fe0002e7f",
   "metadata": {},
   "outputs": [
    {
     "data": {
      "text/plain": [
       "2737917"
      ]
     },
     "execution_count": 73,
     "metadata": {},
     "output_type": "execute_result"
    }
   ],
   "source": [
    "datos_retiro.count()"
   ]
  },
  {
   "cell_type": "code",
   "execution_count": 74,
   "id": "8acab7fd-ecfc-4bdc-8f74-b85f395113a5",
   "metadata": {},
   "outputs": [
    {
     "name": "stdout",
     "output_type": "stream",
     "text": [
      "+--------------+------------+----+---------------------+------------+-----------+\n",
      "|Genero_Usuario|Edad_Usuario|Bici|Ciclo_Estacion_Retiro|Fecha_Retiro|Hora_Retiro|\n",
      "+--------------+------------+----+---------------------+------------+-----------+\n",
      "|             M|          30|1667|                   63|  2012-11-01|   00:00:10|\n",
      "|             M|          35|2710|                   27|  2012-11-01|   00:01:10|\n",
      "|             F|          45| 289|                   67|  2012-11-01|   00:01:12|\n",
      "|             M|          24|1050|                  106|  2012-11-01|   00:01:43|\n",
      "|             M|          23|2733|                  222|  2012-11-01|   00:01:57|\n",
      "|             M|          25|1262|                   74|  2012-11-01|   00:03:34|\n",
      "|             M|          38|1206|                  137|  2012-11-01|   00:04:30|\n",
      "|             F|          42| 116|                   13|  2012-11-01|   00:04:32|\n",
      "|             M|          29|1187|                   75|  2012-11-01|   00:05:38|\n",
      "|             M|          57|3008|                  118|  2012-11-01|   00:05:48|\n",
      "|             M|          41|2958|                   27|  2012-11-01|   00:05:58|\n",
      "|             F|          32|3145|                   27|  2012-11-01|   00:06:11|\n",
      "|             M|          27|2115|                   54|  2012-11-01|   00:06:15|\n",
      "|             M|          46|2954|                   11|  2012-11-01|   00:08:48|\n",
      "|             M|          25|1791|                   78|  2012-11-01|   00:09:23|\n",
      "|             M|          27| 445|                  208|  2012-11-01|   00:10:08|\n",
      "|             M|          24|2432|                   49|  2012-11-01|   00:10:16|\n",
      "|             F|          37| 398|                   38|  2012-11-01|   00:10:31|\n",
      "|             M|          31|1911|                   46|  2012-11-01|   00:11:21|\n",
      "|             M|          41| 863|                   58|  2012-11-01|   00:11:43|\n",
      "+--------------+------------+----+---------------------+------------+-----------+\n",
      "only showing top 20 rows\n",
      "\n",
      "root\n",
      " |-- Genero_Usuario: string (nullable = true)\n",
      " |-- Edad_Usuario: integer (nullable = true)\n",
      " |-- Bici: integer (nullable = true)\n",
      " |-- Ciclo_Estacion_Retiro: integer (nullable = true)\n",
      " |-- Fecha_Retiro: date (nullable = true)\n",
      " |-- Hora_Retiro: string (nullable = true)\n",
      "\n"
     ]
    }
   ],
   "source": [
    "#Casteo de columnas\n",
    "#datos_retiro = datos_retiro.withColumn(\"Hora_Retiro\", date_format(col(\"Hora_Retiro\"), \"HH:mm:ss\"))\n",
    "\n",
    "datos_retiro.show()\n",
    "datos_retiro.printSchema()\n"
   ]
  },
  {
   "cell_type": "code",
   "execution_count": 75,
   "id": "1c97954e-b0ff-40f6-8e6a-230a0fb0990a",
   "metadata": {},
   "outputs": [
    {
     "name": "stdout",
     "output_type": "stream",
     "text": [
      "+--------------+------------+----+---------------------+------------+-----------+\n",
      "|Genero_Usuario|Edad_Usuario|Bici|Ciclo_Estacion_Arribo|Fecha_Arribo|Hora_Arribo|\n",
      "+--------------+------------+----+---------------------+------------+-----------+\n",
      "|             M|          30|1667|                  132|  2012-11-01|   00:21:23|\n",
      "|             M|          35|2710|                  128|  2012-11-01|   00:08:15|\n",
      "|             F|          45| 289|                   74|  2012-11-01|   00:04:04|\n",
      "|             M|          24|1050|                  106|  2012-11-01|   00:20:01|\n",
      "|             M|          23|2733|                   54|  2012-11-01|   00:21:33|\n",
      "|             M|          25|1262|                   54|  2012-11-01|   00:08:42|\n",
      "|             M|          38|1206|                  145|  2012-11-01|   00:09:59|\n",
      "|             F|          42| 116|                  253|  2012-11-01|   00:08:48|\n",
      "|             M|          29|1187|                   44|  2012-11-01|   00:12:27|\n",
      "|             M|          57|3008|                    8|  2012-11-01|   00:11:26|\n",
      "|             M|          41|2958|                  248|  2012-11-01|   00:24:54|\n",
      "|             F|          32|3145|                  248|  2012-11-01|   00:24:34|\n",
      "|             M|          27|2115|                   39|  2012-11-01|   00:18:03|\n",
      "|             M|          46|2954|                   30|  2012-11-01|   00:13:03|\n",
      "|             M|          25|1791|                  107|  2012-11-01|   00:22:54|\n",
      "|             M|          27| 445|                  225|  2012-11-01|   00:16:17|\n",
      "|             M|          24|2432|                   49|  2012-11-01|   00:13:43|\n",
      "|             F|          37| 398|                   38|  2012-11-01|   00:25:52|\n",
      "|             M|          31|1911|                  239|  2012-11-01|   00:20:15|\n",
      "|             M|          41| 863|                   73|  2012-11-01|   00:26:07|\n",
      "+--------------+------------+----+---------------------+------------+-----------+\n",
      "only showing top 20 rows\n",
      "\n",
      "root\n",
      " |-- Genero_Usuario: string (nullable = true)\n",
      " |-- Edad_Usuario: integer (nullable = true)\n",
      " |-- Bici: integer (nullable = true)\n",
      " |-- Ciclo_Estacion_Arribo: integer (nullable = true)\n",
      " |-- Fecha_Arribo: date (nullable = true)\n",
      " |-- Hora_Arribo: string (nullable = true)\n",
      "\n"
     ]
    }
   ],
   "source": [
    "#datos_arribo = datos_arribo.withColumn(\"Hora_Arribo\", date_format(col(\"Hora_Arribo\"), \"HH:mm:ss\"))\n",
    "\n",
    "datos_arribo.show()\n",
    "datos_arribo.printSchema()"
   ]
  },
  {
   "cell_type": "markdown",
   "id": "77aa9e73",
   "metadata": {},
   "source": [
    "## Desglose de tiempo\n",
    "Por año (anio), mes, día, semana, hora, minuto y segundo para los tiempos y fechas de Retiro y Arribo"
   ]
  },
  {
   "cell_type": "code",
   "execution_count": 102,
   "id": "21371936-6dff-4c37-a6f4-99db218aeabc",
   "metadata": {},
   "outputs": [
    {
     "name": "stdout",
     "output_type": "stream",
     "text": [
      "+--------------+------------+----+---------------------+-----------+----------+----------+-------------+-----------------+-----------+-------------+--------------+\n",
      "|Genero_Usuario|Edad_Usuario|Bici|Ciclo_Estacion_Retiro|anio_retiro|mes_retiro|dia_retiro|semana_retiro|nombre_dia_retiro|hora_retiro|minuto_retiro|segundo_retiro|\n",
      "+--------------+------------+----+---------------------+-----------+----------+----------+-------------+-----------------+-----------+-------------+--------------+\n",
      "|M             |30          |1667|63                   |2012       |11        |1         |44           |Thursday         |0          |0            |10            |\n",
      "|M             |35          |2710|27                   |2012       |11        |1         |44           |Thursday         |0          |1            |10            |\n",
      "|F             |45          |289 |67                   |2012       |11        |1         |44           |Thursday         |0          |1            |12            |\n",
      "|M             |24          |1050|106                  |2012       |11        |1         |44           |Thursday         |0          |1            |43            |\n",
      "|M             |23          |2733|222                  |2012       |11        |1         |44           |Thursday         |0          |1            |57            |\n",
      "|M             |25          |1262|74                   |2012       |11        |1         |44           |Thursday         |0          |3            |34            |\n",
      "|M             |38          |1206|137                  |2012       |11        |1         |44           |Thursday         |0          |4            |30            |\n",
      "|F             |42          |116 |13                   |2012       |11        |1         |44           |Thursday         |0          |4            |32            |\n",
      "|M             |29          |1187|75                   |2012       |11        |1         |44           |Thursday         |0          |5            |38            |\n",
      "|M             |57          |3008|118                  |2012       |11        |1         |44           |Thursday         |0          |5            |48            |\n",
      "|M             |41          |2958|27                   |2012       |11        |1         |44           |Thursday         |0          |5            |58            |\n",
      "|F             |32          |3145|27                   |2012       |11        |1         |44           |Thursday         |0          |6            |11            |\n",
      "|M             |27          |2115|54                   |2012       |11        |1         |44           |Thursday         |0          |6            |15            |\n",
      "|M             |46          |2954|11                   |2012       |11        |1         |44           |Thursday         |0          |8            |48            |\n",
      "|M             |25          |1791|78                   |2012       |11        |1         |44           |Thursday         |0          |9            |23            |\n",
      "|M             |27          |445 |208                  |2012       |11        |1         |44           |Thursday         |0          |10           |8             |\n",
      "|M             |24          |2432|49                   |2012       |11        |1         |44           |Thursday         |0          |10           |16            |\n",
      "|F             |37          |398 |38                   |2012       |11        |1         |44           |Thursday         |0          |10           |31            |\n",
      "|M             |31          |1911|46                   |2012       |11        |1         |44           |Thursday         |0          |11           |21            |\n",
      "|M             |41          |863 |58                   |2012       |11        |1         |44           |Thursday         |0          |11           |43            |\n",
      "+--------------+------------+----+---------------------+-----------+----------+----------+-------------+-----------------+-----------+-------------+--------------+\n",
      "only showing top 20 rows\n",
      "\n"
     ]
    }
   ],
   "source": [
    "#Agregar campos anio, mes, dia, hora, minuto, segundo, dia de la semana en datos arribo\n",
    "from pyspark.sql.functions import hour, minute, second, year, month, dayofmonth, weekofyear\n",
    "colfs=\"Fecha_Retiro\"\n",
    "colhs = \"Hora_Retiro\"\n",
    "\n",
    "df_tiempo_retiro = datos_retiro.select(\n",
    "    col(\"Genero_Usuario\"), col(\"Edad_Usuario\"), col(\"Bici\"), col(\"Ciclo_Estacion_Retiro\"), \n",
    "    year(col(colfs)).alias(\"anio_retiro\"),\n",
    "    month(col(colfs)).alias(\"mes_retiro\"),\n",
    "    dayofmonth(col(colfs)).alias(\"dia_retiro\"),\n",
    "    weekofyear(col(colfs)).alias(\"semana_retiro\"),\n",
    "    date_format(col(colfs),\"EEEE\").alias(\"nombre_dia_retiro\"),\n",
    "    hour(col(colhs)).alias(\"hora_retiro\"),\n",
    "    minute(col(colhs)).alias(\"minuto_retiro\"),\n",
    "    second(col(colhs)).alias(\"segundo_retiro\")\n",
    "\n",
    "\n",
    "\n",
    ")\n",
    "\n",
    "df_tiempo_retiro.show(truncate = False)"
   ]
  },
  {
   "cell_type": "code",
   "execution_count": 101,
   "id": "e394b487-dd62-4649-b60c-4c9e00a4b6b1",
   "metadata": {},
   "outputs": [
    {
     "name": "stdout",
     "output_type": "stream",
     "text": [
      "+--------------+------------+----+---------------------+-----------+----------+----------+-------------+-----------------+-----------+-------------+--------------+\n",
      "|Genero_Usuario|Edad_Usuario|Bici|Ciclo_Estacion_Arribo|anio_arribo|mes_arribo|dia_arribo|semana_arribo|nombre_dia_arribo|hora_arribo|minuto_arribo|segundo_arribo|\n",
      "+--------------+------------+----+---------------------+-----------+----------+----------+-------------+-----------------+-----------+-------------+--------------+\n",
      "|M             |30          |1667|132                  |2012       |11        |1         |44           |Thursday         |0          |21           |23            |\n",
      "|M             |35          |2710|128                  |2012       |11        |1         |44           |Thursday         |0          |8            |15            |\n",
      "|F             |45          |289 |74                   |2012       |11        |1         |44           |Thursday         |0          |4            |4             |\n",
      "|M             |24          |1050|106                  |2012       |11        |1         |44           |Thursday         |0          |20           |1             |\n",
      "|M             |23          |2733|54                   |2012       |11        |1         |44           |Thursday         |0          |21           |33            |\n",
      "|M             |25          |1262|54                   |2012       |11        |1         |44           |Thursday         |0          |8            |42            |\n",
      "|M             |38          |1206|145                  |2012       |11        |1         |44           |Thursday         |0          |9            |59            |\n",
      "|F             |42          |116 |253                  |2012       |11        |1         |44           |Thursday         |0          |8            |48            |\n",
      "|M             |29          |1187|44                   |2012       |11        |1         |44           |Thursday         |0          |12           |27            |\n",
      "|M             |57          |3008|8                    |2012       |11        |1         |44           |Thursday         |0          |11           |26            |\n",
      "|M             |41          |2958|248                  |2012       |11        |1         |44           |Thursday         |0          |24           |54            |\n",
      "|F             |32          |3145|248                  |2012       |11        |1         |44           |Thursday         |0          |24           |34            |\n",
      "|M             |27          |2115|39                   |2012       |11        |1         |44           |Thursday         |0          |18           |3             |\n",
      "|M             |46          |2954|30                   |2012       |11        |1         |44           |Thursday         |0          |13           |3             |\n",
      "|M             |25          |1791|107                  |2012       |11        |1         |44           |Thursday         |0          |22           |54            |\n",
      "|M             |27          |445 |225                  |2012       |11        |1         |44           |Thursday         |0          |16           |17            |\n",
      "|M             |24          |2432|49                   |2012       |11        |1         |44           |Thursday         |0          |13           |43            |\n",
      "|F             |37          |398 |38                   |2012       |11        |1         |44           |Thursday         |0          |25           |52            |\n",
      "|M             |31          |1911|239                  |2012       |11        |1         |44           |Thursday         |0          |20           |15            |\n",
      "|M             |41          |863 |73                   |2012       |11        |1         |44           |Thursday         |0          |26           |7             |\n",
      "+--------------+------------+----+---------------------+-----------+----------+----------+-------------+-----------------+-----------+-------------+--------------+\n",
      "only showing top 20 rows\n",
      "\n"
     ]
    }
   ],
   "source": [
    "#Agregar campos anio, mes, dia, hora, minuto, segundo, dia de la semana en el datos_arribo\n",
    "from pyspark.sql.functions import hour, minute, second, year, month, dayofmonth, weekofyear\n",
    "colfs=\"Fecha_Arribo\"\n",
    "colhs = \"Hora_Arribo\"\n",
    "\n",
    "df_tiempo_arribo = datos_arribo.select(\n",
    "    col(\"Genero_Usuario\"), col(\"Edad_Usuario\"), col(\"Bici\"), col(\"Ciclo_Estacion_Arribo\"), \n",
    "    year(col(colfs)).alias(\"anio_arribo\"),\n",
    "    month(col(colfs)).alias(\"mes_arribo\"),\n",
    "    dayofmonth(col(colfs)).alias(\"dia_arribo\"),\n",
    "    weekofyear(col(colfs)).alias(\"semana_arribo\"),\n",
    "    date_format(col(colfs),\"EEEE\").alias(\"nombre_dia_arribo\"),\n",
    "    hour(col(colhs)).alias(\"hora_arribo\"),\n",
    "    minute(col(colhs)).alias(\"minuto_arribo\"),\n",
    "    second(col(colhs)).alias(\"segundo_arribo\")\n",
    "\n",
    "\n",
    "\n",
    ")\n",
    "\n",
    "df_tiempo_arribo.show(truncate = False)"
   ]
  },
  {
   "cell_type": "markdown",
   "id": "21951ae8",
   "metadata": {},
   "source": [
    "## Guardar / crear df temporal"
   ]
  },
  {
   "cell_type": "code",
   "execution_count": 78,
   "id": "0db534f4-f5af-47e6-9471-6dfe983d152c",
   "metadata": {},
   "outputs": [],
   "source": [
    "#Guardar el nuevo df"
   ]
  },
  {
   "cell_type": "code",
   "execution_count": 103,
   "id": "a54cc911-7747-4e45-8bec-1c6d4a8840eb",
   "metadata": {},
   "outputs": [],
   "source": [
    "df.createOrReplaceTempView(\"ECOBICI\")\n",
    "df_tiempo_retiro.createOrReplaceTempView(\"ECOBICI_retiro\")\n",
    "df_tiempo_arribo.createOrReplaceTempView(\"ECOBICI_arribo\")\n"
   ]
  },
  {
   "cell_type": "code",
   "execution_count": 104,
   "id": "bc9cf0c5-f4ec-412e-a651-4f00beededc3",
   "metadata": {},
   "outputs": [
    {
     "name": "stdout",
     "output_type": "stream",
     "text": [
      "+---------+--------------+-----------+\n",
      "|namespace|     tableName|isTemporary|\n",
      "+---------+--------------+-----------+\n",
      "|         |       ecobici|       true|\n",
      "|         |ecobici_arribo|       true|\n",
      "|         |ecobici_retiro|       true|\n",
      "+---------+--------------+-----------+\n",
      "\n"
     ]
    }
   ],
   "source": [
    "spark.sql(\"show tables\").show()"
   ]
  },
  {
   "cell_type": "code",
   "execution_count": 81,
   "id": "e856e499-985a-448b-b651-87885f2c799f",
   "metadata": {},
   "outputs": [
    {
     "name": "stdout",
     "output_type": "stream",
     "text": [
      "+--------------------+---------+-------+\n",
      "|            col_name|data_type|comment|\n",
      "+--------------------+---------+-------+\n",
      "|      Genero_Usuario|   string|   NULL|\n",
      "|        Edad_Usuario|      int|   NULL|\n",
      "|                Bici|      int|   NULL|\n",
      "|Ciclo_Estacion_Re...|      int|   NULL|\n",
      "|        Fecha_Retiro|     date|   NULL|\n",
      "|         Hora_Retiro|   string|   NULL|\n",
      "|Ciclo_Estacion_Ar...|      int|   NULL|\n",
      "|        Fecha_Arribo|     date|   NULL|\n",
      "|         Hora_Arribo|   string|   NULL|\n",
      "+--------------------+---------+-------+\n",
      "\n"
     ]
    }
   ],
   "source": [
    "spark.sql(\"describe ecobici\").show()"
   ]
  },
  {
   "cell_type": "markdown",
   "id": "d946e78a",
   "metadata": {},
   "source": [
    "## 10 estaciones con mayores viajes de inicio"
   ]
  },
  {
   "cell_type": "code",
   "execution_count": 83,
   "id": "ba0da954-d59c-4b95-b2f8-2aea12aaace8",
   "metadata": {},
   "outputs": [
    {
     "name": "stdout",
     "output_type": "stream",
     "text": [
      "+---------------+----------+\n",
      "|estacion_inicio|num_viajes|\n",
      "+---------------+----------+\n",
      "|36             |58881     |\n",
      "|27             |56857     |\n",
      "|1              |55942     |\n",
      "|64             |54646     |\n",
      "|41             |52026     |\n",
      "|13             |45488     |\n",
      "|85             |44145     |\n",
      "|18             |43521     |\n",
      "|84             |42217     |\n",
      "|21             |39311     |\n",
      "+---------------+----------+\n",
      "\n"
     ]
    }
   ],
   "source": [
    "#Mostrar las 10 estaciones con mayores viajes de inicio\n",
    "strsql = \"\"\"\n",
    "SELECT Ciclo_Estacion_Retiro AS estacion_inicio, COUNT(*) AS num_viajes\n",
    "FROM ecobici\n",
    "GROUP BY Ciclo_Estacion_Retiro\n",
    "ORDER BY num_viajes DESC\n",
    "LIMIT 10\n",
    "\"\"\"\n",
    "spark.sql(strsql).show(10, truncate=False)"
   ]
  },
  {
   "cell_type": "markdown",
   "id": "969b22dc",
   "metadata": {},
   "source": [
    "## Las 5 horas con mayor demanda"
   ]
  },
  {
   "cell_type": "code",
   "execution_count": 84,
   "id": "32208b9b-b6f1-40e3-897d-9a38ef77a87d",
   "metadata": {},
   "outputs": [
    {
     "name": "stdout",
     "output_type": "stream",
     "text": [
      "+--------+----------+\n",
      "|hora    |num_viajes|\n",
      "+--------+----------+\n",
      "|08:48:55|113       |\n",
      "|08:57:33|112       |\n",
      "|08:55:28|110       |\n",
      "|08:54:08|110       |\n",
      "|08:57:36|109       |\n",
      "+--------+----------+\n",
      "\n"
     ]
    }
   ],
   "source": [
    "#Mostrar las 5 horas con mayor demanda\n",
    "strsql = \"\"\"\n",
    "SELECT Hora_Retiro AS hora, COUNT(*) AS num_viajes\n",
    "FROM ecobici\n",
    "GROUP BY Hora_Retiro\n",
    "ORDER BY num_viajes DESC\n",
    "LIMIT 5\n",
    "\"\"\"\n",
    "spark.sql(strsql).show(5, truncate=False)"
   ]
  },
  {
   "cell_type": "code",
   "execution_count": 87,
   "id": "1695692b-34ea-4bdf-9c4c-32636b37d213",
   "metadata": {},
   "outputs": [
    {
     "name": "stdout",
     "output_type": "stream",
     "text": [
      "+----+----------+\n",
      "|hora|num_viajes|\n",
      "+----+----------+\n",
      "|18  |234658    |\n",
      "|8   |222619    |\n",
      "|14  |220045    |\n",
      "|19  |217117    |\n",
      "|15  |210520    |\n",
      "+----+----------+\n",
      "\n"
     ]
    }
   ],
   "source": [
    "#Mostrar las 5 horas con mayor demanda\n",
    "strsql = \"\"\"\n",
    "SELECT HOUR(Hora_Retiro) AS hora, COUNT(*) AS num_viajes\n",
    "FROM ecobici\n",
    "GROUP BY HOUR(Hora_Retiro)\n",
    "ORDER BY num_viajes DESC\n",
    "LIMIT 5\n",
    "\"\"\"\n",
    "spark.sql(strsql).show(5, truncate=False)"
   ]
  },
  {
   "cell_type": "markdown",
   "id": "0017a80d",
   "metadata": {},
   "source": [
    "## El día de la semana con menor demanda"
   ]
  },
  {
   "cell_type": "code",
   "execution_count": 91,
   "id": "6981e83c-a7b2-4d48-b48d-13301cddefd8",
   "metadata": {},
   "outputs": [
    {
     "name": "stdout",
     "output_type": "stream",
     "text": [
      "+----------+----------+\n",
      "|dia_semana|num_viajes|\n",
      "+----------+----------+\n",
      "|1         |201247    |\n",
      "+----------+----------+\n",
      "\n"
     ]
    }
   ],
   "source": [
    "#Mostrar el dia de la semana con menor demanda\n",
    "strsql = \"\"\"\n",
    "SELECT DAYOFWEEK(Fecha_Retiro) AS dia_semana, COUNT(*) AS num_viajes\n",
    "FROM ecobici\n",
    "GROUP BY DAYOFWEEK(Fecha_Retiro)\n",
    "ORDER BY num_viajes ASC\n",
    "LIMIT 1\n",
    "\"\"\"\n",
    "spark.sql(strsql).show(truncate=False)"
   ]
  },
  {
   "cell_type": "code",
   "execution_count": 105,
   "id": "1a2e6bd6-b2d3-4b29-ac7d-f82c027f0ead",
   "metadata": {},
   "outputs": [
    {
     "name": "stdout",
     "output_type": "stream",
     "text": [
      "+----------+----------+\n",
      "|dia_semana|num_viajes|\n",
      "+----------+----------+\n",
      "|Sunday    |201247    |\n",
      "+----------+----------+\n",
      "\n"
     ]
    }
   ],
   "source": [
    "strsql = \"\"\"\n",
    "SELECT nombre_dia_retiro AS dia_semana, COUNT(*) AS num_viajes\n",
    "FROM ecobici_retiro\n",
    "GROUP BY nombre_dia_retiro\n",
    "ORDER BY num_viajes ASC\n",
    "LIMIT 1\n",
    "\"\"\"\n",
    "spark.sql(strsql).show(truncate=False)"
   ]
  },
  {
   "cell_type": "markdown",
   "id": "b0be4f34",
   "metadata": {},
   "source": [
    "## Estadísticas descriptivas"
   ]
  },
  {
   "cell_type": "code",
   "execution_count": 97,
   "id": "b73806f8-dae0-42fe-a0b1-4bc8d9fccfc8",
   "metadata": {},
   "outputs": [
    {
     "name": "stdout",
     "output_type": "stream",
     "text": [
      "+-------+-----------------+--------------+--------------+-------------------+\n",
      "|  Total| Promedio de edad|Minimo de edad|Maximo de edad|Desviación estandar|\n",
      "+-------+-----------------+--------------+--------------+-------------------+\n",
      "|2737917|34.98756719067817|            16|            80| 10.167090270059765|\n",
      "+-------+-----------------+--------------+--------------+-------------------+\n",
      "\n"
     ]
    }
   ],
   "source": [
    "from pyspark.sql import functions as F\n",
    "\n",
    "stats = spark.table(\"ecobici\").agg(\n",
    "    F.count(\"*\").alias(\"Total\"),\n",
    "    F.mean(\"Edad_Usuario\").alias(\"Promedio de edad\"),\n",
    "    F.min(\"Edad_Usuario\").alias(\"Minimo de edad\"),\n",
    "    F.max(\"Edad_Usuario\").alias(\"Maximo de edad\"),\n",
    "    F.stddev(\"Edad_Usuario\").alias(\"Desviación estandar\")\n",
    ")\n",
    "\n",
    "stats.show()\n"
   ]
  },
  {
   "cell_type": "code",
   "execution_count": 95,
   "id": "9c874219-5507-48fc-a11a-b7b0af97c3a5",
   "metadata": {},
   "outputs": [
    {
     "name": "stdout",
     "output_type": "stream",
     "text": [
      "+--------------+------------+----------------------+------------------+-----------+-----------+------------------------+\n",
      "|Genero_Usuario|Total_Viajes|Total_Edades_Distintas|Edad_Promedio     |Edad_Minima|Edad_Maxima|Edad_Desviacion_Estandar|\n",
      "+--------------+------------+----------------------+------------------+-----------+-----------+------------------------+\n",
      "|F             |777068      |63                    |33.334058280613796|16         |80         |9.312471175197944       |\n",
      "|M             |1960849     |65                    |35.642838892744926|16         |80         |10.414134576273897      |\n",
      "+--------------+------------+----------------------+------------------+-----------+-----------+------------------------+\n",
      "\n"
     ]
    }
   ],
   "source": [
    "from pyspark.sql import functions as F\n",
    "\n",
    "\n",
    "stats_genero = spark.table(\"ecobici\").groupBy(\"Genero_Usuario\").agg(\n",
    "    F.count(\"*\").alias(\"Total_Viajes\"),\n",
    "    F.countDistinct(\"Edad_Usuario\").alias(\"Total_Edades_Distintas\"),\n",
    "    F.mean(\"Edad_Usuario\").alias(\"Edad_Promedio\"),\n",
    "    F.min(\"Edad_Usuario\").alias(\"Edad_Minima\"),\n",
    "    F.max(\"Edad_Usuario\").alias(\"Edad_Maxima\"),\n",
    "    F.stddev(\"Edad_Usuario\").alias(\"Edad_Desviacion_Estandar\")\n",
    ")\n",
    "\n",
    "stats_genero.show(truncate=False)"
   ]
  },
  {
   "cell_type": "code",
   "execution_count": 99,
   "id": "c07436f1-66a6-4ec0-b60a-0b35bfb86189",
   "metadata": {},
   "outputs": [
    {
     "name": "stdout",
     "output_type": "stream",
     "text": [
      "+---------------------+\n",
      "|Total_Bicis_Distintas|\n",
      "+---------------------+\n",
      "|3358                 |\n",
      "+---------------------+\n",
      "\n"
     ]
    }
   ],
   "source": [
    "from pyspark.sql import functions as F\n",
    "\n",
    "stats_bici = spark.table(\"ecobici\").agg(\n",
    "    F.countDistinct(\"Bici\").alias(\"Total_Bicis_Distintas\"),\n",
    ")\n",
    "\n",
    "stats_bici.show(truncate=False)"
   ]
  },
  {
   "cell_type": "markdown",
   "id": "8b9d7b0b",
   "metadata": {},
   "source": [
    "## Agrupaciones y Gráficas"
   ]
  },
  {
   "cell_type": "markdown",
   "id": "b5b0861e",
   "metadata": {},
   "source": [
    "### Viajes por estación"
   ]
  },
  {
   "cell_type": "code",
   "execution_count": null,
   "id": "96bbb769",
   "metadata": {},
   "outputs": [],
   "source": [
    "#Ejecuta y luego borra las celdas\n",
    "!pip install matplotlib"
   ]
  },
  {
   "cell_type": "code",
   "execution_count": null,
   "id": "f44e6dad",
   "metadata": {},
   "outputs": [],
   "source": [
    "!pip install numpy"
   ]
  },
  {
   "cell_type": "code",
   "execution_count": null,
   "id": "a28faeaa",
   "metadata": {},
   "outputs": [],
   "source": [
    "viajes_por_estacion = df.groupBy('Ciclo_Estacion_Retiro').\\\n",
    "    count().orderBy('Ciclo_Estacion_Retiro', ascending=True)\n",
    "print(f\"Viajes por estación\")\n"
   ]
  },
  {
   "cell_type": "code",
   "execution_count": null,
   "id": "dca13269",
   "metadata": {},
   "outputs": [],
   "source": [
    "import matplotlib.pyplot as plt\n",
    "\n",
    "# Obtener los datos de viajes por estación\n",
    "viajes_por_estacion_data = viajes_por_estacion.collect()\n",
    "\n",
    "# Separar los datos en listas para la gráfica\n",
    "estaciones = [row.Ciclo_Estacion_Retiro for row in viajes_por_estacion_data]\n",
    "cuentas = [row['count'] for row in viajes_por_estacion_data]\n",
    "\n",
    "# Crear la gráfica\n",
    "plt.figure(figsize=(12, 6))\n",
    "plt.bar(estaciones, cuentas, color='#c74777')\n",
    "plt.xlabel('Estación Retiro')\n",
    "plt.ylabel('Número de Viajes')\n",
    "plt.title('Viajes por Estación')\n",
    "plt.xticks(rotation=45)\n",
    "plt.tight_layout()  \n",
    "\n",
    "# Mostrar la gráfica\n",
    "viajes_por_estacion_data.show(100, truncate=False)\n",
    "plt.show()"
   ]
  },
  {
   "cell_type": "markdown",
   "id": "0d0b2c19",
   "metadata": {},
   "source": [
    "### Viajes por Género"
   ]
  },
  {
   "cell_type": "code",
   "execution_count": null,
   "id": "d905872d",
   "metadata": {},
   "outputs": [],
   "source": [
    "viajes_por_genero = df.groupBy('Genero_Usuario').count().orderBy('count', ascending=True)\n",
    "\n",
    "print(f\"Viajes por Género\")"
   ]
  },
  {
   "cell_type": "code",
   "execution_count": null,
   "id": "aeb65349",
   "metadata": {},
   "outputs": [],
   "source": [
    "import matplotlib.pyplot as plt\n",
    "\n",
    "# Obtener los datos de viajes por género\n",
    "viajes_por_genero_data = viajes_por_genero.collect()\n",
    "\n",
    "# Separar los datos en listas para la gráfica\n",
    "generos = [row.Genero_Usuario for row in viajes_por_genero_data]\n",
    "cuentas_genero = [row['count'] for row in viajes_por_genero_data]\n",
    "\n",
    "# Crear la gráfica\n",
    "plt.figure(figsize=(8, 5))\n",
    "plt.bar(generos, cuentas_genero, color='#e98dad')\n",
    "plt.xlabel('Género del Usuario')\n",
    "plt.ylabel('Número de Viajes')\n",
    "plt.title('Viajes por Género en Noviembre')\n",
    "plt.xticks(rotation=45)\n",
    "plt.tight_layout()  \n",
    "\n",
    "# Mostrar la gráfica\n",
    "viajes_por_genero.show()\n",
    "plt.show()"
   ]
  },
  {
   "cell_type": "markdown",
   "id": "12c48b9f",
   "metadata": {},
   "source": [
    "### Viajes por edad"
   ]
  },
  {
   "cell_type": "code",
   "execution_count": null,
   "id": "e68760cd",
   "metadata": {},
   "outputs": [],
   "source": [
    "viajes_por_edad = df.groupBy('Edad_Usuario').count().orderBy('Edad_Usuario')\n",
    "\n",
    "# Mostrar resultados\n",
    "print(\"Viajes por edad de usuario\")"
   ]
  },
  {
   "cell_type": "code",
   "execution_count": null,
   "id": "68766f0c",
   "metadata": {},
   "outputs": [],
   "source": [
    "import matplotlib.pyplot as plt\n",
    "\n",
    "# Obtener los datos de viajes por edad\n",
    "viajes_por_edad_data = viajes_por_edad.collect()\n",
    "\n",
    "# Separar los datos en listas para la gráfica\n",
    "edades = [row.Edad_Usuario for row in viajes_por_edad_data]\n",
    "cuentas_edad = [row['count'] for row in viajes_por_edad_data]\n",
    "\n",
    "# Crear la gráfica\n",
    "plt.figure(figsize=(10, 6))\n",
    "plt.bar(edades, cuentas_edad, color='#c74777')\n",
    "plt.xlabel('Edad del Usuario')\n",
    "plt.ylabel('Número de Viajes')\n",
    "plt.title('Viajes por Edad de Usuario')\n",
    "plt.xticks(rotation=45)\n",
    "plt.tight_layout()  \n",
    "\n",
    "# Mostrar la gráfica\n",
    "viajes_por_edad.show(100, truncate=False)\n",
    "plt.show()"
   ]
  },
  {
   "cell_type": "markdown",
   "id": "77c12e20",
   "metadata": {},
   "source": [
    "### Viajes por edad y género"
   ]
  },
  {
   "cell_type": "code",
   "execution_count": null,
   "id": "3c596e33",
   "metadata": {},
   "outputs": [],
   "source": [
    "viajes_por_edad_genero = df.groupBy('Edad_Usuario', 'Genero_Usuario').count().orderBy('Edad_Usuario')\n",
    "\n",
    "# Mostrar resultados\n",
    "print(\"Viajes por edad y género\")"
   ]
  },
  {
   "cell_type": "code",
   "execution_count": null,
   "id": "7f4b902a",
   "metadata": {},
   "outputs": [],
   "source": [
    "from pyspark.sql.functions import col, floor\n",
    "\n",
    "# Agrupar edades en intervalos de 10\n",
    "df = df.withColumn(\n",
    "    'Grupo_Edad', (floor(col('Edad_Usuario') / 10) * 10)\n",
    ")\n",
    "\n",
    "# Agrupar por el nuevo grupo de edad y género\n",
    "viajes_por_edad_genero = df.groupBy('Grupo_Edad', 'Genero_Usuario').count().orderBy('Grupo_Edad')\n",
    "\n",
    "# Mostrar resultados\n",
    "print(\"Viajes por grupo de edad y género\")\n",
    "viajes_por_edad_genero.show(100, truncate=False)\n",
    "\n",
    "# Obtener los datos de viajes por grupo de edad y género\n",
    "viajes_por_edad_genero_data = viajes_por_edad_genero.collect()\n",
    "\n",
    "# Separar los datos en listas\n",
    "grupos_edad = sorted(set(row.Grupo_Edad for row in viajes_por_edad_genero_data))\n",
    "generos = sorted(set(row.Genero_Usuario for row in viajes_por_edad_genero_data))\n",
    "\n",
    "# Diccionario para contar los viajes por grupo de edad y género\n",
    "contar_viajes = {grupo: {genero: 0 for genero in generos} for grupo in grupos_edad}\n",
    "\n",
    "# Diccionario con los datos\n",
    "for row in viajes_por_edad_genero_data:\n",
    "    contar_viajes[row.Grupo_Edad][row.Genero_Usuario] += row['count']\n",
    "\n",
    "# Listas para los valores de la gráfica\n",
    "valores_hombres = [contar_viajes[grupo]['M'] for grupo in grupos_edad]\n",
    "valores_mujeres = [contar_viajes[grupo]['F'] for grupo in grupos_edad]\n",
    "\n",
    "# Crear la gráfica de líneas\n",
    "plt.figure(figsize=(12, 6))\n",
    "plt.plot(grupos_edad, valores_hombres, marker='o', label='Hombres', color='#4f021b', linestyle='-')\n",
    "plt.plot(grupos_edad, valores_mujeres, marker='o', label='Mujeres', color='#c74777', linestyle='-')\n",
    "\n",
    "# Etiquetas y título\n",
    "plt.xlabel('Grupo de Edad')\n",
    "plt.ylabel('Número de Viajes')\n",
    "plt.title('Viajes por Grupo de Edad y Género en Septiembre')\n",
    "plt.xticks(grupos_edad)\n",
    "plt.legend()\n",
    "plt.tight_layout()\n",
    "\n",
    "# Mostrar la gráfica\n",
    "viajes_por_edad_genero.show(100, truncate=False)\n",
    "plt.show()"
   ]
  },
  {
   "cell_type": "markdown",
   "id": "d26772df",
   "metadata": {},
   "source": [
    "### Viajes por semana y estación de retiro"
   ]
  },
  {
   "cell_type": "code",
   "execution_count": null,
   "id": "ca416660",
   "metadata": {},
   "outputs": [],
   "source": [
    "from pyspark.sql.functions import date_format, to_date, col\n",
    "\n",
    "df = df.withColumn('Fecha_Retiro', to_date(col('Fecha_Retiro')))\n",
    "df = df.withColumn('Fecha_Arribo', to_date(col('Fecha_Arribo')))\n",
    "\n",
    "# Agrupar por fecha de retiro, fecha de arribo y estación de retiro\n",
    "viajes_por_dia_y_estacion = df.groupBy(\n",
    "    'Fecha_Retiro', 'Fecha_Arribo', 'Ciclo_Estacion_Retiro'\n",
    ").count().orderBy('Fecha_Arribo')"
   ]
  },
  {
   "cell_type": "code",
   "execution_count": null,
   "id": "b7dd607e",
   "metadata": {},
   "outputs": [],
   "source": [
    "from pyspark.sql import functions as F\n",
    "import matplotlib.pyplot as plt\n",
    "\n",
    "# 5 estaciones principales por número de viajes\n",
    "top_estaciones = viajes_por_dia_y_estacion.groupBy('Ciclo_Estacion_Retiro').agg(F.sum('count').alias('total')).orderBy('total', ascending=False).limit(5)\n",
    "\n",
    "# Lista de estaciones \n",
    "top_estaciones_list = [row.Ciclo_Estacion_Retiro for row in top_estaciones.collect()]\n",
    "\n",
    "# Agrupar estaciones principales por semana\n",
    "viajes_por_semana_y_estacion = df.groupBy(\n",
    "    date_trunc('week', col('Fecha_Retiro')).alias('Semana_Retiro'),\n",
    "    'Ciclo_Estacion_Retiro'\n",
    ").agg(F.count('*').alias('count')).filter(col('Ciclo_Estacion_Retiro').isin(top_estaciones_list)).orderBy('Semana_Retiro')\n",
    "\n",
    "# Mostrar resultados\n",
    "print(\"Viajes por día y estación de retiro y arribo\")\n",
    "viajes_por_semana_y_estacion.show(100,truncate=False)\n",
    "\n",
    "viajes_por_semana_y_estacion_data = viajes_por_semana_y_estacion.collect()\n",
    "\n",
    "# Listas para la gráfica\n",
    "semanas = sorted(set(row.Semana_Retiro for row in viajes_por_semana_y_estacion_data))\n",
    "estaciones = top_estaciones_list  # Usar solo las estaciones principales\n",
    "\n",
    "# Diccionario para contar los viajes por semana y estación\n",
    "contar_viajes = {semana: {estacion: 0 for estacion in estaciones} for semana in semanas}\n",
    "\n",
    "# Diccionario con los datos\n",
    "for row in viajes_por_semana_y_estacion_data:\n",
    "    if row.Ciclo_Estacion_Retiro in contar_viajes[row.Semana_Retiro]:  # Verificar si la estación está en el diccionario\n",
    "        contar_viajes[row.Semana_Retiro][row.Ciclo_Estacion_Retiro] += row['count']\n",
    "\n",
    "# Listas para los valores de la gráfica\n",
    "valores_estaciones = {estacion: [contar_viajes[semana][estacion] for semana in semanas] for estacion in estaciones}\n",
    "\n",
    "# Gráfica de líneas\n",
    "plt.figure(figsize=(12, 6))\n",
    "colores=['#e3558d','#e98dad','#c74777','#7a042a','4f021b']\n",
    "\n",
    "# Grafica de cada estación\n",
    "for i, (estacion, valores) in enumerate(valores_estaciones.items()):\n",
    "    plt.plot(semanas, valores, marker='o', label=estacion, color=colores[i % len(colores)])\n",
    "\n",
    "# Etiquetas y título\n",
    "plt.xlabel('Semana')\n",
    "plt.ylabel('Número de Viajes')\n",
    "plt.title('Viajes por Semana y Estación de Retiro (Top 5)')\n",
    "plt.xticks(rotation=45)\n",
    "plt.legend()\n",
    "\n",
    "# Mostrar la gráfica\n",
    "plt.tight_layout()\n",
    "plt.show()\n",
    "\n"
   ]
  }
 ],
 "metadata": {
  "kernelspec": {
   "display_name": "venv",
   "language": "python",
   "name": "python3"
  },
  "language_info": {
   "codemirror_mode": {
    "name": "ipython",
    "version": 3
   },
   "file_extension": ".py",
   "mimetype": "text/x-python",
   "name": "python",
   "nbconvert_exporter": "python",
   "pygments_lexer": "ipython3",
   "version": "3.12.3"
  }
 },
 "nbformat": 4,
 "nbformat_minor": 5
}
