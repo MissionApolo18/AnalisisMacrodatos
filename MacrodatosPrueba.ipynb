{
 "cells": [
  {
   "cell_type": "markdown",
   "metadata": {},
   "source": [
    "# S04_SparkSTFLocatel"
   ]
  },
  {
   "cell_type": "markdown",
   "metadata": {},
   "source": [
    "curl -L https://datos.cdmx.gob.mx/dataset/529aac27-d1c1-426f-8c45-fd76fba43bf4/resource/44913088-806d-4f80-acca-1409a8225e9c/download/locatel0311-2024.csv | hdfs dfs -put -f - /tmp/amd/locatel0311/locatel0311-2024.csv\n",
    " \n",
    "curl -L https://datos.cdmx.gob.mx/dataset/529aac27-d1c1-426f-8c45-fd76fba43bf4/resource/1ece1ddf-3e82-44f4-9435-486b1b9167f5/download/locatel0311-2023.csv | hdfs dfs -put -f - /tmp/amd/locatel0311/locatel0311-2023.csv\n",
    " \n",
    "curl -L https://archivo.datos.cdmx.gob.mx/suac/locatel0311-2022.csv | hdfs dfs -put -f - /tmp/amd/locatel0311/locatel0311-2022.csv\n",
    " \n",
    "curl -L https://archivo.datos.cdmx.gob.mx/suac/locatel0311-2021.csv | hdfs dfs -put -f - /tmp/amd/locatel0311/locatel0311-2021.csv\n",
    " \n",
    "curl -L https://archivo.datos.cdmx.gob.mx/suac/locatel0311-2020.csv | hdfs dfs -put -f - /tmp/amd/locatel0311/locatel0311-2020.csv\n",
    " \n",
    "curl -L https://archivo.datos.cdmx.gob.mx/suac/locatel0311-2019.csv | hdfs dfs -put -f - /tmp/amd/locatel0311/locatel0311-2019.csv\n"
   ]
  },
  {
   "cell_type": "code",
   "execution_count": 1,
   "metadata": {
    "notebookRunGroups": {
     "groupValue": "1"
    }
   },
   "outputs": [
    {
     "name": "stdout",
     "output_type": "stream",
     "text": [
      "3.5.3\n"
     ]
    },
    {
     "name": "stderr",
     "output_type": "stream",
     "text": [
      "24/10/19 15:36:40 WARN Utils: Your hostname, Shie-Hassaikai resolves to a loopback address: 127.0.1.1; using 192.168.100.17 instead (on interface wlp1s0)\n",
      "24/10/19 15:36:40 WARN Utils: Set SPARK_LOCAL_IP if you need to bind to another address\n",
      "Setting default log level to \"WARN\".\n",
      "To adjust logging level use sc.setLogLevel(newLevel). For SparkR, use setLogLevel(newLevel).\n",
      "24/10/19 15:36:40 WARN NativeCodeLoader: Unable to load native-hadoop library for your platform... using builtin-java classes where applicable\n"
     ]
    }
   ],
   "source": [
    "import pyspark\n",
    "print(pyspark.__version__)\n",
    "\n",
    "from pyspark.sql import SparkSession\n",
    "\n",
    "spark = SparkSession.builder.appName(\"locatel.txt\").getOrCreate()"
   ]
  },
  {
   "cell_type": "code",
   "execution_count": 22,
   "metadata": {
    "notebookRunGroups": {
     "groupValue": "1"
    }
   },
   "outputs": [],
   "source": [
    "from pyspark.sql.functions import col, sum, to_date, to_timestamp, regexp_replace,date_format\n",
    "from pyspark.sql.types import IntegerType, DoubleType, FloatType\n",
    "\n",
    "dir_hdfs=\"locatel2024.csv\";"
   ]
  },
  {
   "cell_type": "code",
   "execution_count": 23,
   "metadata": {
    "notebookRunGroups": {
     "groupValue": "1"
    }
   },
   "outputs": [
    {
     "name": "stderr",
     "output_type": "stream",
     "text": [
      "                                                                                \r"
     ]
    }
   ],
   "source": [
    "df = spark.read.csv(dir_hdfs, header=True, inferSchema=True)"
   ]
  },
  {
   "cell_type": "code",
   "execution_count": 24,
   "metadata": {},
   "outputs": [
    {
     "name": "stdout",
     "output_type": "stream",
     "text": [
      "root\n",
      " |-- id_folio: integer (nullable = true)\n",
      " |-- fecha_solicitud: date (nullable = true)\n",
      " |-- hora_solicitud: timestamp (nullable = true)\n",
      " |-- tipo_de_entrada: string (nullable = true)\n",
      " |-- tema_solicitud: string (nullable = true)\n",
      " |-- sexo: string (nullable = true)\n",
      " |-- edad: string (nullable = true)\n",
      " |-- colonia_solicitud: string (nullable = true)\n",
      " |-- alcaldia_solicitud: string (nullable = true)\n",
      " |-- codigo_postal_solicitud: string (nullable = true)\n",
      " |-- estatus: string (nullable = true)\n",
      " |-- fecha_concluido: string (nullable = true)\n",
      " |-- alcaldia_catalogo: string (nullable = true)\n",
      " |-- colonia_catalogo: string (nullable = true)\n",
      " |-- longitud: string (nullable = true)\n",
      " |-- latitud: string (nullable = true)\n",
      "\n",
      "Número de renglones: 113147\n",
      "Número de columnas: 16\n",
      "Columnas: ['id_folio', 'fecha_solicitud', 'hora_solicitud', 'tipo_de_entrada', 'tema_solicitud', 'sexo', 'edad', 'colonia_solicitud', 'alcaldia_solicitud', 'codigo_postal_solicitud', 'estatus', 'fecha_concluido', 'alcaldia_catalogo', 'colonia_catalogo', 'longitud', 'latitud']\n"
     ]
    }
   ],
   "source": [
    "df.printSchema()\n",
    "\n",
    "print(f\"Número de renglones: {df.count()}\")\n",
    "print(f\"Número de columnas: {len(df.columns)}\")\n",
    "print(f\"Columnas: {df.columns}\")"
   ]
  },
  {
   "cell_type": "code",
   "execution_count": 25,
   "metadata": {},
   "outputs": [
    {
     "name": "stdout",
     "output_type": "stream",
     "text": [
      "+--------+---------------+-------------------+--------------------------------+------------------------------------+---------------+----+-----------------+------------------+-----------------------+---------------------+---------------+-----------------+----------------+--------+---------------+\n",
      "|id_folio|fecha_solicitud|hora_solicitud     |tipo_de_entrada                 |tema_solicitud                      |sexo           |edad|colonia_solicitud|alcaldia_solicitud|codigo_postal_solicitud|estatus              |fecha_concluido|alcaldia_catalogo|colonia_catalogo|longitud|latitud        |\n",
      "+--------+---------------+-------------------+--------------------------------+------------------------------------+---------------+----+-----------------+------------------+-----------------------+---------------------+---------------+-----------------+----------------+--------+---------------+\n",
      "|2399150 |2024-02-02     |2024-10-19 01:32:03|APP CDMX                        |DESAZOLVE                           |NO ESPECIFICADO|NA  |NA               |NA                |13360                  |AUTORIDAD RESPONSABLE|NA             |NA               |NA              |NA      |NA             |\n",
      "|2399543 |2024-02-02     |2024-10-19 09:37:42|USUARIOS SUAC DEPENDENCIA       |SOLICITUD DE VOLANTEO               |MASCULINO      |NA  |NA               |NA                |NA                     |AUTORIDAD RESPONSABLE|NA             |NA               |NA              |NA      |NA             |\n",
      "|2400111 |2024-02-02     |2024-10-19 11:17:42|APP CDMX                        |SOLICITUD DE VIGILANCIA             |NO ESPECIFICADO|NA  |NA               |NA                |NA                     |CERRADO              |2024-02-12     |NA               |NA              |NA      |NA             |\n",
      "|2401098 |2024-02-02     |2024-10-19 16:36:01|INTEROPERABILIDAD XOCHIMILCO    |PODA / RETIRO ARBOL                 |MASCULINO      |48  |NA               |NA                |16020                  |CERRADO              |2024-02-13     |NA               |NA              |NA      |NA             |\n",
      "|2401180 |2024-02-02     |2024-10-19 16:15:30|APP CDMX                        |SOLICITUD DE VIGILANCIA             |NO ESPECIFICADO|NA  |NA               |NA                |NA                     |CERRADO              |2024-02-06     |NA               |NA              |NA      |NA             |\n",
      "|2401405 |2024-02-02     |2024-10-19 19:43:41|APP CDMX                        |VERIFICACIÓN ADMINISTRATIVA         |NO ESPECIFICADO|NA  |NA               |NA                |NA                     |AUTORIDAD RESPONSABLE|NA             |NA               |NA              |NA      |NA             |\n",
      "|2401812 |2024-02-03     |2024-10-19 12:27:49|OPERADOR TELEFÓNICO LOCATEL     |VEHÍCULO ABANDONADO / CHATARRIZACIÓN|FEMENINO       |NA  |NA               |NA                |14230                  |CERRADO              |2024-03-04     |NA               |NA              |NA      |NA             |\n",
      "|2401924 |2024-02-03     |2024-10-19 15:44:21|PORTAL CIUDADANO SUAC           |LLAVE CDMX                          |MASCULINO      |NA  |NA               |NA                |NA                     |CERRADO              |2024-02-29     |NA               |NA              |NA      |NA             |\n",
      "|2402115 |2024-02-03     |2024-10-19 18:28:06|OPERADOR TELEFÓNICO LOCATEL     |ALUMBRADO                           |FEMENINO       |45  |NA               |NA                |07550                  |CERRADO              |2024-02-20     |NA               |NA              |NA      |NA             |\n",
      "|2402170 |2024-02-03     |2024-10-19 21:23:46|APP CDMX                        |DESAZOLVE                           |NO ESPECIFICADO|NA  |NA               |NA                |15900                  |AUTORIDAD RESPONSABLE|NA             |NA               |NA              |NA      |NA             |\n",
      "|2402424 |2024-02-04     |2024-10-19 11:49:09|OPERADOR TELEFÓNICO LOCATEL     |VEHÍCULO ABANDONADO / CHATARRIZACIÓN|MASCULINO      |43  |NA               |NA                |01510                  |CERRADO              |2024-02-17     |NA               |NA              |NA      |NA             |\n",
      "|2402471 |2024-02-04     |2024-10-19 12:31:41|APP CDMX                        |FUGA DE AGUA                        |NO ESPECIFICADO|NA  |NA               |NA                |NA                     |CERRADO              |2024-02-06     |NA               |NA              |NA      |NA             |\n",
      "|2403328 |2024-02-05     |2024-10-19 14:53:52|INTEROPERABILIDAD MIGUEL HIDALGO|OTRO                                |MASCULINO      |NA  |NA               |NA                |11470                  |CERRADO              |2024-02-09     |NA               |NA              |NA      |19.281412397355|\n",
      "|2403381 |2024-02-05     |2024-10-19 14:36:43|OPERADOR TELEFÓNICO LOCATEL     |ALUMBRADO                           |MASCULINO      |NA  |NA               |NA                |01548                  |CERRADO              |2024-02-23     |NA               |NA              |NA      |NA             |\n",
      "|2403735 |2024-02-06     |2024-10-19 06:59:52|APP CDMX                        |FALTA DE AGUA                       |NO ESPECIFICADO|NA  |NA               |NA                |12000                  |CERRADO              |2024-02-19     |NA               |NA              |NA      |NA             |\n",
      "|2403894 |2024-02-06     |2024-10-19 08:43:18|USUARIOS SUAC DEPENDENCIA       |RECOLECCIÓN BASURA                  |FEMENINO       |NA  |NA               |NA                |01259                  |CERRADO              |2024-02-27     |NA               |NA              |NA      |NA             |\n",
      "|2404106 |2024-02-06     |2024-10-19 09:27:32|USUARIOS SUAC DEPENDENCIA       |FUGA DE AGUA                        |MASCULINO      |NA  |NA               |NA                |04230                  |CERRADO              |2024-02-09     |NA               |NA              |NA      |NA             |\n",
      "|2404415 |2024-02-06     |2024-10-19 10:17:08|USUARIOS SUAC DEPENDENCIA       |OTRO                                |NO ESPECIFICADO|NA  |NA               |NA                |04369                  |CERRADO              |2024-02-15     |NA               |NA              |NA      |NA             |\n",
      "|2404680 |2024-02-06     |2024-10-19 11:00:43|APP CDMX                        |MANTENIMIENTO VÍA PÚBLICA           |NO ESPECIFICADO|NA  |NA               |NA                |01270                  |ATENDIDO             |2024-03-07     |NA               |NA              |NA      |NA             |\n",
      "|2405698 |2024-02-06     |2024-10-19 13:49:21|APP CDMX                        |DESAZOLVE                           |NO ESPECIFICADO|NA  |NA               |NA                |06350                  |CERRADO              |2024-02-21     |NA               |NA              |NA      |NA             |\n",
      "+--------+---------------+-------------------+--------------------------------+------------------------------------+---------------+----+-----------------+------------------+-----------------------+---------------------+---------------+-----------------+----------------+--------+---------------+\n",
      "only showing top 20 rows\n",
      "\n"
     ]
    }
   ],
   "source": [
    "df.show(truncate=False)"
   ]
  },
  {
   "cell_type": "code",
   "execution_count": 42,
   "metadata": {},
   "outputs": [
    {
     "name": "stdout",
     "output_type": "stream",
     "text": [
      "root\n",
      " |-- fecha_solicitud: date (nullable = true)\n",
      " |-- hora_solicitud: timestamp (nullable = true)\n",
      " |-- tema_solicitud: string (nullable = true)\n",
      " |-- sexo: string (nullable = true)\n",
      " |-- edad: string (nullable = true)\n",
      " |-- estatus: string (nullable = true)\n",
      " |-- alcaldia_solicitud: string (nullable = true)\n",
      " |-- colonia_catalogo: string (nullable = true)\n",
      " |-- latitud: string (nullable = true)\n",
      " |-- longitud: string (nullable = true)\n",
      "\n"
     ]
    },
    {
     "data": {
      "text/plain": [
       "113147"
      ]
     },
     "execution_count": 42,
     "metadata": {},
     "output_type": "execute_result"
    }
   ],
   "source": [
    "datos = df.select(['fecha_solicitud','hora_solicitud','tema_solicitud','sexo',\n",
    "                   'edad','estatus','alcaldia_solicitud','colonia_catalogo','latitud','longitud'])\n",
    "\n",
    "datos.printSchema()\n",
    "datos.count()"
   ]
  },
  {
   "cell_type": "code",
   "execution_count": 29,
   "metadata": {},
   "outputs": [
    {
     "data": {
      "text/plain": [
       "51250"
      ]
     },
     "execution_count": 29,
     "metadata": {},
     "output_type": "execute_result"
    }
   ],
   "source": [
    "datos.filter('sexo = \"FEMENINO\"').count()"
   ]
  },
  {
   "cell_type": "code",
   "execution_count": 43,
   "metadata": {},
   "outputs": [
    {
     "name": "stdout",
     "output_type": "stream",
     "text": [
      "+---------------+-------------------+--------------------+--------+----+--------------------+-------------------+--------------------+------------------+----------------+\n",
      "|fecha_solicitud|     hora_solicitud|      tema_solicitud|    sexo|edad|             estatus| alcaldia_solicitud|    colonia_catalogo|           latitud|        longitud|\n",
      "+---------------+-------------------+--------------------+--------+----+--------------------+-------------------+--------------------+------------------+----------------+\n",
      "|     2024-01-01|2024-10-19 11:29:26|                OTRO|FEMENINO|  NA|             CERRADO|         IZTAPALAPA|                  NA|                NA|              NA|\n",
      "|     2024-01-01|2024-10-19 17:59:19|           ALUMBRADO|FEMENINO|  NA|             CERRADO|            TLALPAN|  Residencial Acoxpa|   19.297003237802|-99.125651430686|\n",
      "|     2024-01-01|2024-10-19 11:04:11|                OTRO|FEMENINO|  NA|             CERRADO|         IZTAPALAPA|          Polvorilla|          19.31782|      -99.044361|\n",
      "|     2024-01-01|2024-10-19 12:49:06| PODA / RETIRO ARBOL|FEMENINO|  NA|             CERRADO|  GUSTAVO A. MADERO|          Palmatitla|   19.552042180584|-99.129613398395|\n",
      "|     2024-01-01|2024-10-19 11:03:07|                OTRO|FEMENINO|  NA|             CERRADO|         IZTAPALAPA|                  NA|                NA|              NA|\n",
      "|     2024-01-01|2024-10-19 18:03:00|   ASISTENCIA SOCIAL|FEMENINO|  NA|             CERRADO|         IZTAPALAPA|           El Molino|   19.355821143776|-99.086039374255|\n",
      "|     2024-01-01|2024-10-19 01:02:20|   ASESORÍA JURÍDICA|FEMENINO|  NA|             CERRADO|            TLALPAN|            La Palma|   19.250095911703|-99.157668028529|\n",
      "|     2024-01-01|2024-10-19 15:07:51|                OTRO|FEMENINO|  NA|             CERRADO|         IZTAPALAPA|Desarrollo Urbano...|         19.326515|     -99.0377061|\n",
      "|     2024-01-01|2024-10-19 11:19:33|                OTRO|FEMENINO|  NA|             CERRADO|         IZTAPALAPA|                  NA|                NA|              NA|\n",
      "|     2024-01-01|2024-10-19 18:58:28|RETIRO CASCAJO, E...|FEMENINO|  NA|             CERRADO|  GUSTAVO A. MADERO|    C T M Atzacoalco|   19.511370713598|-99.102107125373|\n",
      "|     2024-01-01|2024-10-19 03:55:09|SOLICITUD DE VIGI...|FEMENINO|  NA|             CERRADO|          IZTACALCO|   Nueva Santa Anita|    19.39858556948|-99.128532174844|\n",
      "|     2024-01-01|2024-10-19 15:23:30|LIMPIEZA VIA PUBLICA|FEMENINO|  NA|             CERRADO|      BENITO JUAREZ|     Del Valle Norte|   19.398121588011|-99.161272531707|\n",
      "|     2024-01-01|2024-10-19 11:21:07|                OTRO|FEMENINO|  NA|             CERRADO|         IZTAPALAPA|                  NA|                NA|              NA|\n",
      "|     2024-01-01|2024-10-19 19:14:41|           ALUMBRADO|FEMENINO|  NA|             CERRADO|         CUAUHTEMOC|             Morelos|    19.44454694063|-99.135727350043|\n",
      "|     2024-01-01|2024-10-19 09:56:19|                OTRO|FEMENINO|  NA|             CERRADO|         IZTAPALAPA|          Polvorilla|19.318391600000002|     -99.0449706|\n",
      "|     2024-01-01|2024-10-19 15:42:04|        FUGA DE AGUA|FEMENINO|  NA|             CERRADO|VENUSTIANO CARRANZA|Moctezuma 2a. Sec...|   19.428049937637|-99.099462381543|\n",
      "|     2024-01-01|2024-10-19 11:23:06|                OTRO|FEMENINO|  NA|             CERRADO|         IZTAPALAPA|                  NA|                NA|              NA|\n",
      "|     2024-01-01|2024-10-19 19:16:57|           ALUMBRADO|FEMENINO|  NA|             CERRADO|         CUAUHTEMOC|             Morelos|    19.44471928064|-99.136446012699|\n",
      "|     2024-01-01|2024-10-19 09:08:34|              BACHEO|FEMENINO|  NA|AUTORIDAD RESPONS...|                 NA|                  NA|                NA|              NA|\n",
      "|     2024-01-01|2024-10-19 16:19:10|                OTRO|FEMENINO|  NA|             CERRADO|         IZTAPALAPA|            Mixcoatl|        19.3238568|      -99.047554|\n",
      "+---------------+-------------------+--------------------+--------+----+--------------------+-------------------+--------------------+------------------+----------------+\n",
      "only showing top 20 rows\n",
      "\n"
     ]
    }
   ],
   "source": [
    "datos = df.select(['fecha_solicitud','hora_solicitud','tema_solicitud','sexo',\n",
    "                   'edad','estatus','alcaldia_solicitud','colonia_catalogo','latitud','longitud']).filter('sexo = \"FEMENINO\"').orderBy('fecha_solicitud')\n",
    "datos.show()"
   ]
  },
  {
   "cell_type": "code",
   "execution_count": 44,
   "metadata": {},
   "outputs": [
    {
     "name": "stdout",
     "output_type": "stream",
     "text": [
      "root\n",
      " |-- fecha_solicitud: date (nullable = true)\n",
      " |-- hora_solicitud: timestamp (nullable = true)\n",
      " |-- tema_solicitud: string (nullable = true)\n",
      " |-- sexo: string (nullable = true)\n",
      " |-- edad: float (nullable = true)\n",
      " |-- estatus: string (nullable = true)\n",
      " |-- alcaldia_solicitud: string (nullable = true)\n",
      " |-- colonia_catalogo: string (nullable = true)\n",
      " |-- latitud: double (nullable = true)\n",
      " |-- longitud: double (nullable = true)\n",
      "\n"
     ]
    }
   ],
   "source": [
    "if datos is not None:\n",
    "    datos = datos.withColumn('fecha_solicitud', to_date(col('fecha_solicitud'),\"yyyy-MM-dd\")).withColumn('edad',col(\"fecha_solicitud\").cast(FloatType())).\\\n",
    "        withColumn('latitud',col(\"latitud\").cast(DoubleType())).withColumn('longitud',col(\"longitud\").cast(DoubleType()))\n",
    "\n",
    "datos.printSchema()"
   ]
  },
  {
   "cell_type": "code",
   "execution_count": 45,
   "metadata": {},
   "outputs": [
    {
     "name": "stdout",
     "output_type": "stream",
     "text": [
      "+---------------+-------------------+--------------------+--------+----+--------------------+-------------------+--------------------+---------------+----------------+\n",
      "|fecha_solicitud|     hora_solicitud|      tema_solicitud|    sexo|edad|             estatus| alcaldia_solicitud|    colonia_catalogo|        latitud|        longitud|\n",
      "+---------------+-------------------+--------------------+--------+----+--------------------+-------------------+--------------------+---------------+----------------+\n",
      "|     2024-01-01|2024-10-19 01:02:20|   ASESORÍA JURÍDICA|FEMENINO|NULL|             CERRADO|            TLALPAN|            La Palma|19.250095911703|-99.157668028529|\n",
      "|     2024-01-01|2024-10-19 03:55:09|SOLICITUD DE VIGI...|FEMENINO|NULL|             CERRADO|          IZTACALCO|   Nueva Santa Anita| 19.39858556948|-99.128532174844|\n",
      "|     2024-01-01|2024-10-19 09:56:19|                OTRO|FEMENINO|NULL|             CERRADO|         IZTAPALAPA|          Polvorilla|     19.3183916|     -99.0449706|\n",
      "|     2024-01-01|2024-10-19 09:08:34|              BACHEO|FEMENINO|NULL|AUTORIDAD RESPONS...|                 NA|                  NA|           NULL|            NULL|\n",
      "|     2024-01-01|2024-10-19 10:23:57|SOLICITUD DE VIGI...|FEMENINO|NULL|             CERRADO|                 NA|                  NA|           NULL|            NULL|\n",
      "|     2024-01-01|2024-10-19 10:28:16|       FALTA DE AGUA|FEMENINO|NULL|             CERRADO|                 NA|                  NA|           NULL|            NULL|\n",
      "|     2024-01-01|2024-10-19 09:31:37|SOLICITUD DE VIGI...|FEMENINO|NULL|             CERRADO|                 NA|                  NA|           NULL|            NULL|\n",
      "|     2024-01-01|2024-10-19 11:04:11|                OTRO|FEMENINO|NULL|             CERRADO|         IZTAPALAPA|          Polvorilla|       19.31782|      -99.044361|\n",
      "|     2024-01-01|2024-10-19 21:02:56|        FUGA DE AGUA|FEMENINO|NULL|             CERRADO|            TLALPAN|   Floresta Coyoacan| 19.30331817844|-99.127980268092|\n",
      "|     2024-01-01|2024-10-19 20:14:44|QUEJA DE TRANSPOR...|FEMENINO|NULL|             CERRADO|                 NA|                  NA|           NULL|            NULL|\n",
      "|     2024-01-01|2024-10-19 21:18:09|       FALTA DE AGUA|FEMENINO|NULL|AUTORIDAD RESPONS...|         CUAUHTEMOC|             Atlampa|19.457194692732|-99.159252383066|\n",
      "|     2024-01-01|2024-10-19 21:35:42|       FALTA DE AGUA|FEMENINO|NULL|             CERRADO|VENUSTIANO CARRANZA|Ampliacion Michoa...|19.449034292499|-99.113449989109|\n",
      "|     2024-01-01|2024-10-19 21:36:28|                OTRO|FEMENINO|NULL|             CERRADO|                 NA|                  NA|           NULL|            NULL|\n",
      "|     2024-01-01|2024-10-19 22:21:42|               BECAS|FEMENINO|NULL|             CERRADO|                 NA|                  NA|           NULL|            NULL|\n",
      "|     2024-01-01|2024-10-19 22:28:11|           ALUMBRADO|FEMENINO|NULL|AUTORIDAD RESPONS...|                 NA|                  NA|           NULL|            NULL|\n",
      "|     2024-01-01|2024-10-19 22:12:13|           ALUMBRADO|FEMENINO|NULL|             CERRADO|                 NA|                  NA|           NULL|            NULL|\n",
      "|     2024-01-01|2024-10-19 17:38:59|           ALUMBRADO|FEMENINO|NULL|             CERRADO|                 NA|                  NA|           NULL|            NULL|\n",
      "|     2024-01-01|2024-10-19 15:07:51|                OTRO|FEMENINO|NULL|             CERRADO|         IZTAPALAPA|Desarrollo Urbano...|      19.326515|     -99.0377061|\n",
      "|     2024-01-01|2024-10-19 14:11:23| PODA / RETIRO ARBOL|FEMENINO|NULL|             CERRADO|                 NA|                  NA|           NULL|            NULL|\n",
      "|     2024-01-01|2024-10-19 15:23:30|LIMPIEZA VIA PUBLICA|FEMENINO|NULL|             CERRADO|      BENITO JUAREZ|     Del Valle Norte|19.398121588011|-99.161272531707|\n",
      "+---------------+-------------------+--------------------+--------+----+--------------------+-------------------+--------------------+---------------+----------------+\n",
      "only showing top 20 rows\n",
      "\n"
     ]
    }
   ],
   "source": [
    "datos.show()"
   ]
  },
  {
   "cell_type": "markdown",
   "metadata": {},
   "source": [
    "## Clase 27/09/2024"
   ]
  },
  {
   "cell_type": "code",
   "execution_count": 48,
   "metadata": {},
   "outputs": [
    {
     "name": "stdout",
     "output_type": "stream",
     "text": [
      "+---------------+--------------+--------------+----+-----+-------+------------------+----------------+-------+--------+\n",
      "|fecha_solicitud|hora_solicitud|tema_solicitud|sexo| edad|estatus|alcaldia_solicitud|colonia_catalogo|latitud|longitud|\n",
      "+---------------+--------------+--------------+----+-----+-------+------------------+----------------+-------+--------+\n",
      "|              0|             0|             0|   0|51250|      0|                 0|               0|  31913|   32767|\n",
      "+---------------+--------------+--------------+----+-----+-------+------------------+----------------+-------+--------+\n",
      "\n"
     ]
    }
   ],
   "source": [
    "#Contar nulos\n",
    "datos.select([sum(col(c).isNull().cast(IntegerType())).alias(c) for c in datos.columns]).show()"
   ]
  },
  {
   "cell_type": "code",
   "execution_count": 53,
   "metadata": {},
   "outputs": [
    {
     "name": "stdout",
     "output_type": "stream",
     "text": [
      "root\n",
      " |-- edad: float (nullable = true)\n",
      " |-- estatus: string (nullable = true)\n",
      " |-- tema_solicitud: string (nullable = true)\n",
      " |-- anio: integer (nullable = true)\n",
      " |-- mes: integer (nullable = true)\n",
      " |-- dia: integer (nullable = true)\n",
      " |-- hora: integer (nullable = true)\n",
      " |-- minuto: integer (nullable = true)\n",
      " |-- segundo: integer (nullable = true)\n",
      " |-- semana: integer (nullable = true)\n",
      "\n"
     ]
    },
    {
     "name": "stderr",
     "output_type": "stream",
     "text": [
      "[Stage 43:>                                                         (0 + 1) / 1]\r"
     ]
    },
    {
     "name": "stdout",
     "output_type": "stream",
     "text": [
      "+-------+----+--------+---------------------------+------+-------------------+-----------------+------------------+------------------+------------------+------------------+\n",
      "|summary|edad|estatus |tema_solicitud             |anio  |mes                |dia              |hora              |minuto            |segundo           |semana            |\n",
      "+-------+----+--------+---------------------------+------+-------------------+-----------------+------------------+------------------+------------------+------------------+\n",
      "|count  |0   |51250   |51250                      |51250 |51250              |51250            |51250             |51250             |51250             |51250             |\n",
      "|mean   |NULL|NULL    |NULL                       |2024.0|1.4848780487804878 |16.51488780487805|12.822068292682927|29.612058536585366|29.566985365853657|5.047551219512195 |\n",
      "|stddev |NULL|NULL    |NULL                       |0.0   |0.49977615016451876|8.528361720190427|3.2661728439798807|17.24426313225204 |17.298404705267156|2.4362187928499424|\n",
      "|min    |NULL|ATENDIDO|ALARMAS VECINALES          |2024  |1                  |1                |0                 |0                 |0                 |1                 |\n",
      "|max    |NULL|RECIBIDO|VERIFICACIÓN ADMINISTRATIVA|2024  |2                  |31               |23                |59                |59                |9                 |\n",
      "+-------+----+--------+---------------------------+------+-------------------+-----------------+------------------+------------------+------------------+------------------+\n",
      "\n"
     ]
    },
    {
     "name": "stderr",
     "output_type": "stream",
     "text": [
      "                                                                                \r"
     ]
    }
   ],
   "source": [
    "from pyspark.sql.functions import hour, minute, second, year, month, dayofmonth,weekofyear\n",
    "\n",
    "datos_tiempo = datos.select(\n",
    "    col(\"edad\"),\n",
    "    col(\"estatus\"),\n",
    "    col(\"tema_solicitud\"),\n",
    "    year(col(\"fecha_solicitud\")).alias(\"anio\"),\n",
    "    month(col(\"fecha_solicitud\")).alias(\"mes\"),\n",
    "    dayofmonth(col(\"fecha_solicitud\")).alias(\"dia\"),\n",
    "    hour(col(\"hora_solicitud\")).alias(\"hora\"),\n",
    "    minute(col(\"hora_solicitud\")).alias(\"minuto\"),\n",
    "    second(col(\"hora_solicitud\")).alias(\"segundo\"),\n",
    "    weekofyear(col(\"fecha_solicitud\")).alias(\"semana\")  \n",
    ")\n",
    "\n",
    "datos_tiempo.printSchema()\n",
    "datos_tiempo.describe().show(truncate=False)"
   ]
  },
  {
   "cell_type": "code",
   "execution_count": 64,
   "metadata": {},
   "outputs": [
    {
     "name": "stdout",
     "output_type": "stream",
     "text": [
      "+-------+------+-------------------+-----------------+------------------+------------------+------------------+------------------+\n",
      "|summary|  anio|                mes|              dia|              hora|            minuto|           segundo|            semana|\n",
      "+-------+------+-------------------+-----------------+------------------+------------------+------------------+------------------+\n",
      "|  count| 51250|              51250|            51250|             51250|             51250|             51250|             51250|\n",
      "|   mean|2024.0| 1.4848780487804878|16.51488780487805|12.822068292682927|29.612058536585366|29.566985365853657| 5.047551219512195|\n",
      "| stddev|   0.0|0.49977615016451876|8.528361720190427|3.2661728439798807| 17.24426313225204|17.298404705267156|2.4362187928499424|\n",
      "|    min|  2024|                  1|                1|                 0|                 0|                 0|                 1|\n",
      "|    max|  2024|                  2|               31|                23|                59|                59|                 9|\n",
      "+-------+------+-------------------+-----------------+------------------+------------------+------------------+------------------+\n",
      "\n"
     ]
    },
    {
     "data": {
      "text/plain": [
       "DataFrame[summary: string, anio: string, mes: string, dia: string, hora: string, minuto: string, segundo: string, semana: string]"
      ]
     },
     "execution_count": 64,
     "metadata": {},
     "output_type": "execute_result"
    }
   ],
   "source": [
    "columnas = ['anio','mes','dia','hora','minuto','segundo','semana']\n",
    "datos_tiempo.select(columnas).describe().show()\n",
    "datos_tiempo.select(columnas).describe()"
   ]
  },
  {
   "cell_type": "code",
   "execution_count": 65,
   "metadata": {},
   "outputs": [
    {
     "data": {
      "text/plain": [
       "47"
      ]
     },
     "execution_count": 65,
     "metadata": {},
     "output_type": "execute_result"
    }
   ],
   "source": [
    "#Ver datos únicos\n",
    "datos_tiempo.select(\"tema_solicitud\").distinct().count()"
   ]
  },
  {
   "cell_type": "code",
   "execution_count": 66,
   "metadata": {},
   "outputs": [
    {
     "name": "stdout",
     "output_type": "stream",
     "text": [
      "+---------------------------------+\n",
      "|tema_solicitud                   |\n",
      "+---------------------------------+\n",
      "|VERIFICACIÓN ADMINISTRATIVA      |\n",
      "|BACHEO                           |\n",
      "|REPARACION DE EMPEDRADO          |\n",
      "|BECAS                            |\n",
      "|FALTA DE AGUA                    |\n",
      "|REINSCRIPCION AL CENDI           |\n",
      "|LLAVE CDMX                       |\n",
      "|ALARMAS VECINALES                |\n",
      "|SOLICITUD/SEGURO DE DESEMPLEO    |\n",
      "|SOLICITUD DE VIGILANCIA          |\n",
      "|PODA / RETIRO ARBOL              |\n",
      "|TRAMITES / INFO VEHICULAR        |\n",
      "|ALERTA SISMICA                   |\n",
      "|SOLICITUD DE CONCERTACIÓN VECINAL|\n",
      "|DESAZOLVE                        |\n",
      "|QUEJA FUNCIONARIO                |\n",
      "|ASISTENCIA VETERINARIA           |\n",
      "|SOLICITUD ESTUDIO SOCIOECONOMICO |\n",
      "|MANTENIMIENTO PARQUE / AREA VERDE|\n",
      "|BARBECHO / CHAPONEO              |\n",
      "+---------------------------------+\n",
      "only showing top 20 rows\n",
      "\n"
     ]
    }
   ],
   "source": [
    "datos_tiempo.select(\"tema_solicitud\").distinct().show(truncate=False)"
   ]
  },
  {
   "cell_type": "code",
   "execution_count": 69,
   "metadata": {},
   "outputs": [
    {
     "name": "stdout",
     "output_type": "stream",
     "text": [
      "+----------------------------------------+-----+\n",
      "|tema_solicitud                          |count|\n",
      "+----------------------------------------+-----+\n",
      "|OTRO                                    |32974|\n",
      "|FALTA DE AGUA                           |3127 |\n",
      "|ALUMBRADO                               |2463 |\n",
      "|PODA / RETIRO ARBOL                     |2290 |\n",
      "|FUGA DE AGUA                            |1073 |\n",
      "|DESAZOLVE                               |995  |\n",
      "|MANTENIMIENTO VÍA PÚBLICA               |915  |\n",
      "|QUEJA DE TRANSPORTE PUBLICO             |751  |\n",
      "|BACHEO                                  |708  |\n",
      "|VERIFICACIÓN ADMINISTRATIVA             |606  |\n",
      "|RETIRO CASCAJO, ESCOMBRO, AZOLVE, RAMAS |593  |\n",
      "|BARBECHO / CHAPONEO                     |591  |\n",
      "|VEHÍCULO ABANDONADO / CHATARRIZACIÓN    |480  |\n",
      "|ASISTENCIA SOCIAL                       |297  |\n",
      "|RECOLECCIÓN BASURA                      |297  |\n",
      "|QUEJA FUNCIONARIO                       |295  |\n",
      "|SOLICITUD DE VIGILANCIA                 |279  |\n",
      "|MANTENIMIENTO DE COLADERA / ALCANTARILLA|271  |\n",
      "|MANTENIMIENTO PARQUE / AREA VERDE       |255  |\n",
      "|LIMPIEZA VIA PUBLICA                    |243  |\n",
      "|PAVIMENTACION                           |203  |\n",
      "|MANTENIMIENTO DRENAJE                   |193  |\n",
      "|USO DE SUELO                            |190  |\n",
      "|TRAMITES / INFO VEHICULAR               |132  |\n",
      "|PROTECCION CIVIL                        |129  |\n",
      "|SOLICITUD EVALUACIÓN DE RIESGO          |122  |\n",
      "|BALIZAMIENTO                            |120  |\n",
      "|ASESORÍA JURÍDICA                       |118  |\n",
      "|ALERTA SISMICA                          |100  |\n",
      "|SOLICITUD/SEGURO DE DESEMPLEO           |82   |\n",
      "|RETIRO AMBULANTE                        |80   |\n",
      "|COVID                                   |47   |\n",
      "|MANTENIMIENTO SEMÁFOROS                 |45   |\n",
      "|SOLICITUD ESTUDIO SOCIOECONOMICO        |37   |\n",
      "|SOLICITUD DE CONCERTACIÓN VECINAL       |32   |\n",
      "|ASISTENCIA VETERINARIA                  |25   |\n",
      "|BECAS                                   |19   |\n",
      "|VENTA DE ALCOHOL / DROGA                |19   |\n",
      "|REINSCRIPCION AL CENDI                  |14   |\n",
      "|LLAVE CDMX                              |10   |\n",
      "|SOLICITUD DE VOLANTEO                   |9    |\n",
      "|REPARACION DE EMPEDRADO                 |7    |\n",
      "|ALARMAS VECINALES                       |6    |\n",
      "|SOLICITUD DE AUDIENCIA                  |5    |\n",
      "|REGISTRO FERIAS INDIGENAS               |1    |\n",
      "|PROGRAMA APOYO A CUIDADORES             |1    |\n",
      "|CRÉDITO DE VIVIENDA                     |1    |\n",
      "+----------------------------------------+-----+\n",
      "\n"
     ]
    }
   ],
   "source": [
    "datos_tiempo.groupBy(\"tema_solicitud\").count().orderBy(\"count\", ascending=False).show(100, truncate=False)"
   ]
  },
  {
   "cell_type": "code",
   "execution_count": 71,
   "metadata": {},
   "outputs": [
    {
     "name": "stdout",
     "output_type": "stream",
     "text": [
      "+----------------------------------------+-----+\n",
      "|tema_solicitud                          |count|\n",
      "+----------------------------------------+-----+\n",
      "|OTRO                                    |32974|\n",
      "|FALTA DE AGUA                           |3127 |\n",
      "|ALUMBRADO                               |2463 |\n",
      "|PODA / RETIRO ARBOL                     |2290 |\n",
      "|FUGA DE AGUA                            |1073 |\n",
      "|DESAZOLVE                               |995  |\n",
      "|MANTENIMIENTO VÍA PÚBLICA               |915  |\n",
      "|QUEJA DE TRANSPORTE PUBLICO             |751  |\n",
      "|BACHEO                                  |708  |\n",
      "|VERIFICACIÓN ADMINISTRATIVA             |606  |\n",
      "|RETIRO CASCAJO, ESCOMBRO, AZOLVE, RAMAS |593  |\n",
      "|BARBECHO / CHAPONEO                     |591  |\n",
      "|VEHÍCULO ABANDONADO / CHATARRIZACIÓN    |480  |\n",
      "|ASISTENCIA SOCIAL                       |297  |\n",
      "|RECOLECCIÓN BASURA                      |297  |\n",
      "|QUEJA FUNCIONARIO                       |295  |\n",
      "|SOLICITUD DE VIGILANCIA                 |279  |\n",
      "|MANTENIMIENTO DE COLADERA / ALCANTARILLA|271  |\n",
      "|MANTENIMIENTO PARQUE / AREA VERDE       |255  |\n",
      "|LIMPIEZA VIA PUBLICA                    |243  |\n",
      "|PAVIMENTACION                           |203  |\n",
      "|MANTENIMIENTO DRENAJE                   |193  |\n",
      "|USO DE SUELO                            |190  |\n",
      "|TRAMITES / INFO VEHICULAR               |132  |\n",
      "|PROTECCION CIVIL                        |129  |\n",
      "|SOLICITUD EVALUACIÓN DE RIESGO          |122  |\n",
      "|BALIZAMIENTO                            |120  |\n",
      "|ASESORÍA JURÍDICA                       |118  |\n",
      "|ALERTA SISMICA                          |100  |\n",
      "|SOLICITUD/SEGURO DE DESEMPLEO           |82   |\n",
      "|RETIRO AMBULANTE                        |80   |\n",
      "|COVID                                   |47   |\n",
      "|MANTENIMIENTO SEMÁFOROS                 |45   |\n",
      "|SOLICITUD ESTUDIO SOCIOECONOMICO        |37   |\n",
      "|SOLICITUD DE CONCERTACIÓN VECINAL       |32   |\n",
      "|ASISTENCIA VETERINARIA                  |25   |\n",
      "|BECAS                                   |19   |\n",
      "|VENTA DE ALCOHOL / DROGA                |19   |\n",
      "|REINSCRIPCION AL CENDI                  |14   |\n",
      "|LLAVE CDMX                              |10   |\n",
      "|SOLICITUD DE VOLANTEO                   |9    |\n",
      "|REPARACION DE EMPEDRADO                 |7    |\n",
      "|ALARMAS VECINALES                       |6    |\n",
      "|SOLICITUD DE AUDIENCIA                  |5    |\n",
      "|REGISTRO FERIAS INDIGENAS               |1    |\n",
      "|PROGRAMA APOYO A CUIDADORES             |1    |\n",
      "|CRÉDITO DE VIVIENDA                     |1    |\n",
      "+----------------------------------------+-----+\n",
      "\n"
     ]
    }
   ],
   "source": [
    "resultado = datos_tiempo.groupBy(\"tema_solicitud\").count().orderBy(\"count\", ascending=False)\n",
    "\n",
    "# Muestra los resultados\n",
    "resultado.show(100, truncate=False)"
   ]
  },
  {
   "cell_type": "markdown",
   "metadata": {},
   "source": [
    "## Clase 30/09/2024"
   ]
  },
  {
   "cell_type": "code",
   "execution_count": 72,
   "metadata": {},
   "outputs": [
    {
     "name": "stdout",
     "output_type": "stream",
     "text": [
      "root\n",
      " |-- edad: float (nullable = true)\n",
      " |-- estatus: string (nullable = true)\n",
      " |-- tema_solicitud: string (nullable = true)\n",
      " |-- anio: integer (nullable = true)\n",
      " |-- mes: integer (nullable = true)\n",
      " |-- dia: integer (nullable = true)\n",
      " |-- hora: integer (nullable = true)\n",
      " |-- minuto: integer (nullable = true)\n",
      " |-- segundo: integer (nullable = true)\n",
      " |-- semana: integer (nullable = true)\n",
      "\n"
     ]
    }
   ],
   "source": [
    "#Localhost:4040\n",
    "datos_tiempo.printSchema()"
   ]
  },
  {
   "cell_type": "code",
   "execution_count": 74,
   "metadata": {},
   "outputs": [
    {
     "data": {
      "text/plain": [
       "51250"
      ]
     },
     "execution_count": 74,
     "metadata": {},
     "output_type": "execute_result"
    }
   ],
   "source": [
    "datos_tiempo.filter(datos_tiempo.anio==2024).count()"
   ]
  },
  {
   "cell_type": "code",
   "execution_count": 76,
   "metadata": {},
   "outputs": [
    {
     "name": "stdout",
     "output_type": "stream",
     "text": [
      "+----+---------------------+---------------------------+----+---+---+----+------+-------+------+\n",
      "|edad|estatus              |tema_solicitud             |anio|mes|dia|hora|minuto|segundo|semana|\n",
      "+----+---------------------+---------------------------+----+---+---+----+------+-------+------+\n",
      "|NULL|CERRADO              |ASESORÍA JURÍDICA          |2024|1  |1  |1   |2     |20     |1     |\n",
      "|NULL|CERRADO              |SOLICITUD DE VIGILANCIA    |2024|1  |1  |3   |55    |9      |1     |\n",
      "|NULL|CERRADO              |OTRO                       |2024|1  |1  |9   |56    |19     |1     |\n",
      "|NULL|AUTORIDAD RESPONSABLE|BACHEO                     |2024|1  |1  |9   |8     |34     |1     |\n",
      "|NULL|CERRADO              |SOLICITUD DE VIGILANCIA    |2024|1  |1  |10  |23    |57     |1     |\n",
      "|NULL|CERRADO              |FALTA DE AGUA              |2024|1  |1  |10  |28    |16     |1     |\n",
      "|NULL|CERRADO              |SOLICITUD DE VIGILANCIA    |2024|1  |1  |9   |31    |37     |1     |\n",
      "|NULL|CERRADO              |OTRO                       |2024|1  |1  |11  |4     |11     |1     |\n",
      "|NULL|CERRADO              |FUGA DE AGUA               |2024|1  |1  |21  |2     |56     |1     |\n",
      "|NULL|CERRADO              |QUEJA DE TRANSPORTE PUBLICO|2024|1  |1  |20  |14    |44     |1     |\n",
      "|NULL|AUTORIDAD RESPONSABLE|FALTA DE AGUA              |2024|1  |1  |21  |18    |9      |1     |\n",
      "|NULL|CERRADO              |FALTA DE AGUA              |2024|1  |1  |21  |35    |42     |1     |\n",
      "|NULL|CERRADO              |OTRO                       |2024|1  |1  |21  |36    |28     |1     |\n",
      "|NULL|CERRADO              |BECAS                      |2024|1  |1  |22  |21    |42     |1     |\n",
      "|NULL|AUTORIDAD RESPONSABLE|ALUMBRADO                  |2024|1  |1  |22  |28    |11     |1     |\n",
      "|NULL|CERRADO              |ALUMBRADO                  |2024|1  |1  |22  |12    |13     |1     |\n",
      "|NULL|CERRADO              |ALUMBRADO                  |2024|1  |1  |17  |38    |59     |1     |\n",
      "|NULL|CERRADO              |OTRO                       |2024|1  |1  |15  |7     |51     |1     |\n",
      "|NULL|CERRADO              |PODA / RETIRO ARBOL        |2024|1  |1  |14  |11    |23     |1     |\n",
      "|NULL|CERRADO              |LIMPIEZA VIA PUBLICA       |2024|1  |1  |15  |23    |30     |1     |\n",
      "+----+---------------------+---------------------------+----+---+---+----+------+-------+------+\n",
      "only showing top 20 rows\n",
      "\n"
     ]
    }
   ],
   "source": [
    "datos_tiempo.filter(datos_tiempo.anio==2024).show(truncate=False)"
   ]
  },
  {
   "cell_type": "code",
   "execution_count": 84,
   "metadata": {},
   "outputs": [
    {
     "name": "stdout",
     "output_type": "stream",
     "text": [
      "root\n",
      " |-- fecha_solicitud: date (nullable = true)\n",
      " |-- hora_solicitud: timestamp (nullable = true)\n",
      " |-- tema_solicitud: string (nullable = true)\n",
      " |-- sexo: string (nullable = true)\n",
      " |-- edad: float (nullable = true)\n",
      " |-- estatus: string (nullable = true)\n",
      " |-- alcaldia_solicitud: string (nullable = true)\n",
      " |-- colonia_catalogo: string (nullable = true)\n",
      " |-- latitud: double (nullable = true)\n",
      " |-- longitud: double (nullable = true)\n",
      "\n"
     ]
    }
   ],
   "source": [
    "datos.printSchema()"
   ]
  },
  {
   "cell_type": "code",
   "execution_count": 83,
   "metadata": {},
   "outputs": [
    {
     "name": "stdout",
     "output_type": "stream",
     "text": [
      "root\n",
      " |-- edad: float (nullable = true)\n",
      " |-- estatus: string (nullable = true)\n",
      " |-- tema_solicitud: string (nullable = true)\n",
      " |-- anio: integer (nullable = true)\n",
      " |-- mes: integer (nullable = true)\n",
      " |-- dia: integer (nullable = true)\n",
      " |-- hora: integer (nullable = true)\n",
      " |-- minuto: integer (nullable = true)\n",
      " |-- segundo: integer (nullable = true)\n",
      " |-- semana: integer (nullable = true)\n",
      "\n"
     ]
    }
   ],
   "source": [
    "datos_tiempo.printSchema()"
   ]
  },
  {
   "cell_type": "code",
   "execution_count": 90,
   "metadata": {},
   "outputs": [
    {
     "name": "stdout",
     "output_type": "stream",
     "text": [
      "+----+----+---+----+-------+\n",
      "|edad|anio|dia|hora|estatus|\n",
      "+----+----+---+----+-------+\n",
      "+----+----+---+----+-------+\n",
      "\n"
     ]
    }
   ],
   "source": [
    "datos_tiempo.select(['edad','anio','dia','hora','estatus']).\\\n",
    "filter((datos_tiempo.anio==2024) & (datos_tiempo.anio <=6)).\\\n",
    "filter(datos_tiempo.dia==\"Sunday\").\\\n",
    "filter(datos_tiempo.edad>0).\\\n",
    "show()"
   ]
  },
  {
   "cell_type": "code",
   "execution_count": 92,
   "metadata": {},
   "outputs": [
    {
     "name": "stdout",
     "output_type": "stream",
     "text": [
      "+--------------------+-----+\n",
      "|  alcaldia_solicitud|count|\n",
      "+--------------------+-----+\n",
      "|          XOCHIMILCO|  340|\n",
      "|LA MAGDALENA CONT...|   62|\n",
      "|        AZCAPOTZALCO|  829|\n",
      "|            COYOACAN|  689|\n",
      "|             TLALPAN|  558|\n",
      "|                  NA|13906|\n",
      "|             TLAHUAC|  175|\n",
      "|CUAJIMALPA DE MOR...|   56|\n",
      "|       BENITO JUAREZ|  542|\n",
      "|          MILPA ALTA|  441|\n",
      "|   GUSTAVO A. MADERO| 1213|\n",
      "|          IZTAPALAPA|29427|\n",
      "|           IZTACALCO|  969|\n",
      "|          CUAUHTEMOC| 1152|\n",
      "| VENUSTIANO CARRANZA|  191|\n",
      "|      MIGUEL HIDALGO|  233|\n",
      "|      ALVARO OBREGON|  467|\n",
      "+--------------------+-----+\n",
      "\n"
     ]
    }
   ],
   "source": [
    "datos.groupBy(\"alcaldia_solicitud\").count().show()"
   ]
  },
  {
   "cell_type": "code",
   "execution_count": 93,
   "metadata": {},
   "outputs": [
    {
     "name": "stdout",
     "output_type": "stream",
     "text": [
      "+----------------------+-----+\n",
      "|alcaldia_solicitud    |count|\n",
      "+----------------------+-----+\n",
      "|XOCHIMILCO            |340  |\n",
      "|LA MAGDALENA CONTRERAS|62   |\n",
      "|AZCAPOTZALCO          |829  |\n",
      "|COYOACAN              |689  |\n",
      "|TLALPAN               |558  |\n",
      "|NA                    |13906|\n",
      "|TLAHUAC               |175  |\n",
      "|CUAJIMALPA DE MORELOS |56   |\n",
      "|BENITO JUAREZ         |542  |\n",
      "|MILPA ALTA            |441  |\n",
      "|GUSTAVO A. MADERO     |1213 |\n",
      "|IZTAPALAPA            |29427|\n",
      "|IZTACALCO             |969  |\n",
      "|CUAUHTEMOC            |1152 |\n",
      "|VENUSTIANO CARRANZA   |191  |\n",
      "|MIGUEL HIDALGO        |233  |\n",
      "|ALVARO OBREGON        |467  |\n",
      "+----------------------+-----+\n",
      "\n"
     ]
    }
   ],
   "source": [
    "datos.groupBy(\"alcaldia_solicitud\").count().show(100,truncate=False)"
   ]
  },
  {
   "cell_type": "code",
   "execution_count": 95,
   "metadata": {},
   "outputs": [
    {
     "name": "stdout",
     "output_type": "stream",
     "text": [
      "+----------------------+---------+\n",
      "|alcaldia_solicitud    |avg(edad)|\n",
      "+----------------------+---------+\n",
      "|XOCHIMILCO            |NULL     |\n",
      "|LA MAGDALENA CONTRERAS|NULL     |\n",
      "|COYOACAN              |NULL     |\n",
      "|AZCAPOTZALCO          |NULL     |\n",
      "|TLALPAN               |NULL     |\n",
      "|NA                    |NULL     |\n",
      "|TLAHUAC               |NULL     |\n",
      "|CUAJIMALPA DE MORELOS |NULL     |\n",
      "|BENITO JUAREZ         |NULL     |\n",
      "|MILPA ALTA            |NULL     |\n",
      "|GUSTAVO A. MADERO     |NULL     |\n",
      "|IZTAPALAPA            |NULL     |\n",
      "|IZTACALCO             |NULL     |\n",
      "|CUAUHTEMOC            |NULL     |\n",
      "|VENUSTIANO CARRANZA   |NULL     |\n",
      "|MIGUEL HIDALGO        |NULL     |\n",
      "|ALVARO OBREGON        |NULL     |\n",
      "+----------------------+---------+\n",
      "\n"
     ]
    }
   ],
   "source": [
    "datos.groupBy(\"alcaldia_solicitud\").agg({\"edad\":\"avg\"}).show(100, truncate=False)"
   ]
  },
  {
   "cell_type": "code",
   "execution_count": 97,
   "metadata": {},
   "outputs": [
    {
     "name": "stderr",
     "output_type": "stream",
     "text": [
      "                                                                                \r"
     ]
    }
   ],
   "source": [
    "datos.write.csv(\"locateltiempo.cvs\")"
   ]
  },
  {
   "cell_type": "code",
   "execution_count": 98,
   "metadata": {},
   "outputs": [
    {
     "data": {
      "text/plain": [
       "pyspark.sql.dataframe.DataFrame"
      ]
     },
     "execution_count": 98,
     "metadata": {},
     "output_type": "execute_result"
    }
   ],
   "source": [
    "type(datos)"
   ]
  },
  {
   "cell_type": "markdown",
   "metadata": {},
   "source": [
    "# S05_SparkSTFLocatel"
   ]
  },
  {
   "cell_type": "code",
   "execution_count": null,
   "metadata": {},
   "outputs": [],
   "source": [
    "dft.write.mode(\"\").cvs(\"hdfs://namenode:9000/tmp/amd/locateltiempo\")\n"
   ]
  },
  {
   "cell_type": "code",
   "execution_count": null,
   "metadata": {},
   "outputs": [],
   "source": [
    "type(dft)"
   ]
  },
  {
   "cell_type": "code",
   "execution_count": null,
   "metadata": {},
   "outputs": [],
   "source": [
    "dft.select(\"*\", (dft.edad * 12).alias(\"edad_meses\")).show(100, truncate = False)"
   ]
  },
  {
   "cell_type": "code",
   "execution_count": null,
   "metadata": {},
   "outputs": [],
   "source": [
    "dft.select(\"*\", (dft.edad * 12).\\\n",
    "           alias(\"edad_meses\")write.mode(\"overwrite\").\\\n",
    "            cvs(\"hdfs://namenode:9000/tmp/amd/locateltiempo\", header = True))"
   ]
  },
  {
   "cell_type": "code",
   "execution_count": null,
   "metadata": {},
   "outputs": [],
   "source": [
    "dft.select(\"*\", (dft.edad * 12).\\\n",
    "           alias(\"edad_meses\")write.mode(\"overwrite\").\\\n",
    "            cvs(\"hdfs://namenode:9000/tmp/amd/locateltiempo\", header = True))"
   ]
  },
  {
   "cell_type": "code",
   "execution_count": null,
   "metadata": {},
   "outputs": [],
   "source": [
    "from pyspark.sql.functions import count\n",
    "datos_tiempo.groupBy(\"anio\", \"mes\").agg(count(\"*\").alias(\"nr\")).show(truncate = False)"
   ]
  },
  {
   "cell_type": "code",
   "execution_count": null,
   "metadata": {},
   "outputs": [],
   "source": [
    "datos_tiempo.select([\"edad\",\"estatus\",\"tema_solicitud\", \"anio\",\"mes\"])\\\n",
    "            .partitionBy(\"anio\")\\\n",
    "            .write.mode(\"append\")\\\n",
    "            .cvs(\"hdfs://namenode:9000/tmp/amd/locateltiempobyanio\", header = True)"
   ]
  },
  {
   "cell_type": "code",
   "execution_count": null,
   "metadata": {},
   "outputs": [],
   "source": [
    "dfp = spark.read.option(header = True)\\\n",
    "           .cvs(\"hdfs://namenode:9000/tmp/amd/locateltiempobyanioymes\")"
   ]
  },
  {
   "cell_type": "code",
   "execution_count": null,
   "metadata": {},
   "outputs": [],
   "source": [
    "dfp.printSchema()"
   ]
  },
  {
   "cell_type": "code",
   "execution_count": null,
   "metadata": {},
   "outputs": [],
   "source": [
    "dfp.show(30, truncate = False)"
   ]
  },
  {
   "cell_type": "code",
   "execution_count": null,
   "metadata": {},
   "outputs": [],
   "source": [
    "dfp.filter('mes = 7 AND anio = 2022').show()"
   ]
  },
  {
   "cell_type": "markdown",
   "metadata": {},
   "source": [
    "## Clase 07/10/2024"
   ]
  },
  {
   "cell_type": "code",
   "execution_count": null,
   "metadata": {},
   "outputs": [],
   "source": [
    "from pyspark.sql.functions import col, sum, to_date, to_timestamp, regexp_replace\n",
    "from pyspark.sql.functions import date_format\n",
    "from pyspark.sql.types import IntergerType, DoubleType, FloatType"
   ]
  },
  {
   "cell_type": "code",
   "execution_count": null,
   "metadata": {},
   "outputs": [],
   "source": [
    "dir_hdfs = \"hdfs://namenode:9000/tmp/amd/locatel0311\""
   ]
  },
  {
   "cell_type": "code",
   "execution_count": null,
   "metadata": {},
   "outputs": [],
   "source": [
    "from pyspark.sql.functions import agg, max, min, count\n",
    "\n",
    "dfg = datos.groupBy(\"alcaldia\").\\\n",
    "    agg(avg(\"edad\").alias(\"edad_promedio\")\n",
    "                max(\"edad\").alias(\"edad_maxima\")\n",
    "                min(\"edad\").alias(\"edad_minima\")\n",
    "                count(\"*\").alias(\"no_registros\"))"
   ]
  },
  {
   "cell_type": "code",
   "execution_count": null,
   "metadata": {},
   "outputs": [],
   "source": [
    "dfg.groupBy(\"alcaldia_solicitud\",ascendig = False).show(100, truncate=False)"
   ]
  },
  {
   "cell_type": "code",
   "execution_count": null,
   "metadata": {},
   "outputs": [],
   "source": [
    "from pyspark.sql.functions import when\n",
    "\n",
    "datos = datos.\\\n",
    "    withColumn(\"alcaldia_solicitud\", when(datos.alcaldia_solicitud == \"IZTACALCO\", \"iZTACALCO\")).\\\n",
    "    otherwise(datos.alcaldia_solicitud)"
   ]
  },
  {
   "cell_type": "code",
   "execution_count": null,
   "metadata": {},
   "outputs": [],
   "source": [
    "from os import truncate\n",
    "datos.groupBy(\"alcaldia\").\\\n",
    "    agg(avg(\"edad\").alias(\"edad_promedio\")\n",
    "                max(\"edad\").alias(\"edad_maxima\")\n",
    "                min(\"edad\").alias(\"edad_minima\")\n",
    "                count(\"*\").alias(\"no_registros\")).\\\n",
    "    orderBy(\"alcaldia_solicitud\",ascending = False).\\\n",
    "    show(100,truncate = False)"
   ]
  },
  {
   "cell_type": "code",
   "execution_count": null,
   "metadata": {},
   "outputs": [],
   "source": [
    "sepomex_df = spark.read.\\\n",
    "    option(\"header\", \"True\").option(\"delimiter\", \"|\").\\\n",
    "    option(\"skipRows\", \"1\")sch(schema).\\\n",
    "    csv(\"hdfs://namenode:9000/tmp/amd/sepomex\")"
   ]
  },
  {
   "cell_type": "code",
   "execution_count": null,
   "metadata": {},
   "outputs": [],
   "source": [
    "dfcp = sepomex_df.select(['d_codigo','D_mnpio','d_estado'])"
   ]
  },
  {
   "cell_type": "code",
   "execution_count": null,
   "metadata": {},
   "outputs": [],
   "source": [
    "sepomex_df.printSchema()"
   ]
  },
  {
   "cell_type": "code",
   "execution_count": null,
   "metadata": {},
   "outputs": [],
   "source": [
    "dfcp.count()"
   ]
  },
  {
   "cell_type": "code",
   "execution_count": null,
   "metadata": {},
   "outputs": [],
   "source": [
    "dfcp.show(truncate = False)"
   ]
  },
  {
   "cell_type": "code",
   "execution_count": null,
   "metadata": {},
   "outputs": [],
   "source": [
    "from pyspark.sql.functions import col, coalesce\n",
    "\n",
    "datos_mapeados = datos.join(dfcp.select([\"d_codigo\", \"D_mnpio\"]), datos[\"codigo_postal_solicitud\"] == dfcp[\"d_codigo\"], \"left\")"
   ]
  },
  {
   "cell_type": "code",
   "execution_count": null,
   "metadata": {},
   "outputs": [],
   "source": [
    "datos_mapeados.printSchema()"
   ]
  },
  {
   "cell_type": "code",
   "execution_count": null,
   "metadata": {},
   "outputs": [],
   "source": [
    "datos_mapeados.select([\"codigo_postal_solicitud\", \"alcaldia_solicitud\", \"d_codigo\", \"D_mnpio\"]).show(100, truncate = False)"
   ]
  },
  {
   "cell_type": "code",
   "execution_count": null,
   "metadata": {},
   "outputs": [],
   "source": [
    "datos_mapeados.withColumn(\"alcaldia\", coalesce(col(\"D_mnpio\"), col(\"alcaldia\")))"
   ]
  },
  {
   "cell_type": "code",
   "execution_count": null,
   "metadata": {},
   "outputs": [],
   "source": [
    "datos_mapeados.select([\"edad\", \"alcadia\", \"codigo_postal_solicitud\",\"d_codigo\"]).show(100, truncate = False)"
   ]
  },
  {
   "cell_type": "code",
   "execution_count": null,
   "metadata": {},
   "outputs": [],
   "source": [
    "#Verificar duplicados\n",
    "dfcp_dup = dfcp.groupBy(\"d_codigo\").agg(count(\"*\").alias(\"count\")).\\\n",
    "    filter(\"count\" > 1)\n",
    "\n",
    "print(dfcp_dup.count())\n",
    "dfcp_dup.orderBy(\"count\", ascending = True).show(100,truncate = False)"
   ]
  },
  {
   "cell_type": "code",
   "execution_count": null,
   "metadata": {},
   "outputs": [],
   "source": [
    "#ver duplicados\n",
    "dfcp.filter(\"d_codigo = 85203\").show(truncate = False)"
   ]
  },
  {
   "cell_type": "code",
   "execution_count": null,
   "metadata": {},
   "outputs": [],
   "source": [
    "#Eliminar duplicados\n",
    "dfcp = dfcp.dropDuplicates(\"d_codigo\")"
   ]
  },
  {
   "cell_type": "code",
   "execution_count": null,
   "metadata": {},
   "outputs": [],
   "source": [
    "#Validar que ya no hay duplicados\n",
    "dfcp.groupBy(\"d_codigo\").agg(count(\"*\").alias(\"count\")).filter(\"count > 1\").show()"
   ]
  },
  {
   "cell_type": "code",
   "execution_count": null,
   "metadata": {},
   "outputs": [],
   "source": [
    "from pyspark.sql.functions import col, lpad, regexp_replace, trim\n",
    "datos = datos.withColumn(\n",
    "    \"codigo_postal_solicitud\", lpad (\n",
    "        trim(\n",
    "          regexp_replace (\n",
    "              col(\n",
    "                  \"codigo_postal_solicitud\"),\"[0-9]\", \"\")\n",
    "        ), 5, \"0\")\n",
    ")"
   ]
  },
  {
   "cell_type": "code",
   "execution_count": null,
   "metadata": {},
   "outputs": [],
   "source": [
    "datos.select(\"codigo_postal_solicitud\").show()"
   ]
  },
  {
   "cell_type": "code",
   "execution_count": null,
   "metadata": {},
   "outputs": [],
   "source": [
    "datos.select(\"codigo_postal_solicitud\" == \"00000\").\\\n",
    "    dropDup([\"codigo_postal_solicitud\"]).\\\n",
    "    filter(\"codigo_postal_solicitud\") and (len(col(\"alcaldia\")==5)).show()"
   ]
  },
  {
   "cell_type": "code",
   "execution_count": null,
   "metadata": {},
   "outputs": [],
   "source": [
    "#Actualizar codigo postal, cambiarlo por alcaldía\n",
    "datos = datos.withColumn(\"codigo_postal_solicitud\" when (\n",
    "         (col(\"codigo_postal_solicitud\") = \"00000\")\n",
    "            and (lenght(col(\"alcaldia\")) = 5),\n",
    "         col(\"alcaldia_solicitud\")\n",
    "    )\n",
    ")"
   ]
  },
  {
   "cell_type": "code",
   "execution_count": null,
   "metadata": {},
   "outputs": [],
   "source": [
    "datos.select(\"alcaldia\",\"codigo_psotal_solicitud\").filter(\n",
    "    col(\"codigo_postal_solicitud\") == col (\"alcaldia\")\n",
    ").show()"
   ]
  },
  {
   "cell_type": "code",
   "execution_count": null,
   "metadata": {},
   "outputs": [],
   "source": [
    "dfg = datos_mapeados.groupBy(\"alcaldia\").agg(\n",
    "    avg(\"edad\").alias(\"edad_promedio\"),\n",
    "    max(\"edad\").alias(\"edad_maxima\"),\n",
    "    min(\"edad\").alias(\"edad_minima\"),\n",
    "    count(\"*\").alias(\"no_registros\")\n",
    "    )"
   ]
  },
  {
   "cell_type": "code",
   "execution_count": null,
   "metadata": {},
   "outputs": [],
   "source": [
    "dfg.count()"
   ]
  },
  {
   "cell_type": "code",
   "execution_count": null,
   "metadata": {},
   "outputs": [],
   "source": [
    "dfg.orderBy(\"alcaldia_solicitud\",ascendig = False).show(100,truncate = False)"
   ]
  },
  {
   "cell_type": "code",
   "execution_count": null,
   "metadata": {},
   "outputs": [],
   "source": [
    "datos_mapeados.write.mode(\"overwrite\").option(\"heeader\",\"true\").csv(\"hdfs://namenode:9000/tmp/amd/locatellimpio\")"
   ]
  }
 ],
 "metadata": {
  "kernelspec": {
   "display_name": "venv",
   "language": "python",
   "name": "python3"
  },
  "language_info": {
   "codemirror_mode": {
    "name": "ipython",
    "version": 3
   },
   "file_extension": ".py",
   "mimetype": "text/x-python",
   "name": "python",
   "nbconvert_exporter": "python",
   "pygments_lexer": "ipython3",
   "version": "3.12.3"
  }
 },
 "nbformat": 4,
 "nbformat_minor": 2
}
