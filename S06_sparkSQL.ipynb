{
  "cells": [
    {
      "cell_type": "code",
      "execution_count": 36,
      "metadata": {},
      "outputs": [
        {
          "name": "stdout",
          "output_type": "stream",
          "text": [
            "3.5.3\n"
          ]
        }
      ],
      "source": [
        "import pyspark\n",
        "print(pyspark.__version__)"
      ]
    },
    {
      "cell_type": "code",
      "execution_count": 37,
      "metadata": {
        "trusted": true
      },
      "outputs": [
        {
          "name": "stdout",
          "output_type": "stream",
          "text": [
            "root\n",
            " |-- d_codigo: integer (nullable = true)\n",
            " |-- d_asenta: string (nullable = true)\n",
            " |-- d_tipo_asenta: string (nullable = true)\n",
            " |-- D_mnpio: string (nullable = true)\n",
            " |-- d_estado: string (nullable = true)\n",
            " |-- d_ciudad: string (nullable = true)\n",
            " |-- d_CP: integer (nullable = true)\n",
            " |-- c_estado: integer (nullable = true)\n",
            " |-- c_oficina: integer (nullable = true)\n",
            " |-- c_CP: string (nullable = true)\n",
            " |-- c_tipo_asenta: integer (nullable = true)\n",
            " |-- c_mnpio: integer (nullable = true)\n",
            " |-- id_asenta_cpcons: integer (nullable = true)\n",
            " |-- d_zona: string (nullable = true)\n",
            " |-- c_cve_ciudad: integer (nullable = true)\n",
            "\n"
          ]
        }
      ],
      "source": [
        "from pyspark.sql import SparkSession\n",
        "\n",
        "spark = SparkSession.builder.appName(\"sepomex\").getOrCreate()\n",
        "\n",
        "dir_hdfs = \"locatel.txt\"\n",
        "df = spark.read.csv(dir_hdfs, header = True, inferSchema = True, sep=\"|\")\n",
        "df.printSchema()"
      ]
    },
    {
      "cell_type": "code",
      "execution_count": 38,
      "metadata": {
        "trusted": true
      },
      "outputs": [
        {
          "name": "stdout",
          "output_type": "stream",
          "text": [
            "+---------+---------+-----------+\n",
            "|namespace|tableName|isTemporary|\n",
            "+---------+---------+-----------+\n",
            "|         |  locatel|       true|\n",
            "|         |  sepomex|       true|\n",
            "+---------+---------+-----------+\n",
            "\n"
          ]
        }
      ],
      "source": [
        "spark.sql(\"SHOW TABLES\").show()"
      ]
    },
    {
      "cell_type": "code",
      "execution_count": 39,
      "metadata": {
        "trusted": true
      },
      "outputs": [],
      "source": [
        "df.createOrReplaceTempView(\"locatel\")"
      ]
    },
    {
      "cell_type": "code",
      "execution_count": 40,
      "metadata": {
        "trusted": true
      },
      "outputs": [
        {
          "name": "stdout",
          "output_type": "stream",
          "text": [
            "+----------------+---------+-------+\n",
            "|col_name        |data_type|comment|\n",
            "+----------------+---------+-------+\n",
            "|d_codigo        |int      |NULL   |\n",
            "|d_asenta        |string   |NULL   |\n",
            "|d_tipo_asenta   |string   |NULL   |\n",
            "|D_mnpio         |string   |NULL   |\n",
            "|d_estado        |string   |NULL   |\n",
            "|d_ciudad        |string   |NULL   |\n",
            "|d_CP            |int      |NULL   |\n",
            "|c_estado        |int      |NULL   |\n",
            "|c_oficina       |int      |NULL   |\n",
            "|c_CP            |string   |NULL   |\n",
            "|c_tipo_asenta   |int      |NULL   |\n",
            "|c_mnpio         |int      |NULL   |\n",
            "|id_asenta_cpcons|int      |NULL   |\n",
            "|d_zona          |string   |NULL   |\n",
            "|c_cve_ciudad    |int      |NULL   |\n",
            "+----------------+---------+-------+\n",
            "\n"
          ]
        }
      ],
      "source": [
        "spark.sql(\"DESCRIBE locatel\").show(truncate=False)"
      ]
    },
    {
      "cell_type": "code",
      "execution_count": 41,
      "metadata": {
        "trusted": true
      },
      "outputs": [
        {
          "name": "stdout",
          "output_type": "stream",
          "text": [
            "+--------+--------------------+-------------+--------------+----------------+----------------+----+--------+---------+----+-------------+-------+----------------+------+------------+\n",
            "|d_codigo|            d_asenta|d_tipo_asenta|       D_mnpio|        d_estado|        d_ciudad|d_CP|c_estado|c_oficina|c_CP|c_tipo_asenta|c_mnpio|id_asenta_cpcons|d_zona|c_cve_ciudad|\n",
            "+--------+--------------------+-------------+--------------+----------------+----------------+----+--------+---------+----+-------------+-------+----------------+------+------------+\n",
            "|    1000|           San �ngel|      Colonia|�lvaro Obreg�n|Ciudad de M�xico|Ciudad de M�xico|1001|       9|     1001|NULL|            9|     10|               1|Urbano|           1|\n",
            "|    1010|           Los Alpes|      Colonia|�lvaro Obreg�n|Ciudad de M�xico|Ciudad de M�xico|1001|       9|     1001|NULL|            9|     10|               5|Urbano|           1|\n",
            "|    1020|       Guadalupe Inn|      Colonia|�lvaro Obreg�n|Ciudad de M�xico|Ciudad de M�xico|1001|       9|     1001|NULL|            9|     10|               6|Urbano|           1|\n",
            "|    1030|              Axotla|       Pueblo|�lvaro Obreg�n|Ciudad de M�xico|Ciudad de M�xico|1001|       9|     1001|NULL|           28|     10|               9|Urbano|           1|\n",
            "|    1030|             Florida|      Colonia|�lvaro Obreg�n|Ciudad de M�xico|Ciudad de M�xico|1001|       9|     1001|NULL|            9|     10|              10|Urbano|           1|\n",
            "|    1040|           Campestre|      Colonia|�lvaro Obreg�n|Ciudad de M�xico|Ciudad de M�xico|1001|       9|     1001|NULL|            9|     10|              12|Urbano|           1|\n",
            "|    1049|            Tlacopac|       Pueblo|�lvaro Obreg�n|Ciudad de M�xico|Ciudad de M�xico|1001|       9|     1001|NULL|           28|     10|              14|Urbano|           1|\n",
            "|    1050|Ex-Hacienda de Gu...|      Colonia|�lvaro Obreg�n|Ciudad de M�xico|Ciudad de M�xico|1001|       9|     1001|NULL|            9|     10|              16|Urbano|           1|\n",
            "|    1060|           Altavista|      Colonia|�lvaro Obreg�n|Ciudad de M�xico|Ciudad de M�xico|1001|       9|     1001|NULL|            9|     10|              17|Urbano|           1|\n",
            "|    1060|       San �ngel Inn|      Colonia|�lvaro Obreg�n|Ciudad de M�xico|Ciudad de M�xico|1001|       9|     1001|NULL|            9|     10|              18|Urbano|           1|\n",
            "|    1070|         Chimalistac|      Colonia|�lvaro Obreg�n|Ciudad de M�xico|Ciudad de M�xico|1001|       9|     1001|NULL|            9|     10|              19|Urbano|           1|\n",
            "|    1080|    Progreso Tizapan|      Colonia|�lvaro Obreg�n|Ciudad de M�xico|Ciudad de M�xico|1001|       9|     1001|NULL|            9|     10|              22|Urbano|           1|\n",
            "|    1089|      Ermita Tizapan|      Colonia|�lvaro Obreg�n|Ciudad de M�xico|Ciudad de M�xico|1001|       9|     1001|NULL|            9|     10|              24|Urbano|           1|\n",
            "|    1090|       La Otra Banda|       Barrio|�lvaro Obreg�n|Ciudad de M�xico|Ciudad de M�xico|1001|       9|     1001|NULL|            2|     10|              25|Urbano|           1|\n",
            "|    1090|              Loreto|       Barrio|�lvaro Obreg�n|Ciudad de M�xico|Ciudad de M�xico|1001|       9|     1001|NULL|            2|     10|              26|Urbano|           1|\n",
            "|    1090|             Tizapan|       Pueblo|�lvaro Obreg�n|Ciudad de M�xico|Ciudad de M�xico|1001|       9|     1001|NULL|           28|     10|              28|Urbano|           1|\n",
            "|    1100|             P�lvora|      Colonia|�lvaro Obreg�n|Ciudad de M�xico|Ciudad de M�xico|1131|       9|     1131|NULL|            9|     10|              31|Urbano|           1|\n",
            "|    1109|         La Conchita|      Colonia|�lvaro Obreg�n|Ciudad de M�xico|Ciudad de M�xico|1131|       9|     1131|NULL|            9|     10|              33|Urbano|           1|\n",
            "|    1110| Bel�m de las Flores|      Colonia|�lvaro Obreg�n|Ciudad de M�xico|Ciudad de M�xico|1131|       9|     1131|NULL|            9|     10|              34|Urbano|           1|\n",
            "|    1110|          El Capul�n|      Colonia|�lvaro Obreg�n|Ciudad de M�xico|Ciudad de M�xico|1131|       9|     1131|NULL|            9|     10|              36|Urbano|           1|\n",
            "+--------+--------------------+-------------+--------------+----------------+----------------+----+--------+---------+----+-------------+-------+----------------+------+------------+\n",
            "only showing top 20 rows\n",
            "\n"
          ]
        }
      ],
      "source": [
        "spark.sql(\"SELECT * FROM locatel\").show()"
      ]
    },
    {
      "cell_type": "code",
      "execution_count": 42,
      "metadata": {
        "trusted": true
      },
      "outputs": [
        {
          "name": "stdout",
          "output_type": "stream",
          "text": [
            "+----------------+----------------+\n",
            "|        d_estado|        d_ciudad|\n",
            "+----------------+----------------+\n",
            "|Ciudad de M�xico|Ciudad de M�xico|\n",
            "|Ciudad de M�xico|Ciudad de M�xico|\n",
            "|Ciudad de M�xico|Ciudad de M�xico|\n",
            "|Ciudad de M�xico|Ciudad de M�xico|\n",
            "|Ciudad de M�xico|Ciudad de M�xico|\n",
            "|Ciudad de M�xico|Ciudad de M�xico|\n",
            "|Ciudad de M�xico|Ciudad de M�xico|\n",
            "|Ciudad de M�xico|Ciudad de M�xico|\n",
            "|Ciudad de M�xico|Ciudad de M�xico|\n",
            "|Ciudad de M�xico|Ciudad de M�xico|\n",
            "|Ciudad de M�xico|Ciudad de M�xico|\n",
            "|Ciudad de M�xico|Ciudad de M�xico|\n",
            "|Ciudad de M�xico|Ciudad de M�xico|\n",
            "|Ciudad de M�xico|Ciudad de M�xico|\n",
            "|Ciudad de M�xico|Ciudad de M�xico|\n",
            "|Ciudad de M�xico|Ciudad de M�xico|\n",
            "|Ciudad de M�xico|Ciudad de M�xico|\n",
            "|Ciudad de M�xico|Ciudad de M�xico|\n",
            "|Ciudad de M�xico|Ciudad de M�xico|\n",
            "|Ciudad de M�xico|Ciudad de M�xico|\n",
            "|Ciudad de M�xico|Ciudad de M�xico|\n",
            "|Ciudad de M�xico|Ciudad de M�xico|\n",
            "|Ciudad de M�xico|Ciudad de M�xico|\n",
            "|Ciudad de M�xico|Ciudad de M�xico|\n",
            "|Ciudad de M�xico|Ciudad de M�xico|\n",
            "|Ciudad de M�xico|Ciudad de M�xico|\n",
            "|Ciudad de M�xico|Ciudad de M�xico|\n",
            "|Ciudad de M�xico|Ciudad de M�xico|\n",
            "|Ciudad de M�xico|Ciudad de M�xico|\n",
            "|Ciudad de M�xico|Ciudad de M�xico|\n",
            "|Ciudad de M�xico|Ciudad de M�xico|\n",
            "|Ciudad de M�xico|Ciudad de M�xico|\n",
            "|Ciudad de M�xico|Ciudad de M�xico|\n",
            "|Ciudad de M�xico|Ciudad de M�xico|\n",
            "|Ciudad de M�xico|Ciudad de M�xico|\n",
            "|Ciudad de M�xico|Ciudad de M�xico|\n",
            "|Ciudad de M�xico|Ciudad de M�xico|\n",
            "|Ciudad de M�xico|Ciudad de M�xico|\n",
            "|Ciudad de M�xico|Ciudad de M�xico|\n",
            "|Ciudad de M�xico|Ciudad de M�xico|\n",
            "|Ciudad de M�xico|Ciudad de M�xico|\n",
            "|Ciudad de M�xico|Ciudad de M�xico|\n",
            "|Ciudad de M�xico|Ciudad de M�xico|\n",
            "|Ciudad de M�xico|Ciudad de M�xico|\n",
            "|Ciudad de M�xico|Ciudad de M�xico|\n",
            "|Ciudad de M�xico|Ciudad de M�xico|\n",
            "|Ciudad de M�xico|Ciudad de M�xico|\n",
            "|Ciudad de M�xico|Ciudad de M�xico|\n",
            "|Ciudad de M�xico|Ciudad de M�xico|\n",
            "|Ciudad de M�xico|Ciudad de M�xico|\n",
            "|Ciudad de M�xico|Ciudad de M�xico|\n",
            "|Ciudad de M�xico|Ciudad de M�xico|\n",
            "|Ciudad de M�xico|Ciudad de M�xico|\n",
            "|Ciudad de M�xico|Ciudad de M�xico|\n",
            "|Ciudad de M�xico|Ciudad de M�xico|\n",
            "|Ciudad de M�xico|Ciudad de M�xico|\n",
            "|Ciudad de M�xico|Ciudad de M�xico|\n",
            "|Ciudad de M�xico|Ciudad de M�xico|\n",
            "|Ciudad de M�xico|Ciudad de M�xico|\n",
            "|Ciudad de M�xico|Ciudad de M�xico|\n",
            "|Ciudad de M�xico|Ciudad de M�xico|\n",
            "|Ciudad de M�xico|Ciudad de M�xico|\n",
            "|Ciudad de M�xico|Ciudad de M�xico|\n",
            "|Ciudad de M�xico|Ciudad de M�xico|\n",
            "|Ciudad de M�xico|Ciudad de M�xico|\n",
            "|Ciudad de M�xico|Ciudad de M�xico|\n",
            "|Ciudad de M�xico|Ciudad de M�xico|\n",
            "|Ciudad de M�xico|Ciudad de M�xico|\n",
            "|Ciudad de M�xico|Ciudad de M�xico|\n",
            "|Ciudad de M�xico|Ciudad de M�xico|\n",
            "|Ciudad de M�xico|Ciudad de M�xico|\n",
            "|Ciudad de M�xico|Ciudad de M�xico|\n",
            "|Ciudad de M�xico|Ciudad de M�xico|\n",
            "|Ciudad de M�xico|Ciudad de M�xico|\n",
            "|Ciudad de M�xico|Ciudad de M�xico|\n",
            "|Ciudad de M�xico|Ciudad de M�xico|\n",
            "|Ciudad de M�xico|Ciudad de M�xico|\n",
            "|Ciudad de M�xico|Ciudad de M�xico|\n",
            "|Ciudad de M�xico|Ciudad de M�xico|\n",
            "|Ciudad de M�xico|Ciudad de M�xico|\n",
            "|Ciudad de M�xico|Ciudad de M�xico|\n",
            "|Ciudad de M�xico|Ciudad de M�xico|\n",
            "|Ciudad de M�xico|Ciudad de M�xico|\n",
            "|Ciudad de M�xico|Ciudad de M�xico|\n",
            "|Ciudad de M�xico|Ciudad de M�xico|\n",
            "|Ciudad de M�xico|Ciudad de M�xico|\n",
            "|Ciudad de M�xico|Ciudad de M�xico|\n",
            "|Ciudad de M�xico|Ciudad de M�xico|\n",
            "|Ciudad de M�xico|Ciudad de M�xico|\n",
            "|Ciudad de M�xico|Ciudad de M�xico|\n",
            "|Ciudad de M�xico|Ciudad de M�xico|\n",
            "|Ciudad de M�xico|Ciudad de M�xico|\n",
            "|Ciudad de M�xico|Ciudad de M�xico|\n",
            "|Ciudad de M�xico|Ciudad de M�xico|\n",
            "|Ciudad de M�xico|Ciudad de M�xico|\n",
            "|Ciudad de M�xico|Ciudad de M�xico|\n",
            "|Ciudad de M�xico|Ciudad de M�xico|\n",
            "|Ciudad de M�xico|Ciudad de M�xico|\n",
            "|Ciudad de M�xico|Ciudad de M�xico|\n",
            "|Ciudad de M�xico|Ciudad de M�xico|\n",
            "+----------------+----------------+\n",
            "only showing top 100 rows\n",
            "\n"
          ]
        }
      ],
      "source": [
        "spark.sql(\"SELECT d_estado, d_ciudad FROM locatel\").show(100)"
      ]
    },
    {
      "cell_type": "code",
      "execution_count": 43,
      "metadata": {
        "trusted": true
      },
      "outputs": [
        {
          "name": "stdout",
          "output_type": "stream",
          "text": [
            "155922\n"
          ]
        }
      ],
      "source": [
        "sqlstr = \"\"\"\n",
        "SELECT d_estado, d_ciudad, d_mnpio \n",
        "FROM locatel \n",
        "WHERE d_mnpio IS NOT NULL\n",
        "\"\"\"\n",
        "\n",
        "resultado_conteo=spark.sql(sqlstr).count()\n",
        "print(resultado_conteo)"
      ]
    },
    {
      "cell_type": "code",
      "execution_count": 44,
      "metadata": {
        "trusted": true
      },
      "outputs": [
        {
          "ename": "AnalysisException",
          "evalue": "[UNRESOLVED_COLUMN.WITH_SUGGESTION] A column or function parameter with name `edad` cannot be resolved. Did you mean one of the following? [`d_CP`, `c_CP`, `d_zona`, `c_estado`, `d_ciudad`].; line 1 pos 38;\n'Aggregate [count(1) AS nr#809L]\n+- 'Filter isnotnull('edad)\n   +- SubqueryAlias locatel\n      +- View (`locatel`, [d_codigo#615,d_asenta#616,d_tipo_asenta#617,D_mnpio#618,d_estado#619,d_ciudad#620,d_CP#621,c_estado#622,c_oficina#623,c_CP#624,c_tipo_asenta#625,c_mnpio#626,id_asenta_cpcons#627,d_zona#628,c_cve_ciudad#629])\n         +- Relation [d_codigo#615,d_asenta#616,d_tipo_asenta#617,D_mnpio#618,d_estado#619,d_ciudad#620,d_CP#621,c_estado#622,c_oficina#623,c_CP#624,c_tipo_asenta#625,c_mnpio#626,id_asenta_cpcons#627,d_zona#628,c_cve_ciudad#629] csv\n",
          "output_type": "error",
          "traceback": [
            "\u001b[0;31m---------------------------------------------------------------------------\u001b[0m",
            "\u001b[0;31mAnalysisException\u001b[0m                         Traceback (most recent call last)",
            "Cell \u001b[0;32mIn[44], line 3\u001b[0m\n\u001b[1;32m      1\u001b[0m sqlstr \u001b[38;5;241m=\u001b[39m \u001b[38;5;124m\"\"\"\u001b[39m\u001b[38;5;124mSELECT count(*) nr FROM locatel WHERE edad is not null\u001b[39m\u001b[38;5;124m\"\"\"\u001b[39m\n\u001b[0;32m----> 3\u001b[0m \u001b[43mspark\u001b[49m\u001b[38;5;241;43m.\u001b[39;49m\u001b[43msql\u001b[49m\u001b[43m(\u001b[49m\u001b[43msqlstr\u001b[49m\u001b[43m)\u001b[49m\u001b[38;5;241m.\u001b[39mshow(truncate\u001b[38;5;241m=\u001b[39m\u001b[38;5;28;01mFalse\u001b[39;00m)\n",
            "File \u001b[0;32m~/Macrodatos/venv/lib/python3.12/site-packages/pyspark/sql/session.py:1631\u001b[0m, in \u001b[0;36mSparkSession.sql\u001b[0;34m(self, sqlQuery, args, **kwargs)\u001b[0m\n\u001b[1;32m   1627\u001b[0m         \u001b[38;5;28;01massert\u001b[39;00m \u001b[38;5;28mself\u001b[39m\u001b[38;5;241m.\u001b[39m_jvm \u001b[38;5;129;01mis\u001b[39;00m \u001b[38;5;129;01mnot\u001b[39;00m \u001b[38;5;28;01mNone\u001b[39;00m\n\u001b[1;32m   1628\u001b[0m         litArgs \u001b[38;5;241m=\u001b[39m \u001b[38;5;28mself\u001b[39m\u001b[38;5;241m.\u001b[39m_jvm\u001b[38;5;241m.\u001b[39mPythonUtils\u001b[38;5;241m.\u001b[39mtoArray(\n\u001b[1;32m   1629\u001b[0m             [_to_java_column(lit(v)) \u001b[38;5;28;01mfor\u001b[39;00m v \u001b[38;5;129;01min\u001b[39;00m (args \u001b[38;5;129;01mor\u001b[39;00m [])]\n\u001b[1;32m   1630\u001b[0m         )\n\u001b[0;32m-> 1631\u001b[0m     \u001b[38;5;28;01mreturn\u001b[39;00m DataFrame(\u001b[38;5;28;43mself\u001b[39;49m\u001b[38;5;241;43m.\u001b[39;49m\u001b[43m_jsparkSession\u001b[49m\u001b[38;5;241;43m.\u001b[39;49m\u001b[43msql\u001b[49m\u001b[43m(\u001b[49m\u001b[43msqlQuery\u001b[49m\u001b[43m,\u001b[49m\u001b[43m \u001b[49m\u001b[43mlitArgs\u001b[49m\u001b[43m)\u001b[49m, \u001b[38;5;28mself\u001b[39m)\n\u001b[1;32m   1632\u001b[0m \u001b[38;5;28;01mfinally\u001b[39;00m:\n\u001b[1;32m   1633\u001b[0m     \u001b[38;5;28;01mif\u001b[39;00m \u001b[38;5;28mlen\u001b[39m(kwargs) \u001b[38;5;241m>\u001b[39m \u001b[38;5;241m0\u001b[39m:\n",
            "File \u001b[0;32m~/Macrodatos/venv/lib/python3.12/site-packages/py4j/java_gateway.py:1322\u001b[0m, in \u001b[0;36mJavaMember.__call__\u001b[0;34m(self, *args)\u001b[0m\n\u001b[1;32m   1316\u001b[0m command \u001b[38;5;241m=\u001b[39m proto\u001b[38;5;241m.\u001b[39mCALL_COMMAND_NAME \u001b[38;5;241m+\u001b[39m\\\n\u001b[1;32m   1317\u001b[0m     \u001b[38;5;28mself\u001b[39m\u001b[38;5;241m.\u001b[39mcommand_header \u001b[38;5;241m+\u001b[39m\\\n\u001b[1;32m   1318\u001b[0m     args_command \u001b[38;5;241m+\u001b[39m\\\n\u001b[1;32m   1319\u001b[0m     proto\u001b[38;5;241m.\u001b[39mEND_COMMAND_PART\n\u001b[1;32m   1321\u001b[0m answer \u001b[38;5;241m=\u001b[39m \u001b[38;5;28mself\u001b[39m\u001b[38;5;241m.\u001b[39mgateway_client\u001b[38;5;241m.\u001b[39msend_command(command)\n\u001b[0;32m-> 1322\u001b[0m return_value \u001b[38;5;241m=\u001b[39m \u001b[43mget_return_value\u001b[49m\u001b[43m(\u001b[49m\n\u001b[1;32m   1323\u001b[0m \u001b[43m    \u001b[49m\u001b[43manswer\u001b[49m\u001b[43m,\u001b[49m\u001b[43m \u001b[49m\u001b[38;5;28;43mself\u001b[39;49m\u001b[38;5;241;43m.\u001b[39;49m\u001b[43mgateway_client\u001b[49m\u001b[43m,\u001b[49m\u001b[43m \u001b[49m\u001b[38;5;28;43mself\u001b[39;49m\u001b[38;5;241;43m.\u001b[39;49m\u001b[43mtarget_id\u001b[49m\u001b[43m,\u001b[49m\u001b[43m \u001b[49m\u001b[38;5;28;43mself\u001b[39;49m\u001b[38;5;241;43m.\u001b[39;49m\u001b[43mname\u001b[49m\u001b[43m)\u001b[49m\n\u001b[1;32m   1325\u001b[0m \u001b[38;5;28;01mfor\u001b[39;00m temp_arg \u001b[38;5;129;01min\u001b[39;00m temp_args:\n\u001b[1;32m   1326\u001b[0m     \u001b[38;5;28;01mif\u001b[39;00m \u001b[38;5;28mhasattr\u001b[39m(temp_arg, \u001b[38;5;124m\"\u001b[39m\u001b[38;5;124m_detach\u001b[39m\u001b[38;5;124m\"\u001b[39m):\n",
            "File \u001b[0;32m~/Macrodatos/venv/lib/python3.12/site-packages/pyspark/errors/exceptions/captured.py:185\u001b[0m, in \u001b[0;36mcapture_sql_exception.<locals>.deco\u001b[0;34m(*a, **kw)\u001b[0m\n\u001b[1;32m    181\u001b[0m converted \u001b[38;5;241m=\u001b[39m convert_exception(e\u001b[38;5;241m.\u001b[39mjava_exception)\n\u001b[1;32m    182\u001b[0m \u001b[38;5;28;01mif\u001b[39;00m \u001b[38;5;129;01mnot\u001b[39;00m \u001b[38;5;28misinstance\u001b[39m(converted, UnknownException):\n\u001b[1;32m    183\u001b[0m     \u001b[38;5;66;03m# Hide where the exception came from that shows a non-Pythonic\u001b[39;00m\n\u001b[1;32m    184\u001b[0m     \u001b[38;5;66;03m# JVM exception message.\u001b[39;00m\n\u001b[0;32m--> 185\u001b[0m     \u001b[38;5;28;01mraise\u001b[39;00m converted \u001b[38;5;28;01mfrom\u001b[39;00m \u001b[38;5;28;01mNone\u001b[39;00m\n\u001b[1;32m    186\u001b[0m \u001b[38;5;28;01melse\u001b[39;00m:\n\u001b[1;32m    187\u001b[0m     \u001b[38;5;28;01mraise\u001b[39;00m\n",
            "\u001b[0;31mAnalysisException\u001b[0m: [UNRESOLVED_COLUMN.WITH_SUGGESTION] A column or function parameter with name `edad` cannot be resolved. Did you mean one of the following? [`d_CP`, `c_CP`, `d_zona`, `c_estado`, `d_ciudad`].; line 1 pos 38;\n'Aggregate [count(1) AS nr#809L]\n+- 'Filter isnotnull('edad)\n   +- SubqueryAlias locatel\n      +- View (`locatel`, [d_codigo#615,d_asenta#616,d_tipo_asenta#617,D_mnpio#618,d_estado#619,d_ciudad#620,d_CP#621,c_estado#622,c_oficina#623,c_CP#624,c_tipo_asenta#625,c_mnpio#626,id_asenta_cpcons#627,d_zona#628,c_cve_ciudad#629])\n         +- Relation [d_codigo#615,d_asenta#616,d_tipo_asenta#617,D_mnpio#618,d_estado#619,d_ciudad#620,d_CP#621,c_estado#622,c_oficina#623,c_CP#624,c_tipo_asenta#625,c_mnpio#626,id_asenta_cpcons#627,d_zona#628,c_cve_ciudad#629] csv\n"
          ]
        }
      ],
      "source": [
        "sqlstr = \"\"\"SELECT count(*) nr FROM locatel WHERE edad is not null\"\"\"\n",
        "\n",
        "spark.sql(sqlstr).show(truncate=False)"
      ]
    },
    {
      "cell_type": "code",
      "execution_count": null,
      "metadata": {
        "trusted": true
      },
      "outputs": [],
      "source": [
        "sqlstr = \"\"\"SELECT sexo, count(* nr) FROM locatel GROUP BY sexo ORDER BY sexo\"\"\"\n",
        "\n",
        "spark.sql(sqlstr).show(truncate=False)"
      ]
    },
    {
      "cell_type": "code",
      "execution_count": null,
      "metadata": {
        "trusted": true
      },
      "outputs": [],
      "source": [
        "campo = \"edad\"\n",
        "sqlstr = \"\"\"SELECT {campo}, count(* nr) FROM locatel GROUP BY {campo} ORDER BY {campo} DESC\"\"\"\n",
        "\n",
        "spark.sql(sqlstr).show(200, truncate=False)"
      ]
    },
    {
      "cell_type": "code",
      "execution_count": null,
      "metadata": {
        "trusted": true
      },
      "outputs": [],
      "source": [
        "campo = \"tema_solicitud\"\n",
        "sqlstr = \"\"\"SELECT {edad}, count(* nr) FROM locatel GROUP BY {edad} ORDER BY {edad} DESC\"\"\"\n",
        "\n",
        "spark.sql(sqlstr).show(200, truncate=False)"
      ]
    },
    {
      "cell_type": "code",
      "execution_count": null,
      "metadata": {
        "trusted": true
      },
      "outputs": [],
      "source": [
        "campo = \"tema_solicitud\"\n",
        "sqlstr = \"\"\"SELECT {campo}, count(* nr), ROUND(AVG(edad),2) edad_prom, MAX(edad) edad_max, MIN(edad) edad_min FROM locatel GROUP BY {campo} ORDER BY {campo} DESC\"\"\"\n",
        "print(\"Atenea Gutiérrez\")\n",
        "spark.sql(sqlstr).show(10, truncate=False)"
      ]
    },
    {
      "cell_type": "code",
      "execution_count": null,
      "metadata": {
        "trusted": true
      },
      "outputs": [],
      "source": [
        "#Registros por hora\n",
        "import matplotlib.pyplot as plt\n",
        "\n",
        "sqlstr = f\"\"\"SELECT HOUR(hora_solicitud) hora COUNT(*) FROM locatel GROUP BY {campo} ORDER BY {campo} DESC\"\"\"\n",
        "print(\"Angela Atenea Larios Gutiérrez\")\n",
        "dfh=spark.sql(sqlstr).toPandas()\n",
        "\n",
        "plt.figure(figsize = (10,6))\n",
        "plt.bar(dhf['hora'], dfh['nr'], marker = 'o', linestyle = '-', color = 'b')\n",
        "\n",
        "plt.xlabel('Hora del día')\n",
        "plt.ylabel('Número de registros')\n",
        "plt.title('Número de registros por hora')"
      ]
    },
    {
      "cell_type": "markdown",
      "metadata": {},
      "source": [
        "### Miercóles 16 Octubre"
      ]
    },
    {
      "cell_type": "code",
      "execution_count": null,
      "metadata": {},
      "outputs": [],
      "source": [
        "sqlstr = f\"\"\"SELECT HOUR(hora_solicitud) hora \n",
        "SUBSTRING (hora_solicitud, 15, 2) hora COUNT NR(*) \n",
        "FROM locatel \n",
        "GROUP BY anio \n",
        "ORDER BY 1 DESC\"\"\"\n",
        "print(\"Angela Atenea Larios Gutiérrez\")\n",
        "dfh=spark.sql(sqlstr).toPandas().show()"
      ]
    },
    {
      "cell_type": "code",
      "execution_count": null,
      "metadata": {},
      "outputs": [],
      "source": [
        "sqlstr = f\"\"\"SELECT YEAR(fecha_solicitud) anio, sexo COUNT (*) \n",
        "FROM locatel \n",
        "GROUP BY anio, sexo\n",
        "ORDER BY 1, 2 DESC\"\"\"\n",
        "print(\"Angela Atenea Larios Gutiérrez\")\n",
        "dfh=spark.sql(sqlstr).toPandas()\n",
        "\n",
        "plt.figure(figsize = (10,6))\n",
        "plt.bar(dfh['anio'], dfh['nr'])\n",
        "\n",
        "plt.xlabel('Año')\n",
        "plt.ylabel('Número de registros')\n",
        "plt.title('Número de registros por año')"
      ]
    },
    {
      "cell_type": "code",
      "execution_count": null,
      "metadata": {},
      "outputs": [],
      "source": [
        "sqlstr = f\"\"\"SELECT anio, \n",
        "SUM(CASE WHEN sexo = \"FEMENINO\" THEN nr ELSE 0 END) AS FEMENINO,\n",
        "SUM(CASE WHEN sexo = \"MASCULINO\" THEN nr ELSE 0 END) AS MASCULINO,\n",
        "SUM(CASE WHEN sexo = IN('NA', NO ESPECIFICADO) THEN nr ELSE 0 END) AS NO ESPECIFICADO\n",
        "FROM (\n",
        "    SELECT YEAR(fecha_solicitud) anio, sexo COUNT (*) nr\n",
        "    FROM locatel\n",
        "    GROUP BY anio, sexo\n",
        ")\n",
        "GROUP BY anio, sexo\n",
        "ORDER BY 1, 2 DESC\"\"\"\n",
        "print(\"Angela Atenea Larios Gutiérrez\")\n",
        "spark.sql(sqlstr).toPandas().set_index('anio')[['FEMENINO','MASCULINO', 'NO ESPECIFICADO']].plot(kind='bar',stacked=False,figsize=(10,6))\n",
        "\n",
        "plt.xlabel('Año')\n",
        "plt.ylabel('Número de registros')\n",
        "plt.title('Número de registros por año')\n",
        "plt.xticks(rotation=45)\n",
        "\n",
        "plt.tight_layout()\n",
        "plt.show()"
      ]
    },
    {
      "cell_type": "code",
      "execution_count": null,
      "metadata": {},
      "outputs": [],
      "source": [
        "sqlstr = f\"\"\"SELECT anio, \n",
        "SUM(CASE WHEN sexo = \"FEMENINO\" THEN nr ELSE 0 END) AS FEMENINO,\n",
        "SUM(CASE WHEN sexo = \"MASCULINO\" THEN nr ELSE 0 END) AS MASCULINO,\n",
        "SUM(CASE WHEN sexo = IN('NA', NO ESPECIFICADO) THEN nr ELSE 0 END) AS NO ESPECIFICADO\n",
        "FROM (\n",
        "    SELECT YEAR(fecha_solicitud) anio, sexo COUNT (*) nr\n",
        "    FROM locatel\n",
        "    GROUP BY anio, sexo\n",
        ")\n",
        "GROUP BY anio, sexo\n",
        "ORDER BY 1, 2 DESC\"\"\"\n",
        "print(\"Angela Atenea Larios Gutiérrez\")\n",
        "\n",
        "spark.sql(sqlstr).write.mode(\"append\").save(\"locatelanio\")"
      ]
    },
    {
      "cell_type": "markdown",
      "metadata": {},
      "source": [
        "## Clase 18/10/2024"
      ]
    },
    {
      "cell_type": "code",
      "execution_count": 20,
      "metadata": {},
      "outputs": [],
      "source": [
        "from pyspark.sql.types import StructType, StructField, StringType, IntegerType\n",
        " \n",
        "schema = StructType([\n",
        "    StructField(\"d_codigo\", StringType(), True),\n",
        "    StructField(\"d_asenta\", StringType(), True),\n",
        "    StructField(\"d_tipo_asenta\", StringType(), True),\n",
        "    StructField(\"D_mnpio\", StringType(), True),\n",
        "    StructField(\"d_estado\", StringType(), True),\n",
        "    StructField(\"d_ciudad\", StringType(), True),\n",
        "    StructField(\"d_CP\", StringType(), True),\n",
        "    StructField(\"c_estado\", StringType(), True),\n",
        "    StructField(\"c_oficina\", StringType(), True),\n",
        "    StructField(\"c_CP\", StringType(), True),\n",
        "    StructField(\"c_tipo_asenta\", StringType(), True),\n",
        "    StructField(\"c_mnpio\", StringType(), True),\n",
        "    StructField(\"id_asenta_cpcons\", StringType(), True),\n",
        "    StructField(\"d_zona\", StringType(), True),\n",
        "    StructField(\"c_cve_ciudad\", StringType(), True)\n",
        "])\n",
        "\n",
        "sepomex_df = spark.read.option(\"header\",\"true\")\\\n",
        "    .option(\"delimiter\",\"|\")\\\n",
        "    .option(\"skipRows\",\"1\")\\\n",
        "    .option(\"encoding\",\"UTF-8\")\\\n",
        "    .schema(schema)\\\n",
        "    .csv(\"sepomex.csv\")\n",
        "sepomex_df.count()\n",
        "#curl -L https://github.com/omarmendoza564/datos/raw/refs/heads/main/datos/CPdescarga.txt | iconv -f ISO-8859-1 -t UTF-8 | hdfs dfs -put -f - /tmp/amd/sepomex/CPdescarga.txt\n",
        " \n",
        "#imports\n",
        "from pyspark.sql.functions import col, sum, to_date, to_timestamp, regexp_replace, date_format\n",
        "from pyspark.sql.types import IntegerType, DoubleType, FloatType\n",
        " \n",
        "#curl -L https://datos.cdmx.gob.mx/dataset/529aac27-d1c1-426f-8c45-fd76fba43bf4/resource/44913088-806d-4f80-acca-1409a8225e9c/download/locatel0311-2024.csv | hdfs dfs -put -f - /tmp/amd/locatel0311/locatel0311-2024.csv\n"
      ]
    },
    {
      "cell_type": "code",
      "execution_count": 21,
      "metadata": {},
      "outputs": [
        {
          "name": "stdout",
          "output_type": "stream",
          "text": [
            "root\n",
            " |-- d_codigo: string (nullable = true)\n",
            " |-- d_asenta: string (nullable = true)\n",
            " |-- d_tipo_asenta: string (nullable = true)\n",
            " |-- D_mnpio: string (nullable = true)\n",
            " |-- d_estado: string (nullable = true)\n",
            " |-- d_ciudad: string (nullable = true)\n",
            " |-- d_CP: string (nullable = true)\n",
            " |-- c_estado: string (nullable = true)\n",
            " |-- c_oficina: string (nullable = true)\n",
            " |-- c_CP: string (nullable = true)\n",
            " |-- c_tipo_asenta: string (nullable = true)\n",
            " |-- c_mnpio: string (nullable = true)\n",
            " |-- id_asenta_cpcons: string (nullable = true)\n",
            " |-- d_zona: string (nullable = true)\n",
            " |-- c_cve_ciudad: string (nullable = true)\n",
            "\n"
          ]
        }
      ],
      "source": [
        "sepomex_df.printSchema()"
      ]
    },
    {
      "cell_type": "code",
      "execution_count": 22,
      "metadata": {},
      "outputs": [],
      "source": [
        "sepomex_df.select(['d_codigo','d_mnpio','d_estado','d_ciudad']).distinct().createOrReplaceTempView(\"sepomex\")"
      ]
    },
    {
      "cell_type": "code",
      "execution_count": 23,
      "metadata": {},
      "outputs": [
        {
          "name": "stdout",
          "output_type": "stream",
          "text": [
            "+---------+---------+-----------+\n",
            "|namespace|tableName|isTemporary|\n",
            "+---------+---------+-----------+\n",
            "|         |  sepomex|       true|\n",
            "+---------+---------+-----------+\n",
            "\n"
          ]
        }
      ],
      "source": [
        "spark.sql(\"SHOW TABLES\").show()"
      ]
    },
    {
      "cell_type": "code",
      "execution_count": 24,
      "metadata": {},
      "outputs": [
        {
          "name": "stdout",
          "output_type": "stream",
          "text": [
            "+--------+---------+-------+\n",
            "|col_name|data_type|comment|\n",
            "+--------+---------+-------+\n",
            "|d_codigo|   string|   NULL|\n",
            "| d_mnpio|   string|   NULL|\n",
            "|d_estado|   string|   NULL|\n",
            "|d_ciudad|   string|   NULL|\n",
            "+--------+---------+-------+\n",
            "\n"
          ]
        }
      ],
      "source": [
        "spark.sql(\"DESCRIBE sepomex\").show()"
      ]
    },
    {
      "cell_type": "code",
      "execution_count": 25,
      "metadata": {},
      "outputs": [
        {
          "name": "stderr",
          "output_type": "stream",
          "text": [
            "24/10/18 12:42:47 WARN CSVHeaderChecker: CSV header does not conform to the schema.\n",
            " Header: id_folio,fecha_solicitud,hora_solicitud,tipo_de_entrada,tema_solicitud,sexo,edad,colonia_solicitud,alcaldia_solicitud,codigo_postal_solicitud,estatus,fecha_concluido,alcaldia_catalogo,colonia_catalogo,longitud,latitud, , , \n",
            " Schema: d_codigo, D_mnpio, d_estado, d_ciudad\n",
            "Expected: d_codigo but found: id_folio,fecha_solicitud,hora_solicitud,tipo_de_entrada,tema_solicitud,sexo,edad,colonia_solicitud,alcaldia_solicitud,codigo_postal_solicitud,estatus,fecha_concluido,alcaldia_catalogo,colonia_catalogo,longitud,latitud\n",
            "CSV file: file:///home/atenea/Macrodatos/sepomex.csv\n"
          ]
        },
        {
          "name": "stdout",
          "output_type": "stream",
          "text": [
            "+--------+\n",
            "|count(1)|\n",
            "+--------+\n",
            "|113147  |\n",
            "+--------+\n",
            "\n"
          ]
        }
      ],
      "source": [
        "spark.sql(\"SELECT COUNT (*) FROM sepomex\").show(30, truncate=False)"
      ]
    },
    {
      "cell_type": "code",
      "execution_count": 26,
      "metadata": {},
      "outputs": [
        {
          "name": "stderr",
          "output_type": "stream",
          "text": [
            "24/10/18 12:42:53 WARN CSVHeaderChecker: CSV header does not conform to the schema.\n",
            " Header: id_folio,fecha_solicitud,hora_solicitud,tipo_de_entrada,tema_solicitud,sexo,edad,colonia_solicitud,alcaldia_solicitud,codigo_postal_solicitud,estatus,fecha_concluido,alcaldia_catalogo,colonia_catalogo,longitud,latitud, , , \n",
            " Schema: d_codigo, D_mnpio, d_estado, d_ciudad\n",
            "Expected: d_codigo but found: id_folio,fecha_solicitud,hora_solicitud,tipo_de_entrada,tema_solicitud,sexo,edad,colonia_solicitud,alcaldia_solicitud,codigo_postal_solicitud,estatus,fecha_concluido,alcaldia_catalogo,colonia_catalogo,longitud,latitud\n",
            "CSV file: file:///home/atenea/Macrodatos/sepomex.csv\n"
          ]
        },
        {
          "name": "stdout",
          "output_type": "stream",
          "text": [
            "+------+------+\n",
            "|estado|nr    |\n",
            "+------+------+\n",
            "|NULL  |113147|\n",
            "+------+------+\n",
            "\n"
          ]
        }
      ],
      "source": [
        "#Ver el numero de registros por estado\n",
        "strsql=\"\"\" SELECT d_estado AS estado, COUNT (*) nr\n",
        "FROM sepomex\n",
        "GROUP BY d_estado\n",
        "Order BY 1\n",
        "\"\"\"\n",
        "spark.sql(strsql).show(40, truncate=False)"
      ]
    },
    {
      "cell_type": "code",
      "execution_count": null,
      "metadata": {},
      "outputs": [],
      "source": [
        "strsql = \"\"\"SELECT *\n",
        "FROM locatel l\n",
        "LEFT JOIN sepomex s ON(l.d_codigo = s.d_codigo)\n",
        "ORDER BY 1\n",
        "\"\"\"\n",
        "\n",
        "spark.sql(strsql).show(40,truncate=False)"
      ]
    },
    {
      "cell_type": "code",
      "execution_count": null,
      "metadata": {},
      "outputs": [],
      "source": [
        "strsql = \"\"\"SELECT *\n",
        "FROM locatel l\n",
        "LEFT JOIN sepomex s ON(l.d_codigo = s.d_codigo)\n",
        "WHERE s.d_codigo IS NULL\n",
        "ORDER BY 1\n",
        "\"\"\"\n",
        "\n",
        "spark.sql(strsql).show(40,truncate=False)"
      ]
    },
    {
      "cell_type": "code",
      "execution_count": null,
      "metadata": {},
      "outputs": [],
      "source": [
        "strsql = \"\"\"SELECT fecha_solicitud, tema_solicitud, l.d_codigo, s.d_codigo,s.d_ciudad\n",
        "FROM locatel l\n",
        "LEFT JOIN sepomex s ON(l.d_codigo = s.d_codigo)\n",
        "WHERE s.d_codigo IS NULL\n",
        "ORDER BY 1\n",
        "\"\"\"\n",
        "\n",
        "spark.sql(strsql).show(10,truncate=False)"
      ]
    },
    {
      "cell_type": "code",
      "execution_count": null,
      "metadata": {},
      "outputs": [],
      "source": [
        "strsql = \"\"\"SELECT fecha_solicitud, tema_solicitud, l.d_codigo, s.d_codigo,s.d_ciudad\n",
        "FROM locatel l\n",
        "JOIN sepomex s ON(l.d_codigo = s.d_codigo)\n",
        "ORDER BY 1\n",
        "\"\"\"\n",
        "\n",
        "spark.sql(strsql).show(10,truncate=False)"
      ]
    },
    {
      "cell_type": "code",
      "execution_count": null,
      "metadata": {},
      "outputs": [],
      "source": [
        "strsql = \"\"\"SELECT fecha_solicitud, tema_solicitud, l.d_codigo, s.d_codigo,s.d_ciudad\n",
        "FROM locatel l\n",
        "RIGHT JOIN sepomex s ON(l.d_codigo = s.d_codigo)\n",
        "ORDER BY 1\n",
        "\"\"\"\n",
        "\n",
        "spark.sql(strsql).show(10,truncate=False)"
      ]
    },
    {
      "cell_type": "code",
      "execution_count": null,
      "metadata": {},
      "outputs": [],
      "source": [
        "strsql = \"\"\"SELECT COUNT (*)\n",
        "FROM locatel l\n",
        "RIGHT JOIN sepomex s ON(l.d_codigo = s.d_codigo)\n",
        "WHERE l.d_codigo IS NULL\n",
        "ORDER BY 1\n",
        "\"\"\"\n",
        "\n",
        "spark.sql(strsql).show(10,truncate=False)"
      ]
    },
    {
      "cell_type": "code",
      "execution_count": null,
      "metadata": {},
      "outputs": [],
      "source": [
        "strsql = \"\"\"SELECT COUNT (*)\n",
        "FROM locatel l\n",
        "FULL OUTER JOIN sepomex s ON(l.d_codigo = s.d_codigo)\n",
        "ORDER BY 1\n",
        "\"\"\"\n",
        "\n",
        "spark.sql(strsql).show(10,truncate=False)"
      ]
    },
    {
      "cell_type": "code",
      "execution_count": null,
      "metadata": {},
      "outputs": [],
      "source": [
        "strsql = \"\"\"SELECT COUNT (*)\n",
        "FROM locatel l\n",
        "FULL OUTER JOIN sepomex s ON(l.d_codigo = s.d_codigo)\n",
        "WHERE l.d_codigo IS NULL or s.d_codigo IS NULL\n",
        "ORDER BY 1\n",
        "\"\"\"\n",
        "\n",
        "spark.sql(strsql).show(10,truncate=False)"
      ]
    },
    {
      "cell_type": "markdown",
      "metadata": {},
      "source": [
        "### Correr con precaución la siguiente celda"
      ]
    },
    {
      "cell_type": "code",
      "execution_count": null,
      "metadata": {},
      "outputs": [],
      "source": [
        "#Ver el numero de registros por estado\n",
        "strsql=\"\"\" SELECT count (*) nr\n",
        "FROM locatel l\n",
        "JOIN sepomex x\n",
        "Order BY 1\n",
        "\"\"\"\n",
        "spark.sql(strsql).show(40, truncate=False)"
      ]
    },
    {
      "cell_type": "code",
      "execution_count": null,
      "metadata": {},
      "outputs": [],
      "source": []
    }
  ],
  "metadata": {
    "kernelspec": {
      "display_name": "venv",
      "language": "python",
      "name": "python3"
    },
    "language_info": {
      "codemirror_mode": {
        "name": "ipython",
        "version": 3
      },
      "file_extension": ".py",
      "mimetype": "text/x-python",
      "name": "python",
      "nbconvert_exporter": "python",
      "pygments_lexer": "ipython3",
      "version": "3.12.3"
    }
  },
  "nbformat": 4,
  "nbformat_minor": 4
}
