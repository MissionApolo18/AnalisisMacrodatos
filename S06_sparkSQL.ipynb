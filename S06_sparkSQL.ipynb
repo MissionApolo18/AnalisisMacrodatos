{
  "cells": [
    {
      "cell_type": "code",
      "execution_count": 7,
      "metadata": {},
      "outputs": [
        {
          "name": "stdout",
          "output_type": "stream",
          "text": [
            "3.5.3\n"
          ]
        }
      ],
      "source": [
        "import pyspark\n",
        "print(pyspark.__version__)"
      ]
    },
    {
      "cell_type": "code",
      "execution_count": 14,
      "metadata": {
        "trusted": true
      },
      "outputs": [
        {
          "name": "stdout",
          "output_type": "stream",
          "text": [
            "root\n",
            " |-- d_codigo: integer (nullable = true)\n",
            " |-- d_asenta: string (nullable = true)\n",
            " |-- d_tipo_asenta: string (nullable = true)\n",
            " |-- D_mnpio: string (nullable = true)\n",
            " |-- d_estado: string (nullable = true)\n",
            " |-- d_ciudad: string (nullable = true)\n",
            " |-- d_CP: integer (nullable = true)\n",
            " |-- c_estado: integer (nullable = true)\n",
            " |-- c_oficina: integer (nullable = true)\n",
            " |-- c_CP: string (nullable = true)\n",
            " |-- c_tipo_asenta: integer (nullable = true)\n",
            " |-- c_mnpio: integer (nullable = true)\n",
            " |-- id_asenta_cpcons: integer (nullable = true)\n",
            " |-- d_zona: string (nullable = true)\n",
            " |-- c_cve_ciudad: integer (nullable = true)\n",
            "\n"
          ]
        },
        {
          "name": "stderr",
          "output_type": "stream",
          "text": [
            "                                                                                \r"
          ]
        }
      ],
      "source": [
        "from pyspark.sql import SparkSession\n",
        "\n",
        "spark = SparkSession.builder.appName(\"sepomex\").getOrCreate()\n",
        "\n",
        "dir_hdfs = \"locatel.txt\"\n",
        "df = spark.read.csv(dir_hdfs, header = True, inferSchema = True, sep=\"|\")\n",
        "df.printSchema()"
      ]
    },
    {
      "cell_type": "code",
      "execution_count": 15,
      "metadata": {
        "trusted": true
      },
      "outputs": [
        {
          "name": "stdout",
          "output_type": "stream",
          "text": [
            "+---------+---------+-----------+\n",
            "|namespace|tableName|isTemporary|\n",
            "+---------+---------+-----------+\n",
            "|         |  locatel|       true|\n",
            "+---------+---------+-----------+\n",
            "\n"
          ]
        }
      ],
      "source": [
        "spark.sql(\"SHOW TABLES\").show()"
      ]
    },
    {
      "cell_type": "code",
      "execution_count": 16,
      "metadata": {
        "trusted": true
      },
      "outputs": [],
      "source": [
        "df.createOrReplaceTempView(\"locatel\")"
      ]
    },
    {
      "cell_type": "code",
      "execution_count": 17,
      "metadata": {
        "trusted": true
      },
      "outputs": [
        {
          "name": "stdout",
          "output_type": "stream",
          "text": [
            "+----------------+---------+-------+\n",
            "|col_name        |data_type|comment|\n",
            "+----------------+---------+-------+\n",
            "|d_codigo        |int      |NULL   |\n",
            "|d_asenta        |string   |NULL   |\n",
            "|d_tipo_asenta   |string   |NULL   |\n",
            "|D_mnpio         |string   |NULL   |\n",
            "|d_estado        |string   |NULL   |\n",
            "|d_ciudad        |string   |NULL   |\n",
            "|d_CP            |int      |NULL   |\n",
            "|c_estado        |int      |NULL   |\n",
            "|c_oficina       |int      |NULL   |\n",
            "|c_CP            |string   |NULL   |\n",
            "|c_tipo_asenta   |int      |NULL   |\n",
            "|c_mnpio         |int      |NULL   |\n",
            "|id_asenta_cpcons|int      |NULL   |\n",
            "|d_zona          |string   |NULL   |\n",
            "|c_cve_ciudad    |int      |NULL   |\n",
            "+----------------+---------+-------+\n",
            "\n"
          ]
        }
      ],
      "source": [
        "spark.sql(\"DESCRIBE locatel\").show(truncate=False)"
      ]
    },
    {
      "cell_type": "code",
      "execution_count": 18,
      "metadata": {
        "trusted": true
      },
      "outputs": [
        {
          "name": "stdout",
          "output_type": "stream",
          "text": [
            "+--------+--------------------+-------------+--------------+----------------+----------------+----+--------+---------+----+-------------+-------+----------------+------+------------+\n",
            "|d_codigo|            d_asenta|d_tipo_asenta|       D_mnpio|        d_estado|        d_ciudad|d_CP|c_estado|c_oficina|c_CP|c_tipo_asenta|c_mnpio|id_asenta_cpcons|d_zona|c_cve_ciudad|\n",
            "+--------+--------------------+-------------+--------------+----------------+----------------+----+--------+---------+----+-------------+-------+----------------+------+------------+\n",
            "|    1000|           San �ngel|      Colonia|�lvaro Obreg�n|Ciudad de M�xico|Ciudad de M�xico|1001|       9|     1001|NULL|            9|     10|               1|Urbano|           1|\n",
            "|    1010|           Los Alpes|      Colonia|�lvaro Obreg�n|Ciudad de M�xico|Ciudad de M�xico|1001|       9|     1001|NULL|            9|     10|               5|Urbano|           1|\n",
            "|    1020|       Guadalupe Inn|      Colonia|�lvaro Obreg�n|Ciudad de M�xico|Ciudad de M�xico|1001|       9|     1001|NULL|            9|     10|               6|Urbano|           1|\n",
            "|    1030|              Axotla|       Pueblo|�lvaro Obreg�n|Ciudad de M�xico|Ciudad de M�xico|1001|       9|     1001|NULL|           28|     10|               9|Urbano|           1|\n",
            "|    1030|             Florida|      Colonia|�lvaro Obreg�n|Ciudad de M�xico|Ciudad de M�xico|1001|       9|     1001|NULL|            9|     10|              10|Urbano|           1|\n",
            "|    1040|           Campestre|      Colonia|�lvaro Obreg�n|Ciudad de M�xico|Ciudad de M�xico|1001|       9|     1001|NULL|            9|     10|              12|Urbano|           1|\n",
            "|    1049|            Tlacopac|       Pueblo|�lvaro Obreg�n|Ciudad de M�xico|Ciudad de M�xico|1001|       9|     1001|NULL|           28|     10|              14|Urbano|           1|\n",
            "|    1050|Ex-Hacienda de Gu...|      Colonia|�lvaro Obreg�n|Ciudad de M�xico|Ciudad de M�xico|1001|       9|     1001|NULL|            9|     10|              16|Urbano|           1|\n",
            "|    1060|           Altavista|      Colonia|�lvaro Obreg�n|Ciudad de M�xico|Ciudad de M�xico|1001|       9|     1001|NULL|            9|     10|              17|Urbano|           1|\n",
            "|    1060|       San �ngel Inn|      Colonia|�lvaro Obreg�n|Ciudad de M�xico|Ciudad de M�xico|1001|       9|     1001|NULL|            9|     10|              18|Urbano|           1|\n",
            "|    1070|         Chimalistac|      Colonia|�lvaro Obreg�n|Ciudad de M�xico|Ciudad de M�xico|1001|       9|     1001|NULL|            9|     10|              19|Urbano|           1|\n",
            "|    1080|    Progreso Tizapan|      Colonia|�lvaro Obreg�n|Ciudad de M�xico|Ciudad de M�xico|1001|       9|     1001|NULL|            9|     10|              22|Urbano|           1|\n",
            "|    1089|      Ermita Tizapan|      Colonia|�lvaro Obreg�n|Ciudad de M�xico|Ciudad de M�xico|1001|       9|     1001|NULL|            9|     10|              24|Urbano|           1|\n",
            "|    1090|       La Otra Banda|       Barrio|�lvaro Obreg�n|Ciudad de M�xico|Ciudad de M�xico|1001|       9|     1001|NULL|            2|     10|              25|Urbano|           1|\n",
            "|    1090|              Loreto|       Barrio|�lvaro Obreg�n|Ciudad de M�xico|Ciudad de M�xico|1001|       9|     1001|NULL|            2|     10|              26|Urbano|           1|\n",
            "|    1090|             Tizapan|       Pueblo|�lvaro Obreg�n|Ciudad de M�xico|Ciudad de M�xico|1001|       9|     1001|NULL|           28|     10|              28|Urbano|           1|\n",
            "|    1100|             P�lvora|      Colonia|�lvaro Obreg�n|Ciudad de M�xico|Ciudad de M�xico|1131|       9|     1131|NULL|            9|     10|              31|Urbano|           1|\n",
            "|    1109|         La Conchita|      Colonia|�lvaro Obreg�n|Ciudad de M�xico|Ciudad de M�xico|1131|       9|     1131|NULL|            9|     10|              33|Urbano|           1|\n",
            "|    1110| Bel�m de las Flores|      Colonia|�lvaro Obreg�n|Ciudad de M�xico|Ciudad de M�xico|1131|       9|     1131|NULL|            9|     10|              34|Urbano|           1|\n",
            "|    1110|          El Capul�n|      Colonia|�lvaro Obreg�n|Ciudad de M�xico|Ciudad de M�xico|1131|       9|     1131|NULL|            9|     10|              36|Urbano|           1|\n",
            "+--------+--------------------+-------------+--------------+----------------+----------------+----+--------+---------+----+-------------+-------+----------------+------+------------+\n",
            "only showing top 20 rows\n",
            "\n"
          ]
        }
      ],
      "source": [
        "spark.sql(\"SELECT * FROM locatel\").show()"
      ]
    },
    {
      "cell_type": "code",
      "execution_count": 20,
      "metadata": {
        "trusted": true
      },
      "outputs": [
        {
          "name": "stdout",
          "output_type": "stream",
          "text": [
            "+----------------+----------------+\n",
            "|        d_estado|        d_ciudad|\n",
            "+----------------+----------------+\n",
            "|Ciudad de M�xico|Ciudad de M�xico|\n",
            "|Ciudad de M�xico|Ciudad de M�xico|\n",
            "|Ciudad de M�xico|Ciudad de M�xico|\n",
            "|Ciudad de M�xico|Ciudad de M�xico|\n",
            "|Ciudad de M�xico|Ciudad de M�xico|\n",
            "|Ciudad de M�xico|Ciudad de M�xico|\n",
            "|Ciudad de M�xico|Ciudad de M�xico|\n",
            "|Ciudad de M�xico|Ciudad de M�xico|\n",
            "|Ciudad de M�xico|Ciudad de M�xico|\n",
            "|Ciudad de M�xico|Ciudad de M�xico|\n",
            "|Ciudad de M�xico|Ciudad de M�xico|\n",
            "|Ciudad de M�xico|Ciudad de M�xico|\n",
            "|Ciudad de M�xico|Ciudad de M�xico|\n",
            "|Ciudad de M�xico|Ciudad de M�xico|\n",
            "|Ciudad de M�xico|Ciudad de M�xico|\n",
            "|Ciudad de M�xico|Ciudad de M�xico|\n",
            "|Ciudad de M�xico|Ciudad de M�xico|\n",
            "|Ciudad de M�xico|Ciudad de M�xico|\n",
            "|Ciudad de M�xico|Ciudad de M�xico|\n",
            "|Ciudad de M�xico|Ciudad de M�xico|\n",
            "|Ciudad de M�xico|Ciudad de M�xico|\n",
            "|Ciudad de M�xico|Ciudad de M�xico|\n",
            "|Ciudad de M�xico|Ciudad de M�xico|\n",
            "|Ciudad de M�xico|Ciudad de M�xico|\n",
            "|Ciudad de M�xico|Ciudad de M�xico|\n",
            "|Ciudad de M�xico|Ciudad de M�xico|\n",
            "|Ciudad de M�xico|Ciudad de M�xico|\n",
            "|Ciudad de M�xico|Ciudad de M�xico|\n",
            "|Ciudad de M�xico|Ciudad de M�xico|\n",
            "|Ciudad de M�xico|Ciudad de M�xico|\n",
            "|Ciudad de M�xico|Ciudad de M�xico|\n",
            "|Ciudad de M�xico|Ciudad de M�xico|\n",
            "|Ciudad de M�xico|Ciudad de M�xico|\n",
            "|Ciudad de M�xico|Ciudad de M�xico|\n",
            "|Ciudad de M�xico|Ciudad de M�xico|\n",
            "|Ciudad de M�xico|Ciudad de M�xico|\n",
            "|Ciudad de M�xico|Ciudad de M�xico|\n",
            "|Ciudad de M�xico|Ciudad de M�xico|\n",
            "|Ciudad de M�xico|Ciudad de M�xico|\n",
            "|Ciudad de M�xico|Ciudad de M�xico|\n",
            "|Ciudad de M�xico|Ciudad de M�xico|\n",
            "|Ciudad de M�xico|Ciudad de M�xico|\n",
            "|Ciudad de M�xico|Ciudad de M�xico|\n",
            "|Ciudad de M�xico|Ciudad de M�xico|\n",
            "|Ciudad de M�xico|Ciudad de M�xico|\n",
            "|Ciudad de M�xico|Ciudad de M�xico|\n",
            "|Ciudad de M�xico|Ciudad de M�xico|\n",
            "|Ciudad de M�xico|Ciudad de M�xico|\n",
            "|Ciudad de M�xico|Ciudad de M�xico|\n",
            "|Ciudad de M�xico|Ciudad de M�xico|\n",
            "|Ciudad de M�xico|Ciudad de M�xico|\n",
            "|Ciudad de M�xico|Ciudad de M�xico|\n",
            "|Ciudad de M�xico|Ciudad de M�xico|\n",
            "|Ciudad de M�xico|Ciudad de M�xico|\n",
            "|Ciudad de M�xico|Ciudad de M�xico|\n",
            "|Ciudad de M�xico|Ciudad de M�xico|\n",
            "|Ciudad de M�xico|Ciudad de M�xico|\n",
            "|Ciudad de M�xico|Ciudad de M�xico|\n",
            "|Ciudad de M�xico|Ciudad de M�xico|\n",
            "|Ciudad de M�xico|Ciudad de M�xico|\n",
            "|Ciudad de M�xico|Ciudad de M�xico|\n",
            "|Ciudad de M�xico|Ciudad de M�xico|\n",
            "|Ciudad de M�xico|Ciudad de M�xico|\n",
            "|Ciudad de M�xico|Ciudad de M�xico|\n",
            "|Ciudad de M�xico|Ciudad de M�xico|\n",
            "|Ciudad de M�xico|Ciudad de M�xico|\n",
            "|Ciudad de M�xico|Ciudad de M�xico|\n",
            "|Ciudad de M�xico|Ciudad de M�xico|\n",
            "|Ciudad de M�xico|Ciudad de M�xico|\n",
            "|Ciudad de M�xico|Ciudad de M�xico|\n",
            "|Ciudad de M�xico|Ciudad de M�xico|\n",
            "|Ciudad de M�xico|Ciudad de M�xico|\n",
            "|Ciudad de M�xico|Ciudad de M�xico|\n",
            "|Ciudad de M�xico|Ciudad de M�xico|\n",
            "|Ciudad de M�xico|Ciudad de M�xico|\n",
            "|Ciudad de M�xico|Ciudad de M�xico|\n",
            "|Ciudad de M�xico|Ciudad de M�xico|\n",
            "|Ciudad de M�xico|Ciudad de M�xico|\n",
            "|Ciudad de M�xico|Ciudad de M�xico|\n",
            "|Ciudad de M�xico|Ciudad de M�xico|\n",
            "|Ciudad de M�xico|Ciudad de M�xico|\n",
            "|Ciudad de M�xico|Ciudad de M�xico|\n",
            "|Ciudad de M�xico|Ciudad de M�xico|\n",
            "|Ciudad de M�xico|Ciudad de M�xico|\n",
            "|Ciudad de M�xico|Ciudad de M�xico|\n",
            "|Ciudad de M�xico|Ciudad de M�xico|\n",
            "|Ciudad de M�xico|Ciudad de M�xico|\n",
            "|Ciudad de M�xico|Ciudad de M�xico|\n",
            "|Ciudad de M�xico|Ciudad de M�xico|\n",
            "|Ciudad de M�xico|Ciudad de M�xico|\n",
            "|Ciudad de M�xico|Ciudad de M�xico|\n",
            "|Ciudad de M�xico|Ciudad de M�xico|\n",
            "|Ciudad de M�xico|Ciudad de M�xico|\n",
            "|Ciudad de M�xico|Ciudad de M�xico|\n",
            "|Ciudad de M�xico|Ciudad de M�xico|\n",
            "|Ciudad de M�xico|Ciudad de M�xico|\n",
            "|Ciudad de M�xico|Ciudad de M�xico|\n",
            "|Ciudad de M�xico|Ciudad de M�xico|\n",
            "|Ciudad de M�xico|Ciudad de M�xico|\n",
            "|Ciudad de M�xico|Ciudad de M�xico|\n",
            "+----------------+----------------+\n",
            "only showing top 100 rows\n",
            "\n"
          ]
        }
      ],
      "source": [
        "spark.sql(\"SELECT d_estado, d_ciudad FROM locatel\").show(100)"
      ]
    },
    {
      "cell_type": "code",
      "execution_count": 28,
      "metadata": {
        "trusted": true
      },
      "outputs": [
        {
          "name": "stderr",
          "output_type": "stream",
          "text": [
            "[Stage 9:>                                                          (0 + 4) / 4]\r"
          ]
        },
        {
          "name": "stdout",
          "output_type": "stream",
          "text": [
            "155922\n"
          ]
        },
        {
          "name": "stderr",
          "output_type": "stream",
          "text": [
            "                                                                                \r"
          ]
        }
      ],
      "source": [
        "sqlstr = \"\"\"\n",
        "SELECT d_estado, d_ciudad, d_mnpio \n",
        "FROM locatel \n",
        "WHERE d_mnpio IS NOT NULL\n",
        "\"\"\"\n",
        "\n",
        "resultado_conteo=spark.sql(sqlstr).count()\n",
        "print(resultado_conteo)"
      ]
    },
    {
      "cell_type": "code",
      "execution_count": null,
      "metadata": {
        "trusted": true
      },
      "outputs": [],
      "source": [
        "sqlstr = \"\"\"SELECT count(*) nr FROM locatel WHERE edad is not null\"\"\"\n",
        "\n",
        "spark.sql(sqlstr).show(truncate=False)"
      ]
    },
    {
      "cell_type": "code",
      "execution_count": null,
      "metadata": {
        "trusted": true
      },
      "outputs": [],
      "source": [
        "sqlstr = \"\"\"SELECT sexo, count(* nr) FROM locatel GROUP BY sexo ORDER BY sexo\"\"\"\n",
        "\n",
        "spark.sql(sqlstr).show(truncate=False)"
      ]
    },
    {
      "cell_type": "code",
      "execution_count": null,
      "metadata": {
        "trusted": true
      },
      "outputs": [],
      "source": [
        "campo = \"edad\"\n",
        "sqlstr = \"\"\"SELECT {campo}, count(* nr) FROM locatel GROUP BY {campo} ORDER BY {campo} DESC\"\"\"\n",
        "\n",
        "spark.sql(sqlstr).show(200, truncate=False)"
      ]
    },
    {
      "cell_type": "code",
      "execution_count": null,
      "metadata": {
        "trusted": true
      },
      "outputs": [],
      "source": [
        "campo = \"tema_solicitud\"\n",
        "sqlstr = \"\"\"SELECT {edad}, count(* nr) FROM locatel GROUP BY {edad} ORDER BY {edad} DESC\"\"\"\n",
        "\n",
        "spark.sql(sqlstr).show(200, truncate=False)"
      ]
    },
    {
      "cell_type": "code",
      "execution_count": null,
      "metadata": {
        "trusted": true
      },
      "outputs": [],
      "source": [
        "campo = \"tema_solicitud\"\n",
        "sqlstr = \"\"\"SELECT {campo}, count(* nr), ROUND(AVG(edad),2) edad_prom, MAX(edad) edad_max, MIN(edad) edad_min FROM locatel GROUP BY {campo} ORDER BY {campo} DESC\"\"\"\n",
        "print(\"Atenea Gutiérrez\")\n",
        "spark.sql(sqlstr).show(10, truncate=False)"
      ]
    },
    {
      "cell_type": "code",
      "execution_count": 29,
      "metadata": {
        "trusted": true
      },
      "outputs": [
        {
          "ename": "ModuleNotFoundError",
          "evalue": "No module named 'matplotlib'",
          "output_type": "error",
          "traceback": [
            "\u001b[0;31m---------------------------------------------------------------------------\u001b[0m",
            "\u001b[0;31mModuleNotFoundError\u001b[0m                       Traceback (most recent call last)",
            "Cell \u001b[0;32mIn[29], line 2\u001b[0m\n\u001b[1;32m      1\u001b[0m \u001b[38;5;66;03m#Registros por hora\u001b[39;00m\n\u001b[0;32m----> 2\u001b[0m \u001b[38;5;28;01mimport\u001b[39;00m \u001b[38;5;21;01mmatplotlib\u001b[39;00m\u001b[38;5;21;01m.\u001b[39;00m\u001b[38;5;21;01mpyplot\u001b[39;00m \u001b[38;5;28;01mas\u001b[39;00m \u001b[38;5;21;01mplt\u001b[39;00m\n\u001b[1;32m      4\u001b[0m sqlstr \u001b[38;5;241m=\u001b[39m \u001b[38;5;124mf\u001b[39m\u001b[38;5;124m\"\"\"\u001b[39m\u001b[38;5;124mSELECT HOUR(hora_solicitud) hora COUNT(*) FROM locatel GROUP BY \u001b[39m\u001b[38;5;132;01m{\u001b[39;00mcampo\u001b[38;5;132;01m}\u001b[39;00m\u001b[38;5;124m ORDER BY \u001b[39m\u001b[38;5;132;01m{\u001b[39;00mcampo\u001b[38;5;132;01m}\u001b[39;00m\u001b[38;5;124m DESC\u001b[39m\u001b[38;5;124m\"\"\"\u001b[39m\n\u001b[1;32m      5\u001b[0m \u001b[38;5;28mprint\u001b[39m(\u001b[38;5;124m\"\u001b[39m\u001b[38;5;124mAngela Atenea Larios Gutiérrez\u001b[39m\u001b[38;5;124m\"\u001b[39m)\n",
            "\u001b[0;31mModuleNotFoundError\u001b[0m: No module named 'matplotlib'"
          ]
        }
      ],
      "source": [
        "#Registros por hora\n",
        "import matplotlib.pyplot as plt\n",
        "\n",
        "sqlstr = f\"\"\"SELECT HOUR(hora_solicitud) hora COUNT(*) FROM locatel GROUP BY {campo} ORDER BY {campo} DESC\"\"\"\n",
        "print(\"Angela Atenea Larios Gutiérrez\")\n",
        "dfh=spark.sql(sqlstr).toPandas()\n",
        "\n",
        "plt.figure(figsize = (10,6))\n",
        "plt.bar(dhf['hora'], dfh['nr'], marker = 'o', linestyle = '-', color = 'b')\n",
        "\n",
        "plt.xlabel('Hora del día')\n",
        "plt.ylabel('Número de registros')\n",
        "plt.title('Número de registros por hora')"
      ]
    },
    {
      "cell_type": "markdown",
      "metadata": {},
      "source": [
        "### Miercóles 16 Octubre"
      ]
    },
    {
      "cell_type": "code",
      "execution_count": null,
      "metadata": {},
      "outputs": [],
      "source": [
        "sqlstr = f\"\"\"SELECT HOUR(hora_solicitud) hora \n",
        "SUBSTRING (hora_solicitud, 15, 2) hora COUNT NR(*) \n",
        "FROM locatel \n",
        "GROUP BY anio \n",
        "ORDER BY 1 DESC\"\"\"\n",
        "print(\"Angela Atenea Larios Gutiérrez\")\n",
        "dfh=spark.sql(sqlstr).toPandas().show()"
      ]
    },
    {
      "cell_type": "code",
      "execution_count": null,
      "metadata": {},
      "outputs": [],
      "source": [
        "sqlstr = f\"\"\"SELECT YEAR(fecha_solicitud) anio, sexo COUNT (*) \n",
        "FROM locatel \n",
        "GROUP BY anio, sexo\n",
        "ORDER BY 1, 2 DESC\"\"\"\n",
        "print(\"Angela Atenea Larios Gutiérrez\")\n",
        "dfh=spark.sql(sqlstr).toPandas()\n",
        "\n",
        "plt.figure(figsize = (10,6))\n",
        "plt.bar(dfh['anio'], dfh['nr'])\n",
        "\n",
        "plt.xlabel('Año')\n",
        "plt.ylabel('Número de registros')\n",
        "plt.title('Número de registros por año')"
      ]
    },
    {
      "cell_type": "code",
      "execution_count": null,
      "metadata": {},
      "outputs": [],
      "source": [
        "sqlstr = f\"\"\"SELECT anio, \n",
        "SUM(CASE WHEN sexo = \"FEMENINO\" THEN nr ELSE 0 END) AS FEMENINO,\n",
        "SUM(CASE WHEN sexo = \"MASCULINO\" THEN nr ELSE 0 END) AS MASCULINO,\n",
        "SUM(CASE WHEN sexo = IN('NA', NO ESPECIFICADO) THEN nr ELSE 0 END) AS NO ESPECIFICADO\n",
        "FROM (\n",
        "    SELECT YEAR(fecha_solicitud) anio, sexo COUNT (*) nr\n",
        "    FROM locatel\n",
        "    GROUP BY anio, sexo\n",
        ")\n",
        "GROUP BY anio, sexo\n",
        "ORDER BY 1, 2 DESC\"\"\"\n",
        "print(\"Angela Atenea Larios Gutiérrez\")\n",
        "spark.sql(sqlstr).toPandas().set_index('anio')[['FEMENINO','MASCULINO', 'NO ESPECIFICADO']].plot(kind='bar',stacked=False,figsize=(10,6))\n",
        "\n",
        "plt.xlabel('Año')\n",
        "plt.ylabel('Número de registros')\n",
        "plt.title('Número de registros por año')\n",
        "plt.xticks(rotation=45)\n",
        "\n",
        "plt.tight_layout()\n",
        "plt.show()"
      ]
    },
    {
      "cell_type": "code",
      "execution_count": null,
      "metadata": {},
      "outputs": [],
      "source": [
        "sqlstr = f\"\"\"SELECT anio, \n",
        "SUM(CASE WHEN sexo = \"FEMENINO\" THEN nr ELSE 0 END) AS FEMENINO,\n",
        "SUM(CASE WHEN sexo = \"MASCULINO\" THEN nr ELSE 0 END) AS MASCULINO,\n",
        "SUM(CASE WHEN sexo = IN('NA', NO ESPECIFICADO) THEN nr ELSE 0 END) AS NO ESPECIFICADO\n",
        "FROM (\n",
        "    SELECT YEAR(fecha_solicitud) anio, sexo COUNT (*) nr\n",
        "    FROM locatel\n",
        "    GROUP BY anio, sexo\n",
        ")\n",
        "GROUP BY anio, sexo\n",
        "ORDER BY 1, 2 DESC\"\"\"\n",
        "print(\"Angela Atenea Larios Gutiérrez\")\n",
        "\n",
        "spark.sql(sqlstr).write.mode(\"append\").save(\"locatelanio\")"
      ]
    }
  ],
  "metadata": {
    "kernelspec": {
      "display_name": "venv",
      "language": "python",
      "name": "python3"
    },
    "language_info": {
      "codemirror_mode": {
        "name": "ipython",
        "version": 3
      },
      "file_extension": ".py",
      "mimetype": "text/x-python",
      "name": "python",
      "nbconvert_exporter": "python",
      "pygments_lexer": "ipython3",
      "version": "3.12.3"
    }
  },
  "nbformat": 4,
  "nbformat_minor": 4
}
